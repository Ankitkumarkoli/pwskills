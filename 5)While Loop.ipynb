{
 "cells": [
  {
   "cell_type": "markdown",
   "id": "ea2834a1-2c92-4456-b751-4cc1ee576086",
   "metadata": {},
   "source": [
    "# While Loop"
   ]
  },
  {
   "cell_type": "code",
   "execution_count": 1,
   "id": "cd72d9d0-d550-47f8-b55a-96d4d2f29f75",
   "metadata": {},
   "outputs": [
    {
     "name": "stdout",
     "output_type": "stream",
     "text": [
      "1\n",
      "2\n",
      "3\n",
      "4\n",
      "5\n",
      "6\n",
      "7\n",
      "8\n",
      "9\n",
      "10\n"
     ]
    }
   ],
   "source": [
    "a = 1\n",
    "\n",
    "while a<=10:\n",
    "    print(a)\n",
    "    a=a+1"
   ]
  },
  {
   "cell_type": "code",
   "execution_count": null,
   "id": "af81f6ec-fe31-4f50-a1a2-418eec402f39",
   "metadata": {},
   "outputs": [],
   "source": []
  },
  {
   "cell_type": "markdown",
   "id": "ee62935f-2200-4fee-a53d-6d8cff1fb4ed",
   "metadata": {},
   "source": [
    "sum up the number till some point"
   ]
  },
  {
   "cell_type": "code",
   "execution_count": 3,
   "id": "e282a9b6-3725-498d-a43a-b6be6e9291bb",
   "metadata": {},
   "outputs": [
    {
     "name": "stdin",
     "output_type": "stream",
     "text": [
      "enter your number 4\n"
     ]
    },
    {
     "data": {
      "text/plain": [
       "10"
      ]
     },
     "execution_count": 3,
     "metadata": {},
     "output_type": "execute_result"
    }
   ],
   "source": [
    "n = int(input(\"enter your number\"))       #user se input lena\n",
    "\n",
    "starting_point = 0                  #starting point define krna or value ko print krna\n",
    "counter = 1                      #counter loop me baar baar chalta rahega\n",
    "\n",
    "while counter <= n:              # while = jabtak , while pehle conditon puchta hai\n",
    "    starting_point = starting_point + counter   \n",
    "    counter = counter + 1                        # yeh loop mai chalta rahega jabtak condition true rahegi\n",
    "    \n",
    "starting_point                                  # sum krna "
   ]
  },
  {
   "cell_type": "code",
   "execution_count": null,
   "id": "ec0f16b3-3a17-4ccc-9436-75d536ecf3fd",
   "metadata": {},
   "outputs": [],
   "source": []
  },
  {
   "cell_type": "markdown",
   "id": "dd6e524d-1373-449b-95b4-8c40a816ad86",
   "metadata": {},
   "source": [
    "# Finding Factorial ???????"
   ]
  },
  {
   "cell_type": "code",
   "execution_count": 1,
   "id": "778329af-1a52-4ca7-86a1-88f66fcd6dc3",
   "metadata": {},
   "outputs": [
    {
     "name": "stdin",
     "output_type": "stream",
     "text": [
      "enter your number 4\n"
     ]
    },
    {
     "data": {
      "text/plain": [
       "24"
      ]
     },
     "execution_count": 1,
     "metadata": {},
     "output_type": "execute_result"
    }
   ],
   "source": [
    "number = int(input(\"enter your number\"))\n",
    "factorial = 1\n",
    "\n",
    "while number>0:\n",
    "    factorial = factorial*number\n",
    "    number = number-1\n",
    "    \n",
    "factorial"
   ]
  },
  {
   "cell_type": "code",
   "execution_count": 4,
   "id": "81639a01-e28b-4d09-8d4a-8211c60b991d",
   "metadata": {},
   "outputs": [
    {
     "name": "stdin",
     "output_type": "stream",
     "text": [
      "enter the number: 10\n"
     ]
    },
    {
     "name": "stdout",
     "output_type": "stream",
     "text": [
      "0\n",
      "1\n",
      "1\n",
      "2\n",
      "3\n",
      "5\n",
      "8\n",
      "13\n",
      "21\n",
      "34\n"
     ]
    }
   ],
   "source": [
    "# Fibonacci series by whileloop\n",
    "\n",
    "number = int(input(\"enter the number:\"))\n",
    "a,b = 0,1\n",
    "counter = 0\n",
    "\n",
    "while counter < number:\n",
    "    print(a)\n",
    "    c = a + b\n",
    "    a = b\n",
    "    b = c\n",
    "    \n",
    "    counter = counter + 1"
   ]
  },
  {
   "cell_type": "code",
   "execution_count": 3,
   "id": "6ea3e9b0-b359-4fac-a94c-b72777db5833",
   "metadata": {},
   "outputs": [
    {
     "name": "stdout",
     "output_type": "stream",
     "text": [
      "0\n",
      "1\n",
      "1\n",
      "2\n",
      "3\n",
      "5\n",
      "8\n",
      "13\n",
      "21\n",
      "34\n"
     ]
    }
   ],
   "source": [
    "# Fabinacco series by forloop\n",
    "\n",
    "a,b = 0,1      \n",
    "\n",
    "for i in range(0,10):\n",
    "    print(a)\n",
    "    c = a + b\n",
    "    a = b\n",
    "    b = c"
   ]
  },
  {
   "cell_type": "code",
   "execution_count": null,
   "id": "9d3b8f0e-f28d-48c6-8dd6-172ccf231926",
   "metadata": {},
   "outputs": [],
   "source": []
  },
  {
   "cell_type": "markdown",
   "id": "9c309f02-506a-4e64-8254-69fe506af347",
   "metadata": {},
   "source": [
    "# Reverse "
   ]
  },
  {
   "cell_type": "code",
   "execution_count": 5,
   "id": "e91e34e9-6374-4894-94b6-e2ff6c034b85",
   "metadata": {},
   "outputs": [],
   "source": [
    "a = \"ankit\""
   ]
  },
  {
   "cell_type": "code",
   "execution_count": 6,
   "id": "98b24051-eeaa-40f8-a277-588f04c466eb",
   "metadata": {},
   "outputs": [
    {
     "data": {
      "text/plain": [
       "'tikna'"
      ]
     },
     "execution_count": 6,
     "metadata": {},
     "output_type": "execute_result"
    }
   ],
   "source": [
    "a[::-1]"
   ]
  },
  {
   "cell_type": "code",
   "execution_count": 7,
   "id": "689c148c-1cdf-41b8-9263-4a3b387ebca5",
   "metadata": {},
   "outputs": [
    {
     "name": "stdin",
     "output_type": "stream",
     "text": [
      "enter your string for reversal ankit\n"
     ]
    }
   ],
   "source": [
    "word = input(\"enter your string for reversal\")"
   ]
  },
  {
   "cell_type": "code",
   "execution_count": 10,
   "id": "1c759497-8e15-4b8e-ab88-78081a9c789f",
   "metadata": {},
   "outputs": [
    {
     "name": "stdout",
     "output_type": "stream",
     "text": [
      "tikna\n"
     ]
    }
   ],
   "source": [
    "reverse = \"\"\n",
    "length = len(word)\n",
    "\n",
    "while length>0:\n",
    "    reverse = reverse + word[length-1]\n",
    "    length = length-1\n",
    "    \n",
    "print(reverse)\n",
    "    "
   ]
  },
  {
   "cell_type": "code",
   "execution_count": null,
   "id": "93efba1b-d3c9-4e42-95ed-d248d00fc6e2",
   "metadata": {},
   "outputs": [],
   "source": []
  },
  {
   "cell_type": "markdown",
   "id": "bae71683-ce25-418a-9cc9-78ec7ec83c20",
   "metadata": {},
   "source": [
    "# print table of number"
   ]
  },
  {
   "cell_type": "code",
   "execution_count": 16,
   "id": "c1ce4ab1-87bf-48b2-b685-0789c9166a27",
   "metadata": {},
   "outputs": [
    {
     "name": "stdin",
     "output_type": "stream",
     "text": [
      "enter your number 2\n"
     ]
    },
    {
     "name": "stdout",
     "output_type": "stream",
     "text": [
      "2 * 1 = 2\n",
      "2 * 2 = 4\n",
      "2 * 3 = 6\n",
      "2 * 4 = 8\n",
      "2 * 5 = 10\n",
      "2 * 6 = 12\n",
      "2 * 7 = 14\n",
      "2 * 8 = 16\n",
      "2 * 9 = 18\n",
      "2 * 10 = 20\n"
     ]
    }
   ],
   "source": [
    "n = int(input(\"enter your number\"))\n",
    "i = 1\n",
    "\n",
    "while i <= 10:\n",
    "    result = n * i\n",
    "    print(n,\"*\",i, \"=\" ,result)\n",
    "    i = i + 1\n",
    "    "
   ]
  },
  {
   "cell_type": "code",
   "execution_count": null,
   "id": "ecba7ccf-ad48-4f45-9b2e-6dc3330964f6",
   "metadata": {},
   "outputs": [],
   "source": []
  },
  {
   "cell_type": "code",
   "execution_count": null,
   "id": "27a8a039-923e-4bf3-ab0b-6757b081dccb",
   "metadata": {},
   "outputs": [],
   "source": []
  },
  {
   "cell_type": "code",
   "execution_count": 17,
   "id": "18dd7ace-6aa1-4a57-9f25-7a81959cbc0a",
   "metadata": {},
   "outputs": [],
   "source": [
    "# while loop ke andar else bhi use kr sakte hai"
   ]
  },
  {
   "cell_type": "code",
   "execution_count": 18,
   "id": "536f07d5-6117-4bab-a28e-fbc3480b6956",
   "metadata": {},
   "outputs": [
    {
     "name": "stdout",
     "output_type": "stream",
     "text": [
      "1\n",
      "2\n",
      "3\n",
      "4\n"
     ]
    }
   ],
   "source": [
    "n = 5\n",
    "i = 1\n",
    "\n",
    "while i < n:\n",
    "    print(i)\n",
    "    i = i + 1\n",
    "    "
   ]
  },
  {
   "cell_type": "code",
   "execution_count": 19,
   "id": "5cc47144-fe17-4821-bde3-577c68c8493a",
   "metadata": {},
   "outputs": [
    {
     "name": "stdout",
     "output_type": "stream",
     "text": [
      "1\n",
      "2\n",
      "3\n",
      "4\n",
      "this will be executed once your while will complete it successfully\n"
     ]
    }
   ],
   "source": [
    "n = 5\n",
    "i = 1\n",
    "\n",
    "while i < n:\n",
    "    print(i)\n",
    "    i = i + 1\n",
    "    \n",
    "else:\n",
    "    print(\"this will be executed once your while will complete it successfully\")"
   ]
  },
  {
   "cell_type": "code",
   "execution_count": null,
   "id": "3190f1fc-0ebb-40b7-b01d-ae3386d199ed",
   "metadata": {},
   "outputs": [],
   "source": []
  }
 ],
 "metadata": {
  "kernelspec": {
   "display_name": "Python 3 (ipykernel)",
   "language": "python",
   "name": "python3"
  },
  "language_info": {
   "codemirror_mode": {
    "name": "ipython",
    "version": 3
   },
   "file_extension": ".py",
   "mimetype": "text/x-python",
   "name": "python",
   "nbconvert_exporter": "python",
   "pygments_lexer": "ipython3",
   "version": "3.10.8"
  }
 },
 "nbformat": 4,
 "nbformat_minor": 5
}
