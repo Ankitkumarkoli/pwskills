{
 "cells": [
  {
   "cell_type": "markdown",
   "id": "0d7bd4e9-5434-4ea8-8d48-1df4f1d0fab7",
   "metadata": {},
   "source": [
    "# for loop"
   ]
  },
  {
   "cell_type": "code",
   "execution_count": null,
   "id": "aae2b386-42a1-483e-8eff-8f79d67f0e46",
   "metadata": {},
   "outputs": [],
   "source": []
  },
  {
   "cell_type": "code",
   "execution_count": 1,
   "id": "8815026e-c6aa-4d53-812c-6c686bdc6e73",
   "metadata": {},
   "outputs": [],
   "source": [
    "l = [1,2,3,4,5]"
   ]
  },
  {
   "cell_type": "code",
   "execution_count": 2,
   "id": "24d5f942-bdc3-4cd3-9019-69047f22f2b0",
   "metadata": {},
   "outputs": [
    {
     "name": "stdout",
     "output_type": "stream",
     "text": [
      "1\n",
      "2\n",
      "3\n",
      "4\n",
      "5\n"
     ]
    }
   ],
   "source": [
    "for i in l:\n",
    "    print(i)"
   ]
  },
  {
   "cell_type": "code",
   "execution_count": 3,
   "id": "a472f03d-b469-4189-9722-e09ec241412e",
   "metadata": {},
   "outputs": [
    {
     "name": "stdout",
     "output_type": "stream",
     "text": [
      "1 <class 'int'>\n",
      "2 <class 'int'>\n",
      "3 <class 'int'>\n",
      "4 <class 'int'>\n",
      "5 <class 'int'>\n"
     ]
    }
   ],
   "source": [
    "for i in l:\n",
    "    print(i , type(i))"
   ]
  },
  {
   "cell_type": "code",
   "execution_count": 4,
   "id": "46f07fb3-238b-4c05-bec9-4b3997e49073",
   "metadata": {},
   "outputs": [],
   "source": [
    "l1 = [\"ankit\",\"kumar\",\"koli\",\"ankush\"]"
   ]
  },
  {
   "cell_type": "code",
   "execution_count": 5,
   "id": "e4eb39db-7404-4ecc-9349-dd185e60c665",
   "metadata": {},
   "outputs": [
    {
     "name": "stdout",
     "output_type": "stream",
     "text": [
      "ankit\n",
      "kumar\n",
      "koli\n",
      "ankush\n"
     ]
    }
   ],
   "source": [
    "for i in l1:\n",
    "    print(i)"
   ]
  },
  {
   "cell_type": "code",
   "execution_count": 6,
   "id": "8762ae5d-61a1-4382-bac3-d889424f34d7",
   "metadata": {},
   "outputs": [
    {
     "name": "stdout",
     "output_type": "stream",
     "text": [
      "ankit <class 'str'>\n",
      "kumar <class 'str'>\n",
      "koli <class 'str'>\n",
      "ankush <class 'str'>\n"
     ]
    }
   ],
   "source": [
    "for i in l1:\n",
    "    print(i , type(i))"
   ]
  },
  {
   "cell_type": "code",
   "execution_count": null,
   "id": "bed6aeb7-da08-45cb-82f8-ef1301b1fec0",
   "metadata": {},
   "outputs": [],
   "source": []
  },
  {
   "cell_type": "code",
   "execution_count": null,
   "id": "4c3090c8-5ba6-4667-abcf-01609488a669",
   "metadata": {},
   "outputs": [],
   "source": []
  },
  {
   "cell_type": "markdown",
   "id": "a17f0378-0bb4-4f88-8ee9-b4af934be537",
   "metadata": {},
   "source": [
    "# For else                   \n",
    "\n",
    "#for else sirf python mai hi use kr sakte hai or koe language mai nhi"
   ]
  },
  {
   "cell_type": "code",
   "execution_count": 7,
   "id": "ee26231e-feff-4391-b462-389b23988e4c",
   "metadata": {},
   "outputs": [
    {
     "data": {
      "text/plain": [
       "['ankit', 'kumar', 'koli', 'ankush']"
      ]
     },
     "execution_count": 7,
     "metadata": {},
     "output_type": "execute_result"
    }
   ],
   "source": [
    "l1"
   ]
  },
  {
   "cell_type": "code",
   "execution_count": 8,
   "id": "e4828e36-46df-4e77-a8de-37320c1fbfd4",
   "metadata": {},
   "outputs": [
    {
     "name": "stdout",
     "output_type": "stream",
     "text": [
      "ankit\n",
      "kumar\n",
      "koli\n",
      "ankush\n",
      "if forloop is able to complete itself then only else will execute\n"
     ]
    }
   ],
   "source": [
    "for i in l1:\n",
    "    print(i)\n",
    "else:\n",
    "    print(\"if forloop is able to complete itself then only else will execute\")"
   ]
  },
  {
   "cell_type": "code",
   "execution_count": 9,
   "id": "2b9b1370-9cf1-4473-b6d6-53bb3249a4d3",
   "metadata": {},
   "outputs": [
    {
     "data": {
      "text/plain": [
       "['ankit', 'kumar', 'koli', 'ankush']"
      ]
     },
     "execution_count": 9,
     "metadata": {},
     "output_type": "execute_result"
    }
   ],
   "source": [
    "l1"
   ]
  },
  {
   "cell_type": "code",
   "execution_count": 10,
   "id": "a6f5106c-6a4b-4d29-b396-9b0aeec42b7b",
   "metadata": {},
   "outputs": [
    {
     "name": "stdout",
     "output_type": "stream",
     "text": [
      "ankit\n"
     ]
    }
   ],
   "source": [
    "for i in l1:\n",
    "    if i == \"kumar\":\n",
    "        break\n",
    "    print(i)"
   ]
  },
  {
   "cell_type": "code",
   "execution_count": null,
   "id": "300cda1d-f16b-4767-b3d8-1dbd3e3ffc44",
   "metadata": {},
   "outputs": [],
   "source": []
  },
  {
   "cell_type": "code",
   "execution_count": 11,
   "id": "21140f50-d3a3-482d-b61b-9213f2f6aa40",
   "metadata": {},
   "outputs": [
    {
     "data": {
      "text/plain": [
       "['ankit', 'kumar', 'koli', 'ankush']"
      ]
     },
     "execution_count": 11,
     "metadata": {},
     "output_type": "execute_result"
    }
   ],
   "source": [
    "l1"
   ]
  },
  {
   "cell_type": "code",
   "execution_count": 12,
   "id": "35cd4137-3041-4536-a32b-76d880fa2af4",
   "metadata": {},
   "outputs": [
    {
     "name": "stdout",
     "output_type": "stream",
     "text": [
      "ankit\n",
      "kumar\n"
     ]
    }
   ],
   "source": [
    "for i in l1:\n",
    "    if i == \"koli\":\n",
    "        break\n",
    "    print(i)\n",
    "else:\n",
    "    print(\"execute this if for loop is able to complet\")"
   ]
  },
  {
   "cell_type": "code",
   "execution_count": null,
   "id": "0e4918da-84de-41ab-aa0a-6962cb522a19",
   "metadata": {},
   "outputs": [],
   "source": []
  },
  {
   "cell_type": "code",
   "execution_count": null,
   "id": "311a9b5d-6818-4ab3-b2cf-bb2d274f7315",
   "metadata": {},
   "outputs": [],
   "source": []
  },
  {
   "cell_type": "code",
   "execution_count": 13,
   "id": "954d6a56-e256-4916-b793-fb74a09c895f",
   "metadata": {},
   "outputs": [
    {
     "data": {
      "text/plain": [
       "['ankit', 'kumar', 'koli', 'ankush']"
      ]
     },
     "execution_count": 13,
     "metadata": {},
     "output_type": "execute_result"
    }
   ],
   "source": [
    "l1"
   ]
  },
  {
   "cell_type": "code",
   "execution_count": 14,
   "id": "ca282c3e-b2be-4305-8757-411dffed7d6b",
   "metadata": {},
   "outputs": [
    {
     "name": "stdout",
     "output_type": "stream",
     "text": [
      "ankit\n",
      "kumar\n",
      "ankush\n"
     ]
    }
   ],
   "source": [
    "for i in l1:\n",
    "    if i == \"koli\":\n",
    "        continue\n",
    "    print(i)"
   ]
  },
  {
   "cell_type": "code",
   "execution_count": 15,
   "id": "207874b2-7960-48bc-b23b-8dcb3bde5f32",
   "metadata": {},
   "outputs": [
    {
     "name": "stdout",
     "output_type": "stream",
     "text": [
      "ankit\n",
      "kumar\n",
      "ankush\n",
      "execute this if forloop is able to complete itself\n"
     ]
    }
   ],
   "source": [
    "for i in l1:\n",
    "    if i == \"koli\":\n",
    "        continue\n",
    "    print(i)\n",
    "    \n",
    "else:\n",
    "    print(\"execute this if forloop is able to complete itself\")"
   ]
  },
  {
   "cell_type": "code",
   "execution_count": null,
   "id": "7413af1f-3375-4d20-8eaf-f0598a44664d",
   "metadata": {},
   "outputs": [],
   "source": []
  },
  {
   "cell_type": "code",
   "execution_count": null,
   "id": "c3aedb62-8e9c-4a58-afa8-2d579389d873",
   "metadata": {},
   "outputs": [],
   "source": []
  },
  {
   "cell_type": "markdown",
   "id": "14432cac-aef9-4e1e-b5ac-6bfb736adf1b",
   "metadata": {},
   "source": [
    "# range() function"
   ]
  },
  {
   "cell_type": "code",
   "execution_count": 16,
   "id": "6f9eaffd-3dac-43e4-b4d2-a3f09b20b4e2",
   "metadata": {},
   "outputs": [
    {
     "data": {
      "text/plain": [
       "range(0, 5)"
      ]
     },
     "execution_count": 16,
     "metadata": {},
     "output_type": "execute_result"
    }
   ],
   "source": [
    "range(0,5)"
   ]
  },
  {
   "cell_type": "code",
   "execution_count": 17,
   "id": "ffda2c68-4557-44e6-8be3-965b6c4fefe0",
   "metadata": {},
   "outputs": [
    {
     "data": {
      "text/plain": [
       "[0, 1, 2, 3, 4]"
      ]
     },
     "execution_count": 17,
     "metadata": {},
     "output_type": "execute_result"
    }
   ],
   "source": [
    "\n",
    "list(range(0,5))"
   ]
  },
  {
   "cell_type": "code",
   "execution_count": 18,
   "id": "67442ba3-935a-4e64-ae97-b46866492523",
   "metadata": {},
   "outputs": [
    {
     "data": {
      "text/plain": [
       "[0, 1, 2, 3, 4]"
      ]
     },
     "execution_count": 18,
     "metadata": {},
     "output_type": "execute_result"
    }
   ],
   "source": [
    "list(range(0,5,1))"
   ]
  },
  {
   "cell_type": "code",
   "execution_count": 19,
   "id": "87dab76a-65b5-4f37-bcfb-723deae7f1be",
   "metadata": {},
   "outputs": [
    {
     "data": {
      "text/plain": [
       "[0, 2, 4, 6, 8, 10, 12, 14, 16, 18, 20]"
      ]
     },
     "execution_count": 19,
     "metadata": {},
     "output_type": "execute_result"
    }
   ],
   "source": [
    "list(range(0,21,2))"
   ]
  },
  {
   "cell_type": "code",
   "execution_count": 20,
   "id": "2b4a10f4-9e58-43e4-8830-f07dea8967a8",
   "metadata": {},
   "outputs": [
    {
     "data": {
      "text/plain": [
       "[1, 3, 5, 7, 9, 11, 13, 15, 17, 19]"
      ]
     },
     "execution_count": 20,
     "metadata": {},
     "output_type": "execute_result"
    }
   ],
   "source": [
    "list(range(1,21,2))"
   ]
  },
  {
   "cell_type": "code",
   "execution_count": 21,
   "id": "e7693d05-84c5-49d5-be3e-878e6bbdac1c",
   "metadata": {},
   "outputs": [
    {
     "data": {
      "text/plain": [
       "[2, 4, 6, 8, 10, 12, 14, 16, 18, 20]"
      ]
     },
     "execution_count": 21,
     "metadata": {},
     "output_type": "execute_result"
    }
   ],
   "source": [
    "list(range(2,21,2))"
   ]
  },
  {
   "cell_type": "code",
   "execution_count": 22,
   "id": "05ef0c0b-2387-41bd-b80a-8cc26eca5179",
   "metadata": {},
   "outputs": [
    {
     "data": {
      "text/plain": [
       "{-10, -9, -8, -7, -6, -5, -4, -3, -2, -1}"
      ]
     },
     "execution_count": 22,
     "metadata": {},
     "output_type": "execute_result"
    }
   ],
   "source": [
    "set(range(-10,0))"
   ]
  },
  {
   "cell_type": "code",
   "execution_count": 23,
   "id": "0f629439-f738-4fef-ace5-3ab2e686b7a9",
   "metadata": {},
   "outputs": [
    {
     "data": {
      "text/plain": [
       "(-10, -9, -8, -7, -6, -5, -4, -3, -2, -1)"
      ]
     },
     "execution_count": 23,
     "metadata": {},
     "output_type": "execute_result"
    }
   ],
   "source": [
    "tuple(range(-10,0))"
   ]
  },
  {
   "cell_type": "code",
   "execution_count": 24,
   "id": "d4152ad9-79ac-423b-b6bf-1986c25f7832",
   "metadata": {},
   "outputs": [
    {
     "data": {
      "text/plain": [
       "['ankit', 'kumar', 'koli', 'ankush']"
      ]
     },
     "execution_count": 24,
     "metadata": {},
     "output_type": "execute_result"
    }
   ],
   "source": [
    "l1"
   ]
  },
  {
   "cell_type": "code",
   "execution_count": 25,
   "id": "1aced363-ddb6-4f88-a8a2-aa9f233b9b31",
   "metadata": {},
   "outputs": [
    {
     "data": {
      "text/plain": [
       "4"
      ]
     },
     "execution_count": 25,
     "metadata": {},
     "output_type": "execute_result"
    }
   ],
   "source": [
    "len(l1)"
   ]
  },
  {
   "cell_type": "code",
   "execution_count": 26,
   "id": "e8a7fcef-c665-4538-a3ab-6aa7e4091a95",
   "metadata": {},
   "outputs": [
    {
     "data": {
      "text/plain": [
       "range(0, 4)"
      ]
     },
     "execution_count": 26,
     "metadata": {},
     "output_type": "execute_result"
    }
   ],
   "source": [
    "range(len(l1))"
   ]
  },
  {
   "cell_type": "code",
   "execution_count": 27,
   "id": "d3c2d6e1-b443-490e-8b84-fb3520950333",
   "metadata": {},
   "outputs": [
    {
     "data": {
      "text/plain": [
       "[0, 1, 2, 3]"
      ]
     },
     "execution_count": 27,
     "metadata": {},
     "output_type": "execute_result"
    }
   ],
   "source": [
    "list(range(len(l1)))"
   ]
  },
  {
   "cell_type": "code",
   "execution_count": 28,
   "id": "5eff7848-d47a-49e6-8b62-d8f2111db3d5",
   "metadata": {},
   "outputs": [
    {
     "name": "stdout",
     "output_type": "stream",
     "text": [
      "ankit\n",
      "kumar\n",
      "koli\n",
      "ankush\n"
     ]
    }
   ],
   "source": [
    "for i in range(len(l1)):\n",
    "    print(l1[i])"
   ]
  },
  {
   "cell_type": "code",
   "execution_count": 29,
   "id": "c715f54a-650b-4185-b225-a6dc7d78e129",
   "metadata": {},
   "outputs": [
    {
     "data": {
      "text/plain": [
       "['ankit', 'kumar', 'koli', 'ankush']"
      ]
     },
     "execution_count": 29,
     "metadata": {},
     "output_type": "execute_result"
    }
   ],
   "source": [
    "l1"
   ]
  },
  {
   "cell_type": "code",
   "execution_count": 30,
   "id": "74c9e0f6-4b21-4f80-8d38-7cd40812a4ce",
   "metadata": {},
   "outputs": [
    {
     "data": {
      "text/plain": [
       "4"
      ]
     },
     "execution_count": 30,
     "metadata": {},
     "output_type": "execute_result"
    }
   ],
   "source": [
    "len(l1)"
   ]
  },
  {
   "cell_type": "code",
   "execution_count": 31,
   "id": "4731f17a-2df9-4737-ba51-26c7c8de3f43",
   "metadata": {},
   "outputs": [
    {
     "data": {
      "text/plain": [
       "range(0, 4)"
      ]
     },
     "execution_count": 31,
     "metadata": {},
     "output_type": "execute_result"
    }
   ],
   "source": [
    "range(len(l1))"
   ]
  },
  {
   "cell_type": "code",
   "execution_count": 32,
   "id": "45a776fd-8b56-4ad5-8161-55ec37a5025e",
   "metadata": {},
   "outputs": [
    {
     "data": {
      "text/plain": [
       "3"
      ]
     },
     "execution_count": 32,
     "metadata": {},
     "output_type": "execute_result"
    }
   ],
   "source": [
    "len(l1)-1"
   ]
  },
  {
   "cell_type": "code",
   "execution_count": 33,
   "id": "2417b297-df04-420a-8c41-12d86cb08610",
   "metadata": {},
   "outputs": [
    {
     "data": {
      "text/plain": [
       "range(0, 3)"
      ]
     },
     "execution_count": 33,
     "metadata": {},
     "output_type": "execute_result"
    }
   ],
   "source": [
    "range(len(l1)-1)"
   ]
  },
  {
   "cell_type": "code",
   "execution_count": 34,
   "id": "df627acf-9529-485d-b6d4-56a051bf5935",
   "metadata": {},
   "outputs": [
    {
     "data": {
      "text/plain": [
       "range(3, -1, -1)"
      ]
     },
     "execution_count": 34,
     "metadata": {},
     "output_type": "execute_result"
    }
   ],
   "source": [
    "range(len(l1)-1,-1,-1)"
   ]
  },
  {
   "cell_type": "code",
   "execution_count": 35,
   "id": "fe71f81d-f5d8-4455-a014-2a084eb9ffad",
   "metadata": {},
   "outputs": [
    {
     "data": {
      "text/plain": [
       "[3, 2, 1, 0]"
      ]
     },
     "execution_count": 35,
     "metadata": {},
     "output_type": "execute_result"
    }
   ],
   "source": [
    "list(range(len(l1)-1,-1,-1))"
   ]
  },
  {
   "cell_type": "code",
   "execution_count": 36,
   "id": "b9dd30c9-6d37-4cb5-8910-d627d30988f6",
   "metadata": {},
   "outputs": [
    {
     "name": "stdout",
     "output_type": "stream",
     "text": [
      "ankush\n",
      "koli\n",
      "kumar\n",
      "ankit\n"
     ]
    }
   ],
   "source": [
    "for i in range(len(l1)-1,-1,-1):\n",
    "    print(l1[i])"
   ]
  },
  {
   "cell_type": "markdown",
   "id": "961f0908-6304-4799-bd9a-e4dbf5cd4a6e",
   "metadata": {},
   "source": [
    "isko maine reverse mai likh dea hai"
   ]
  },
  {
   "cell_type": "code",
   "execution_count": 37,
   "id": "6df5de2d-f92f-468a-b78e-4ef9859a70b0",
   "metadata": {},
   "outputs": [],
   "source": [
    "l1 = ['ankit', 'kumar', 'koli', 'ankush']"
   ]
  },
  {
   "cell_type": "code",
   "execution_count": 38,
   "id": "0a2b2afe-3235-467b-bb4a-8673747c1ad3",
   "metadata": {},
   "outputs": [
    {
     "data": {
      "text/plain": [
       "['ankit', 'kumar', 'koli', 'ankush']"
      ]
     },
     "execution_count": 38,
     "metadata": {},
     "output_type": "execute_result"
    }
   ],
   "source": [
    "l1"
   ]
  },
  {
   "cell_type": "code",
   "execution_count": 39,
   "id": "07b39684-3de0-4461-9fbc-3de400edc19b",
   "metadata": {},
   "outputs": [
    {
     "name": "stdout",
     "output_type": "stream",
     "text": [
      "ankush\n",
      "koli\n",
      "kumar\n",
      "ankit\n"
     ]
    }
   ],
   "source": [
    "for i in [3,2,1,0]:\n",
    "    print(l1[i])"
   ]
  },
  {
   "cell_type": "markdown",
   "id": "6faae967-557f-4238-8d1b-c72442be191e",
   "metadata": {},
   "source": [
    "yeh tareeka sahi nhi hai jab multiple values ho toh"
   ]
  },
  {
   "cell_type": "code",
   "execution_count": null,
   "id": "4d5ffe37-e744-4e35-8a99-98da374877a6",
   "metadata": {},
   "outputs": [],
   "source": []
  },
  {
   "cell_type": "code",
   "execution_count": 40,
   "id": "cce9ad1c-7b5a-489e-9155-cc9dfb20eeb3",
   "metadata": {},
   "outputs": [],
   "source": [
    "l2 = [11,12,13,14,15,16,17,17,18,19]"
   ]
  },
  {
   "cell_type": "code",
   "execution_count": 41,
   "id": "51ebf064-8e23-4a3b-af27-cd6517728cd1",
   "metadata": {},
   "outputs": [
    {
     "data": {
      "text/plain": [
       "[11, 12, 13, 14, 15, 16, 17, 17, 18, 19]"
      ]
     },
     "execution_count": 41,
     "metadata": {},
     "output_type": "execute_result"
    }
   ],
   "source": [
    "l2"
   ]
  },
  {
   "cell_type": "code",
   "execution_count": 42,
   "id": "1e2b9418-d6e3-4a7e-9884-5fc32eccb59c",
   "metadata": {},
   "outputs": [
    {
     "data": {
      "text/plain": [
       "10"
      ]
     },
     "execution_count": 42,
     "metadata": {},
     "output_type": "execute_result"
    }
   ],
   "source": [
    "len(l2)"
   ]
  },
  {
   "cell_type": "code",
   "execution_count": 43,
   "id": "408c62f7-5447-4110-9170-936306f6fb36",
   "metadata": {},
   "outputs": [
    {
     "data": {
      "text/plain": [
       "[0, 2, 4, 6, 8]"
      ]
     },
     "execution_count": 43,
     "metadata": {},
     "output_type": "execute_result"
    }
   ],
   "source": [
    "list(range(0,len(l2),2))"
   ]
  },
  {
   "cell_type": "code",
   "execution_count": 44,
   "id": "7a210ec0-2be0-411f-882b-f2f5d38f035c",
   "metadata": {},
   "outputs": [
    {
     "name": "stdout",
     "output_type": "stream",
     "text": [
      "11\n",
      "13\n",
      "15\n",
      "17\n",
      "18\n"
     ]
    }
   ],
   "source": [
    "for i in range(0,len(l2),2):\n",
    "    print(l2[i])"
   ]
  },
  {
   "cell_type": "markdown",
   "id": "ac0a140e-9d38-4c8f-9d18-ae05ae80890d",
   "metadata": {},
   "source": [
    "isme hum l2 list maise even index ki values print krwa rahe hai"
   ]
  },
  {
   "cell_type": "code",
   "execution_count": null,
   "id": "3b0d46e7-f1b5-469f-9bda-defd5c6ad5f1",
   "metadata": {},
   "outputs": [],
   "source": []
  },
  {
   "cell_type": "markdown",
   "id": "dee581bc-addd-4d92-997a-2ca80f83c71f",
   "metadata": {},
   "source": [
    "# add the list values"
   ]
  },
  {
   "cell_type": "code",
   "execution_count": 45,
   "id": "5ea1285d-1621-4589-8a1d-296b18ed5350",
   "metadata": {},
   "outputs": [],
   "source": [
    "a1 = [1,2,3,4,5,6]"
   ]
  },
  {
   "cell_type": "code",
   "execution_count": 46,
   "id": "711ae6c0-b264-4999-87a3-30e7fdf3fa93",
   "metadata": {},
   "outputs": [
    {
     "ename": "TypeError",
     "evalue": "'int' object is not iterable",
     "output_type": "error",
     "traceback": [
      "\u001b[0;31m---------------------------------------------------------------------------\u001b[0m",
      "\u001b[0;31mTypeError\u001b[0m                                 Traceback (most recent call last)",
      "Cell \u001b[0;32mIn[46], line 1\u001b[0m\n\u001b[0;32m----> 1\u001b[0m \u001b[38;5;28;01mfor\u001b[39;00m i \u001b[38;5;129;01min\u001b[39;00m \u001b[38;5;28;43msum\u001b[39;49m\u001b[43m(\u001b[49m\u001b[38;5;241;43m0\u001b[39;49m\u001b[43m,\u001b[49m\u001b[38;5;28;43mlen\u001b[39;49m\u001b[43m(\u001b[49m\u001b[43ma1\u001b[49m\u001b[43m)\u001b[49m\u001b[43m)\u001b[49m:\n\u001b[1;32m      2\u001b[0m     \u001b[38;5;28mprint\u001b[39m(i)\n",
      "\u001b[0;31mTypeError\u001b[0m: 'int' object is not iterable"
     ]
    }
   ],
   "source": [
    "for i in sum(0,len(a1)):\n",
    "    print(i)"
   ]
  },
  {
   "cell_type": "code",
   "execution_count": null,
   "id": "67d4f1b0-c4b9-4252-be57-0f7471263957",
   "metadata": {},
   "outputs": [],
   "source": [
    "result = 0\n",
    "\n",
    "for i in a1:\n",
    "    result = result + i\n",
    "result"
   ]
  },
  {
   "cell_type": "code",
   "execution_count": null,
   "id": "23edcc7d-b43e-44f9-999f-ceda0c9fc4ea",
   "metadata": {},
   "outputs": [],
   "source": []
  },
  {
   "cell_type": "code",
   "execution_count": 47,
   "id": "b1a52dbc-0ada-43b4-8b99-4c43875a1180",
   "metadata": {},
   "outputs": [],
   "source": [
    "w1 = [12,34,56,67,78,89,90,35]"
   ]
  },
  {
   "cell_type": "code",
   "execution_count": 48,
   "id": "b750b0eb-6b7b-4e89-b784-5545ad95f808",
   "metadata": {},
   "outputs": [
    {
     "data": {
      "text/plain": [
       "461"
      ]
     },
     "execution_count": 48,
     "metadata": {},
     "output_type": "execute_result"
    }
   ],
   "source": [
    "add = 0\n",
    "for i in w1:\n",
    "    add = add + i\n",
    "    \n",
    "add"
   ]
  },
  {
   "cell_type": "code",
   "execution_count": null,
   "id": "0e75e91f-37dd-456f-b6ef-eac6d83e6dfe",
   "metadata": {},
   "outputs": [],
   "source": []
  },
  {
   "cell_type": "code",
   "execution_count": null,
   "id": "f186de1c-4a9f-4b31-baca-799de5f30932",
   "metadata": {},
   "outputs": [],
   "source": []
  },
  {
   "cell_type": "markdown",
   "id": "a86b396d-a334-420a-ba4a-1df545f3cecd",
   "metadata": {},
   "source": [
    "# Tuple ke sath bhi, tuples ki values ko add kr sakte hai"
   ]
  },
  {
   "cell_type": "code",
   "execution_count": 49,
   "id": "d752fe9f-399b-47ef-bce3-81bed009678c",
   "metadata": {},
   "outputs": [],
   "source": [
    "q = (23,34,45,56,35,24,87,98)"
   ]
  },
  {
   "cell_type": "code",
   "execution_count": 50,
   "id": "b858262f-d352-45a7-8091-45db71818852",
   "metadata": {},
   "outputs": [
    {
     "data": {
      "text/plain": [
       "402"
      ]
     },
     "execution_count": 50,
     "metadata": {},
     "output_type": "execute_result"
    }
   ],
   "source": [
    "result = 0\n",
    "\n",
    "for i in q:\n",
    "    result = result + i\n",
    "result\n",
    "\n"
   ]
  },
  {
   "cell_type": "code",
   "execution_count": 51,
   "id": "57e8634e-9bc8-43a2-9999-54b57dd8eed0",
   "metadata": {},
   "outputs": [
    {
     "name": "stdout",
     "output_type": "stream",
     "text": [
      "23\n",
      "34\n",
      "45\n",
      "56\n",
      "35\n",
      "24\n",
      "87\n",
      "98\n"
     ]
    }
   ],
   "source": [
    "for i in q:\n",
    "    print(i)"
   ]
  },
  {
   "cell_type": "code",
   "execution_count": 52,
   "id": "601a4b01-6f73-401f-a8bd-e402084aa4bd",
   "metadata": {},
   "outputs": [],
   "source": [
    "s = {1,2,3,4,5,\"ankit\",\"pwskills\"}"
   ]
  },
  {
   "cell_type": "code",
   "execution_count": 53,
   "id": "46202d92-0bbf-4e3e-921d-32b2f9b6ca40",
   "metadata": {},
   "outputs": [
    {
     "name": "stdout",
     "output_type": "stream",
     "text": [
      "1\n",
      "2\n",
      "3\n",
      "4\n",
      "5\n",
      "ankit\n",
      "pwskills\n"
     ]
    }
   ],
   "source": [
    "for i in s:\n",
    "    print(i)"
   ]
  },
  {
   "cell_type": "code",
   "execution_count": 54,
   "id": "8def5292-3f2a-4f5b-abd2-d7350927e743",
   "metadata": {},
   "outputs": [],
   "source": [
    "s1 = \"pwskills\""
   ]
  },
  {
   "cell_type": "code",
   "execution_count": 55,
   "id": "b294ffa7-1073-4af6-9be5-21392315ab12",
   "metadata": {},
   "outputs": [
    {
     "name": "stdout",
     "output_type": "stream",
     "text": [
      "p\n",
      "w\n",
      "s\n",
      "k\n",
      "i\n",
      "l\n",
      "l\n",
      "s\n"
     ]
    }
   ],
   "source": [
    "for i in s1:\n",
    "    print(i)"
   ]
  },
  {
   "cell_type": "markdown",
   "id": "f5146915-c76d-40e9-b701-a05d2bbb6a05",
   "metadata": {},
   "source": [
    "mtlb string ko bhi hum iterate kr sakte hai"
   ]
  },
  {
   "cell_type": "code",
   "execution_count": null,
   "id": "7d3f7ff2-c4da-4a4b-bfac-5cb490303f75",
   "metadata": {},
   "outputs": [],
   "source": []
  },
  {
   "cell_type": "code",
   "execution_count": null,
   "id": "908bd039-fd1b-494b-96ea-8fee68388a1e",
   "metadata": {},
   "outputs": [],
   "source": []
  },
  {
   "cell_type": "code",
   "execution_count": 56,
   "id": "51b29974-107b-46e1-a603-72bc0efcab7d",
   "metadata": {},
   "outputs": [],
   "source": [
    "dic = {'name':'ankit','class':'datascience masters','topics':['python','stats','ML','DP','CV','NLP','powerbi']}"
   ]
  },
  {
   "cell_type": "code",
   "execution_count": 57,
   "id": "1f9a1e41-58d0-411c-bbf1-8f5fdeaeb99d",
   "metadata": {},
   "outputs": [
    {
     "data": {
      "text/plain": [
       "{'name': 'ankit',\n",
       " 'class': 'datascience masters',\n",
       " 'topics': ['python', 'stats', 'ML', 'DP', 'CV', 'NLP', 'powerbi']}"
      ]
     },
     "execution_count": 57,
     "metadata": {},
     "output_type": "execute_result"
    }
   ],
   "source": [
    "dic"
   ]
  },
  {
   "cell_type": "code",
   "execution_count": 58,
   "id": "8b028fc0-6df5-4741-9e53-9307cbf5fc75",
   "metadata": {},
   "outputs": [
    {
     "data": {
      "text/plain": [
       "'ankit'"
      ]
     },
     "execution_count": 58,
     "metadata": {},
     "output_type": "execute_result"
    }
   ],
   "source": [
    "dic['name']"
   ]
  },
  {
   "cell_type": "code",
   "execution_count": 59,
   "id": "dfe06ac1-9d10-497b-a82b-54c1c0ad0026",
   "metadata": {},
   "outputs": [
    {
     "data": {
      "text/plain": [
       "dict_keys(['name', 'class', 'topics'])"
      ]
     },
     "execution_count": 59,
     "metadata": {},
     "output_type": "execute_result"
    }
   ],
   "source": [
    "dic.keys()"
   ]
  },
  {
   "cell_type": "code",
   "execution_count": 60,
   "id": "29709d94-aaf2-4976-861a-81390560e288",
   "metadata": {},
   "outputs": [
    {
     "name": "stdout",
     "output_type": "stream",
     "text": [
      "name\n",
      "class\n",
      "topics\n"
     ]
    }
   ],
   "source": [
    "for i in dic.keys():\n",
    "    print(i)"
   ]
  },
  {
   "cell_type": "code",
   "execution_count": 61,
   "id": "6beede07-b895-4b40-963b-ce1a8bd67208",
   "metadata": {},
   "outputs": [
    {
     "data": {
      "text/plain": [
       "dict_values(['ankit', 'datascience masters', ['python', 'stats', 'ML', 'DP', 'CV', 'NLP', 'powerbi']])"
      ]
     },
     "execution_count": 61,
     "metadata": {},
     "output_type": "execute_result"
    }
   ],
   "source": [
    "dic.values()"
   ]
  },
  {
   "cell_type": "code",
   "execution_count": 62,
   "id": "4760a78e-df47-447a-bb0d-680fd0b2595d",
   "metadata": {},
   "outputs": [
    {
     "name": "stdout",
     "output_type": "stream",
     "text": [
      "ankit\n",
      "datascience masters\n",
      "['python', 'stats', 'ML', 'DP', 'CV', 'NLP', 'powerbi']\n"
     ]
    }
   ],
   "source": [
    "for i in dic.values():\n",
    "    print(i)"
   ]
  },
  {
   "cell_type": "code",
   "execution_count": 63,
   "id": "2fc7a6e5-fbf4-40ca-a900-1649339aa3be",
   "metadata": {},
   "outputs": [
    {
     "data": {
      "text/plain": [
       "dict_items([('name', 'ankit'), ('class', 'datascience masters'), ('topics', ['python', 'stats', 'ML', 'DP', 'CV', 'NLP', 'powerbi'])])"
      ]
     },
     "execution_count": 63,
     "metadata": {},
     "output_type": "execute_result"
    }
   ],
   "source": [
    "dic.items()"
   ]
  },
  {
   "cell_type": "markdown",
   "id": "cb40575d-4d0c-4ccc-bbba-b9c1f831017a",
   "metadata": {},
   "source": [
    "items(), dictionary mai (key:values) ko tuple ke form me laa kr deta hai"
   ]
  },
  {
   "cell_type": "code",
   "execution_count": 64,
   "id": "48dbd863-5760-4c73-b03b-9be20ccb3bee",
   "metadata": {},
   "outputs": [
    {
     "name": "stdout",
     "output_type": "stream",
     "text": [
      "('name', 'ankit')\n",
      "('class', 'datascience masters')\n",
      "('topics', ['python', 'stats', 'ML', 'DP', 'CV', 'NLP', 'powerbi'])\n"
     ]
    }
   ],
   "source": [
    "for i in dic.items():\n",
    "    print(i)"
   ]
  },
  {
   "cell_type": "code",
   "execution_count": null,
   "id": "7a182b19-bd50-40ac-96f3-0f7f822326f4",
   "metadata": {},
   "outputs": [],
   "source": []
  },
  {
   "cell_type": "code",
   "execution_count": null,
   "id": "f178dd80-3637-4164-b3b6-3b7b974b9d8f",
   "metadata": {},
   "outputs": [],
   "source": []
  }
 ],
 "metadata": {
  "kernelspec": {
   "display_name": "Python 3 (ipykernel)",
   "language": "python",
   "name": "python3"
  },
  "language_info": {
   "codemirror_mode": {
    "name": "ipython",
    "version": 3
   },
   "file_extension": ".py",
   "mimetype": "text/x-python",
   "name": "python",
   "nbconvert_exporter": "python",
   "pygments_lexer": "ipython3",
   "version": "3.10.8"
  }
 },
 "nbformat": 4,
 "nbformat_minor": 5
}
