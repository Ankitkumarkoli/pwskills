{
 "cells": [
  {
   "cell_type": "markdown",
   "id": "ed75e682-ce95-4542-853b-df4f52f837f1",
   "metadata": {},
   "source": [
    "# Buffered Read and Write"
   ]
  },
  {
   "cell_type": "code",
   "execution_count": 2,
   "id": "14d9c3d1-1e9a-4ee1-af9a-cfecaf1ab1b3",
   "metadata": {},
   "outputs": [],
   "source": [
    "import io"
   ]
  },
  {
   "cell_type": "code",
   "execution_count": 3,
   "id": "382d71bc-999b-486b-b090-e0bb3a0a2201",
   "metadata": {},
   "outputs": [],
   "source": [
    "with open(\"test5.txt\",\"wb\") as f :\n",
    "    file = io.BufferedWriter(f)\n",
    "    \n",
    "    file.write(b\"This is my first line \\n\")\n",
    "    file.write(b\"This is my second line \\n\")\n",
    "    \n",
    "    file.flush()"
   ]
  },
  {
   "cell_type": "code",
   "execution_count": null,
   "id": "f35b020b-d3e5-43e6-b077-3109902207ec",
   "metadata": {},
   "outputs": [],
   "source": []
  },
  {
   "cell_type": "code",
   "execution_count": 4,
   "id": "a0b26e2c-332b-4606-9605-31b7cc72e626",
   "metadata": {},
   "outputs": [
    {
     "name": "stdout",
     "output_type": "stream",
     "text": [
      "b'This is my first line \\nThis is my second line \\n'\n"
     ]
    }
   ],
   "source": [
    "with open(\"test5.txt\",\"rb\") as f :\n",
    "    file = io.BufferedReader(f)\n",
    "    \n",
    "    print(file.read())"
   ]
  },
  {
   "cell_type": "code",
   "execution_count": null,
   "id": "aeb640ad-cefe-4833-8608-b1595303e19e",
   "metadata": {},
   "outputs": [],
   "source": []
  },
  {
   "cell_type": "code",
   "execution_count": 5,
   "id": "e3f28aa7-88cd-4901-bf4d-dbba5e4dde34",
   "metadata": {},
   "outputs": [
    {
     "name": "stdout",
     "output_type": "stream",
     "text": [
      "b'This is my first line \\nThis is my second line \\n'\n"
     ]
    }
   ],
   "source": [
    "with open(\"test5.txt\",\"rb\") as f :\n",
    "    file = io.BufferedReader(f)\n",
    "    \n",
    "    data = file.read()\n",
    "    \n",
    "    print(data)"
   ]
  },
  {
   "cell_type": "code",
   "execution_count": null,
   "id": "c860869c-b293-4a73-8858-3c9abbe56d06",
   "metadata": {},
   "outputs": [],
   "source": []
  }
 ],
 "metadata": {
  "kernelspec": {
   "display_name": "Python 3 (ipykernel)",
   "language": "python",
   "name": "python3"
  },
  "language_info": {
   "codemirror_mode": {
    "name": "ipython",
    "version": 3
   },
   "file_extension": ".py",
   "mimetype": "text/x-python",
   "name": "python",
   "nbconvert_exporter": "python",
   "pygments_lexer": "ipython3",
   "version": "3.10.8"
  }
 },
 "nbformat": 4,
 "nbformat_minor": 5
}
