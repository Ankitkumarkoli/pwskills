{
 "cells": [
  {
   "cell_type": "markdown",
   "id": "14ca251d-d1dc-4de9-96e8-6c0e9de548a5",
   "metadata": {},
   "source": [
    "# Class Methods"
   ]
  },
  {
   "cell_type": "code",
   "execution_count": 1,
   "id": "50e68906-ce74-419a-afa3-091a58bb24b2",
   "metadata": {},
   "outputs": [],
   "source": [
    "class pwskills:\n",
    "    \n",
    "    def __init__(self , name , email):\n",
    "        self.name = name\n",
    "        self.email = email\n",
    "        \n",
    "        \n",
    "    def students_details(self):\n",
    "        print(self.name,self.email)"
   ]
  },
  {
   "cell_type": "code",
   "execution_count": 2,
   "id": "158c30fb-4e96-4310-a8aa-2fc4641807e0",
   "metadata": {},
   "outputs": [],
   "source": [
    "pw = pwskills(\"Ankit\",\"ankit@gmail.com\")"
   ]
  },
  {
   "cell_type": "code",
   "execution_count": 3,
   "id": "01839715-76ab-4a0f-b643-7066b8a0edf5",
   "metadata": {},
   "outputs": [
    {
     "data": {
      "text/plain": [
       "'Ankit'"
      ]
     },
     "execution_count": 3,
     "metadata": {},
     "output_type": "execute_result"
    }
   ],
   "source": [
    "pw.name"
   ]
  },
  {
   "cell_type": "code",
   "execution_count": 4,
   "id": "9ef21c4a-1a75-4838-af7a-19358e1a103a",
   "metadata": {},
   "outputs": [
    {
     "data": {
      "text/plain": [
       "'ankit@gmail.com'"
      ]
     },
     "execution_count": 4,
     "metadata": {},
     "output_type": "execute_result"
    }
   ],
   "source": [
    "pw.email"
   ]
  },
  {
   "cell_type": "code",
   "execution_count": 5,
   "id": "bcd0bbc8-349e-4475-81a5-36bad8ae7b2f",
   "metadata": {},
   "outputs": [
    {
     "name": "stdout",
     "output_type": "stream",
     "text": [
      "Ankit ankit@gmail.com\n"
     ]
    }
   ],
   "source": [
    "pw.students_details()"
   ]
  },
  {
   "cell_type": "code",
   "execution_count": null,
   "id": "7aa8e8a4-5e1a-4bae-a986-0bca57f5a7dd",
   "metadata": {},
   "outputs": [],
   "source": []
  },
  {
   "cell_type": "code",
   "execution_count": 16,
   "id": "9f764962-f1de-48f6-90ff-3b086bf2cfcf",
   "metadata": {},
   "outputs": [],
   "source": [
    "class pwskills1:\n",
    "    \n",
    "    def __init__(self , name , email):\n",
    "        self.name = name\n",
    "        self.email = email\n",
    "        \n",
    "        \n",
    "    @classmethod                                    \n",
    "    def details(cls, name, email):\n",
    "        return cls(name, email)\n",
    "        \n",
    "          \n",
    "    def students_details(self):\n",
    "        print(self.name,self.email)"
   ]
  },
  {
   "cell_type": "code",
   "execution_count": 17,
   "id": "a8a94a29-7680-40ef-999b-3f6c5deb323f",
   "metadata": {},
   "outputs": [],
   "source": [
    "pw1 = pwskills1.details(\"ankit\",\"ankit@gmail.com\")              # pw1 isme varialbe hai object nhi hai"
   ]
  },
  {
   "cell_type": "code",
   "execution_count": 21,
   "id": "f5918b9f-f323-42b9-b992-386fb4668672",
   "metadata": {},
   "outputs": [
    {
     "data": {
      "text/plain": [
       "'ankit'"
      ]
     },
     "execution_count": 21,
     "metadata": {},
     "output_type": "execute_result"
    }
   ],
   "source": [
    " pw1.name                                   # __init__ method ko over load kr dea without creating an object of class( which is pwskills1) "
   ]
  },
  {
   "cell_type": "code",
   "execution_count": 24,
   "id": "ab71c90d-057c-41d2-9ea1-20d0d0982057",
   "metadata": {},
   "outputs": [
    {
     "data": {
      "text/plain": [
       "'ankit@gmail.com'"
      ]
     },
     "execution_count": 24,
     "metadata": {},
     "output_type": "execute_result"
    }
   ],
   "source": [
    "pw1.email                         # classmethod ke jariye iss data ko pass kr paaa rahe hai"
   ]
  },
  {
   "cell_type": "code",
   "execution_count": 25,
   "id": "52056805-4ec0-4b7b-a397-5c7a03f3c7aa",
   "metadata": {},
   "outputs": [
    {
     "name": "stdout",
     "output_type": "stream",
     "text": [
      "ankit ankit@gmail.com\n"
     ]
    }
   ],
   "source": [
    "pw1.students_details()"
   ]
  },
  {
   "cell_type": "code",
   "execution_count": null,
   "id": "b2c547c4-87d6-4d6b-96d8-6740863c871f",
   "metadata": {},
   "outputs": [],
   "source": []
  },
  {
   "cell_type": "code",
   "execution_count": 31,
   "id": "227895f3-b671-4278-b8cb-4ef8fc2a6731",
   "metadata": {},
   "outputs": [],
   "source": [
    "class pwskills2:\n",
    "    \n",
    "    mobile_num = 9123456789                              # class variable\n",
    "        \n",
    "    \n",
    "    \n",
    "    def __init__(self , name , email):\n",
    "        self.name = name\n",
    "        self.email = email\n",
    "        \n",
    "    @classmethod\n",
    "    def change_number(cls, mobile):\n",
    "        pwskills2.mobile_num = mobile\n",
    "        \n",
    "        \n",
    "    @classmethod                                    \n",
    "    def details(cls, name, email):\n",
    "        return cls(name, email)\n",
    "        \n",
    "          \n",
    "    def students_details(self):\n",
    "        print(self.name,self.email)"
   ]
  },
  {
   "cell_type": "code",
   "execution_count": 32,
   "id": "581524a9-2ffb-4cf6-91e5-79046b7a35ea",
   "metadata": {},
   "outputs": [
    {
     "data": {
      "text/plain": [
       "9123456789"
      ]
     },
     "execution_count": 32,
     "metadata": {},
     "output_type": "execute_result"
    }
   ],
   "source": [
    "pwskills2.mobile_num                   # mobile number access ho gya"
   ]
  },
  {
   "cell_type": "code",
   "execution_count": 33,
   "id": "f38fb59f-4386-4de9-b3ba-c527ac4b130e",
   "metadata": {},
   "outputs": [],
   "source": [
    "pwskills2.change_number(1234567891)"
   ]
  },
  {
   "cell_type": "code",
   "execution_count": 34,
   "id": "5b3a5f93-3343-46fc-a922-3e9f085be89c",
   "metadata": {},
   "outputs": [
    {
     "data": {
      "text/plain": [
       "1234567891"
      ]
     },
     "execution_count": 34,
     "metadata": {},
     "output_type": "execute_result"
    }
   ],
   "source": [
    "pwskills2.mobile_num"
   ]
  },
  {
   "cell_type": "code",
   "execution_count": null,
   "id": "e482ecb4-c0a6-482d-9ddc-a4ccab589e9b",
   "metadata": {},
   "outputs": [],
   "source": []
  },
  {
   "cell_type": "code",
   "execution_count": 58,
   "id": "073dba09-58e5-4125-9782-9fdcdcdc4e06",
   "metadata": {},
   "outputs": [],
   "source": [
    "class pwskills3:\n",
    "    \n",
    "    mobile_num = 9123456789                              # class variable\n",
    "        \n",
    "    \n",
    "    \n",
    "    def __init__(self , name , email):\n",
    "        self.name = name\n",
    "        self.email = email\n",
    "        \n",
    "    @classmethod\n",
    "    def change_number(cls, mobile):\n",
    "        pwskills2.mobile_num = mobile\n",
    "        \n",
    "        \n",
    "    @classmethod                                    \n",
    "    def details(cls, name, email):\n",
    "        return cls(name, email)\n",
    "        \n",
    "          \n",
    "    def students_details(self):\n",
    "        print(self.name,self.email, pwskills2.mobile_num)\n",
    "        \n",
    "        "
   ]
  },
  {
   "cell_type": "code",
   "execution_count": 59,
   "id": "7c6b59d2-47e3-497d-9b2b-a5f2fcfa896b",
   "metadata": {},
   "outputs": [],
   "source": [
    "pw_obj = pwskills3(\"ankit\",\"ankit@gmail.com\")        # function ka object banaya fir call kiya        "
   ]
  },
  {
   "cell_type": "code",
   "execution_count": 60,
   "id": "1e4f16aa-f5b8-46ba-b73a-746f9da88267",
   "metadata": {},
   "outputs": [
    {
     "name": "stdout",
     "output_type": "stream",
     "text": [
      "ankit ankit@gmail.com 9123456789\n"
     ]
    }
   ],
   "source": [
    "pw_obj.students_details()"
   ]
  },
  {
   "cell_type": "code",
   "execution_count": 61,
   "id": "51a2a8b1-2190-4dce-9a19-5dcc0cac8815",
   "metadata": {},
   "outputs": [],
   "source": [
    "pw = pwskills3.details(\"krishna\",\"krishna@gmail.com\")   # classmethod ki help se variable bnaya fir call kiya"
   ]
  },
  {
   "cell_type": "code",
   "execution_count": 62,
   "id": "29d49f9f-b050-44e6-a4f3-80509715f300",
   "metadata": {},
   "outputs": [
    {
     "name": "stdout",
     "output_type": "stream",
     "text": [
      "krishna krishna@gmail.com 9123456789\n"
     ]
    }
   ],
   "source": [
    "pw.students_details()"
   ]
  },
  {
   "cell_type": "code",
   "execution_count": 63,
   "id": "fc22fdd0-f91a-4f93-8eb7-ec78fe397ffe",
   "metadata": {},
   "outputs": [],
   "source": [
    "pw = pwskills3.details(\"ram\",\"ram@gmail.com\")       # __init__ function ko overload kr pa rahe hai with the help of \"classmethod\"."
   ]
  },
  {
   "cell_type": "code",
   "execution_count": 64,
   "id": "818ad6c1-e223-4133-95c1-1685b7b36da5",
   "metadata": {},
   "outputs": [
    {
     "name": "stdout",
     "output_type": "stream",
     "text": [
      "ram ram@gmail.com 9123456789\n"
     ]
    }
   ],
   "source": [
    "pw.students_details()"
   ]
  },
  {
   "cell_type": "code",
   "execution_count": null,
   "id": "d997381f-f256-4ee1-ab21-7da90ae18e9d",
   "metadata": {},
   "outputs": [],
   "source": []
  },
  {
   "cell_type": "code",
   "execution_count": null,
   "id": "b5a7a7ff-7ffa-473d-873a-cf422847afbd",
   "metadata": {},
   "outputs": [],
   "source": []
  },
  {
   "cell_type": "code",
   "execution_count": 65,
   "id": "5f96867b-25ce-4a61-a2c9-c231f364401e",
   "metadata": {},
   "outputs": [],
   "source": [
    "class pwskills4:\n",
    "    \n",
    "    mobile_num = 9123456789                              # class variable\n",
    "        \n",
    "    \n",
    "    \n",
    "    def __init__(self , name , email):\n",
    "        self.name = name\n",
    "        self.email = email\n",
    "        \n",
    "    @classmethod\n",
    "    def change_number(cls, mobile):\n",
    "        pwskills2.mobile_num = mobile\n",
    "        \n",
    "        \n",
    "    @classmethod                                    \n",
    "    def details(cls, name, email):\n",
    "        return cls(name, email)\n",
    "        \n",
    "          \n",
    "    def students_details(self):\n",
    "        print(self.name,self.email, pwskills2.mobile_num)"
   ]
  },
  {
   "cell_type": "code",
   "execution_count": 72,
   "id": "4ca66e05-7b4e-45c3-bf67-a6491f753e12",
   "metadata": {},
   "outputs": [],
   "source": [
    "def course_details(cls, course_name):                   # external function hai yeh\n",
    "    print(\"course name is \", course_name)"
   ]
  },
  {
   "cell_type": "code",
   "execution_count": 73,
   "id": "5c8c52b6-162b-40d5-8a2f-d3d758f88da1",
   "metadata": {},
   "outputs": [],
   "source": [
    "pwskills4.course_details = classmethod(course_details)"
   ]
  },
  {
   "cell_type": "code",
   "execution_count": 74,
   "id": "d7f3b481-62ef-4eed-a74f-983a5e6bacd4",
   "metadata": {},
   "outputs": [
    {
     "name": "stdout",
     "output_type": "stream",
     "text": [
      "course name is  Data Science Masters\n"
     ]
    }
   ],
   "source": [
    "pwskills4.course_details(\"Data Science Masters\")"
   ]
  },
  {
   "cell_type": "code",
   "execution_count": null,
   "id": "baf037a2-3a32-4fad-9c6c-90aa671362f5",
   "metadata": {},
   "outputs": [],
   "source": []
  },
  {
   "cell_type": "code",
   "execution_count": 75,
   "id": "59f65c57-1f8f-479f-bc38-11a8b4758bc8",
   "metadata": {},
   "outputs": [],
   "source": [
    "def mentor(cls, list_of_mentor):\n",
    "    print(list_of_mentor)"
   ]
  },
  {
   "cell_type": "code",
   "execution_count": 76,
   "id": "f5bb7708-c051-4a3a-b00e-eaa5f0e40b39",
   "metadata": {},
   "outputs": [],
   "source": [
    "pwskills4.mentor = classmethod(mentor)"
   ]
  },
  {
   "cell_type": "code",
   "execution_count": 80,
   "id": "61f20241-911a-4518-a463-e0ac4fe92717",
   "metadata": {},
   "outputs": [
    {
     "name": "stdout",
     "output_type": "stream",
     "text": [
      "['Hello ankit', 'I am selmon bhai']\n"
     ]
    }
   ],
   "source": [
    "pwskills4.mentor([\"Hello ankit\",\"I am selmon bhai\"])"
   ]
  },
  {
   "cell_type": "code",
   "execution_count": null,
   "id": "cd0bb020-1a90-4d6b-859e-7e7aabf6544a",
   "metadata": {},
   "outputs": [],
   "source": []
  },
  {
   "cell_type": "code",
   "execution_count": 102,
   "id": "193b7bf9-e991-42b0-961c-d3e4fffa9c44",
   "metadata": {},
   "outputs": [],
   "source": [
    "class pwskills5:\n",
    "    \n",
    "    mobile_num = 9123456789                              # class variable\n",
    "        \n",
    "    \n",
    "    \n",
    "    def __init__(self , name , email):\n",
    "        self.name = name\n",
    "        self.email = email\n",
    "        \n",
    "    @classmethod\n",
    "    def change_number(cls, mobile):\n",
    "        pwskills2.mobile_num = mobile\n",
    "        \n",
    "        \n",
    "    @classmethod                                    \n",
    "    def details(cls, name, email):\n",
    "        return cls(name, email)\n",
    "        \n",
    "          \n",
    "    def students_details(self):\n",
    "        print(self.name,self.email, pwskills2.mobile_num)"
   ]
  },
  {
   "cell_type": "code",
   "execution_count": 103,
   "id": "0c986d9f-33ec-443a-9e2d-3731a017101a",
   "metadata": {},
   "outputs": [],
   "source": [
    "del pwskills5.change_number                   # change_number function ko delete kr diya"
   ]
  },
  {
   "cell_type": "code",
   "execution_count": 104,
   "id": "177dcb38-ad8c-45fb-87fe-1b7c874c5e14",
   "metadata": {},
   "outputs": [
    {
     "ename": "AttributeError",
     "evalue": "type object 'pwskills5' has no attribute 'change_number'",
     "output_type": "error",
     "traceback": [
      "\u001b[0;31m---------------------------------------------------------------------------\u001b[0m",
      "\u001b[0;31mAttributeError\u001b[0m                            Traceback (most recent call last)",
      "Cell \u001b[0;32mIn[104], line 1\u001b[0m\n\u001b[0;32m----> 1\u001b[0m \u001b[43mpwskills5\u001b[49m\u001b[38;5;241;43m.\u001b[39;49m\u001b[43mchange_number\u001b[49m(\u001b[38;5;241m123456789\u001b[39m)\n",
      "\u001b[0;31mAttributeError\u001b[0m: type object 'pwskills5' has no attribute 'change_number'"
     ]
    }
   ],
   "source": [
    "pwskills5.change_number(123456789)"
   ]
  },
  {
   "cell_type": "code",
   "execution_count": 105,
   "id": "d48ff664-95cb-492b-aa8d-62dcf9ea9391",
   "metadata": {},
   "outputs": [],
   "source": [
    "delattr(pwskills5, \"details\")                      # details function ko bhi delete kr diya with tha help of (delattr)"
   ]
  },
  {
   "cell_type": "code",
   "execution_count": 106,
   "id": "fccb49ce-2046-4594-91fe-51c5e35b3a4a",
   "metadata": {},
   "outputs": [
    {
     "ename": "AttributeError",
     "evalue": "type object 'pwskills5' has no attribute 'details'",
     "output_type": "error",
     "traceback": [
      "\u001b[0;31m---------------------------------------------------------------------------\u001b[0m",
      "\u001b[0;31mAttributeError\u001b[0m                            Traceback (most recent call last)",
      "Cell \u001b[0;32mIn[106], line 1\u001b[0m\n\u001b[0;32m----> 1\u001b[0m \u001b[43mpwskills5\u001b[49m\u001b[38;5;241;43m.\u001b[39;49m\u001b[43mdetails\u001b[49m\n",
      "\u001b[0;31mAttributeError\u001b[0m: type object 'pwskills5' has no attribute 'details'"
     ]
    }
   ],
   "source": [
    "pwskills5.details"
   ]
  },
  {
   "cell_type": "code",
   "execution_count": 107,
   "id": "0626c080-1c6c-432a-a847-beb744c42ac5",
   "metadata": {},
   "outputs": [],
   "source": [
    "delattr(pwskills5 , \"students_details\")             # isko bhi delete kr diya with the help of (delattr)"
   ]
  },
  {
   "cell_type": "code",
   "execution_count": 108,
   "id": "ee19ed1c-5394-4b86-8fc8-18ec8553a0ab",
   "metadata": {},
   "outputs": [
    {
     "ename": "AttributeError",
     "evalue": "type object 'pwskills5' has no attribute 'students_details'",
     "output_type": "error",
     "traceback": [
      "\u001b[0;31m---------------------------------------------------------------------------\u001b[0m",
      "\u001b[0;31mAttributeError\u001b[0m                            Traceback (most recent call last)",
      "Cell \u001b[0;32mIn[108], line 1\u001b[0m\n\u001b[0;32m----> 1\u001b[0m \u001b[43mpwskills5\u001b[49m\u001b[38;5;241;43m.\u001b[39;49m\u001b[43mstudents_details\u001b[49m\n",
      "\u001b[0;31mAttributeError\u001b[0m: type object 'pwskills5' has no attribute 'students_details'"
     ]
    }
   ],
   "source": [
    "pwskills5.students_details"
   ]
  },
  {
   "cell_type": "code",
   "execution_count": 109,
   "id": "142facc8-ee3a-45de-97c1-6d0abe7859db",
   "metadata": {},
   "outputs": [],
   "source": [
    "delattr(pwskills5 , \"mobile_num\")"
   ]
  },
  {
   "cell_type": "code",
   "execution_count": 110,
   "id": "0f948ed8-fb70-4e6f-9641-81acb50a885a",
   "metadata": {},
   "outputs": [],
   "source": [
    "# mobile number ke variable ko bhi delete kr dia"
   ]
  },
  {
   "cell_type": "code",
   "execution_count": null,
   "id": "a3dcbd41-bb1a-4db8-be2f-c06c90eaaddd",
   "metadata": {},
   "outputs": [],
   "source": []
  }
 ],
 "metadata": {
  "kernelspec": {
   "display_name": "Python 3 (ipykernel)",
   "language": "python",
   "name": "python3"
  },
  "language_info": {
   "codemirror_mode": {
    "name": "ipython",
    "version": 3
   },
   "file_extension": ".py",
   "mimetype": "text/x-python",
   "name": "python",
   "nbconvert_exporter": "python",
   "pygments_lexer": "ipython3",
   "version": "3.10.8"
  }
 },
 "nbformat": 4,
 "nbformat_minor": 5
}
