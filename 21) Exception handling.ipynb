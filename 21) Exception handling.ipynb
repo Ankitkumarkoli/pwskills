{
 "cells": [
  {
   "cell_type": "markdown",
   "id": "a3404949-7369-45f1-aaed-2aaf17eab2f2",
   "metadata": {},
   "source": [
    "# Exception handling"
   ]
  },
  {
   "cell_type": "raw",
   "id": "fabbd946-00f9-4bdd-aa6e-17ba149ef981",
   "metadata": {},
   "source": [
    "Four major block humne iss class mai sikhe\n",
    "1) try block\n",
    "2) exception block\n",
    "2) else block\n",
    "4) finally block"
   ]
  },
  {
   "cell_type": "code",
   "execution_count": null,
   "id": "e40b47b7-f290-4040-8317-aaab9d0554fd",
   "metadata": {},
   "outputs": [],
   "source": []
  },
  {
   "cell_type": "code",
   "execution_count": 1,
   "id": "8bd586c1-a3c1-4065-8eb1-f09b7e108c7f",
   "metadata": {},
   "outputs": [],
   "source": [
    "a = 10"
   ]
  },
  {
   "cell_type": "code",
   "execution_count": 2,
   "id": "bb7432cf-aa54-4ca6-80b2-022e8afabfd3",
   "metadata": {},
   "outputs": [
    {
     "ename": "ZeroDivisionError",
     "evalue": "division by zero",
     "output_type": "error",
     "traceback": [
      "\u001b[0;31m---------------------------------------------------------------------------\u001b[0m",
      "\u001b[0;31mZeroDivisionError\u001b[0m                         Traceback (most recent call last)",
      "Cell \u001b[0;32mIn[2], line 1\u001b[0m\n\u001b[0;32m----> 1\u001b[0m \u001b[43ma\u001b[49m\u001b[38;5;241;43m/\u001b[39;49m\u001b[38;5;241;43m0\u001b[39;49m\n",
      "\u001b[0;31mZeroDivisionError\u001b[0m: division by zero"
     ]
    }
   ],
   "source": [
    "a/0"
   ]
  },
  {
   "cell_type": "code",
   "execution_count": 3,
   "id": "2254df82-f441-4af6-9b10-dc2d4d4d1508",
   "metadata": {},
   "outputs": [],
   "source": [
    "f = open(\"test.txt\",\"r\")"
   ]
  },
  {
   "cell_type": "code",
   "execution_count": 4,
   "id": "87098869-38db-419c-9020-72f756ace97e",
   "metadata": {},
   "outputs": [
    {
     "name": "stdout",
     "output_type": "stream",
     "text": [
      "this is my print\n"
     ]
    }
   ],
   "source": [
    "f = open(\"test.txt\",\"r\")\n",
    "print(\"this is my print\")"
   ]
  },
  {
   "cell_type": "raw",
   "id": "a49acc12-75fa-40db-a454-d06612ce4f8f",
   "metadata": {},
   "source": [
    "exception handling ke ander blocks hote hai"
   ]
  },
  {
   "cell_type": "code",
   "execution_count": 5,
   "id": "2a6e825a-e00f-4988-a451-01da6c3a4e9f",
   "metadata": {},
   "outputs": [
    {
     "data": {
      "text/plain": [
       "9"
      ]
     },
     "execution_count": 5,
     "metadata": {},
     "output_type": "execute_result"
    }
   ],
   "source": [
    "try:\n",
    "    f = open(\"test.txt\",\"r\")\n",
    "except Exception as e :\n",
    "    print(\"this is my except block\", e)\n",
    "    \n",
    "a = 4 + 5\n",
    "a"
   ]
  },
  {
   "cell_type": "code",
   "execution_count": 6,
   "id": "53c21940-25a1-4d85-9b13-907b4f244e1d",
   "metadata": {},
   "outputs": [],
   "source": [
    "try:                                      # try block\n",
    "    f = open(\"test.txt\",\"w\")\n",
    "    f.write(\"write into my file\")\n",
    "    f.close()\n",
    "except Exception as e :                    # exception block\n",
    "    print(\"this is my exept block\", e)"
   ]
  },
  {
   "cell_type": "raw",
   "id": "96571991-9094-4734-80f8-caaf50ac5433",
   "metadata": {},
   "source": [
    "In this code , file open hone ke baad write implement ho gya toh islea , exception wala part execute nhi hua"
   ]
  },
  {
   "cell_type": "code",
   "execution_count": 7,
   "id": "d83037af-2aa4-448f-b8d5-8ddcf5bccd66",
   "metadata": {},
   "outputs": [
    {
     "name": "stdout",
     "output_type": "stream",
     "text": [
      "this will be executed once your try will execute without error\n"
     ]
    }
   ],
   "source": [
    "try:                                      # try block\n",
    "    f = open(\"test.txt\",\"w\")\n",
    "    f.write(\"write into my file\")\n",
    "    \n",
    "except Exception as e :                    # exception block\n",
    "    print(\"this is my exept block\", e)\n",
    "    \n",
    "else:\n",
    "    f.close()\n",
    "    print(\"this will be executed once your try will execute without error\")"
   ]
  },
  {
   "cell_type": "code",
   "execution_count": null,
   "id": "5d3f9cdf-b268-4a01-b01b-c9aa8f1b5f26",
   "metadata": {},
   "outputs": [],
   "source": []
  },
  {
   "cell_type": "code",
   "execution_count": 8,
   "id": "6bfbf879-bcb4-472d-bf1a-d0b25eb2c763",
   "metadata": {},
   "outputs": [
    {
     "name": "stdout",
     "output_type": "stream",
     "text": [
      "this is my exept block [Errno 2] No such file or directory: 'test1.txt'\n"
     ]
    }
   ],
   "source": [
    "try:                                      # try block\n",
    "    f = open(\"test1.txt\",\"r\")\n",
    "    f.write(\"write into my file\")\n",
    "    \n",
    "except Exception as e :                    # exception block\n",
    "    print(\"this is my exept block\", e)\n",
    "    \n",
    "else:\n",
    "    f.close()\n",
    "    print(\"this will be executed once your try will execute without error\")"
   ]
  },
  {
   "cell_type": "raw",
   "id": "397fc08d-857e-4cf4-a551-b7b7113b4c79",
   "metadata": {},
   "source": [
    "In this code, try block execute nhi hua toh else bhi execute nhi hua , only except block execute hua"
   ]
  },
  {
   "cell_type": "code",
   "execution_count": null,
   "id": "9dcba720-512d-4008-bc07-f406fe581a4b",
   "metadata": {},
   "outputs": [],
   "source": []
  },
  {
   "cell_type": "code",
   "execution_count": 1,
   "id": "820ae28d-e49c-4e78-9f16-2f98ad27b0bf",
   "metadata": {},
   "outputs": [
    {
     "name": "stdout",
     "output_type": "stream",
     "text": [
      "file is executed\n"
     ]
    },
    {
     "ename": "FileNotFoundError",
     "evalue": "[Errno 2] No such file or directory: 'test3.txt'",
     "output_type": "error",
     "traceback": [
      "\u001b[0;31m---------------------------------------------------------------------------\u001b[0m",
      "\u001b[0;31mFileNotFoundError\u001b[0m                         Traceback (most recent call last)",
      "Cell \u001b[0;32mIn[1], line 2\u001b[0m\n\u001b[1;32m      1\u001b[0m \u001b[38;5;28;01mtry\u001b[39;00m:\n\u001b[0;32m----> 2\u001b[0m     f \u001b[38;5;241m=\u001b[39m \u001b[38;5;28;43mopen\u001b[39;49m\u001b[43m(\u001b[49m\u001b[38;5;124;43m\"\u001b[39;49m\u001b[38;5;124;43mtest3.txt\u001b[39;49m\u001b[38;5;124;43m\"\u001b[39;49m\u001b[43m,\u001b[49m\u001b[38;5;124;43m\"\u001b[39;49m\u001b[38;5;124;43mr\u001b[39;49m\u001b[38;5;124;43m\"\u001b[39;49m\u001b[43m)\u001b[49m\n\u001b[1;32m      3\u001b[0m     f\u001b[38;5;241m.\u001b[39mwrite(\u001b[38;5;124m\"\u001b[39m\u001b[38;5;124mwrite something\u001b[39m\u001b[38;5;124m\"\u001b[39m)\n\u001b[1;32m      5\u001b[0m \u001b[38;5;28;01mfinally\u001b[39;00m:\n",
      "File \u001b[0;32m/opt/conda/lib/python3.10/site-packages/IPython/core/interactiveshell.py:282\u001b[0m, in \u001b[0;36m_modified_open\u001b[0;34m(file, *args, **kwargs)\u001b[0m\n\u001b[1;32m    275\u001b[0m \u001b[38;5;28;01mif\u001b[39;00m file \u001b[38;5;129;01min\u001b[39;00m {\u001b[38;5;241m0\u001b[39m, \u001b[38;5;241m1\u001b[39m, \u001b[38;5;241m2\u001b[39m}:\n\u001b[1;32m    276\u001b[0m     \u001b[38;5;28;01mraise\u001b[39;00m \u001b[38;5;167;01mValueError\u001b[39;00m(\n\u001b[1;32m    277\u001b[0m         \u001b[38;5;124mf\u001b[39m\u001b[38;5;124m\"\u001b[39m\u001b[38;5;124mIPython won\u001b[39m\u001b[38;5;124m'\u001b[39m\u001b[38;5;124mt let you open fd=\u001b[39m\u001b[38;5;132;01m{\u001b[39;00mfile\u001b[38;5;132;01m}\u001b[39;00m\u001b[38;5;124m by default \u001b[39m\u001b[38;5;124m\"\u001b[39m\n\u001b[1;32m    278\u001b[0m         \u001b[38;5;124m\"\u001b[39m\u001b[38;5;124mas it is likely to crash IPython. If you know what you are doing, \u001b[39m\u001b[38;5;124m\"\u001b[39m\n\u001b[1;32m    279\u001b[0m         \u001b[38;5;124m\"\u001b[39m\u001b[38;5;124myou can use builtins\u001b[39m\u001b[38;5;124m'\u001b[39m\u001b[38;5;124m open.\u001b[39m\u001b[38;5;124m\"\u001b[39m\n\u001b[1;32m    280\u001b[0m     )\n\u001b[0;32m--> 282\u001b[0m \u001b[38;5;28;01mreturn\u001b[39;00m \u001b[43mio_open\u001b[49m\u001b[43m(\u001b[49m\u001b[43mfile\u001b[49m\u001b[43m,\u001b[49m\u001b[43m \u001b[49m\u001b[38;5;241;43m*\u001b[39;49m\u001b[43margs\u001b[49m\u001b[43m,\u001b[49m\u001b[43m \u001b[49m\u001b[38;5;241;43m*\u001b[39;49m\u001b[38;5;241;43m*\u001b[39;49m\u001b[43mkwargs\u001b[49m\u001b[43m)\u001b[49m\n",
      "\u001b[0;31mFileNotFoundError\u001b[0m: [Errno 2] No such file or directory: 'test3.txt'"
     ]
    }
   ],
   "source": [
    "try:\n",
    "    f = open(\"test3.txt\",\"r\")\n",
    "    f.write(\"write something\")\n",
    "    \n",
    "finally:\n",
    "    print(\"file is executed\")"
   ]
  },
  {
   "cell_type": "code",
   "execution_count": null,
   "id": "e4a184c4-967c-42ae-b5f8-8119c9a15f0a",
   "metadata": {},
   "outputs": [],
   "source": []
  },
  {
   "cell_type": "markdown",
   "id": "5140adbb-7a9a-4739-a8d2-bc34056af734",
   "metadata": {},
   "source": [
    "# Custom Exception Handling"
   ]
  },
  {
   "cell_type": "code",
   "execution_count": null,
   "id": "9a0d09b9-5fd3-4e4f-9f92-45b498d65418",
   "metadata": {},
   "outputs": [],
   "source": [
    "age = int(input(\"enter your age: \"))"
   ]
  },
  {
   "cell_type": "code",
   "execution_count": null,
   "id": "458cc7d6-75d2-4d97-a998-7d437415cf1e",
   "metadata": {},
   "outputs": [],
   "source": []
  }
 ],
 "metadata": {
  "kernelspec": {
   "display_name": "Python 3 (ipykernel)",
   "language": "python",
   "name": "python3"
  },
  "language_info": {
   "codemirror_mode": {
    "name": "ipython",
    "version": 3
   },
   "file_extension": ".py",
   "mimetype": "text/x-python",
   "name": "python",
   "nbconvert_exporter": "python",
   "pygments_lexer": "ipython3",
   "version": "3.10.8"
  }
 },
 "nbformat": 4,
 "nbformat_minor": 5
}
