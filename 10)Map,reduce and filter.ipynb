{
 "cells": [
  {
   "cell_type": "markdown",
   "id": "5cb6d5fa-9635-4c37-895e-7fd6db347ca9",
   "metadata": {},
   "source": [
    "# Map , reduce and filter\n",
    "\n",
    "                                      ## map function sirf mapper krta hai\n",
    "                                      ## reduce function sirf collapse krta hai\n",
    "                                      ## filter function filterout krta hai"
   ]
  },
  {
   "cell_type": "code",
   "execution_count": 1,
   "id": "f7614c02-ad51-4e8a-9d5b-562eccdc303f",
   "metadata": {},
   "outputs": [],
   "source": [
    "a = [2,3,4,5,6]"
   ]
  },
  {
   "cell_type": "code",
   "execution_count": 3,
   "id": "16d704a3-e374-4930-910c-4e1e792106c6",
   "metadata": {},
   "outputs": [],
   "source": [
    "def test(a):\n",
    "    a1 = []\n",
    "    for i in a:\n",
    "        a1.append(i**2)\n",
    "    return a1"
   ]
  },
  {
   "cell_type": "code",
   "execution_count": 4,
   "id": "e394990d-60a8-4b57-85b7-a269eeba20f6",
   "metadata": {},
   "outputs": [
    {
     "data": {
      "text/plain": [
       "[4, 9, 16, 25, 36]"
      ]
     },
     "execution_count": 4,
     "metadata": {},
     "output_type": "execute_result"
    }
   ],
   "source": [
    "test(a)"
   ]
  },
  {
   "cell_type": "code",
   "execution_count": 5,
   "id": "bf9d9c6a-f1f3-4acc-b786-0adcff86d529",
   "metadata": {},
   "outputs": [],
   "source": [
    "def sq(x):\n",
    "    return x**2"
   ]
  },
  {
   "cell_type": "code",
   "execution_count": 6,
   "id": "cb94791f-02a0-40e2-9098-cec29d59cdd6",
   "metadata": {},
   "outputs": [
    {
     "data": {
      "text/plain": [
       "<map at 0x7fc8e019cb50>"
      ]
     },
     "execution_count": 6,
     "metadata": {},
     "output_type": "execute_result"
    }
   ],
   "source": [
    "map(sq,a)"
   ]
  },
  {
   "cell_type": "code",
   "execution_count": 8,
   "id": "81770b6c-f51c-4c0b-b05f-824199357eaf",
   "metadata": {},
   "outputs": [
    {
     "data": {
      "text/plain": [
       "[4, 9, 16, 25, 36]"
      ]
     },
     "execution_count": 8,
     "metadata": {},
     "output_type": "execute_result"
    }
   ],
   "source": [
    "list(map(sq,a))"
   ]
  },
  {
   "cell_type": "code",
   "execution_count": 9,
   "id": "e5e0d709-d36a-498f-91c4-7263002a2c68",
   "metadata": {},
   "outputs": [
    {
     "data": {
      "text/plain": [
       "[4, 9, 16, 25, 36]"
      ]
     },
     "execution_count": 9,
     "metadata": {},
     "output_type": "execute_result"
    }
   ],
   "source": [
    "list(map(lambda x : x**2, a))"
   ]
  },
  {
   "cell_type": "code",
   "execution_count": 10,
   "id": "c0699f79-1022-42e8-b174-59df5d6f8d23",
   "metadata": {},
   "outputs": [],
   "source": [
    "l1 = [1,2,3,4,5]\n",
    "l2 = [6,7,8,9,10]"
   ]
  },
  {
   "cell_type": "code",
   "execution_count": 11,
   "id": "908ddbc7-da4f-4eb3-b086-446ebab41acb",
   "metadata": {},
   "outputs": [
    {
     "data": {
      "text/plain": [
       "[7, 9, 11, 13, 15]"
      ]
     },
     "execution_count": 11,
     "metadata": {},
     "output_type": "execute_result"
    }
   ],
   "source": [
    "list(map(lambda x,y : x+y , l1,l2))"
   ]
  },
  {
   "cell_type": "code",
   "execution_count": 12,
   "id": "74bc7066-1f7e-4f26-be52-f40a888a5e16",
   "metadata": {},
   "outputs": [],
   "source": [
    "def add(x,y):\n",
    "    return x+y"
   ]
  },
  {
   "cell_type": "code",
   "execution_count": 13,
   "id": "61511739-2cdb-44da-9ca3-3c4f45e522e3",
   "metadata": {},
   "outputs": [
    {
     "data": {
      "text/plain": [
       "[7, 9, 11, 13, 15]"
      ]
     },
     "execution_count": 13,
     "metadata": {},
     "output_type": "execute_result"
    }
   ],
   "source": [
    "list(map(add,l1,l2))"
   ]
  },
  {
   "cell_type": "code",
   "execution_count": 14,
   "id": "dfb9b8d6-120f-43e3-a69c-3c977b2fbc47",
   "metadata": {},
   "outputs": [],
   "source": [
    "w = \"pwskills\""
   ]
  },
  {
   "cell_type": "code",
   "execution_count": 15,
   "id": "a60dd8bd-83ed-4522-82fb-634459b4438c",
   "metadata": {},
   "outputs": [
    {
     "data": {
      "text/plain": [
       "['P', 'W', 'S', 'K', 'I', 'L', 'L', 'S']"
      ]
     },
     "execution_count": 15,
     "metadata": {},
     "output_type": "execute_result"
    }
   ],
   "source": [
    "list(map(lambda w: w.upper(), w))"
   ]
  },
  {
   "cell_type": "code",
   "execution_count": 3,
   "id": "c092276f-32b1-4feb-a35a-aff37219eb7c",
   "metadata": {},
   "outputs": [],
   "source": [
    "q = \"ANKIT KUMAR KOLI\""
   ]
  },
  {
   "cell_type": "code",
   "execution_count": 6,
   "id": "005737d9-6667-4dd8-80da-b34415cb0e51",
   "metadata": {},
   "outputs": [
    {
     "data": {
      "text/plain": [
       "['a',\n",
       " 'n',\n",
       " 'k',\n",
       " 'i',\n",
       " 't',\n",
       " ' ',\n",
       " 'k',\n",
       " 'u',\n",
       " 'm',\n",
       " 'a',\n",
       " 'r',\n",
       " ' ',\n",
       " 'k',\n",
       " 'o',\n",
       " 'l',\n",
       " 'i']"
      ]
     },
     "execution_count": 6,
     "metadata": {},
     "output_type": "execute_result"
    }
   ],
   "source": [
    "list(map(lambda q: q.lower(), q))"
   ]
  },
  {
   "cell_type": "code",
   "execution_count": null,
   "id": "5190f534-1c29-4b15-a93d-da5df38939bd",
   "metadata": {},
   "outputs": [],
   "source": []
  },
  {
   "cell_type": "code",
   "execution_count": null,
   "id": "9255d405-169c-4b62-9ae6-3e30141682cb",
   "metadata": {},
   "outputs": [],
   "source": []
  },
  {
   "cell_type": "markdown",
   "id": "c5c47b6e-9932-48cd-8b0a-396bab44a3bd",
   "metadata": {},
   "source": [
    "# reduce() function   \n",
    "\n",
    "# reduce function ko call krne ke lea import krna hota by the help of (functools) "
   ]
  },
  {
   "cell_type": "code",
   "execution_count": 5,
   "id": "7565b9fa-24c9-47d6-9b49-51519297ee48",
   "metadata": {},
   "outputs": [],
   "source": [
    "from functools import reduce"
   ]
  },
  {
   "cell_type": "code",
   "execution_count": 6,
   "id": "870a9c36-0804-41e5-8abc-1cc8e733c156",
   "metadata": {},
   "outputs": [],
   "source": [
    "l = [1,2,3,3,4,5]"
   ]
  },
  {
   "cell_type": "code",
   "execution_count": 7,
   "id": "3de34e8d-c2ce-4f48-9f01-e58aaf7af152",
   "metadata": {},
   "outputs": [
    {
     "data": {
      "text/plain": [
       "18"
      ]
     },
     "execution_count": 7,
     "metadata": {},
     "output_type": "execute_result"
    }
   ],
   "source": [
    "reduce(lambda x,y : x+y , l)"
   ]
  },
  {
   "cell_type": "code",
   "execution_count": 8,
   "id": "e36ec1d9-27f3-4abc-a00a-c1ce1367d2f5",
   "metadata": {},
   "outputs": [
    {
     "data": {
      "text/plain": [
       "360"
      ]
     },
     "execution_count": 8,
     "metadata": {},
     "output_type": "execute_result"
    }
   ],
   "source": [
    "reduce(lambda x,y : x*y ,l)"
   ]
  },
  {
   "cell_type": "code",
   "execution_count": 9,
   "id": "2ca14cdf-864d-4196-8018-b4d09708e9a3",
   "metadata": {},
   "outputs": [
    {
     "ename": "TypeError",
     "evalue": "<lambda>() missing 1 required positional argument: 'z'",
     "output_type": "error",
     "traceback": [
      "\u001b[0;31m---------------------------------------------------------------------------\u001b[0m",
      "\u001b[0;31mTypeError\u001b[0m                                 Traceback (most recent call last)",
      "Cell \u001b[0;32mIn[9], line 1\u001b[0m\n\u001b[0;32m----> 1\u001b[0m \u001b[43mreduce\u001b[49m\u001b[43m(\u001b[49m\u001b[38;5;28;43;01mlambda\u001b[39;49;00m\u001b[43m \u001b[49m\u001b[43mx\u001b[49m\u001b[43m,\u001b[49m\u001b[43my\u001b[49m\u001b[43m,\u001b[49m\u001b[43mz\u001b[49m\u001b[43m \u001b[49m\u001b[43m:\u001b[49m\u001b[43mx\u001b[49m\u001b[38;5;241;43m+\u001b[39;49m\u001b[43my\u001b[49m\u001b[38;5;241;43m+\u001b[39;49m\u001b[43mz\u001b[49m\u001b[43m \u001b[49m\u001b[43m,\u001b[49m\u001b[43m \u001b[49m\u001b[43ml\u001b[49m\u001b[43m)\u001b[49m\n",
      "\u001b[0;31mTypeError\u001b[0m: <lambda>() missing 1 required positional argument: 'z'"
     ]
    }
   ],
   "source": [
    "reduce(lambda x,y,z :x+y+z , l)"
   ]
  },
  {
   "cell_type": "code",
   "execution_count": 10,
   "id": "f59e3bd7-21ad-4f94-a3b7-b949cca957b2",
   "metadata": {},
   "outputs": [
    {
     "ename": "TypeError",
     "evalue": "reduce() of empty iterable with no initial value",
     "output_type": "error",
     "traceback": [
      "\u001b[0;31m---------------------------------------------------------------------------\u001b[0m",
      "\u001b[0;31mTypeError\u001b[0m                                 Traceback (most recent call last)",
      "Cell \u001b[0;32mIn[10], line 1\u001b[0m\n\u001b[0;32m----> 1\u001b[0m \u001b[43mreduce\u001b[49m\u001b[43m(\u001b[49m\u001b[38;5;28;43;01mlambda\u001b[39;49;00m\u001b[43m \u001b[49m\u001b[43mx\u001b[49m\u001b[43m,\u001b[49m\u001b[43my\u001b[49m\u001b[43m \u001b[49m\u001b[43m:\u001b[49m\u001b[43m \u001b[49m\u001b[43mx\u001b[49m\u001b[38;5;241;43m+\u001b[39;49m\u001b[43my\u001b[49m\u001b[43m \u001b[49m\u001b[43m,\u001b[49m\u001b[43m \u001b[49m\u001b[43m[\u001b[49m\u001b[43m]\u001b[49m\u001b[43m)\u001b[49m\n",
      "\u001b[0;31mTypeError\u001b[0m: reduce() of empty iterable with no initial value"
     ]
    }
   ],
   "source": [
    "reduce(lambda x,y : x+y , [])"
   ]
  },
  {
   "cell_type": "code",
   "execution_count": 11,
   "id": "bcb5a0c0-21b4-4e8c-9541-cb13f5133278",
   "metadata": {},
   "outputs": [
    {
     "data": {
      "text/plain": [
       "1"
      ]
     },
     "execution_count": 11,
     "metadata": {},
     "output_type": "execute_result"
    }
   ],
   "source": [
    "reduce(lambda x,y : x+y , [1])"
   ]
  },
  {
   "cell_type": "code",
   "execution_count": 12,
   "id": "cd92228d-42b9-45c8-9751-4848ebcb3a11",
   "metadata": {},
   "outputs": [
    {
     "data": {
      "text/plain": [
       "360"
      ]
     },
     "execution_count": 12,
     "metadata": {},
     "output_type": "execute_result"
    }
   ],
   "source": [
    "reduce(lambda x,y : x*y , l)"
   ]
  },
  {
   "cell_type": "code",
   "execution_count": 13,
   "id": "4eae8ed0-8229-47b7-8649-5e2bf7f0812b",
   "metadata": {},
   "outputs": [
    {
     "data": {
      "text/plain": [
       "[1, 2, 3, 3, 4, 5]"
      ]
     },
     "execution_count": 13,
     "metadata": {},
     "output_type": "execute_result"
    }
   ],
   "source": [
    "l"
   ]
  },
  {
   "cell_type": "code",
   "execution_count": 16,
   "id": "633bbacf-2ee8-4f17-b39b-83e6764d8679",
   "metadata": {},
   "outputs": [
    {
     "data": {
      "text/plain": [
       "5"
      ]
     },
     "execution_count": 16,
     "metadata": {},
     "output_type": "execute_result"
    }
   ],
   "source": [
    "reduce(lambda x,y : x if x>y else y, l)          # x,y = argument\n",
    "                                                 # x = output with condition"
   ]
  },
  {
   "cell_type": "code",
   "execution_count": null,
   "id": "12e5d4ad-bfad-4758-931a-bb15309b368d",
   "metadata": {},
   "outputs": [],
   "source": []
  },
  {
   "cell_type": "markdown",
   "id": "9650e95a-469e-4a23-bd35-9bf0b1f98759",
   "metadata": {},
   "source": [
    " # filter function"
   ]
  },
  {
   "cell_type": "code",
   "execution_count": 18,
   "id": "b2d7ceb6-0d2c-4337-96ba-fc75f6028270",
   "metadata": {},
   "outputs": [
    {
     "data": {
      "text/plain": [
       "[1, 2, 3, 3, 4, 5]"
      ]
     },
     "execution_count": 18,
     "metadata": {},
     "output_type": "execute_result"
    }
   ],
   "source": [
    "l"
   ]
  },
  {
   "cell_type": "code",
   "execution_count": 20,
   "id": "2a1f8918-5ef4-4e8c-bf42-f5a5b1cad543",
   "metadata": {},
   "outputs": [
    {
     "data": {
      "text/plain": [
       "[2, 4]"
      ]
     },
     "execution_count": 20,
     "metadata": {},
     "output_type": "execute_result"
    }
   ],
   "source": [
    "list(filter(lambda x : x % 2 == 0, l))                 # for even number"
   ]
  },
  {
   "cell_type": "code",
   "execution_count": 22,
   "id": "2de65c1f-934c-4ab6-a4e0-c8e84da6fe7c",
   "metadata": {},
   "outputs": [
    {
     "data": {
      "text/plain": [
       "[1, 3, 3, 5]"
      ]
     },
     "execution_count": 22,
     "metadata": {},
     "output_type": "execute_result"
    }
   ],
   "source": [
    "list(filter(lambda x : x % 2 != 0, l))                 # for odd number"
   ]
  },
  {
   "cell_type": "code",
   "execution_count": 23,
   "id": "82e92422-19b0-4b38-bf5c-ff1786b68319",
   "metadata": {},
   "outputs": [],
   "source": [
    "l1 = [-1,-4,3,-9,23,56,10]"
   ]
  },
  {
   "cell_type": "code",
   "execution_count": 24,
   "id": "35c6e984-566a-4e10-b39a-29f55369e201",
   "metadata": {},
   "outputs": [
    {
     "data": {
      "text/plain": [
       "[-1, -4, -9]"
      ]
     },
     "execution_count": 24,
     "metadata": {},
     "output_type": "execute_result"
    }
   ],
   "source": [
    "list(filter(lambda x : x<0 ,l1))"
   ]
  },
  {
   "cell_type": "code",
   "execution_count": 25,
   "id": "3cac7bc4-38a1-488f-839b-550151506200",
   "metadata": {},
   "outputs": [
    {
     "data": {
      "text/plain": [
       "[3, 23, 56, 10]"
      ]
     },
     "execution_count": 25,
     "metadata": {},
     "output_type": "execute_result"
    }
   ],
   "source": [
    "list(filter(lambda x : x>0 , l1))"
   ]
  },
  {
   "cell_type": "code",
   "execution_count": 32,
   "id": "bfcb5309-efe1-48c4-8c26-4ff5b887505a",
   "metadata": {},
   "outputs": [
    {
     "data": {
      "text/plain": [
       "<filter at 0x7f54fc7017b0>"
      ]
     },
     "execution_count": 32,
     "metadata": {},
     "output_type": "execute_result"
    }
   ],
   "source": [
    "filter(lambda x : x>0 , l1)            # iska matlab code filter out ho gya hai buss isko print krana hai (list,tuple) mai"
   ]
  },
  {
   "cell_type": "code",
   "execution_count": 33,
   "id": "f84a718e-d3d7-4c1d-a4b4-3e27080cf4d8",
   "metadata": {},
   "outputs": [
    {
     "data": {
      "text/plain": [
       "(3, 23, 56, 10)"
      ]
     },
     "execution_count": 33,
     "metadata": {},
     "output_type": "execute_result"
    }
   ],
   "source": [
    "tuple(filter(lambda x : x>0 , l1))"
   ]
  },
  {
   "cell_type": "code",
   "execution_count": 34,
   "id": "2b40f93b-d432-4c99-87de-6937b3d20d2d",
   "metadata": {},
   "outputs": [
    {
     "ename": "SyntaxError",
     "evalue": "invalid syntax (192467292.py, line 1)",
     "output_type": "error",
     "traceback": [
      "\u001b[0;36m  Cell \u001b[0;32mIn[34], line 1\u001b[0;36m\u001b[0m\n\u001b[0;31m    dict{filter(lambda x : x>0 , l1)}              # filter dictionary mai print nhi krwata\u001b[0m\n\u001b[0m        ^\u001b[0m\n\u001b[0;31mSyntaxError\u001b[0m\u001b[0;31m:\u001b[0m invalid syntax\n"
     ]
    }
   ],
   "source": [
    "dict{filter(lambda x : x>0 , l1)}              # filter dictionary mai print nhi krwata"
   ]
  },
  {
   "cell_type": "code",
   "execution_count": null,
   "id": "dc6ea41c-ef96-4876-8d8f-6186253d5f35",
   "metadata": {},
   "outputs": [],
   "source": []
  },
  {
   "cell_type": "code",
   "execution_count": 35,
   "id": "6bd1fa0e-3790-40b9-8606-02980828d008",
   "metadata": {},
   "outputs": [],
   "source": [
    "l2 = [\"ankit\",\"kumar\",\"koli\",\"naam hai mera\"]"
   ]
  },
  {
   "cell_type": "code",
   "execution_count": 36,
   "id": "6fd658bf-d64b-465a-b0af-aa402184ab39",
   "metadata": {},
   "outputs": [
    {
     "data": {
      "text/plain": [
       "['ankit', 'kumar', 'koli']"
      ]
     },
     "execution_count": 36,
     "metadata": {},
     "output_type": "execute_result"
    }
   ],
   "source": [
    "list(filter(lambda x : len(x) < 6 , l2))"
   ]
  },
  {
   "cell_type": "code",
   "execution_count": null,
   "id": "2ba1aada-9fd8-423d-9116-fc3453b2be81",
   "metadata": {},
   "outputs": [],
   "source": []
  }
 ],
 "metadata": {
  "kernelspec": {
   "display_name": "Python 3 (ipykernel)",
   "language": "python",
   "name": "python3"
  },
  "language_info": {
   "codemirror_mode": {
    "name": "ipython",
    "version": 3
   },
   "file_extension": ".py",
   "mimetype": "text/x-python",
   "name": "python",
   "nbconvert_exporter": "python",
   "pygments_lexer": "ipython3",
   "version": "3.10.8"
  }
 },
 "nbformat": 4,
 "nbformat_minor": 5
}
