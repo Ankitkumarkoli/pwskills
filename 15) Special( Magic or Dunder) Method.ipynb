{
 "cells": [
  {
   "cell_type": "markdown",
   "id": "a04516ab-29f5-4beb-8b1e-2f176480cd7f",
   "metadata": {},
   "source": [
    "# Special ( Magic or Dunder ) Method\n",
    "\n",
    "# magic or Dunder function ko directly call nhi krte hai, python usko apne aap call kr leta hai"
   ]
  },
  {
   "cell_type": "code",
   "execution_count": 1,
   "id": "9c9e4bd3-822d-4372-9436-57a34c61472f",
   "metadata": {},
   "outputs": [
    {
     "data": {
      "text/plain": [
       "['__abs__',\n",
       " '__add__',\n",
       " '__and__',\n",
       " '__bool__',\n",
       " '__ceil__',\n",
       " '__class__',\n",
       " '__delattr__',\n",
       " '__dir__',\n",
       " '__divmod__',\n",
       " '__doc__',\n",
       " '__eq__',\n",
       " '__float__',\n",
       " '__floor__',\n",
       " '__floordiv__',\n",
       " '__format__',\n",
       " '__ge__',\n",
       " '__getattribute__',\n",
       " '__getnewargs__',\n",
       " '__gt__',\n",
       " '__hash__',\n",
       " '__index__',\n",
       " '__init__',\n",
       " '__init_subclass__',\n",
       " '__int__',\n",
       " '__invert__',\n",
       " '__le__',\n",
       " '__lshift__',\n",
       " '__lt__',\n",
       " '__mod__',\n",
       " '__mul__',\n",
       " '__ne__',\n",
       " '__neg__',\n",
       " '__new__',\n",
       " '__or__',\n",
       " '__pos__',\n",
       " '__pow__',\n",
       " '__radd__',\n",
       " '__rand__',\n",
       " '__rdivmod__',\n",
       " '__reduce__',\n",
       " '__reduce_ex__',\n",
       " '__repr__',\n",
       " '__rfloordiv__',\n",
       " '__rlshift__',\n",
       " '__rmod__',\n",
       " '__rmul__',\n",
       " '__ror__',\n",
       " '__round__',\n",
       " '__rpow__',\n",
       " '__rrshift__',\n",
       " '__rshift__',\n",
       " '__rsub__',\n",
       " '__rtruediv__',\n",
       " '__rxor__',\n",
       " '__setattr__',\n",
       " '__sizeof__',\n",
       " '__str__',\n",
       " '__sub__',\n",
       " '__subclasshook__',\n",
       " '__truediv__',\n",
       " '__trunc__',\n",
       " '__xor__',\n",
       " 'as_integer_ratio',\n",
       " 'bit_count',\n",
       " 'bit_length',\n",
       " 'conjugate',\n",
       " 'denominator',\n",
       " 'from_bytes',\n",
       " 'imag',\n",
       " 'numerator',\n",
       " 'real',\n",
       " 'to_bytes']"
      ]
     },
     "execution_count": 1,
     "metadata": {},
     "output_type": "execute_result"
    }
   ],
   "source": [
    "dir(int)"
   ]
  },
  {
   "cell_type": "code",
   "execution_count": null,
   "id": "66b3e3bf-716c-40bb-bc72-3bc1af91fecd",
   "metadata": {},
   "outputs": [],
   "source": []
  },
  {
   "cell_type": "code",
   "execution_count": 2,
   "id": "33d424eb-1d35-4b54-8161-2d4c574bb63f",
   "metadata": {},
   "outputs": [],
   "source": [
    "a = 100"
   ]
  },
  {
   "cell_type": "code",
   "execution_count": 4,
   "id": "cc44724a-307a-4dd0-9799-ec2ab62f56cf",
   "metadata": {},
   "outputs": [
    {
     "data": {
      "text/plain": [
       "110"
      ]
     },
     "execution_count": 4,
     "metadata": {},
     "output_type": "execute_result"
    }
   ],
   "source": [
    "a + 5"
   ]
  },
  {
   "cell_type": "code",
   "execution_count": 6,
   "id": "ae607740-b0f9-483c-87ff-1e700b0e536f",
   "metadata": {},
   "outputs": [
    {
     "data": {
      "text/plain": [
       "110"
      ]
     },
     "execution_count": 6,
     "metadata": {},
     "output_type": "execute_result"
    }
   ],
   "source": [
    "a.__add__(5)                     # Dunder or Magic method of addition"
   ]
  },
  {
   "cell_type": "code",
   "execution_count": null,
   "id": "71b7a2db-19f1-4acc-a28f-3c476d57277f",
   "metadata": {},
   "outputs": [],
   "source": []
  },
  {
   "cell_type": "code",
   "execution_count": 12,
   "id": "022faa36-94e9-438f-835d-2af655dfbe9c",
   "metadata": {},
   "outputs": [],
   "source": [
    "class pwskills :\n",
    "        \n",
    "    def __init__(self):\n",
    "       \n",
    "        self.mobile_number = 123456789"
   ]
  },
  {
   "cell_type": "code",
   "execution_count": 13,
   "id": "04fa9fc3-52da-4ec7-bf3c-951129aff8c3",
   "metadata": {},
   "outputs": [],
   "source": [
    "pw = pwskills()"
   ]
  },
  {
   "cell_type": "code",
   "execution_count": 14,
   "id": "9474a9e9-9d8a-4688-925e-4a0fa324288f",
   "metadata": {},
   "outputs": [
    {
     "data": {
      "text/plain": [
       "123456789"
      ]
     },
     "execution_count": 14,
     "metadata": {},
     "output_type": "execute_result"
    }
   ],
   "source": [
    "pw.mobile_number"
   ]
  },
  {
   "cell_type": "code",
   "execution_count": null,
   "id": "0220383c-5bdb-4bcb-a225-bbabe8ae4981",
   "metadata": {},
   "outputs": [],
   "source": []
  },
  {
   "cell_type": "code",
   "execution_count": 22,
   "id": "90c4ecb5-df37-4ab5-87a5-5ae7d8765275",
   "metadata": {},
   "outputs": [],
   "source": [
    "class pwskills1 :\n",
    "    \n",
    "    def __new__(cls):                        # (__new__) method hi help krta hai in terms of creating an instance or object for a class first  \n",
    "        print(\"mai (__new__) method pehle print hounga\")\n",
    "        \n",
    "    def __init__(self):\n",
    "        print(\"this is my init\")\n",
    "        \n",
    "        self.mobile_number = 123456789"
   ]
  },
  {
   "cell_type": "code",
   "execution_count": 23,
   "id": "1b95d37f-84d0-4d0b-b9b2-f57df80f0b21",
   "metadata": {},
   "outputs": [
    {
     "name": "stdout",
     "output_type": "stream",
     "text": [
      "mai (__new__) method pehle print hounga\n"
     ]
    }
   ],
   "source": [
    "pw = pwskills1()"
   ]
  },
  {
   "cell_type": "code",
   "execution_count": null,
   "id": "5cad084a-afdb-4212-bea0-48fdca6d78a7",
   "metadata": {},
   "outputs": [],
   "source": []
  },
  {
   "cell_type": "code",
   "execution_count": 26,
   "id": "5a0121a4-30d6-44e4-8386-37a0b5fa0ad2",
   "metadata": {},
   "outputs": [],
   "source": [
    "class pwskills2 :\n",
    "        \n",
    "    def __init__(self):\n",
    "       \n",
    "        self.mobile_number = 123456789"
   ]
  },
  {
   "cell_type": "code",
   "execution_count": 27,
   "id": "56f8284e-514c-4ccc-aa7d-e7263016d920",
   "metadata": {},
   "outputs": [],
   "source": [
    "pw = pwskills2()"
   ]
  },
  {
   "cell_type": "code",
   "execution_count": 28,
   "id": "96e990a8-af10-4f20-b1e0-036c2c4f5b40",
   "metadata": {},
   "outputs": [
    {
     "data": {
      "text/plain": [
       "<__main__.pwskills2 at 0x7f65e4494640>"
      ]
     },
     "execution_count": 28,
     "metadata": {},
     "output_type": "execute_result"
    }
   ],
   "source": [
    "pw"
   ]
  },
  {
   "cell_type": "code",
   "execution_count": 29,
   "id": "3862e273-46f7-4653-973e-af44a3549b46",
   "metadata": {},
   "outputs": [
    {
     "name": "stdout",
     "output_type": "stream",
     "text": [
      "<__main__.pwskills2 object at 0x7f65e4494640>\n"
     ]
    }
   ],
   "source": [
    "print(pw)"
   ]
  },
  {
   "cell_type": "code",
   "execution_count": 34,
   "id": "8b107732-1a5d-47b8-a0a8-15d9070c881a",
   "metadata": {},
   "outputs": [],
   "source": [
    "class pwskills2 :\n",
    "        \n",
    "    def __init__(self):\n",
    "       \n",
    "        self.mobile_number = 123456789\n",
    "        \n",
    "    def __str__(self):\n",
    "        return \"this is my Dunder call for str\""
   ]
  },
  {
   "cell_type": "code",
   "execution_count": 35,
   "id": "3da96ade-a47b-493c-8bbe-86e88d25ffc0",
   "metadata": {},
   "outputs": [],
   "source": [
    "pw = pwskills2()"
   ]
  },
  {
   "cell_type": "code",
   "execution_count": 36,
   "id": "f6d7ae59-e1dc-4bc3-9d84-5d0f47955d73",
   "metadata": {},
   "outputs": [
    {
     "data": {
      "text/plain": [
       "<__main__.pwskills2 at 0x7f65e426ba00>"
      ]
     },
     "execution_count": 36,
     "metadata": {},
     "output_type": "execute_result"
    }
   ],
   "source": [
    "pw"
   ]
  },
  {
   "cell_type": "code",
   "execution_count": 37,
   "id": "f7d69388-5d40-44f7-9ada-f878b4fb9335",
   "metadata": {},
   "outputs": [
    {
     "name": "stdout",
     "output_type": "stream",
     "text": [
      "this is my Dunder call for str\n"
     ]
    }
   ],
   "source": [
    "print(pw)"
   ]
  },
  {
   "cell_type": "code",
   "execution_count": null,
   "id": "9e13c338-bc56-4735-a2e9-bc27276aa1bf",
   "metadata": {},
   "outputs": [],
   "source": []
  }
 ],
 "metadata": {
  "kernelspec": {
   "display_name": "Python 3 (ipykernel)",
   "language": "python",
   "name": "python3"
  },
  "language_info": {
   "codemirror_mode": {
    "name": "ipython",
    "version": 3
   },
   "file_extension": ".py",
   "mimetype": "text/x-python",
   "name": "python",
   "nbconvert_exporter": "python",
   "pygments_lexer": "ipython3",
   "version": "3.10.8"
  }
 },
 "nbformat": 4,
 "nbformat_minor": 5
}
