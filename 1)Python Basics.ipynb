{
 "cells": [
  {
   "cell_type": "markdown",
   "id": "a6a96320-f704-455d-ba83-e5cba0f0c6b3",
   "metadata": {},
   "source": [
    "Python Basics"
   ]
  },
  {
   "cell_type": "code",
   "execution_count": 2,
   "id": "f6b2f4df-9684-454d-99b0-cd5d6bf95245",
   "metadata": {},
   "outputs": [
    {
     "data": {
      "text/plain": [
       "2"
      ]
     },
     "execution_count": 2,
     "metadata": {},
     "output_type": "execute_result"
    }
   ],
   "source": [
    "1+1"
   ]
  },
  {
   "cell_type": "code",
   "execution_count": 3,
   "id": "b7bfce48-1073-4fe4-9c0b-d8760d0f003f",
   "metadata": {},
   "outputs": [
    {
     "data": {
      "text/plain": [
       "16"
      ]
     },
     "execution_count": 3,
     "metadata": {},
     "output_type": "execute_result"
    }
   ],
   "source": [
    "2*8"
   ]
  },
  {
   "cell_type": "code",
   "execution_count": 4,
   "id": "cb973cb6-3726-41e5-89fa-b5c249985a2e",
   "metadata": {},
   "outputs": [],
   "source": [
    "a = 10"
   ]
  },
  {
   "cell_type": "code",
   "execution_count": 5,
   "id": "ebfe2f4a-0d84-4789-b375-1e82e3f272f7",
   "metadata": {},
   "outputs": [
    {
     "data": {
      "text/plain": [
       "10"
      ]
     },
     "execution_count": 5,
     "metadata": {},
     "output_type": "execute_result"
    }
   ],
   "source": [
    "a"
   ]
  },
  {
   "cell_type": "code",
   "execution_count": 6,
   "id": "dea0b57e-ef7f-4cf9-bbff-92d493a9f144",
   "metadata": {},
   "outputs": [],
   "source": [
    "sudh = 20"
   ]
  },
  {
   "cell_type": "code",
   "execution_count": 7,
   "id": "049db08c-8728-460d-891a-930f8d16b354",
   "metadata": {
    "tags": []
   },
   "outputs": [
    {
     "data": {
      "text/plain": [
       "20"
      ]
     },
     "execution_count": 7,
     "metadata": {},
     "output_type": "execute_result"
    }
   ],
   "source": [
    "sudh"
   ]
  },
  {
   "cell_type": "code",
   "execution_count": 8,
   "id": "ccec4ae5-0237-48e0-bc14-27a86d0e3336",
   "metadata": {},
   "outputs": [
    {
     "data": {
      "text/plain": [
       "30"
      ]
     },
     "execution_count": 8,
     "metadata": {},
     "output_type": "execute_result"
    }
   ],
   "source": [
    "a + sudh"
   ]
  },
  {
   "cell_type": "markdown",
   "id": "075f4e97-decb-4069-a90c-c2a6aeab588b",
   "metadata": {},
   "source": [
    "python is a self type language mtlb python khud samjh jata hai ki konsa variable hai and python is a case sensitive language"
   ]
  },
  {
   "cell_type": "code",
   "execution_count": 9,
   "id": "0ae170de-6d89-4e53-9d87-ad0c68da40ba",
   "metadata": {},
   "outputs": [
    {
     "data": {
      "text/plain": [
       "int"
      ]
     },
     "execution_count": 9,
     "metadata": {},
     "output_type": "execute_result"
    }
   ],
   "source": [
    "type(a)"
   ]
  },
  {
   "cell_type": "code",
   "execution_count": 10,
   "id": "f4d5b683-e304-4acc-8948-f48867c9f78d",
   "metadata": {},
   "outputs": [
    {
     "data": {
      "text/plain": [
       "int"
      ]
     },
     "execution_count": 10,
     "metadata": {},
     "output_type": "execute_result"
    }
   ],
   "source": [
    "type(sudh)"
   ]
  },
  {
   "cell_type": "code",
   "execution_count": 11,
   "id": "b17009d6-fa47-4256-8732-0339e013312a",
   "metadata": {},
   "outputs": [],
   "source": [
    "b = 2.09"
   ]
  },
  {
   "cell_type": "code",
   "execution_count": 12,
   "id": "e6da974d-b5ea-4c92-9046-0bcbb0d7b045",
   "metadata": {},
   "outputs": [
    {
     "data": {
      "text/plain": [
       "float"
      ]
     },
     "execution_count": 12,
     "metadata": {},
     "output_type": "execute_result"
    }
   ],
   "source": [
    "type(b)"
   ]
  },
  {
   "cell_type": "code",
   "execution_count": 15,
   "id": "17dce1ac-1d7a-4a35-9abb-286496ff1e74",
   "metadata": {},
   "outputs": [],
   "source": [
    "c = 67.0445"
   ]
  },
  {
   "cell_type": "code",
   "execution_count": 16,
   "id": "87468c7f-eba4-4ee6-83a0-16f20c9eefca",
   "metadata": {},
   "outputs": [
    {
     "data": {
      "text/plain": [
       "float"
      ]
     },
     "execution_count": 16,
     "metadata": {},
     "output_type": "execute_result"
    }
   ],
   "source": [
    "type(c)"
   ]
  },
  {
   "cell_type": "code",
   "execution_count": 17,
   "id": "76b72eca-b75d-42e4-86a2-eae6dab41f48",
   "metadata": {},
   "outputs": [],
   "source": [
    "s = \"Hi Ankit how are you i am python\""
   ]
  },
  {
   "cell_type": "code",
   "execution_count": 18,
   "id": "9600069a-9db0-40c2-8f29-f6ede4a8431c",
   "metadata": {},
   "outputs": [
    {
     "data": {
      "text/plain": [
       "str"
      ]
     },
     "execution_count": 18,
     "metadata": {},
     "output_type": "execute_result"
    }
   ],
   "source": [
    "type(s)"
   ]
  },
  {
   "cell_type": "code",
   "execution_count": 20,
   "id": "4061a236-039d-4fca-9e42-019fa94465ab",
   "metadata": {},
   "outputs": [],
   "source": [
    "n = True"
   ]
  },
  {
   "cell_type": "code",
   "execution_count": 21,
   "id": "a9bb9cc5-cf87-49cf-b5c4-ddd02db1de91",
   "metadata": {},
   "outputs": [
    {
     "data": {
      "text/plain": [
       "bool"
      ]
     },
     "execution_count": 21,
     "metadata": {},
     "output_type": "execute_result"
    }
   ],
   "source": [
    "type(n)"
   ]
  },
  {
   "cell_type": "code",
   "execution_count": 22,
   "id": "86b91924-0a9e-4d7d-b298-2966f6681675",
   "metadata": {},
   "outputs": [],
   "source": [
    "j = False"
   ]
  },
  {
   "cell_type": "code",
   "execution_count": 23,
   "id": "4bad4113-5a31-4ccb-b0f3-86c9c9e9a4c5",
   "metadata": {},
   "outputs": [
    {
     "data": {
      "text/plain": [
       "bool"
      ]
     },
     "execution_count": 23,
     "metadata": {},
     "output_type": "execute_result"
    }
   ],
   "source": [
    "type(j)"
   ]
  },
  {
   "cell_type": "code",
   "execution_count": 24,
   "id": "9b51b26d-7c64-48c3-ae5a-99f35025c46a",
   "metadata": {},
   "outputs": [
    {
     "data": {
      "text/plain": [
       "1"
      ]
     },
     "execution_count": 24,
     "metadata": {},
     "output_type": "execute_result"
    }
   ],
   "source": [
    "n+j"
   ]
  },
  {
   "cell_type": "raw",
   "id": "f78185d6-0d43-47cd-ac1c-8c29d3e3f5d4",
   "metadata": {},
   "source": [
    "because True=1 and False=0 \n",
    "n+j\n",
    "1+0=1"
   ]
  },
  {
   "cell_type": "code",
   "execution_count": 25,
   "id": "b37f3a60-9caf-4e67-adee-0d99aab792d5",
   "metadata": {},
   "outputs": [
    {
     "data": {
      "text/plain": [
       "0"
      ]
     },
     "execution_count": 25,
     "metadata": {},
     "output_type": "execute_result"
    }
   ],
   "source": [
    "True*False"
   ]
  },
  {
   "cell_type": "code",
   "execution_count": 26,
   "id": "5d57a39d-c936-4d7e-9a41-e40418cc29e6",
   "metadata": {},
   "outputs": [
    {
     "ename": "ZeroDivisionError",
     "evalue": "division by zero",
     "output_type": "error",
     "traceback": [
      "\u001b[0;31m---------------------------------------------------------------------------\u001b[0m",
      "\u001b[0;31mZeroDivisionError\u001b[0m                         Traceback (most recent call last)",
      "Cell \u001b[0;32mIn[26], line 1\u001b[0m\n\u001b[0;32m----> 1\u001b[0m \u001b[38;5;28;43;01mTrue\u001b[39;49;00m\u001b[38;5;241;43m/\u001b[39;49m\u001b[38;5;28;43;01mFalse\u001b[39;49;00m\n",
      "\u001b[0;31mZeroDivisionError\u001b[0m: division by zero"
     ]
    }
   ],
   "source": [
    "True/False"
   ]
  },
  {
   "cell_type": "code",
   "execution_count": 27,
   "id": "1b0818b8-a819-491f-8c37-afd4e4e06396",
   "metadata": {},
   "outputs": [
    {
     "ename": "ZeroDivisionError",
     "evalue": "division by zero",
     "output_type": "error",
     "traceback": [
      "\u001b[0;31m---------------------------------------------------------------------------\u001b[0m",
      "\u001b[0;31mZeroDivisionError\u001b[0m                         Traceback (most recent call last)",
      "Cell \u001b[0;32mIn[27], line 1\u001b[0m\n\u001b[0;32m----> 1\u001b[0m \u001b[38;5;241;43m1\u001b[39;49m\u001b[38;5;241;43m/\u001b[39;49m\u001b[38;5;241;43m0\u001b[39;49m\n",
      "\u001b[0;31mZeroDivisionError\u001b[0m: division by zero"
     ]
    }
   ],
   "source": [
    "1/0"
   ]
  },
  {
   "cell_type": "code",
   "execution_count": 28,
   "id": "fc31ff2d-96c7-470e-a343-d74fe185e845",
   "metadata": {},
   "outputs": [],
   "source": [
    "h = 5+8j"
   ]
  },
  {
   "cell_type": "code",
   "execution_count": 29,
   "id": "0d026516-3e6e-4eb0-b624-8bcdba98d739",
   "metadata": {},
   "outputs": [
    {
     "data": {
      "text/plain": [
       "complex"
      ]
     },
     "execution_count": 29,
     "metadata": {},
     "output_type": "execute_result"
    }
   ],
   "source": [
    "type(h)"
   ]
  },
  {
   "cell_type": "code",
   "execution_count": 30,
   "id": "29815f14-6f26-468c-9956-6e857fab3d4d",
   "metadata": {},
   "outputs": [
    {
     "data": {
      "text/plain": [
       "5.0"
      ]
     },
     "execution_count": 30,
     "metadata": {},
     "output_type": "execute_result"
    }
   ],
   "source": [
    "h.real"
   ]
  },
  {
   "cell_type": "code",
   "execution_count": 31,
   "id": "83531b84-58e9-4439-b8bc-db389761866c",
   "metadata": {},
   "outputs": [
    {
     "data": {
      "text/plain": [
       "8.0"
      ]
     },
     "execution_count": 31,
     "metadata": {},
     "output_type": "execute_result"
    }
   ],
   "source": [
    "h.imag"
   ]
  },
  {
   "cell_type": "code",
   "execution_count": 32,
   "id": "25fb318d-6e2f-40c3-a2b2-e73a593f6a22",
   "metadata": {},
   "outputs": [
    {
     "data": {
      "text/plain": [
       "<function complex.conjugate()>"
      ]
     },
     "execution_count": 32,
     "metadata": {},
     "output_type": "execute_result"
    }
   ],
   "source": [
    "h.conjugate"
   ]
  },
  {
   "cell_type": "code",
   "execution_count": 33,
   "id": "729d4d07-3aab-49ac-a7d6-785c1c3be935",
   "metadata": {},
   "outputs": [
    {
     "data": {
      "text/plain": [
       "(5+8j)"
      ]
     },
     "execution_count": 33,
     "metadata": {},
     "output_type": "execute_result"
    }
   ],
   "source": [
    "h"
   ]
  },
  {
   "cell_type": "code",
   "execution_count": 35,
   "id": "156f3aaf-0f01-42d4-b5af-649a69b60f38",
   "metadata": {},
   "outputs": [
    {
     "name": "stdout",
     "output_type": "stream",
     "text": [
      "Hi ankit,I am python\n"
     ]
    }
   ],
   "source": [
    "print('Hi ankit,I am python')"
   ]
  },
  {
   "cell_type": "code",
   "execution_count": 36,
   "id": "44fb9ad6-c908-4fb9-98dd-dabce51ac42d",
   "metadata": {},
   "outputs": [],
   "source": [
    "s = 'pwskills'"
   ]
  },
  {
   "cell_type": "code",
   "execution_count": 37,
   "id": "81846b5a-9ba6-414b-a1c8-fc0470cc2f99",
   "metadata": {},
   "outputs": [
    {
     "data": {
      "text/plain": [
       "str"
      ]
     },
     "execution_count": 37,
     "metadata": {},
     "output_type": "execute_result"
    }
   ],
   "source": [
    "type(s)"
   ]
  },
  {
   "cell_type": "code",
   "execution_count": 64,
   "id": "536620b3-2dbd-4188-802a-060a08f4812c",
   "metadata": {},
   "outputs": [
    {
     "data": {
      "text/plain": [
       "'p'"
      ]
     },
     "execution_count": 64,
     "metadata": {},
     "output_type": "execute_result"
    }
   ],
   "source": [
    "s[0]"
   ]
  },
  {
   "cell_type": "code",
   "execution_count": 39,
   "id": "f60785e0-44a5-48b7-bef3-82c0df41006e",
   "metadata": {},
   "outputs": [
    {
     "data": {
      "text/plain": [
       "'l'"
      ]
     },
     "execution_count": 39,
     "metadata": {},
     "output_type": "execute_result"
    }
   ],
   "source": [
    "s[5]"
   ]
  },
  {
   "cell_type": "code",
   "execution_count": 40,
   "id": "004435b1-0085-45bc-87ee-84441718f216",
   "metadata": {},
   "outputs": [
    {
     "data": {
      "text/plain": [
       "'l'"
      ]
     },
     "execution_count": 40,
     "metadata": {},
     "output_type": "execute_result"
    }
   ],
   "source": [
    "s[6]"
   ]
  },
  {
   "cell_type": "code",
   "execution_count": 41,
   "id": "d70012e0-90fa-4617-927d-df5033d5595a",
   "metadata": {},
   "outputs": [
    {
     "data": {
      "text/plain": [
       "'s'"
      ]
     },
     "execution_count": 41,
     "metadata": {},
     "output_type": "execute_result"
    }
   ],
   "source": [
    "s[7]"
   ]
  },
  {
   "cell_type": "code",
   "execution_count": 42,
   "id": "17fe3117-4f38-47f1-bcc9-c3eb1535395f",
   "metadata": {},
   "outputs": [
    {
     "ename": "IndexError",
     "evalue": "string index out of range",
     "output_type": "error",
     "traceback": [
      "\u001b[0;31m---------------------------------------------------------------------------\u001b[0m",
      "\u001b[0;31mIndexError\u001b[0m                                Traceback (most recent call last)",
      "Cell \u001b[0;32mIn[42], line 1\u001b[0m\n\u001b[0;32m----> 1\u001b[0m \u001b[43ms\u001b[49m\u001b[43m[\u001b[49m\u001b[38;5;241;43m8\u001b[39;49m\u001b[43m]\u001b[49m\n",
      "\u001b[0;31mIndexError\u001b[0m: string index out of range"
     ]
    }
   ],
   "source": [
    "s[8]"
   ]
  },
  {
   "cell_type": "code",
   "execution_count": 44,
   "id": "29d1ee7f-55eb-402f-9cc2-4e99b53ed0a2",
   "metadata": {},
   "outputs": [
    {
     "data": {
      "text/plain": [
       "'pwski'"
      ]
     },
     "execution_count": 44,
     "metadata": {},
     "output_type": "execute_result"
    }
   ],
   "source": [
    "s[0:5]"
   ]
  },
  {
   "cell_type": "code",
   "execution_count": 45,
   "id": "1b7b52a9-be38-4d5a-be24-4b0125a5ddc4",
   "metadata": {},
   "outputs": [
    {
     "data": {
      "text/plain": [
       "'s'"
      ]
     },
     "execution_count": 45,
     "metadata": {},
     "output_type": "execute_result"
    }
   ],
   "source": [
    "s[-6]"
   ]
  },
  {
   "cell_type": "code",
   "execution_count": 46,
   "id": "12f04a04-2739-455f-bbfe-8b7d867d5d5f",
   "metadata": {},
   "outputs": [
    {
     "data": {
      "text/plain": [
       "'p'"
      ]
     },
     "execution_count": 46,
     "metadata": {},
     "output_type": "execute_result"
    }
   ],
   "source": [
    "s[-8]"
   ]
  },
  {
   "cell_type": "code",
   "execution_count": 47,
   "id": "d876e7cb-a3fa-4a08-a5a5-89e77ee7791b",
   "metadata": {},
   "outputs": [
    {
     "data": {
      "text/plain": [
       "'pw'"
      ]
     },
     "execution_count": 47,
     "metadata": {},
     "output_type": "execute_result"
    }
   ],
   "source": [
    "s[0:2]"
   ]
  },
  {
   "cell_type": "code",
   "execution_count": 48,
   "id": "a72b7479-6a2d-4877-a3e8-84f3f8689c17",
   "metadata": {},
   "outputs": [
    {
     "data": {
      "text/plain": [
       "'pws'"
      ]
     },
     "execution_count": 48,
     "metadata": {},
     "output_type": "execute_result"
    }
   ],
   "source": [
    "s[0:3]"
   ]
  },
  {
   "cell_type": "code",
   "execution_count": 49,
   "id": "c7b89bca-a5a3-4e2a-8895-2d6a239a70ce",
   "metadata": {},
   "outputs": [
    {
     "data": {
      "text/plain": [
       "'pwsk'"
      ]
     },
     "execution_count": 49,
     "metadata": {},
     "output_type": "execute_result"
    }
   ],
   "source": [
    "s[0:4]"
   ]
  },
  {
   "cell_type": "code",
   "execution_count": 51,
   "id": "896281bb-af2c-4c38-b6a8-044a6785bc99",
   "metadata": {},
   "outputs": [
    {
     "data": {
      "text/plain": [
       "'psil'"
      ]
     },
     "execution_count": 51,
     "metadata": {},
     "output_type": "execute_result"
    }
   ],
   "source": [
    "s[0:8:2]"
   ]
  },
  {
   "cell_type": "code",
   "execution_count": 52,
   "id": "a78134c4-8cda-4590-afb9-177cf065a6d4",
   "metadata": {},
   "outputs": [
    {
     "data": {
      "text/plain": [
       "'pkl'"
      ]
     },
     "execution_count": 52,
     "metadata": {},
     "output_type": "execute_result"
    }
   ],
   "source": [
    "s[0:7:3]"
   ]
  },
  {
   "cell_type": "code",
   "execution_count": 53,
   "id": "868ad22d-84b6-4e02-bc8b-d93a824fc7d5",
   "metadata": {},
   "outputs": [
    {
     "data": {
      "text/plain": [
       "'psil'"
      ]
     },
     "execution_count": 53,
     "metadata": {},
     "output_type": "execute_result"
    }
   ],
   "source": [
    "s[::2]"
   ]
  },
  {
   "cell_type": "code",
   "execution_count": 54,
   "id": "1d57f0a3-0058-4139-985f-b9bc92e4bed1",
   "metadata": {},
   "outputs": [
    {
     "data": {
      "text/plain": [
       "'sil'"
      ]
     },
     "execution_count": 54,
     "metadata": {},
     "output_type": "execute_result"
    }
   ],
   "source": [
    "s[2::2]"
   ]
  },
  {
   "cell_type": "code",
   "execution_count": 55,
   "id": "b71f769e-0066-4be9-877e-661b97c3ca7e",
   "metadata": {},
   "outputs": [
    {
     "data": {
      "text/plain": [
       "'skills'"
      ]
     },
     "execution_count": 55,
     "metadata": {},
     "output_type": "execute_result"
    }
   ],
   "source": [
    "s[2::1]"
   ]
  },
  {
   "cell_type": "code",
   "execution_count": 56,
   "id": "17a18ccf-bf97-4605-8bc3-53e521000660",
   "metadata": {},
   "outputs": [
    {
     "data": {
      "text/plain": [
       "'sllikswp'"
      ]
     },
     "execution_count": 56,
     "metadata": {},
     "output_type": "execute_result"
    }
   ],
   "source": [
    "s[::-1]"
   ]
  },
  {
   "cell_type": "code",
   "execution_count": 57,
   "id": "a8dfab57-5f67-499f-9878-e5c4fcdc196d",
   "metadata": {},
   "outputs": [
    {
     "data": {
      "text/plain": [
       "'s'"
      ]
     },
     "execution_count": 57,
     "metadata": {},
     "output_type": "execute_result"
    }
   ],
   "source": [
    "s[-1::]"
   ]
  },
  {
   "cell_type": "code",
   "execution_count": 58,
   "id": "30441a1a-6795-4362-bde5-3c9e0d10ef6c",
   "metadata": {},
   "outputs": [
    {
     "data": {
      "text/plain": [
       "''"
      ]
     },
     "execution_count": 58,
     "metadata": {},
     "output_type": "execute_result"
    }
   ],
   "source": [
    "s[2:7:-1]"
   ]
  },
  {
   "cell_type": "code",
   "execution_count": 59,
   "id": "9eec413e-f650-401d-bc97-6b88f2e5b4a1",
   "metadata": {},
   "outputs": [
    {
     "data": {
      "text/plain": [
       "''"
      ]
     },
     "execution_count": 59,
     "metadata": {},
     "output_type": "execute_result"
    }
   ],
   "source": [
    "s[8:0]"
   ]
  },
  {
   "cell_type": "code",
   "execution_count": 60,
   "id": "a1ac9984-e874-4009-bb7b-426c0b1a9490",
   "metadata": {},
   "outputs": [
    {
     "data": {
      "text/plain": [
       "'slliksw'"
      ]
     },
     "execution_count": 60,
     "metadata": {},
     "output_type": "execute_result"
    }
   ],
   "source": [
    "s[8:0:-1]"
   ]
  },
  {
   "cell_type": "code",
   "execution_count": 61,
   "id": "33dcd6a3-eee4-4a87-8baa-69a1f20b99f3",
   "metadata": {},
   "outputs": [
    {
     "data": {
      "text/plain": [
       "''"
      ]
     },
     "execution_count": 61,
     "metadata": {},
     "output_type": "execute_result"
    }
   ],
   "source": [
    "s[-2:-8:1]"
   ]
  },
  {
   "cell_type": "code",
   "execution_count": 62,
   "id": "4492963d-cbd8-4376-a7b5-315f2e1518d4",
   "metadata": {},
   "outputs": [
    {
     "data": {
      "text/plain": [
       "'lliksw'"
      ]
     },
     "execution_count": 62,
     "metadata": {},
     "output_type": "execute_result"
    }
   ],
   "source": [
    "s[-2:-8:-1]"
   ]
  },
  {
   "cell_type": "code",
   "execution_count": 63,
   "id": "fdfbc7f1-ef6b-4c74-a17f-0811ca5b76af",
   "metadata": {},
   "outputs": [
    {
     "data": {
      "text/plain": [
       "'llikswp'"
      ]
     },
     "execution_count": 63,
     "metadata": {},
     "output_type": "execute_result"
    }
   ],
   "source": [
    "s[-2::-1]"
   ]
  },
  {
   "cell_type": "markdown",
   "id": "24f12441-82c3-4e9c-a76b-02004f347ecf",
   "metadata": {},
   "source": [
    "Index Slicing of pwskills"
   ]
  },
  {
   "cell_type": "code",
   "execution_count": 65,
   "id": "461ca332-a387-44db-b44f-ee06c83441a7",
   "metadata": {},
   "outputs": [
    {
     "data": {
      "text/plain": [
       "'pwskills'"
      ]
     },
     "execution_count": 65,
     "metadata": {},
     "output_type": "execute_result"
    }
   ],
   "source": [
    "s[::]"
   ]
  },
  {
   "cell_type": "code",
   "execution_count": 70,
   "id": "884351f3-13d5-4553-8e29-64b3b845fbb6",
   "metadata": {},
   "outputs": [
    {
     "data": {
      "text/plain": [
       "'sllikswp'"
      ]
     },
     "execution_count": 70,
     "metadata": {},
     "output_type": "execute_result"
    }
   ],
   "source": [
    "s[:-90:-1]"
   ]
  },
  {
   "cell_type": "code",
   "execution_count": 71,
   "id": "c5ded965-e58d-4e6a-ad29-42cf8cd93cbe",
   "metadata": {},
   "outputs": [
    {
     "data": {
      "text/plain": [
       "''"
      ]
     },
     "execution_count": 71,
     "metadata": {},
     "output_type": "execute_result"
    }
   ],
   "source": [
    "s[:-90:1]"
   ]
  },
  {
   "cell_type": "code",
   "execution_count": 72,
   "id": "8f43c7d5-438c-49e2-b4c2-2d568603ae30",
   "metadata": {},
   "outputs": [
    {
     "ename": "IndexError",
     "evalue": "string index out of range",
     "output_type": "error",
     "traceback": [
      "\u001b[0;31m---------------------------------------------------------------------------\u001b[0m",
      "\u001b[0;31mIndexError\u001b[0m                                Traceback (most recent call last)",
      "Cell \u001b[0;32mIn[72], line 1\u001b[0m\n\u001b[0;32m----> 1\u001b[0m \u001b[43ms\u001b[49m\u001b[43m[\u001b[49m\u001b[38;5;241;43m90\u001b[39;49m\u001b[43m]\u001b[49m\n",
      "\u001b[0;31mIndexError\u001b[0m: string index out of range"
     ]
    }
   ],
   "source": [
    "s[90]"
   ]
  },
  {
   "cell_type": "code",
   "execution_count": 73,
   "id": "031a6b3b-d96d-4d3d-9fa7-e98cf4a6a294",
   "metadata": {},
   "outputs": [],
   "source": [
    "c = 200"
   ]
  },
  {
   "cell_type": "code",
   "execution_count": 74,
   "id": "7a644a39-4b50-4bec-9cb8-4be236c4040f",
   "metadata": {},
   "outputs": [
    {
     "name": "stdout",
     "output_type": "stream",
     "text": [
      "200\n"
     ]
    }
   ],
   "source": [
    "print(c)"
   ]
  },
  {
   "cell_type": "code",
   "execution_count": 75,
   "id": "36c6644a-2f63-439d-81e8-1c8d9df43867",
   "metadata": {},
   "outputs": [],
   "source": [
    "c = 200"
   ]
  },
  {
   "cell_type": "code",
   "execution_count": 76,
   "id": "90a04e01-80e8-46e9-80f0-00bbaaec0057",
   "metadata": {},
   "outputs": [],
   "source": [
    "c = \"200\""
   ]
  },
  {
   "cell_type": "code",
   "execution_count": 77,
   "id": "e987f8a7-1dfb-4529-9ecf-176c278f5544",
   "metadata": {},
   "outputs": [
    {
     "data": {
      "text/plain": [
       "'20'"
      ]
     },
     "execution_count": 77,
     "metadata": {},
     "output_type": "execute_result"
    }
   ],
   "source": [
    "c[:2]"
   ]
  },
  {
   "cell_type": "code",
   "execution_count": 78,
   "id": "9a9e5746-02fb-4219-98b6-9d2e6fec7046",
   "metadata": {},
   "outputs": [],
   "source": [
    "ddlj = \"BajrangDal\""
   ]
  },
  {
   "cell_type": "code",
   "execution_count": 79,
   "id": "9fc1b70e-b2d6-4f42-9884-652ef32924a9",
   "metadata": {},
   "outputs": [
    {
     "data": {
      "text/plain": [
       "10"
      ]
     },
     "execution_count": 79,
     "metadata": {},
     "output_type": "execute_result"
    }
   ],
   "source": [
    "len(ddlj)"
   ]
  },
  {
   "cell_type": "code",
   "execution_count": 80,
   "id": "26cc3b66-e6df-4eb3-9f0f-7b482b6e27f7",
   "metadata": {},
   "outputs": [
    {
     "data": {
      "text/plain": [
       "-1"
      ]
     },
     "execution_count": 80,
     "metadata": {},
     "output_type": "execute_result"
    }
   ],
   "source": [
    "ddlj.find(\"s\")"
   ]
  },
  {
   "cell_type": "code",
   "execution_count": 81,
   "id": "3071cd71-117b-473e-970b-12a56a9fcb40",
   "metadata": {},
   "outputs": [
    {
     "data": {
      "text/plain": [
       "9"
      ]
     },
     "execution_count": 81,
     "metadata": {},
     "output_type": "execute_result"
    }
   ],
   "source": [
    "ddlj.find(\"l\")"
   ]
  },
  {
   "cell_type": "code",
   "execution_count": 82,
   "id": "30c5f774-5e71-45f1-9b63-9e1d0ba4be1c",
   "metadata": {},
   "outputs": [
    {
     "data": {
      "text/plain": [
       "3"
      ]
     },
     "execution_count": 82,
     "metadata": {},
     "output_type": "execute_result"
    }
   ],
   "source": [
    "ddlj.find(\"r\")"
   ]
  },
  {
   "cell_type": "code",
   "execution_count": 83,
   "id": "010d1746-5631-4e52-84e5-dc85aa3e12e5",
   "metadata": {},
   "outputs": [
    {
     "data": {
      "text/plain": [
       "7"
      ]
     },
     "execution_count": 83,
     "metadata": {},
     "output_type": "execute_result"
    }
   ],
   "source": [
    "ddlj.find(\"Dal\")"
   ]
  },
  {
   "cell_type": "code",
   "execution_count": 84,
   "id": "6872e6e2-a0b0-4e97-bdad-82de8d56f4f2",
   "metadata": {},
   "outputs": [
    {
     "data": {
      "text/plain": [
       "-1"
      ]
     },
     "execution_count": 84,
     "metadata": {},
     "output_type": "execute_result"
    }
   ],
   "source": [
    "ddlj.find(\"sD\")"
   ]
  },
  {
   "cell_type": "code",
   "execution_count": 86,
   "id": "0596975c-003b-493a-ad61-b4b1b542ee63",
   "metadata": {},
   "outputs": [
    {
     "data": {
      "text/plain": [
       "3"
      ]
     },
     "execution_count": 86,
     "metadata": {},
     "output_type": "execute_result"
    }
   ],
   "source": [
    "ddlj.count(\"a\")"
   ]
  },
  {
   "cell_type": "code",
   "execution_count": 87,
   "id": "1811d870-c06e-42da-9360-6a8e9aad9344",
   "metadata": {},
   "outputs": [
    {
     "data": {
      "text/plain": [
       "0"
      ]
     },
     "execution_count": 87,
     "metadata": {},
     "output_type": "execute_result"
    }
   ],
   "source": [
    "ddlj.count(\"z\")"
   ]
  },
  {
   "cell_type": "code",
   "execution_count": 88,
   "id": "c32a2a74-5eea-4362-9e59-624732519790",
   "metadata": {},
   "outputs": [
    {
     "data": {
      "text/plain": [
       "'BAJRANGDAL'"
      ]
     },
     "execution_count": 88,
     "metadata": {},
     "output_type": "execute_result"
    }
   ],
   "source": [
    "ddlj.upper()"
   ]
  },
  {
   "cell_type": "code",
   "execution_count": 89,
   "id": "5993419a-da85-403a-82e8-1d8c4f6623ef",
   "metadata": {},
   "outputs": [
    {
     "data": {
      "text/plain": [
       "'bajrangdal'"
      ]
     },
     "execution_count": 89,
     "metadata": {},
     "output_type": "execute_result"
    }
   ],
   "source": [
    "ddlj.lower()"
   ]
  },
  {
   "cell_type": "code",
   "execution_count": 90,
   "id": "7f847ad0-ce30-4f48-b2cc-a44f9fb51a7c",
   "metadata": {},
   "outputs": [
    {
     "data": {
      "text/plain": [
       "'BajrangDal'"
      ]
     },
     "execution_count": 90,
     "metadata": {},
     "output_type": "execute_result"
    }
   ],
   "source": [
    "ddlj"
   ]
  },
  {
   "cell_type": "code",
   "execution_count": 91,
   "id": "1963a26d-da46-4776-b397-05de7dc46c09",
   "metadata": {},
   "outputs": [
    {
     "data": {
      "text/plain": [
       "'Bajrangdal'"
      ]
     },
     "execution_count": 91,
     "metadata": {},
     "output_type": "execute_result"
    }
   ],
   "source": [
    "ddlj.title()"
   ]
  },
  {
   "cell_type": "code",
   "execution_count": 93,
   "id": "312ed3a4-613b-4903-a8d6-71b74fc4caea",
   "metadata": {},
   "outputs": [],
   "source": [
    "wah = \"kya haal hai smart boy\""
   ]
  },
  {
   "cell_type": "code",
   "execution_count": 94,
   "id": "feb7dbdd-cf54-4144-9359-6a9d7e518214",
   "metadata": {},
   "outputs": [
    {
     "data": {
      "text/plain": [
       "'Kya haal hai smart boy'"
      ]
     },
     "execution_count": 94,
     "metadata": {},
     "output_type": "execute_result"
    }
   ],
   "source": [
    "wah.capitalize()"
   ]
  },
  {
   "cell_type": "code",
   "execution_count": 95,
   "id": "c9dfca71-3f4b-4e0d-84c6-0e8826f8506b",
   "metadata": {},
   "outputs": [
    {
     "data": {
      "text/plain": [
       "'Kya Haal Hai Smart Boy'"
      ]
     },
     "execution_count": 95,
     "metadata": {},
     "output_type": "execute_result"
    }
   ],
   "source": [
    "wah.title()"
   ]
  },
  {
   "cell_type": "code",
   "execution_count": 96,
   "id": "a16193cf-2098-4c6f-8ba5-2f4f608a9f32",
   "metadata": {},
   "outputs": [
    {
     "data": {
      "text/plain": [
       "'kya haal hai smart boy2'"
      ]
     },
     "execution_count": 96,
     "metadata": {},
     "output_type": "execute_result"
    }
   ],
   "source": [
    "wah+\"2\""
   ]
  },
  {
   "cell_type": "code",
   "execution_count": 97,
   "id": "dfde00c8-e9f6-49d3-a66d-f847239aa048",
   "metadata": {},
   "outputs": [
    {
     "data": {
      "text/plain": [
       "'kya haal hai smart boy 3'"
      ]
     },
     "execution_count": 97,
     "metadata": {},
     "output_type": "execute_result"
    }
   ],
   "source": [
    "wah + \" 3\""
   ]
  },
  {
   "cell_type": "code",
   "execution_count": 98,
   "id": "a9442ea5-8fd0-496c-8f63-a603c12a0c72",
   "metadata": {},
   "outputs": [
    {
     "data": {
      "text/plain": [
       "'BajrangDalBajrangDalBajrangDal'"
      ]
     },
     "execution_count": 98,
     "metadata": {},
     "output_type": "execute_result"
    }
   ],
   "source": [
    "ddlj*3"
   ]
  },
  {
   "cell_type": "code",
   "execution_count": 100,
   "id": "9077f7ac-cdc5-4b2d-b7e4-d2cbd66a043e",
   "metadata": {},
   "outputs": [
    {
     "ename": "TypeError",
     "evalue": "unsupported operand type(s) for /: 'str' and 'int'",
     "output_type": "error",
     "traceback": [
      "\u001b[0;31m---------------------------------------------------------------------------\u001b[0m",
      "\u001b[0;31mTypeError\u001b[0m                                 Traceback (most recent call last)",
      "Cell \u001b[0;32mIn[100], line 1\u001b[0m\n\u001b[0;32m----> 1\u001b[0m \u001b[43mddlj\u001b[49m\u001b[38;5;241;43m/\u001b[39;49m\u001b[38;5;241;43m4\u001b[39;49m\n",
      "\u001b[0;31mTypeError\u001b[0m: unsupported operand type(s) for /: 'str' and 'int'"
     ]
    }
   ],
   "source": [
    "ddlj/4"
   ]
  },
  {
   "cell_type": "code",
   "execution_count": 101,
   "id": "afccad96-eecf-4677-9fc7-5acac87b6c84",
   "metadata": {},
   "outputs": [
    {
     "data": {
      "text/plain": [
       "'wah bete moj kardi and bade harami hore ho'"
      ]
     },
     "execution_count": 101,
     "metadata": {},
     "output_type": "execute_result"
    }
   ],
   "source": [
    "\"wah bete moj kardi and bade harami hore ho\""
   ]
  },
  {
   "cell_type": "code",
   "execution_count": 103,
   "id": "d42df8ec-c49f-445e-99cb-299cf9457083",
   "metadata": {},
   "outputs": [
    {
     "ename": "SyntaxError",
     "evalue": "unterminated string literal (detected at line 1) (2921166327.py, line 1)",
     "output_type": "error",
     "traceback": [
      "\u001b[0;36m  Cell \u001b[0;32mIn[103], line 1\u001b[0;36m\u001b[0m\n\u001b[0;31m    'don't say wah bete moj kardi'\u001b[0m\n\u001b[0m                                 ^\u001b[0m\n\u001b[0;31mSyntaxError\u001b[0m\u001b[0;31m:\u001b[0m unterminated string literal (detected at line 1)\n"
     ]
    }
   ],
   "source": [
    "'don't say wah bete moj kardi'"
   ]
  },
  {
   "cell_type": "code",
   "execution_count": 104,
   "id": "d4d50a74-f078-450b-83f2-be123d2b07a7",
   "metadata": {},
   "outputs": [],
   "source": [
    "## aaj meri pehli class hai data science master ki"
   ]
  },
  {
   "cell_type": "markdown",
   "id": "0ab00306-3d92-4496-a3ba-b49ef6650877",
   "metadata": {},
   "source": [
    "List"
   ]
  },
  {
   "cell_type": "code",
   "execution_count": null,
   "id": "971e5ab2-7cf2-43cc-8008-9b4a949265ab",
   "metadata": {},
   "outputs": [],
   "source": []
  }
 ],
 "metadata": {
  "kernelspec": {
   "display_name": "Python 3 (ipykernel)",
   "language": "python",
   "name": "python3"
  },
  "language_info": {
   "codemirror_mode": {
    "name": "ipython",
    "version": 3
   },
   "file_extension": ".py",
   "mimetype": "text/x-python",
   "name": "python",
   "nbconvert_exporter": "python",
   "pygments_lexer": "ipython3",
   "version": "3.10.8"
  }
 },
 "nbformat": 4,
 "nbformat_minor": 5
}
