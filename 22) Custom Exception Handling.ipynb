{
 "cells": [
  {
   "cell_type": "markdown",
   "id": "524f2379-e8e0-4901-b026-5f87ed2b6fdb",
   "metadata": {},
   "source": [
    "# Custom Exception Handling"
   ]
  },
  {
   "cell_type": "code",
   "execution_count": 1,
   "id": "7c76b96f-1bad-45f3-8d21-a98cede94bd1",
   "metadata": {},
   "outputs": [
    {
     "name": "stdout",
     "output_type": "stream",
     "text": [
      "ankit\n"
     ]
    }
   ],
   "source": [
    "print(\"ankit\")"
   ]
  },
  {
   "cell_type": "code",
   "execution_count": 2,
   "id": "ed957b1a-d85f-4f28-a212-7fd49d56a9e0",
   "metadata": {},
   "outputs": [
    {
     "name": "stdin",
     "output_type": "stream",
     "text": [
      "enter your age:  98\n"
     ]
    }
   ],
   "source": [
    "age = int(input(\"enter your age: \"))"
   ]
  },
  {
   "cell_type": "code",
   "execution_count": 5,
   "id": "5d424053-2ef8-4dcd-b346-71ed20da2f6b",
   "metadata": {},
   "outputs": [
    {
     "name": "stdin",
     "output_type": "stream",
     "text": [
      "enter your age:  -99\n"
     ]
    }
   ],
   "source": [
    "age = int(input(\"enter your age: \"))"
   ]
  },
  {
   "cell_type": "code",
   "execution_count": null,
   "id": "1174dadb-eede-4ca1-a12c-8b7a137989dc",
   "metadata": {},
   "outputs": [],
   "source": []
  },
  {
   "cell_type": "code",
   "execution_count": 27,
   "id": "37aba5f0-f5ca-45c3-9fb4-d854676b289c",
   "metadata": {},
   "outputs": [],
   "source": [
    "class valid_age(Exception):\n",
    "    \n",
    "    def __init__(self,msg):\n",
    "        self.msg = msg"
   ]
  },
  {
   "cell_type": "code",
   "execution_count": 28,
   "id": "a0acc189-42b4-47b2-97e8-efc25d4916d8",
   "metadata": {},
   "outputs": [],
   "source": [
    "def validaetage(age):\n",
    "    if age < 0 :\n",
    "        raise validateage(\"entered age is negative\")\n",
    "    \n",
    "    elif age > 200 :\n",
    "        raise validateage(\"enter age is very very high\")\n",
    "    \n",
    "    else :\n",
    "        print(\"age is valid\")\n",
    "        "
   ]
  },
  {
   "cell_type": "code",
   "execution_count": 29,
   "id": "808e20a3-1e96-4961-bc61-78e2cd63ed70",
   "metadata": {},
   "outputs": [
    {
     "name": "stdin",
     "output_type": "stream",
     "text": [
      "enter your age:  99\n"
     ]
    },
    {
     "name": "stdout",
     "output_type": "stream",
     "text": [
      "age is valid\n"
     ]
    }
   ],
   "source": [
    "try:\n",
    "    age = int(input(\"enter your age: \"))\n",
    "    validaetage(age)\n",
    "    \n",
    "except valid_age as e :\n",
    "    print(e)"
   ]
  },
  {
   "cell_type": "code",
   "execution_count": null,
   "id": "94933c32-0ca1-495a-a35d-6792b7c0243a",
   "metadata": {},
   "outputs": [],
   "source": []
  },
  {
   "cell_type": "code",
   "execution_count": null,
   "id": "6b85893e-043c-4c9d-a102-fe43e147e1db",
   "metadata": {},
   "outputs": [],
   "source": []
  },
  {
   "cell_type": "code",
   "execution_count": 52,
   "id": "442de201-bd0b-4753-a1be-081de5e3ca4f",
   "metadata": {},
   "outputs": [],
   "source": [
    "class crush(Exception):\n",
    "    \n",
    "    def __init__(self,feeling):\n",
    "        self.feeling = feeling"
   ]
  },
  {
   "cell_type": "code",
   "execution_count": 53,
   "id": "6b66ad27-7a53-42a9-8881-dc33fb484441",
   "metadata": {},
   "outputs": [],
   "source": [
    "def propose(love):\n",
    "    if love < 0:\n",
    "        raise crush(\"feeling is not real\")\n",
    "        \n",
    "    elif love <= 60:\n",
    "        raise crush(\"feeling is real\")\n",
    "        \n",
    "    else:\n",
    "        print(\"she like's me too\")"
   ]
  },
  {
   "cell_type": "code",
   "execution_count": 56,
   "id": "972df4d4-9ced-49d7-902a-8392225e9ee2",
   "metadata": {},
   "outputs": [
    {
     "name": "stdin",
     "output_type": "stream",
     "text": [
      "share your feelings:  -2\n"
     ]
    },
    {
     "name": "stdout",
     "output_type": "stream",
     "text": [
      "feeling is not real\n"
     ]
    }
   ],
   "source": [
    "try:\n",
    "    love = int(input(\"share your feelings: \"))\n",
    "    propose(love)\n",
    "    \n",
    "except crush as e :\n",
    "    print(e)"
   ]
  },
  {
   "cell_type": "code",
   "execution_count": null,
   "id": "315af722-7e14-439b-af7d-3f5e28d400b7",
   "metadata": {},
   "outputs": [],
   "source": []
  }
 ],
 "metadata": {
  "kernelspec": {
   "display_name": "Python 3 (ipykernel)",
   "language": "python",
   "name": "python3"
  },
  "language_info": {
   "codemirror_mode": {
    "name": "ipython",
    "version": 3
   },
   "file_extension": ".py",
   "mimetype": "text/x-python",
   "name": "python",
   "nbconvert_exporter": "python",
   "pygments_lexer": "ipython3",
   "version": "3.10.8"
  }
 },
 "nbformat": 4,
 "nbformat_minor": 5
}
