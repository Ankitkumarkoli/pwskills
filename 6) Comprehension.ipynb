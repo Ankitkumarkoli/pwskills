{
 "cells": [
  {
   "cell_type": "markdown",
   "id": "5bfaacb5-e91e-4dcf-8cde-ff9935102d8d",
   "metadata": {},
   "source": [
    "# List comprehension (comprehension one line of code likhne ke lea use hota hai , bina forloop likhe ) "
   ]
  },
  {
   "cell_type": "code",
   "execution_count": 1,
   "id": "63e42ce8-9b67-4e8c-9df9-8d69db4d5984",
   "metadata": {},
   "outputs": [],
   "source": [
    "a = [1,2,3,4,5]"
   ]
  },
  {
   "cell_type": "code",
   "execution_count": 7,
   "id": "85703b97-f62d-453e-9d23-da0ec1cfa040",
   "metadata": {},
   "outputs": [
    {
     "name": "stdout",
     "output_type": "stream",
     "text": [
      "1\n",
      "2\n",
      "3\n",
      "4\n",
      "5\n"
     ]
    }
   ],
   "source": [
    "for i in a:\n",
    "    print(i)"
   ]
  },
  {
   "cell_type": "code",
   "execution_count": 3,
   "id": "115a7162-9c18-48fb-b005-55ad13bb66ad",
   "metadata": {},
   "outputs": [
    {
     "data": {
      "text/plain": [
       "[2, 4, 6, 8, 10]"
      ]
     },
     "execution_count": 3,
     "metadata": {},
     "output_type": "execute_result"
    }
   ],
   "source": [
    "[i*2 for i in a]"
   ]
  },
  {
   "cell_type": "code",
   "execution_count": 8,
   "id": "b5fa0596-0757-482c-92e9-a7d8dc4db132",
   "metadata": {},
   "outputs": [
    {
     "data": {
      "text/plain": [
       "[1, 4, 9, 16, 25]"
      ]
     },
     "execution_count": 8,
     "metadata": {},
     "output_type": "execute_result"
    }
   ],
   "source": [
    "[i**2 for i in a]"
   ]
  },
  {
   "cell_type": "code",
   "execution_count": 9,
   "id": "4cb191b8-811c-44de-9da8-1e152e4a3a12",
   "metadata": {},
   "outputs": [],
   "source": [
    "q = [1,2,3,4,5,6,7,8,9,10]"
   ]
  },
  {
   "cell_type": "code",
   "execution_count": 13,
   "id": "f89d8b1b-3437-47aa-a709-1e26db734677",
   "metadata": {},
   "outputs": [
    {
     "data": {
      "text/plain": [
       "[2, 4, 6, 8, 10]"
      ]
     },
     "execution_count": 13,
     "metadata": {},
     "output_type": "execute_result"
    }
   ],
   "source": [
    "[i for i in q if i % 2 == 0 ]"
   ]
  },
  {
   "cell_type": "code",
   "execution_count": null,
   "id": "1510d49f-e8c6-4668-818b-d00cb81624f7",
   "metadata": {},
   "outputs": [],
   "source": []
  },
  {
   "cell_type": "code",
   "execution_count": 14,
   "id": "b13b00c7-be2b-440d-b937-bec3449fcf8b",
   "metadata": {},
   "outputs": [],
   "source": [
    "w1 = [\"ankit\",\"kumar\",\"koli\",\"naam\",\"hai\",\"mera\"]"
   ]
  },
  {
   "cell_type": "code",
   "execution_count": 18,
   "id": "61110a83-b9cb-456d-9e3f-de3759395051",
   "metadata": {},
   "outputs": [
    {
     "data": {
      "text/plain": [
       "['ANKIT', 'KUMAR', 'KOLI', 'NAAM', 'HAI', 'MERA']"
      ]
     },
     "execution_count": 18,
     "metadata": {},
     "output_type": "execute_result"
    }
   ],
   "source": [
    "[i.upper() for i in w1]"
   ]
  },
  {
   "cell_type": "code",
   "execution_count": null,
   "id": "6ef8ca4b-1a22-4177-bd17-86bf190349bb",
   "metadata": {},
   "outputs": [],
   "source": []
  },
  {
   "cell_type": "markdown",
   "id": "af459615-c417-4ba5-a39c-ab6a9ed97c5e",
   "metadata": {},
   "source": [
    "# Tuple comprehension (same as list comprehension)"
   ]
  },
  {
   "cell_type": "code",
   "execution_count": 2,
   "id": "d79ce248-ccea-4614-9459-f473db7e5a26",
   "metadata": {},
   "outputs": [],
   "source": [
    "s = (1,2,3,4,5,6,7) "
   ]
  },
  {
   "cell_type": "code",
   "execution_count": 3,
   "id": "5e6a9a1a-f3fe-4444-9273-7591d40155f1",
   "metadata": {},
   "outputs": [
    {
     "data": {
      "text/plain": [
       "<generator object <genexpr> at 0x7f5f7b399770>"
      ]
     },
     "execution_count": 3,
     "metadata": {},
     "output_type": "execute_result"
    }
   ],
   "source": [
    "(i for i in s)"
   ]
  },
  {
   "cell_type": "code",
   "execution_count": 4,
   "id": "317cd931-9610-4cdb-91be-6e2a0da0ab9d",
   "metadata": {},
   "outputs": [
    {
     "data": {
      "text/plain": [
       "[1, 2, 3, 4, 5, 6, 7]"
      ]
     },
     "execution_count": 4,
     "metadata": {},
     "output_type": "execute_result"
    }
   ],
   "source": [
    "list(i for i in s)"
   ]
  },
  {
   "cell_type": "code",
   "execution_count": null,
   "id": "d86d5b20-7438-42c5-8c09-308e0fc2cf72",
   "metadata": {},
   "outputs": [],
   "source": []
  },
  {
   "cell_type": "code",
   "execution_count": null,
   "id": "29a4d8e7-184b-4cdc-a7ab-0a7648670456",
   "metadata": {},
   "outputs": [],
   "source": []
  },
  {
   "cell_type": "markdown",
   "id": "6576c827-021f-46fd-9e72-b2dd1f0d0f16",
   "metadata": {},
   "source": [
    "# Dictionary comprehension"
   ]
  },
  {
   "cell_type": "code",
   "execution_count": 11,
   "id": "88aef5ad-29b9-47af-847c-d1965dfeb445",
   "metadata": {},
   "outputs": [],
   "source": [
    "d = {\"name\":2,\"middlename\":3,\"lastname\":4}"
   ]
  },
  {
   "cell_type": "code",
   "execution_count": 12,
   "id": "0bc57c96-c0eb-4a03-b90f-ea9e2b5721c3",
   "metadata": {},
   "outputs": [
    {
     "data": {
      "text/plain": [
       "dict_items([('name', 2), ('middlename', 3), ('lastname', 4)])"
      ]
     },
     "execution_count": 12,
     "metadata": {},
     "output_type": "execute_result"
    }
   ],
   "source": [
    "d.items()"
   ]
  },
  {
   "cell_type": "code",
   "execution_count": 13,
   "id": "3a44dafc-6d3c-4273-8c40-2d7e3a572cca",
   "metadata": {},
   "outputs": [
    {
     "data": {
      "text/plain": [
       "{'name': 4, 'middlename': 9, 'lastname': 16}"
      ]
     },
     "execution_count": 13,
     "metadata": {},
     "output_type": "execute_result"
    }
   ],
   "source": [
    "{k:v**2 for k , v in d.items()}"
   ]
  },
  {
   "cell_type": "code",
   "execution_count": null,
   "id": "4b73bb69-2607-4cf6-a0c3-fdd21c3bb7a6",
   "metadata": {},
   "outputs": [],
   "source": []
  },
  {
   "cell_type": "code",
   "execution_count": 14,
   "id": "e314e8ff-e191-4bd7-9904-ef5755ba8974",
   "metadata": {},
   "outputs": [],
   "source": [
    "e = {\"key\":\"ankit\",\"key1\":\"kumar\",\"key2\":\"koli\"}"
   ]
  },
  {
   "cell_type": "code",
   "execution_count": 18,
   "id": "7e2b8ec2-ff02-461e-b2a0-b9506d9db5fc",
   "metadata": {},
   "outputs": [
    {
     "data": {
      "text/plain": [
       "dict_items([('key', 'ankit'), ('key1', 'kumar'), ('key2', 'koli')])"
      ]
     },
     "execution_count": 18,
     "metadata": {},
     "output_type": "execute_result"
    }
   ],
   "source": [
    "e.items()"
   ]
  },
  {
   "cell_type": "code",
   "execution_count": 21,
   "id": "2b8dbd39-2ab3-45b0-8c76-7a51086d5e65",
   "metadata": {},
   "outputs": [
    {
     "data": {
      "text/plain": [
       "{'key': 'ankitA', 'key1': 'kumarA', 'key2': 'koliA'}"
      ]
     },
     "execution_count": 21,
     "metadata": {},
     "output_type": "execute_result"
    }
   ],
   "source": [
    "{k:v+\"A\" for k , v in e.items()}"
   ]
  },
  {
   "cell_type": "code",
   "execution_count": 22,
   "id": "e96ebf65-7015-4822-889d-a6f04c7fd8b6",
   "metadata": {},
   "outputs": [],
   "source": [
    "w = {\"key1\":1,\"key2\":2,\"key3\":3,\"key4\":5}"
   ]
  },
  {
   "cell_type": "code",
   "execution_count": 24,
   "id": "860fc8e0-4bee-413b-af0f-caac90ded8cb",
   "metadata": {},
   "outputs": [
    {
     "data": {
      "text/plain": [
       "{'key2': 2, 'key3': 3, 'key4': 5}"
      ]
     },
     "execution_count": 24,
     "metadata": {},
     "output_type": "execute_result"
    }
   ],
   "source": [
    "{k:v for k , v in w.items() if v>1}"
   ]
  },
  {
   "cell_type": "code",
   "execution_count": null,
   "id": "5dee2f1f-20f2-4a60-a63a-f50e52cf46e1",
   "metadata": {},
   "outputs": [],
   "source": []
  },
  {
   "cell_type": "code",
   "execution_count": null,
   "id": "15599126-b237-40e8-a07c-d15fc92539eb",
   "metadata": {},
   "outputs": [],
   "source": []
  },
  {
   "cell_type": "code",
   "execution_count": null,
   "id": "0dd925d8-c379-4eb5-94b0-4312e4c64e51",
   "metadata": {},
   "outputs": [],
   "source": []
  },
  {
   "cell_type": "code",
   "execution_count": 6,
   "id": "8f042b8b-09a3-47d5-9d8c-edacef376e14",
   "metadata": {},
   "outputs": [],
   "source": [
    "a = \"pwskills\""
   ]
  },
  {
   "cell_type": "code",
   "execution_count": 9,
   "id": "a7f7df5e-8962-42d6-8d7e-8a98440cf9b6",
   "metadata": {},
   "outputs": [
    {
     "data": {
      "text/plain": [
       "['p', 'w', 's', 'k', 'i', 'l', 'l', 's']"
      ]
     },
     "execution_count": 9,
     "metadata": {},
     "output_type": "execute_result"
    }
   ],
   "source": [
    "[i for i in a]"
   ]
  },
  {
   "cell_type": "code",
   "execution_count": null,
   "id": "92d01cff-30c6-47d2-9a82-bb541f174f03",
   "metadata": {},
   "outputs": [],
   "source": []
  }
 ],
 "metadata": {
  "kernelspec": {
   "display_name": "Python 3 (ipykernel)",
   "language": "python",
   "name": "python3"
  },
  "language_info": {
   "codemirror_mode": {
    "name": "ipython",
    "version": 3
   },
   "file_extension": ".py",
   "mimetype": "text/x-python",
   "name": "python",
   "nbconvert_exporter": "python",
   "pygments_lexer": "ipython3",
   "version": "3.10.8"
  }
 },
 "nbformat": 4,
 "nbformat_minor": 5
}
