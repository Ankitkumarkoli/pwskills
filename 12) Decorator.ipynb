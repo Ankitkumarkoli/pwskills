{
 "cells": [
  {
   "cell_type": "markdown",
   "id": "c4b8e7fa-c4fb-4843-aa7e-5385e5364b05",
   "metadata": {},
   "source": [
    "# Decorator\n",
    "# decorator ka naam hum kuch bhi rakh sakte hai"
   ]
  },
  {
   "cell_type": "code",
   "execution_count": 4,
   "id": "bac1ad81-f4f3-4d65-ba3b-db20a448c8df",
   "metadata": {},
   "outputs": [],
   "source": [
    "#Decorator ki help se hum function ki khubsurti ko increase kr sakte hai\n",
    "# isko hum time complexity and space complexity ko find krne ke lea bhi use krte hai"
   ]
  },
  {
   "cell_type": "code",
   "execution_count": 5,
   "id": "515fac63-c061-4a3e-a451-dcaab4cd5d36",
   "metadata": {},
   "outputs": [],
   "source": [
    "def test():\n",
    "    print(\"this is my function to test\")"
   ]
  },
  {
   "cell_type": "code",
   "execution_count": 6,
   "id": "48941650-ce99-434f-8853-43630bcdf733",
   "metadata": {},
   "outputs": [
    {
     "name": "stdout",
     "output_type": "stream",
     "text": [
      "this is my function to test\n"
     ]
    }
   ],
   "source": [
    "test()"
   ]
  },
  {
   "cell_type": "code",
   "execution_count": 7,
   "id": "d4bd41a0-bd59-43b4-9bdb-0895e4e8a240",
   "metadata": {},
   "outputs": [],
   "source": [
    "def test1():\n",
    "    print(\"this is the start of my function\")\n",
    "    print(\"this is my function to test\")\n",
    "    print(2+3)\n",
    "    print(\"this is the end of my function\")"
   ]
  },
  {
   "cell_type": "code",
   "execution_count": 8,
   "id": "28f66466-ea46-468b-abb8-7c45fcf944f0",
   "metadata": {},
   "outputs": [
    {
     "name": "stdout",
     "output_type": "stream",
     "text": [
      "this is the start of my function\n",
      "this is my function to test\n",
      "5\n",
      "this is the end of my function\n"
     ]
    }
   ],
   "source": [
    "test1()"
   ]
  },
  {
   "cell_type": "code",
   "execution_count": 10,
   "id": "108bed55-5226-4790-9915-42313315c71b",
   "metadata": {},
   "outputs": [],
   "source": [
    "# jo cheez baar baar function mai call ho rahi hai usse hum decorator ki help se ek baar mai call kr sakte hai"
   ]
  },
  {
   "cell_type": "code",
   "execution_count": 12,
   "id": "71248b9c-a586-4026-b06d-cb429441df8f",
   "metadata": {},
   "outputs": [],
   "source": [
    "def deco(func):\n",
    "    def inner_dec():\n",
    "        print(\"this is the start of my function\")\n",
    "        func()\n",
    "        print(\"this is the end of my function\")\n",
    "        \n",
    "    return inner_dec"
   ]
  },
  {
   "cell_type": "code",
   "execution_count": 13,
   "id": "10e4254e-21bb-4b22-803f-0a958d6b2143",
   "metadata": {},
   "outputs": [],
   "source": [
    "@deco\n",
    "def test2():\n",
    "    print(4+5)\n"
   ]
  },
  {
   "cell_type": "code",
   "execution_count": 15,
   "id": "e747722a-a8e9-4293-84c8-a219df3d6e4f",
   "metadata": {},
   "outputs": [
    {
     "name": "stdout",
     "output_type": "stream",
     "text": [
      "this is the start of my function\n",
      "9\n",
      "this is the end of my function\n"
     ]
    }
   ],
   "source": [
    "test2()"
   ]
  },
  {
   "cell_type": "code",
   "execution_count": null,
   "id": "d4d6924c-94de-4af1-8d6c-479f8fdb98f8",
   "metadata": {},
   "outputs": [],
   "source": []
  },
  {
   "cell_type": "code",
   "execution_count": 17,
   "id": "23c17a71-c808-4961-ad39-dff121a3c8cb",
   "metadata": {},
   "outputs": [],
   "source": [
    "import time\n",
    "\n",
    "def timer_test(func):\n",
    "    def timer_test_inner():\n",
    "        start = time.time()\n",
    "        func()\n",
    "        end = time.time()\n",
    "        print(end - start)\n",
    "        \n",
    "    return timer_test_inner\n",
    "    "
   ]
  },
  {
   "cell_type": "code",
   "execution_count": 18,
   "id": "697547c4-3b43-4374-a0dc-96067f421163",
   "metadata": {},
   "outputs": [],
   "source": [
    "def test3():\n",
    "    print(22 + 23)"
   ]
  },
  {
   "cell_type": "code",
   "execution_count": 19,
   "id": "2965f488-bf72-4cd1-bed9-7f5f3582d8eb",
   "metadata": {},
   "outputs": [
    {
     "name": "stdout",
     "output_type": "stream",
     "text": [
      "45\n"
     ]
    }
   ],
   "source": [
    "test3()"
   ]
  },
  {
   "cell_type": "code",
   "execution_count": 20,
   "id": "01877833-5816-417b-8a32-57f0e5fa1113",
   "metadata": {},
   "outputs": [],
   "source": [
    "@timer_test\n",
    "def test3():\n",
    "    print(22 + 23)"
   ]
  },
  {
   "cell_type": "code",
   "execution_count": 21,
   "id": "5e07e01f-4aeb-4ccc-9c88-63d3dcf5a3d4",
   "metadata": {},
   "outputs": [
    {
     "name": "stdout",
     "output_type": "stream",
     "text": [
      "45\n",
      "4.553794860839844e-05\n"
     ]
    }
   ],
   "source": [
    "test3()"
   ]
  },
  {
   "cell_type": "code",
   "execution_count": null,
   "id": "598e365d-8556-4db1-a7e5-83d2380578a3",
   "metadata": {},
   "outputs": [],
   "source": []
  },
  {
   "cell_type": "code",
   "execution_count": 23,
   "id": "0b6bdedb-597d-4c14-b733-b21c1eceb4fb",
   "metadata": {},
   "outputs": [],
   "source": [
    "@timer_test\n",
    "def test4():\n",
    "    for i in range(50000):\n",
    "        pass"
   ]
  },
  {
   "cell_type": "code",
   "execution_count": 24,
   "id": "e383184b-9bef-4745-943f-d99410593039",
   "metadata": {},
   "outputs": [
    {
     "name": "stdout",
     "output_type": "stream",
     "text": [
      "0.0009827613830566406\n"
     ]
    }
   ],
   "source": [
    "test4()"
   ]
  },
  {
   "cell_type": "code",
   "execution_count": 25,
   "id": "4a1116a4-d87e-4bc5-96d3-3e4bbbbb8f62",
   "metadata": {},
   "outputs": [],
   "source": [
    "@timer_test\n",
    "def test5():\n",
    "    print(\"hello ankit\")"
   ]
  },
  {
   "cell_type": "code",
   "execution_count": 26,
   "id": "4c7ba216-9a7c-4b9b-a880-90d4866150b8",
   "metadata": {},
   "outputs": [
    {
     "name": "stdout",
     "output_type": "stream",
     "text": [
      "hello ankit\n",
      "4.696846008300781e-05\n"
     ]
    }
   ],
   "source": [
    "test5()"
   ]
  },
  {
   "cell_type": "code",
   "execution_count": 27,
   "id": "c4148ad0-edc9-4480-a79f-cbe3470333c1",
   "metadata": {},
   "outputs": [],
   "source": [
    "@timer_test\n",
    "def test6():\n",
    "    print(\"Iss code ko run hone mai kitna time lag raha hai\")"
   ]
  },
  {
   "cell_type": "code",
   "execution_count": 28,
   "id": "97c757c5-39b3-43ad-b65c-4a9f4f97d38f",
   "metadata": {},
   "outputs": [
    {
     "name": "stdout",
     "output_type": "stream",
     "text": [
      "Iss code ko run hone mai kitna time lag raha hai\n",
      "6.67572021484375e-05\n"
     ]
    }
   ],
   "source": [
    "test6()"
   ]
  },
  {
   "cell_type": "code",
   "execution_count": null,
   "id": "3ee69e49-3344-41a7-bf4e-9d5a777f05bf",
   "metadata": {},
   "outputs": [],
   "source": []
  },
  {
   "cell_type": "code",
   "execution_count": 29,
   "id": "2936ffc9-c661-40b8-bad4-5d6643236092",
   "metadata": {},
   "outputs": [],
   "source": [
    "def crush(func):\n",
    "    def heart_feeling():\n",
    "        print(\"I have a strong crush on you\")\n",
    "        func()\n",
    "        print(\"I want to tell my feeling in front of you\")\n",
    "        \n",
    "    return heart_feeling()"
   ]
  },
  {
   "cell_type": "code",
   "execution_count": 31,
   "id": "d2ab8df8-6b39-4a07-b461-f823d30cf7f4",
   "metadata": {},
   "outputs": [
    {
     "name": "stdout",
     "output_type": "stream",
     "text": [
      "I have a strong crush on you\n",
      "I like you chestha\n",
      "I want to tell my feeling in front of you\n"
     ]
    }
   ],
   "source": [
    "@crush\n",
    "def ankit():\n",
    "    print(\"I like you chestha\")"
   ]
  },
  {
   "cell_type": "code",
   "execution_count": 33,
   "id": "be99c5d6-e119-4b53-b954-63451b8f086b",
   "metadata": {},
   "outputs": [
    {
     "name": "stdout",
     "output_type": "stream",
     "text": [
      "I have a strong crush on you\n",
      "I have a crush on you from past 10 years\n",
      "I want to tell my feeling in front of you\n"
     ]
    }
   ],
   "source": [
    "@crush\n",
    "def AKK():\n",
    "    print(\"I have a crush on you from past 10 years\")"
   ]
  },
  {
   "cell_type": "code",
   "execution_count": 35,
   "id": "eb142a40-6076-4d0b-87c9-16d65b311087",
   "metadata": {},
   "outputs": [
    {
     "name": "stdout",
     "output_type": "stream",
     "text": [
      "I have a strong crush on you\n",
      "I regret life time because in school i unable to express my feeling in front of you\n",
      "I want to tell my feeling in front of you\n"
     ]
    }
   ],
   "source": [
    "@crush\n",
    "def koli():\n",
    "    print(\"I regret life time because in school i unable to express my feeling in front of you\")"
   ]
  },
  {
   "cell_type": "code",
   "execution_count": 36,
   "id": "604df2c4-fe19-4ada-94c6-8b582d8b157f",
   "metadata": {},
   "outputs": [
    {
     "name": "stdout",
     "output_type": "stream",
     "text": [
      "I have a strong crush on you\n",
      "I am very happy whenever i see you in any time\n",
      "I want to tell my feeling in front of you\n"
     ]
    }
   ],
   "source": [
    "@crush\n",
    "def ankitkumar():\n",
    "    print(\"I am very happy whenever i see you in any time\")"
   ]
  },
  {
   "cell_type": "code",
   "execution_count": 37,
   "id": "ed9e8697-ed98-4fe8-86ee-f6f3baab3e72",
   "metadata": {},
   "outputs": [
    {
     "name": "stdout",
     "output_type": "stream",
     "text": [
      "I have a strong crush on you\n",
      "but i am happy because you are the first person ever to be the reason of happiness in school days\n",
      "I want to tell my feeling in front of you\n"
     ]
    }
   ],
   "source": [
    "@crush\n",
    "def ankitkumaarkoli():\n",
    "    print(\"but i am happy because you are the first person ever to be the reason of happiness in school days\")"
   ]
  },
  {
   "cell_type": "code",
   "execution_count": 38,
   "id": "e7ca88aa-647d-4601-b710-5f381b1dbd97",
   "metadata": {},
   "outputs": [
    {
     "name": "stdout",
     "output_type": "stream",
     "text": [
      "I have a strong crush on you\n",
      "par ab kya jab chidiya chugg gae kheet\n",
      "I want to tell my feeling in front of you\n"
     ]
    }
   ],
   "source": [
    "@crush\n",
    "def kumsrkoli():\n",
    "    print(\"par ab kya jab chidiya chugg gae kheet\")"
   ]
  },
  {
   "cell_type": "code",
   "execution_count": null,
   "id": "ce94e3d6-59a7-4098-ab23-579872ee0c1b",
   "metadata": {},
   "outputs": [],
   "source": []
  }
 ],
 "metadata": {
  "kernelspec": {
   "display_name": "Python 3 (ipykernel)",
   "language": "python",
   "name": "python3"
  },
  "language_info": {
   "codemirror_mode": {
    "name": "ipython",
    "version": 3
   },
   "file_extension": ".py",
   "mimetype": "text/x-python",
   "name": "python",
   "nbconvert_exporter": "python",
   "pygments_lexer": "ipython3",
   "version": "3.10.8"
  }
 },
 "nbformat": 4,
 "nbformat_minor": 5
}
