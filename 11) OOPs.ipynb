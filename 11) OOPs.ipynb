{
 "cells": [
  {
   "cell_type": "markdown",
   "id": "82322340-4105-4fde-86ea-3a5e83be547c",
   "metadata": {},
   "source": [
    "# OOPs (object oriented programming)"
   ]
  },
  {
   "cell_type": "markdown",
   "id": "a10d44d2-5470-45b0-a447-9e611223c890",
   "metadata": {},
   "source": [
    "# class is a skeleton , classification or blueprint of real world entity but not specific to a real world entity.\n",
    "# object is a real world entity and object is also known as variable or instance."
   ]
  },
  {
   "cell_type": "code",
   "execution_count": 1,
   "id": "31014f80-31fd-4830-9472-b42d72571ba3",
   "metadata": {},
   "outputs": [],
   "source": [
    " a = 1"
   ]
  },
  {
   "cell_type": "code",
   "execution_count": 2,
   "id": "fbb2b5ed-86f4-4136-81fc-b76fb0081eab",
   "metadata": {},
   "outputs": [
    {
     "data": {
      "text/plain": [
       "int"
      ]
     },
     "execution_count": 2,
     "metadata": {},
     "output_type": "execute_result"
    }
   ],
   "source": [
    "type(a)"
   ]
  },
  {
   "cell_type": "code",
   "execution_count": 3,
   "id": "c963aa2f-0558-4303-b5a7-43b865304b47",
   "metadata": {},
   "outputs": [
    {
     "data": {
      "text/plain": [
       "str"
      ]
     },
     "execution_count": 3,
     "metadata": {},
     "output_type": "execute_result"
    }
   ],
   "source": [
    "type(\"pwskills\")"
   ]
  },
  {
   "cell_type": "code",
   "execution_count": 4,
   "id": "9f75899c-8de2-43c5-80a9-dd0a46605d04",
   "metadata": {},
   "outputs": [
    {
     "name": "stdout",
     "output_type": "stream",
     "text": [
      "<class 'int'>\n"
     ]
    }
   ],
   "source": [
    "print(type(a))"
   ]
  },
  {
   "cell_type": "code",
   "execution_count": 5,
   "id": "d839cb3b-ebb7-4952-ba83-2be56ce96604",
   "metadata": {},
   "outputs": [
    {
     "name": "stdout",
     "output_type": "stream",
     "text": [
      "<class 'str'>\n"
     ]
    }
   ],
   "source": [
    "print(type(\"pwskills\"))"
   ]
  },
  {
   "cell_type": "markdown",
   "id": "37f33662-2304-4564-befc-675bbafb2de5",
   "metadata": {},
   "source": [
    "# class is reserve keyword in python"
   ]
  },
  {
   "cell_type": "code",
   "execution_count": 6,
   "id": "019401a2-e165-4d80-ac95-47d71f7524f9",
   "metadata": {},
   "outputs": [],
   "source": [
    "# blank class pass krane ke lea\n",
    "\n",
    "class test:\n",
    "    pass"
   ]
  },
  {
   "cell_type": "markdown",
   "id": "13c6bf08-d956-4c96-b17d-abd14f39be96",
   "metadata": {},
   "source": [
    "# Advantages of class :"
   ]
  },
  {
   "cell_type": "markdown",
   "id": "99326302-d965-4427-a50f-7571410f991f",
   "metadata": {},
   "source": [
    "# class, structured tarike se code ko likhta hai taaki code systematic manner mai rahe like webd ka code hai toh webd ka rahe structured format mai.\n",
    "\n",
    "# Object oriented programming(oops) coding capability ko enhance krta hai, code ko structured krta hai, code ko reusable bnata hai\n"
   ]
  },
  {
   "cell_type": "code",
   "execution_count": 3,
   "id": "aaf55c4a-1e40-42c4-b330-e96ede46e687",
   "metadata": {},
   "outputs": [],
   "source": [
    "class test:\n",
    "    pass"
   ]
  },
  {
   "cell_type": "code",
   "execution_count": 4,
   "id": "12de4f02-152b-4330-a65d-465fcc12af93",
   "metadata": {},
   "outputs": [],
   "source": [
    "a = test()"
   ]
  },
  {
   "cell_type": "code",
   "execution_count": 5,
   "id": "24c28ab4-9a92-4164-b4ee-3072f1e6d09b",
   "metadata": {},
   "outputs": [
    {
     "data": {
      "text/plain": [
       "__main__.test"
      ]
     },
     "execution_count": 5,
     "metadata": {},
     "output_type": "execute_result"
    }
   ],
   "source": [
    "type(a)"
   ]
  },
  {
   "cell_type": "code",
   "execution_count": 6,
   "id": "c9562e05-d297-46fb-86a3-42c3b100bf1e",
   "metadata": {},
   "outputs": [
    {
     "name": "stdout",
     "output_type": "stream",
     "text": [
      "<class '__main__.test'>\n"
     ]
    }
   ],
   "source": [
    "print(type(a))"
   ]
  },
  {
   "cell_type": "code",
   "execution_count": null,
   "id": "c8ae10ed-40cc-4eb0-9ccd-1c03a52082c7",
   "metadata": {},
   "outputs": [],
   "source": []
  },
  {
   "cell_type": "code",
   "execution_count": 9,
   "id": "69069a6c-7a50-4bf4-b8c2-95c3dd012e05",
   "metadata": {},
   "outputs": [],
   "source": [
    "class pwskills :                  # pwskills ki class bnadi humne\n",
    "    \n",
    "    def welcome_msg():\n",
    "        print(\"welcome to pwskills\")"
   ]
  },
  {
   "cell_type": "code",
   "execution_count": 10,
   "id": "32268e55-58fb-45f6-8d15-6d0e345d985a",
   "metadata": {},
   "outputs": [],
   "source": [
    "ankit = pwskills()               # pwskills class ka object banaya"
   ]
  },
  {
   "cell_type": "code",
   "execution_count": 11,
   "id": "64b780fc-8e42-4e20-b296-0d5134d6f8b7",
   "metadata": {},
   "outputs": [
    {
     "ename": "NameError",
     "evalue": "name 'ankit' is not defined",
     "output_type": "error",
     "traceback": [
      "\u001b[0;31m---------------------------------------------------------------------------\u001b[0m",
      "\u001b[0;31mNameError\u001b[0m                                 Traceback (most recent call last)",
      "Cell \u001b[0;32mIn[11], line 1\u001b[0m\n\u001b[0;32m----> 1\u001b[0m \u001b[38;5;28mprint\u001b[39m(\u001b[38;5;28mtype\u001b[39m(\u001b[43mankit\u001b[49m))             \u001b[38;5;66;03m# mtlb ankit belongs krta hai kis type ke class ko\u001b[39;00m\n",
      "\u001b[0;31mNameError\u001b[0m: name 'ankit' is not defined"
     ]
    }
   ],
   "source": [
    "print(type(ankit))             # mtlb ankit belongs krta hai kis type ke class ko"
   ]
  },
  {
   "cell_type": "code",
   "execution_count": 12,
   "id": "40654e2b-37df-4652-8c1d-a15957693a67",
   "metadata": {},
   "outputs": [
    {
     "ename": "NameError",
     "evalue": "name 'ankit' is not defined",
     "output_type": "error",
     "traceback": [
      "\u001b[0;31m---------------------------------------------------------------------------\u001b[0m",
      "\u001b[0;31mNameError\u001b[0m                                 Traceback (most recent call last)",
      "Cell \u001b[0;32mIn[12], line 1\u001b[0m\n\u001b[0;32m----> 1\u001b[0m \u001b[43mankit\u001b[49m\u001b[38;5;241m.\u001b[39mwelcome_msg()\n",
      "\u001b[0;31mNameError\u001b[0m: name 'ankit' is not defined"
     ]
    }
   ],
   "source": [
    "ankit.welcome_msg()"
   ]
  },
  {
   "cell_type": "code",
   "execution_count": null,
   "id": "fa43802c-a7d2-4e21-b59c-5479bf00bf7d",
   "metadata": {},
   "outputs": [],
   "source": []
  },
  {
   "cell_type": "code",
   "execution_count": 13,
   "id": "c392a3db-0b9d-496d-a934-83df0fe56b04",
   "metadata": {},
   "outputs": [],
   "source": [
    "class pwskills :                  # pwskills ki class bnadi humne\n",
    "    \n",
    "    def welcome_msg(self):\n",
    "        print(\"welcome to pwskills\")"
   ]
  },
  {
   "cell_type": "code",
   "execution_count": 14,
   "id": "81200eaf-87f3-4f8a-8933-5af9101035ef",
   "metadata": {},
   "outputs": [],
   "source": [
    "kumar = pwskills()                 # pwskills class ka object define banaya"
   ]
  },
  {
   "cell_type": "code",
   "execution_count": 15,
   "id": "562a3029-4a87-4d01-9d97-446a93ffeaec",
   "metadata": {},
   "outputs": [
    {
     "name": "stdout",
     "output_type": "stream",
     "text": [
      "<class '__main__.pwskills'>\n"
     ]
    }
   ],
   "source": [
    "print(type(kumar))"
   ]
  },
  {
   "cell_type": "code",
   "execution_count": 16,
   "id": "99ce5b74-c2a6-4224-9351-fd3993788488",
   "metadata": {},
   "outputs": [
    {
     "name": "stdout",
     "output_type": "stream",
     "text": [
      "welcome to pwskills\n"
     ]
    }
   ],
   "source": [
    "kumar.welcome_msg()                   # yaha humne function ko call karaya "
   ]
  },
  {
   "cell_type": "code",
   "execution_count": null,
   "id": "0b2242e5-7a73-42a6-9412-fb946cab9c74",
   "metadata": {},
   "outputs": [],
   "source": []
  },
  {
   "cell_type": "code",
   "execution_count": 17,
   "id": "49c9d53e-a787-4fa4-8c28-822427d646f3",
   "metadata": {},
   "outputs": [],
   "source": [
    "koli = pwskills()"
   ]
  },
  {
   "cell_type": "code",
   "execution_count": 18,
   "id": "ab3365d4-fab3-47ac-aba9-b7ffd48f5107",
   "metadata": {},
   "outputs": [
    {
     "name": "stdout",
     "output_type": "stream",
     "text": [
      "welcome to pwskills\n"
     ]
    }
   ],
   "source": [
    "koli.welcome_msg()"
   ]
  },
  {
   "cell_type": "code",
   "execution_count": 19,
   "id": "1972933e-2cb9-4022-a87c-47962aa02d66",
   "metadata": {},
   "outputs": [],
   "source": [
    "class pwskills1 :                               # pwskills1 ki class bnadi humne\n",
    "    \n",
    "    def __init__(self,phone_number,email_id,student_id) :          # __init__() function ko hum constructor bhi bolte hai\n",
    "        self.phone_number = phone_number\n",
    "        self.email_id = email_id\n",
    "        self.student_id = student_id\n",
    "        \n",
    "    def return_student_details(self) :\n",
    "        return self.phone_number,self.email_id,self.student_id\n",
    "    "
   ]
  },
  {
   "cell_type": "code",
   "execution_count": 20,
   "id": "714427a3-9b68-4861-b718-950b9b911018",
   "metadata": {},
   "outputs": [
    {
     "ename": "TypeError",
     "evalue": "pwskills1.__init__() missing 3 required positional arguments: 'phone_number', 'email_id', and 'student_id'",
     "output_type": "error",
     "traceback": [
      "\u001b[0;31m---------------------------------------------------------------------------\u001b[0m",
      "\u001b[0;31mTypeError\u001b[0m                                 Traceback (most recent call last)",
      "Cell \u001b[0;32mIn[20], line 1\u001b[0m\n\u001b[0;32m----> 1\u001b[0m ankit \u001b[38;5;241m=\u001b[39m \u001b[43mpwskills1\u001b[49m\u001b[43m(\u001b[49m\u001b[43m)\u001b[49m\n",
      "\u001b[0;31mTypeError\u001b[0m: pwskills1.__init__() missing 3 required positional arguments: 'phone_number', 'email_id', and 'student_id'"
     ]
    }
   ],
   "source": [
    "ankit = pwskills1()"
   ]
  },
  {
   "cell_type": "code",
   "execution_count": 21,
   "id": "668cd0d8-9a14-4aa9-92d4-d272cfa0f5df",
   "metadata": {},
   "outputs": [],
   "source": [
    "ankit = pwskills1(3415267,\"ankit@gmail.com\",2000)"
   ]
  },
  {
   "cell_type": "code",
   "execution_count": 22,
   "id": "cf858b1f-6b72-4d90-9d08-cd4f6a4083c4",
   "metadata": {},
   "outputs": [
    {
     "data": {
      "text/plain": [
       "(3415267, 'ankit@gmail.com', 2000)"
      ]
     },
     "execution_count": 22,
     "metadata": {},
     "output_type": "execute_result"
    }
   ],
   "source": [
    "ankit.return_student_details()"
   ]
  },
  {
   "cell_type": "code",
   "execution_count": 23,
   "id": "9982f9f9-9d00-4ff6-940f-1e8d0a85e30f",
   "metadata": {},
   "outputs": [],
   "source": [
    "shyam = pwskills1(12345666,\"shyam@gmail.com\",1999)"
   ]
  },
  {
   "cell_type": "code",
   "execution_count": 24,
   "id": "64f7c9fc-0743-4fa3-92ed-980e488398d4",
   "metadata": {},
   "outputs": [
    {
     "data": {
      "text/plain": [
       "(12345666, 'shyam@gmail.com', 1999)"
      ]
     },
     "execution_count": 24,
     "metadata": {},
     "output_type": "execute_result"
    }
   ],
   "source": [
    "shyam.return_student_details()"
   ]
  },
  {
   "cell_type": "code",
   "execution_count": null,
   "id": "d74036bd-f126-418a-85d9-f8b24437018e",
   "metadata": {},
   "outputs": [],
   "source": []
  },
  {
   "cell_type": "code",
   "execution_count": 25,
   "id": "7e4da6e9-f16a-48e7-ada8-4ee0ea9c5cc3",
   "metadata": {},
   "outputs": [],
   "source": [
    "class pwskills2 :\n",
    "    \n",
    "    def __init__(self,girl_friend1,girl_friend2,girl_friend3,crush_all_time):\n",
    "        self.girl_friend1 = girl_friend1\n",
    "        self.girl_friend2 = girl_friend2\n",
    "        self.girl_friend3 = girl_friend3\n",
    "        self.crush_all_time = crush_all_time\n",
    "        \n",
    "    def return_feelings(self):\n",
    "        return self.girl_friend1,self.girl_friend2,self.girl_friend3,self.crush_all_time\n",
    "        "
   ]
  },
  {
   "cell_type": "code",
   "execution_count": 26,
   "id": "5c13cde4-b3a1-4de8-80e8-072aaca0b329",
   "metadata": {},
   "outputs": [],
   "source": [
    "ankit = pwskills2(\"cheshta\",\"cheshta\",\"cheshta\",\"cheshta\")"
   ]
  },
  {
   "cell_type": "code",
   "execution_count": 27,
   "id": "2516d699-d4ee-42de-8aa1-75295b4cc5eb",
   "metadata": {},
   "outputs": [
    {
     "data": {
      "text/plain": [
       "('cheshta', 'cheshta', 'cheshta', 'cheshta')"
      ]
     },
     "execution_count": 27,
     "metadata": {},
     "output_type": "execute_result"
    }
   ],
   "source": [
    "ankit.return_feelings()"
   ]
  },
  {
   "cell_type": "code",
   "execution_count": 28,
   "id": "6c5a065b-508c-4793-a1d6-09efe5475a54",
   "metadata": {},
   "outputs": [
    {
     "data": {
      "text/plain": [
       "'cheshta'"
      ]
     },
     "execution_count": 28,
     "metadata": {},
     "output_type": "execute_result"
    }
   ],
   "source": [
    "ankit.girl_friend1"
   ]
  },
  {
   "cell_type": "code",
   "execution_count": 29,
   "id": "55e30b1b-c12f-49d7-b21f-23152613698a",
   "metadata": {},
   "outputs": [
    {
     "data": {
      "text/plain": [
       "'cheshta'"
      ]
     },
     "execution_count": 29,
     "metadata": {},
     "output_type": "execute_result"
    }
   ],
   "source": [
    "ankit.girl_friend2"
   ]
  },
  {
   "cell_type": "code",
   "execution_count": 30,
   "id": "e31cd929-0233-4504-a81a-2216a78f8018",
   "metadata": {},
   "outputs": [
    {
     "data": {
      "text/plain": [
       "'cheshta'"
      ]
     },
     "execution_count": 30,
     "metadata": {},
     "output_type": "execute_result"
    }
   ],
   "source": [
    "ankit.girl_friend3"
   ]
  },
  {
   "cell_type": "code",
   "execution_count": 31,
   "id": "37a1c8a6-7b0f-4534-b7f6-d89fd8e69b3b",
   "metadata": {},
   "outputs": [
    {
     "data": {
      "text/plain": [
       "'cheshta'"
      ]
     },
     "execution_count": 31,
     "metadata": {},
     "output_type": "execute_result"
    }
   ],
   "source": [
    "ankit.crush_all_time"
   ]
  },
  {
   "cell_type": "markdown",
   "id": "63b9028a-e399-47a2-8e2a-7208f67ffad5",
   "metadata": {},
   "source": [
    "# self is not a reserved keyword , self ki jagah hum koe bhi word use kr sakte hai as a self(self is a pointer or reference)"
   ]
  },
  {
   "cell_type": "code",
   "execution_count": 32,
   "id": "f863c8de-1c72-4e5e-aa29-4d5877b935d5",
   "metadata": {},
   "outputs": [],
   "source": [
    "class pwskills3 :\n",
    "    \n",
    "    def __init__(ankit, girl_friend1,girl_friend2, girl_friend3, crush_all_time):\n",
    "        ankit.girl_friend1 = girl_friend1\n",
    "        ankit.girl_friend2 = girl_friend2\n",
    "        ankit.girl_friend3 = girl_friend3\n",
    "        ankit.crush_all_time = crush_all_time\n",
    "        \n",
    "    def return_feelings(ankit):\n",
    "        return ankit.girl_friend1, ankit.girl_friend2, ankit.girl_friend3, ankit.crush_all_time"
   ]
  },
  {
   "cell_type": "code",
   "execution_count": 33,
   "id": "f5bebd04-609e-4c0d-840c-b6c2a0a7b564",
   "metadata": {},
   "outputs": [],
   "source": [
    "kumar = pwskills3(\"cheshta\",\"cheshta\",\"cheshta\",\"cheshta\")"
   ]
  },
  {
   "cell_type": "code",
   "execution_count": 34,
   "id": "9c71cf2f-d416-4ccb-8517-ed00651bf4d8",
   "metadata": {},
   "outputs": [
    {
     "data": {
      "text/plain": [
       "('cheshta', 'cheshta', 'cheshta', 'cheshta')"
      ]
     },
     "execution_count": 34,
     "metadata": {},
     "output_type": "execute_result"
    }
   ],
   "source": [
    "kumar.return_feelings()"
   ]
  },
  {
   "cell_type": "code",
   "execution_count": 35,
   "id": "e0107376-7d82-4cc3-b84d-5e2c48db33ae",
   "metadata": {},
   "outputs": [
    {
     "data": {
      "text/plain": [
       "'cheshta'"
      ]
     },
     "execution_count": 35,
     "metadata": {},
     "output_type": "execute_result"
    }
   ],
   "source": [
    "kumar.girl_friend1"
   ]
  },
  {
   "cell_type": "code",
   "execution_count": 36,
   "id": "4d0ddc79-2fdf-44a6-96bf-192ebc12ab14",
   "metadata": {},
   "outputs": [
    {
     "data": {
      "text/plain": [
       "'cheshta'"
      ]
     },
     "execution_count": 36,
     "metadata": {},
     "output_type": "execute_result"
    }
   ],
   "source": [
    "kumar.girl_friend2"
   ]
  },
  {
   "cell_type": "code",
   "execution_count": 37,
   "id": "f644225e-491b-43cf-a458-29e8c010089e",
   "metadata": {},
   "outputs": [
    {
     "data": {
      "text/plain": [
       "'cheshta'"
      ]
     },
     "execution_count": 37,
     "metadata": {},
     "output_type": "execute_result"
    }
   ],
   "source": [
    "kumar.girl_friend3"
   ]
  },
  {
   "cell_type": "code",
   "execution_count": 38,
   "id": "93c76924-d1ab-4a05-b0e5-968287a89068",
   "metadata": {},
   "outputs": [
    {
     "data": {
      "text/plain": [
       "'cheshta'"
      ]
     },
     "execution_count": 38,
     "metadata": {},
     "output_type": "execute_result"
    }
   ],
   "source": [
    "kumar.crush_all_time"
   ]
  },
  {
   "cell_type": "code",
   "execution_count": null,
   "id": "632f19c9-898e-4bbd-8b8f-1be143fc1414",
   "metadata": {},
   "outputs": [],
   "source": []
  },
  {
   "cell_type": "markdown",
   "id": "ce65eb75-65bb-41d9-b9fe-79d348df8028",
   "metadata": {},
   "source": [
    "# polymorphism      \n",
    "# poly = multiple     \n",
    "# morphism = multiple behaviour show krne wala"
   ]
  },
  {
   "cell_type": "code",
   "execution_count": 39,
   "id": "e6cff998-880f-4996-910f-928eb9c47392",
   "metadata": {},
   "outputs": [],
   "source": [
    "def test(a,b):\n",
    "    return a+b"
   ]
  },
  {
   "cell_type": "code",
   "execution_count": 40,
   "id": "8a6134af-7793-4262-9270-3c1f2d23d02c",
   "metadata": {},
   "outputs": [
    {
     "data": {
      "text/plain": [
       "48"
      ]
     },
     "execution_count": 40,
     "metadata": {},
     "output_type": "execute_result"
    }
   ],
   "source": [
    "test(23,25)"
   ]
  },
  {
   "cell_type": "code",
   "execution_count": 41,
   "id": "393f020a-3cfa-4ab8-93ba-39626a0e90dd",
   "metadata": {},
   "outputs": [
    {
     "data": {
      "text/plain": [
       "'ankit kumar'"
      ]
     },
     "execution_count": 41,
     "metadata": {},
     "output_type": "execute_result"
    }
   ],
   "source": [
    "test(\"ankit \",\"kumar\")"
   ]
  },
  {
   "cell_type": "code",
   "execution_count": 42,
   "id": "6573bba8-8456-44ac-9e66-51442d319f5b",
   "metadata": {},
   "outputs": [
    {
     "data": {
      "text/plain": [
       "102.08"
      ]
     },
     "execution_count": 42,
     "metadata": {},
     "output_type": "execute_result"
    }
   ],
   "source": [
    "test(12.09,89.99)"
   ]
  },
  {
   "cell_type": "code",
   "execution_count": 43,
   "id": "5e2cf785-c472-470b-9b44-0840c8666c9a",
   "metadata": {},
   "outputs": [
    {
     "data": {
      "text/plain": [
       "[1, 2, 3, 4, 5, 10, 11, 12, 13, 14, 15]"
      ]
     },
     "execution_count": 43,
     "metadata": {},
     "output_type": "execute_result"
    }
   ],
   "source": [
    "test([1,2,3,4,5],[10,11,12,13,14,15])"
   ]
  },
  {
   "cell_type": "code",
   "execution_count": null,
   "id": "c445670b-1dfd-4e7e-8120-3d92ec786da9",
   "metadata": {},
   "outputs": [],
   "source": []
  },
  {
   "cell_type": "code",
   "execution_count": 44,
   "id": "d28d7098-e431-4f53-aa88-86bc4b112667",
   "metadata": {},
   "outputs": [],
   "source": [
    "class data_science:\n",
    "    \n",
    "    def syllabus(self):\n",
    "        print(\"this is my data science masters syllabus\")"
   ]
  },
  {
   "cell_type": "code",
   "execution_count": 45,
   "id": "072873c4-2128-42dc-aa42-2766f85c37bb",
   "metadata": {},
   "outputs": [],
   "source": [
    "class web_dev:\n",
    "    \n",
    "    def syllabus(self):\n",
    "        print(\"this is my web development syllabus\")"
   ]
  },
  {
   "cell_type": "code",
   "execution_count": 46,
   "id": "bbe1fc3b-843f-4b97-9fc5-c347cd53c287",
   "metadata": {},
   "outputs": [],
   "source": [
    "def class_parcer(object_class):\n",
    "    for i in object_class:\n",
    "        i.syllabus()\n",
    "    "
   ]
  },
  {
   "cell_type": "code",
   "execution_count": 47,
   "id": "95c9cf7e-a538-4f5c-9bfa-dccfee158a63",
   "metadata": {},
   "outputs": [],
   "source": [
    "data_science = data_science()"
   ]
  },
  {
   "cell_type": "code",
   "execution_count": 48,
   "id": "60c9bb03-27f5-45cb-98bb-a9236a6a8210",
   "metadata": {},
   "outputs": [],
   "source": [
    "web_dev = web_dev()"
   ]
  },
  {
   "cell_type": "code",
   "execution_count": 49,
   "id": "076b1ca3-a328-4b77-8406-745ae41379ce",
   "metadata": {},
   "outputs": [],
   "source": [
    "object_class = [data_science,web_dev]"
   ]
  },
  {
   "cell_type": "code",
   "execution_count": 50,
   "id": "76cf2052-1be0-43ef-853b-297a02868e0b",
   "metadata": {},
   "outputs": [
    {
     "name": "stdout",
     "output_type": "stream",
     "text": [
      "this is my data science masters syllabus\n",
      "this is my web development syllabus\n"
     ]
    }
   ],
   "source": [
    "class_parcer(object_class)"
   ]
  },
  {
   "cell_type": "code",
   "execution_count": null,
   "id": "4f26c09a-3348-40dd-8994-ea113dc18eda",
   "metadata": {},
   "outputs": [],
   "source": []
  },
  {
   "cell_type": "code",
   "execution_count": 51,
   "id": "db48171b-f5df-49e6-8afc-a9b9cc7a8b1b",
   "metadata": {},
   "outputs": [],
   "source": [
    "class feeling_7_to_12 :\n",
    "    \n",
    "    def feeling_thoughts(self):\n",
    "        print(\"i like you chestha\")"
   ]
  },
  {
   "cell_type": "code",
   "execution_count": 52,
   "id": "d5e3055b-fcc5-418f-96a8-0f4a15dab917",
   "metadata": {},
   "outputs": [],
   "source": [
    "class feeling_diploma_to_degree :\n",
    "    \n",
    "    def feeling_thoughts(self):\n",
    "        print(\"i like you very much\")"
   ]
  },
  {
   "cell_type": "code",
   "execution_count": 53,
   "id": "9927aed9-f91e-42d9-a053-08ba0bc90de8",
   "metadata": {},
   "outputs": [],
   "source": [
    "def raaz_class(dil_ki_baat):\n",
    "    for i in dil_ki_baat:\n",
    "        i.feeling_thoughts()"
   ]
  },
  {
   "cell_type": "code",
   "execution_count": 54,
   "id": "5427d0cd-47a1-4cc1-8e8c-f4fa64041aaf",
   "metadata": {},
   "outputs": [],
   "source": [
    "feeling_7_to_12 = feeling_7_to_12()"
   ]
  },
  {
   "cell_type": "code",
   "execution_count": 55,
   "id": "7d6478a8-e6c4-4df7-8e33-8bdf504ff8ac",
   "metadata": {},
   "outputs": [],
   "source": [
    "feeling_diploma_to_degree = feeling_diploma_to_degree()\n"
   ]
  },
  {
   "cell_type": "code",
   "execution_count": 56,
   "id": "911b156b-8645-4bdf-a9cc-3db1710a22ca",
   "metadata": {},
   "outputs": [],
   "source": [
    "dil_ki_baat = [feeling_7_to_12, feeling_diploma_to_degree]"
   ]
  },
  {
   "cell_type": "code",
   "execution_count": 57,
   "id": "3b508c2b-86ef-43b6-a536-f70c0296cacd",
   "metadata": {},
   "outputs": [
    {
     "name": "stdout",
     "output_type": "stream",
     "text": [
      "i like you chestha\n",
      "i like you very much\n"
     ]
    }
   ],
   "source": [
    "raaz_class(dil_ki_baat)"
   ]
  },
  {
   "cell_type": "code",
   "execution_count": null,
   "id": "786a661b-7471-4316-8737-c39c0f971a0b",
   "metadata": {},
   "outputs": [],
   "source": []
  },
  {
   "cell_type": "markdown",
   "id": "4ba35e21-c11d-4c90-b83f-a5788505eec5",
   "metadata": {},
   "source": [
    "# Encapsulation"
   ]
  },
  {
   "cell_type": "code",
   "execution_count": 79,
   "id": "fa399b2e-be38-4c02-9595-8e2c219906b9",
   "metadata": {},
   "outputs": [],
   "source": [
    "class test :\n",
    "    \n",
    "    def __init__(self, a, b): \n",
    "        self.a = a\n",
    "        self.b = b\n",
    "        "
   ]
  },
  {
   "cell_type": "code",
   "execution_count": 82,
   "id": "27885311-6ef6-46a6-8e35-66ecdf575231",
   "metadata": {},
   "outputs": [],
   "source": [
    "t = test(22,33)"
   ]
  },
  {
   "cell_type": "code",
   "execution_count": 84,
   "id": "29dfc381-fe0b-43c0-9f91-5d40a8f42c7a",
   "metadata": {},
   "outputs": [],
   "source": [
    "t.a = 123456789"
   ]
  },
  {
   "cell_type": "code",
   "execution_count": 86,
   "id": "2ac709dd-9c2d-4adf-aad2-d2e3b50d9a44",
   "metadata": {},
   "outputs": [
    {
     "data": {
      "text/plain": [
       "123456789"
      ]
     },
     "execution_count": 86,
     "metadata": {},
     "output_type": "execute_result"
    }
   ],
   "source": [
    "t.a"
   ]
  },
  {
   "cell_type": "code",
   "execution_count": null,
   "id": "affd0c6d-087b-419d-b457-c3943d2177f8",
   "metadata": {},
   "outputs": [],
   "source": []
  },
  {
   "cell_type": "code",
   "execution_count": 1,
   "id": "f9a97120-af7e-4cf7-b40f-8f3ac4c65ebe",
   "metadata": {},
   "outputs": [],
   "source": [
    "class car:\n",
    "    \n",
    "    def __init__(self, year, make, model, speed):\n",
    "        \n",
    "        self.__year = year\n",
    "        self.__make = make\n",
    "        self.__model = model\n",
    "        self.__speed = 0\n",
    "        "
   ]
  },
  {
   "cell_type": "code",
   "execution_count": 2,
   "id": "bb4d34c7-6388-4728-8e4b-09fbc2c65d73",
   "metadata": {},
   "outputs": [],
   "source": [
    "c = car(2000,\"Audi\",\"Audi_R8\",60)"
   ]
  },
  {
   "cell_type": "code",
   "execution_count": 5,
   "id": "aafe93a2-ebfa-49f5-aba6-e740ed1a622d",
   "metadata": {},
   "outputs": [
    {
     "ename": "AttributeError",
     "evalue": "'car' object has no attribute '__year'",
     "output_type": "error",
     "traceback": [
      "\u001b[0;31m---------------------------------------------------------------------------\u001b[0m",
      "\u001b[0;31mAttributeError\u001b[0m                            Traceback (most recent call last)",
      "Cell \u001b[0;32mIn[5], line 1\u001b[0m\n\u001b[0;32m----> 1\u001b[0m \u001b[43mc\u001b[49m\u001b[38;5;241;43m.\u001b[39;49m\u001b[43m__year\u001b[49m\n",
      "\u001b[0;31mAttributeError\u001b[0m: 'car' object has no attribute '__year'"
     ]
    }
   ],
   "source": [
    "c.__year"
   ]
  },
  {
   "cell_type": "code",
   "execution_count": 6,
   "id": "8e434cd1-f18b-42a6-9468-40b59206f352",
   "metadata": {},
   "outputs": [
    {
     "data": {
      "text/plain": [
       "2000"
      ]
     },
     "execution_count": 6,
     "metadata": {},
     "output_type": "execute_result"
    }
   ],
   "source": [
    "c._car__year"
   ]
  },
  {
   "cell_type": "code",
   "execution_count": 7,
   "id": "cbb10611-029d-44bc-9d28-145d9f99466e",
   "metadata": {},
   "outputs": [
    {
     "ename": "AttributeError",
     "evalue": "'car' object has no attribute '__make'",
     "output_type": "error",
     "traceback": [
      "\u001b[0;31m---------------------------------------------------------------------------\u001b[0m",
      "\u001b[0;31mAttributeError\u001b[0m                            Traceback (most recent call last)",
      "Cell \u001b[0;32mIn[7], line 1\u001b[0m\n\u001b[0;32m----> 1\u001b[0m \u001b[43mc\u001b[49m\u001b[38;5;241;43m.\u001b[39;49m\u001b[43m__make\u001b[49m\n",
      "\u001b[0;31mAttributeError\u001b[0m: 'car' object has no attribute '__make'"
     ]
    }
   ],
   "source": [
    "c.__make"
   ]
  },
  {
   "cell_type": "code",
   "execution_count": 8,
   "id": "c04a6538-f0bf-41a6-9423-9246962474b5",
   "metadata": {},
   "outputs": [
    {
     "data": {
      "text/plain": [
       "'Audi'"
      ]
     },
     "execution_count": 8,
     "metadata": {},
     "output_type": "execute_result"
    }
   ],
   "source": [
    "c._car__make"
   ]
  },
  {
   "cell_type": "code",
   "execution_count": 22,
   "id": "65cc7505-4c03-4dc8-ad95-c52f81698e70",
   "metadata": {},
   "outputs": [],
   "source": [
    "class car:\n",
    "    \n",
    "    def __init__(self, year, make, model, speed):\n",
    "        \n",
    "        self.__year = year\n",
    "        self.__make = make\n",
    "        self.__model = model\n",
    "        self.__speed = 0\n",
    "        \n",
    "    def set_speed(self,speed):\n",
    "        self.__speed = 0 if speed < 0 else speed\n",
    "        \n",
    "    def get_speed(self):\n",
    "        return self.__speed"
   ]
  },
  {
   "cell_type": "code",
   "execution_count": 23,
   "id": "53ae680a-2631-4ee9-ac60-e97df2360731",
   "metadata": {},
   "outputs": [],
   "source": [
    "c = car(2000,\"Audi\",\"Audi_R8\",60)"
   ]
  },
  {
   "cell_type": "code",
   "execution_count": 24,
   "id": "c0c6d2f6-9c97-495c-8e60-c9b3aca67533",
   "metadata": {},
   "outputs": [
    {
     "ename": "AttributeError",
     "evalue": "'car' object has no attribute '__model'",
     "output_type": "error",
     "traceback": [
      "\u001b[0;31m---------------------------------------------------------------------------\u001b[0m",
      "\u001b[0;31mAttributeError\u001b[0m                            Traceback (most recent call last)",
      "Cell \u001b[0;32mIn[24], line 1\u001b[0m\n\u001b[0;32m----> 1\u001b[0m \u001b[43mc\u001b[49m\u001b[38;5;241;43m.\u001b[39;49m\u001b[43m__model\u001b[49m\n",
      "\u001b[0;31mAttributeError\u001b[0m: 'car' object has no attribute '__model'"
     ]
    }
   ],
   "source": [
    "c.__model"
   ]
  },
  {
   "cell_type": "code",
   "execution_count": 25,
   "id": "8a4de2b5-ca50-48e5-80ff-1f56ce21d7ae",
   "metadata": {},
   "outputs": [
    {
     "data": {
      "text/plain": [
       "'Audi_R8'"
      ]
     },
     "execution_count": 25,
     "metadata": {},
     "output_type": "execute_result"
    }
   ],
   "source": [
    "c._car__model"
   ]
  },
  {
   "cell_type": "code",
   "execution_count": 26,
   "id": "2fdc7909-923e-40bf-946b-87b1a8fb9e81",
   "metadata": {},
   "outputs": [],
   "source": [
    "c.set_speed(-123)"
   ]
  },
  {
   "cell_type": "code",
   "execution_count": 27,
   "id": "164dfb0b-c4f8-43f9-9593-afae0b6ae932",
   "metadata": {},
   "outputs": [
    {
     "data": {
      "text/plain": [
       "0"
      ]
     },
     "execution_count": 27,
     "metadata": {},
     "output_type": "execute_result"
    }
   ],
   "source": [
    "c.get_speed()"
   ]
  },
  {
   "cell_type": "code",
   "execution_count": 28,
   "id": "3bf4548f-f8f1-4a87-a4de-07ef0a968b63",
   "metadata": {},
   "outputs": [],
   "source": [
    "c.set_speed(250)"
   ]
  },
  {
   "cell_type": "code",
   "execution_count": 29,
   "id": "c9d48f34-a516-40fe-9a40-b7ad18782438",
   "metadata": {},
   "outputs": [
    {
     "data": {
      "text/plain": [
       "250"
      ]
     },
     "execution_count": 29,
     "metadata": {},
     "output_type": "execute_result"
    }
   ],
   "source": [
    "c.get_speed()"
   ]
  },
  {
   "cell_type": "code",
   "execution_count": null,
   "id": "cb1f8d4f-fc9b-441b-b6f8-735b4b7b5d23",
   "metadata": {},
   "outputs": [],
   "source": []
  },
  {
   "cell_type": "code",
   "execution_count": 50,
   "id": "98aed414-f13c-4d67-882c-8d8e56645a7b",
   "metadata": {},
   "outputs": [],
   "source": [
    "class bank_account :\n",
    "    \n",
    "    def __init__(self , balance):\n",
    "        self.__balance = balance\n",
    "        \n",
    "    def deposit(self, amount) :\n",
    "        self.__balance = self.__balance + amount\n",
    "        \n",
    "    def withdraw(self, amount):\n",
    "        if self.__balance >= amount:\n",
    "            self.__balance = self.__balance - amount\n",
    "            return True\n",
    "        \n",
    "        else:\n",
    "            return False\n",
    "        \n",
    "    def get_balance(self):\n",
    "        return self.__balance\n",
    "    "
   ]
  },
  {
   "cell_type": "code",
   "execution_count": 51,
   "id": "7e92056f-2036-4a3c-b987-b56294d22383",
   "metadata": {},
   "outputs": [],
   "source": [
    "ankit = bank_account(5000)"
   ]
  },
  {
   "cell_type": "code",
   "execution_count": 52,
   "id": "3e73e869-8b6c-4759-a2f1-828c8dd60d49",
   "metadata": {},
   "outputs": [
    {
     "data": {
      "text/plain": [
       "5000"
      ]
     },
     "execution_count": 52,
     "metadata": {},
     "output_type": "execute_result"
    }
   ],
   "source": [
    "ankit.get_balance()"
   ]
  },
  {
   "cell_type": "code",
   "execution_count": 53,
   "id": "73d8a6c0-a3cd-4227-9075-8446f7f15a51",
   "metadata": {},
   "outputs": [],
   "source": [
    "ankit.deposit(2000)"
   ]
  },
  {
   "cell_type": "code",
   "execution_count": 54,
   "id": "994da26f-62f0-4197-96a4-6d911f203d25",
   "metadata": {},
   "outputs": [
    {
     "data": {
      "text/plain": [
       "7000"
      ]
     },
     "execution_count": 54,
     "metadata": {},
     "output_type": "execute_result"
    }
   ],
   "source": [
    "ankit.get_balance()"
   ]
  },
  {
   "cell_type": "code",
   "execution_count": 55,
   "id": "09e0257a-6dfd-4ed7-baf3-63ce42647776",
   "metadata": {},
   "outputs": [],
   "source": [
    "ankit.deposit(12000)"
   ]
  },
  {
   "cell_type": "code",
   "execution_count": 56,
   "id": "d21fab84-34b9-4c6c-82d5-9d28a1555159",
   "metadata": {},
   "outputs": [
    {
     "data": {
      "text/plain": [
       "19000"
      ]
     },
     "execution_count": 56,
     "metadata": {},
     "output_type": "execute_result"
    }
   ],
   "source": [
    "ankit.get_balance()"
   ]
  },
  {
   "cell_type": "code",
   "execution_count": 57,
   "id": "489fc489-637e-4e90-9288-6bcd20e3486f",
   "metadata": {},
   "outputs": [
    {
     "data": {
      "text/plain": [
       "False"
      ]
     },
     "execution_count": 57,
     "metadata": {},
     "output_type": "execute_result"
    }
   ],
   "source": [
    "ankit.withdraw(20000)"
   ]
  },
  {
   "cell_type": "code",
   "execution_count": 58,
   "id": "095d9945-4b54-452c-b11c-edfe9756566a",
   "metadata": {},
   "outputs": [
    {
     "data": {
      "text/plain": [
       "True"
      ]
     },
     "execution_count": 58,
     "metadata": {},
     "output_type": "execute_result"
    }
   ],
   "source": [
    "ankit.withdraw(3000)"
   ]
  },
  {
   "cell_type": "code",
   "execution_count": 59,
   "id": "56437885-6b72-442a-bd9c-f58fc98f215a",
   "metadata": {},
   "outputs": [
    {
     "data": {
      "text/plain": [
       "16000"
      ]
     },
     "execution_count": 59,
     "metadata": {},
     "output_type": "execute_result"
    }
   ],
   "source": [
    "ankit.get_balance()"
   ]
  },
  {
   "cell_type": "code",
   "execution_count": null,
   "id": "b01cefa1-ebf0-455c-870b-f116edc7a402",
   "metadata": {},
   "outputs": [],
   "source": []
  },
  {
   "cell_type": "code",
   "execution_count": 1,
   "id": "c72e0677-a421-4cbc-ae9f-775dcd5e79be",
   "metadata": {},
   "outputs": [
    {
     "name": "stdout",
     "output_type": "stream",
     "text": [
      "name: ankit\n",
      "salary: 100000\n",
      "ankit is working on Machine learning\n"
     ]
    }
   ],
   "source": [
    "class employee :\n",
    "    \n",
    "    def __init__(self, name, salary, project):\n",
    "        self.name = name\n",
    "        self.salary = salary\n",
    "        self.project = project\n",
    "    \n",
    "    #method\n",
    "    #to show employee details\n",
    "    \n",
    "    def show(self):\n",
    "        #accessing public data members\n",
    "        print(\"name:\",self.name)\n",
    "        print(\"salary:\",self.salary)\n",
    "        \n",
    "    #method\n",
    "    \n",
    "    def work(self):\n",
    "        print(self.name,\"is working on\",self.project)\n",
    "        \n",
    "        \n",
    "# creating object of a class\n",
    "emp = employee(\"ankit\",100000,\"Machine learning\")\n",
    "\n",
    "# calling public method of the class\n",
    "\n",
    "emp.show()\n",
    "emp.work()\n",
    "\n",
    "\n",
    "        \n",
    "        \n",
    "        "
   ]
  },
  {
   "cell_type": "code",
   "execution_count": null,
   "id": "f403cee2-0644-4f72-ae09-01e80715a903",
   "metadata": {},
   "outputs": [],
   "source": []
  },
  {
   "cell_type": "code",
   "execution_count": null,
   "id": "73e21f75-df9e-4cb8-8d58-7987c764d95b",
   "metadata": {},
   "outputs": [],
   "source": []
  },
  {
   "cell_type": "markdown",
   "id": "1d961b94-0522-4f2d-af83-63b120912969",
   "metadata": {},
   "source": [
    "# Inheritance"
   ]
  },
  {
   "cell_type": "code",
   "execution_count": 2,
   "id": "d1f3a05b-e952-4525-b7f2-2fefadd6a645",
   "metadata": {},
   "outputs": [],
   "source": [
    "class test :\n",
    "    \n",
    "    def test_meth(self):\n",
    "        print(\"My name is ankit kumar koli\")"
   ]
  },
  {
   "cell_type": "code",
   "execution_count": 4,
   "id": "edb61198-80bb-4553-8da9-9aa1e43fce92",
   "metadata": {},
   "outputs": [],
   "source": [
    "class child_test(test) :\n",
    "    pass"
   ]
  },
  {
   "cell_type": "code",
   "execution_count": 5,
   "id": "d4357b65-16ed-4e5f-b1e7-e4ce3e90f6f0",
   "metadata": {},
   "outputs": [],
   "source": [
    "child_test_object = child_test()"
   ]
  },
  {
   "cell_type": "code",
   "execution_count": 6,
   "id": "6bef5c62-9a8d-44cd-a8c1-d02172eb859d",
   "metadata": {},
   "outputs": [
    {
     "name": "stdout",
     "output_type": "stream",
     "text": [
      "My name is ankit kumar koli\n"
     ]
    }
   ],
   "source": [
    "child_test_object.test_meth()"
   ]
  },
  {
   "cell_type": "code",
   "execution_count": null,
   "id": "60b73af0-8db5-4baa-9457-a57fce2dbb73",
   "metadata": {},
   "outputs": [],
   "source": []
  },
  {
   "cell_type": "markdown",
   "id": "317b048e-37c8-4500-b62a-f2e987a6195f",
   "metadata": {},
   "source": [
    "# Types of Inheritance\n",
    "# 1) Single Inheritance\n",
    "# 2) Multiple Inheritance\n",
    "# 3) Multi-level Inheritance\n",
    "# 4) Hierarchal Inheritance\n",
    "# 5) Hybrid Inheritance"
   ]
  },
  {
   "cell_type": "code",
   "execution_count": null,
   "id": "dcdd9a33-315c-48b4-bc58-fdc31ce787a7",
   "metadata": {},
   "outputs": [],
   "source": []
  },
  {
   "cell_type": "code",
   "execution_count": null,
   "id": "fb859e33-0262-4e4d-8019-18d2c2182e57",
   "metadata": {},
   "outputs": [],
   "source": []
  },
  {
   "cell_type": "markdown",
   "id": "d2c428d2-f4ce-49b5-aac6-cbc8de50b089",
   "metadata": {},
   "source": [
    "# Multi- level Inheritance"
   ]
  },
  {
   "cell_type": "code",
   "execution_count": 7,
   "id": "a571c02a-d655-42d0-9df4-0f11c34ba9a7",
   "metadata": {},
   "outputs": [],
   "source": [
    "class class1 :\n",
    "    \n",
    "    def test_class1(self):\n",
    "        return \"this is a method from class1\"\n"
   ]
  },
  {
   "cell_type": "code",
   "execution_count": 8,
   "id": "639c05fa-b6fb-481c-ac2a-a020398f347f",
   "metadata": {},
   "outputs": [],
   "source": [
    "class class2(class1) :\n",
    "    \n",
    "    def test_class2(self):\n",
    "        return \"this is a method from class2\""
   ]
  },
  {
   "cell_type": "code",
   "execution_count": 10,
   "id": "53232296-2813-4221-8dff-b5bb01b04187",
   "metadata": {},
   "outputs": [],
   "source": [
    "class class3(class2) :\n",
    "    pass"
   ]
  },
  {
   "cell_type": "code",
   "execution_count": 11,
   "id": "dae35f13-f2a5-4f98-b591-2e5a8b96bb92",
   "metadata": {},
   "outputs": [],
   "source": [
    "object_class3 = class3()"
   ]
  },
  {
   "cell_type": "code",
   "execution_count": 13,
   "id": "da915853-4622-469e-acac-a352a0631a6e",
   "metadata": {},
   "outputs": [
    {
     "data": {
      "text/plain": [
       "'this is a method from class1'"
      ]
     },
     "execution_count": 13,
     "metadata": {},
     "output_type": "execute_result"
    }
   ],
   "source": [
    "object_class3.test_class1()"
   ]
  },
  {
   "cell_type": "code",
   "execution_count": 14,
   "id": "9aea230d-b435-4edb-8253-2b0c1c0e6a9d",
   "metadata": {},
   "outputs": [
    {
     "data": {
      "text/plain": [
       "'this is a method from class2'"
      ]
     },
     "execution_count": 14,
     "metadata": {},
     "output_type": "execute_result"
    }
   ],
   "source": [
    "object_class3.test_class2()"
   ]
  },
  {
   "cell_type": "code",
   "execution_count": null,
   "id": "a34ce16e-05bf-44a8-b2a6-0afdf8724901",
   "metadata": {},
   "outputs": [],
   "source": []
  },
  {
   "cell_type": "markdown",
   "id": "151cee96-9527-4931-a74b-7149dc9d1429",
   "metadata": {},
   "source": [
    "# Multiple Inheritance"
   ]
  },
  {
   "cell_type": "code",
   "execution_count": 17,
   "id": "f678b0cd-ce1b-4141-a666-386780584d55",
   "metadata": {},
   "outputs": [],
   "source": [
    "class class1 :\n",
    "    \n",
    "    def test_class1(self):\n",
    "        return \"this is class1\""
   ]
  },
  {
   "cell_type": "code",
   "execution_count": 19,
   "id": "dada955c-1b62-43aa-8a82-6ed83050923b",
   "metadata": {},
   "outputs": [],
   "source": [
    "class class2 :\n",
    "    \n",
    "    def test_class2(self):\n",
    "        return \"this is class2\""
   ]
  },
  {
   "cell_type": "code",
   "execution_count": 20,
   "id": "0da039d2-ffd8-4fcf-bc12-64587e58b023",
   "metadata": {},
   "outputs": [],
   "source": [
    "class class3(class1, class2):\n",
    "    pass"
   ]
  },
  {
   "cell_type": "code",
   "execution_count": 21,
   "id": "c388e30d-00a1-442d-b574-e75296453197",
   "metadata": {},
   "outputs": [],
   "source": [
    "object_class3 = class3()"
   ]
  },
  {
   "cell_type": "code",
   "execution_count": 22,
   "id": "1cde1517-deb7-4811-9c0c-094057b4a186",
   "metadata": {},
   "outputs": [
    {
     "data": {
      "text/plain": [
       "'this is class1'"
      ]
     },
     "execution_count": 22,
     "metadata": {},
     "output_type": "execute_result"
    }
   ],
   "source": [
    "object_class3.test_class1()"
   ]
  },
  {
   "cell_type": "code",
   "execution_count": 23,
   "id": "8de99b13-2ded-45ac-8e33-bb6229ad4399",
   "metadata": {},
   "outputs": [
    {
     "data": {
      "text/plain": [
       "'this is class2'"
      ]
     },
     "execution_count": 23,
     "metadata": {},
     "output_type": "execute_result"
    }
   ],
   "source": [
    "object_class3.test_class2()"
   ]
  },
  {
   "cell_type": "code",
   "execution_count": null,
   "id": "4e4ecdd7-5e77-488d-9587-c38b333dcd78",
   "metadata": {},
   "outputs": [],
   "source": []
  },
  {
   "cell_type": "code",
   "execution_count": null,
   "id": "17752358-3a9b-4a83-b177-b9f37d6eafd1",
   "metadata": {},
   "outputs": [],
   "source": []
  }
 ],
 "metadata": {
  "kernelspec": {
   "display_name": "Python 3 (ipykernel)",
   "language": "python",
   "name": "python3"
  },
  "language_info": {
   "codemirror_mode": {
    "name": "ipython",
    "version": 3
   },
   "file_extension": ".py",
   "mimetype": "text/x-python",
   "name": "python",
   "nbconvert_exporter": "python",
   "pygments_lexer": "ipython3",
   "version": "3.10.8"
  }
 },
 "nbformat": 4,
 "nbformat_minor": 5
}
