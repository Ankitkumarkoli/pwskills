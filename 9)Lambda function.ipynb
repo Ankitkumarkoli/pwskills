{
 "cells": [
  {
   "cell_type": "markdown",
   "id": "7c18723e-a40c-4347-8410-590c2b8f87da",
   "metadata": {},
   "source": [
    "# Lambda function"
   ]
  },
  {
   "cell_type": "code",
   "execution_count": null,
   "id": "354ebcd8-0270-4551-a356-0ca76e03cb8e",
   "metadata": {},
   "outputs": [],
   "source": []
  },
  {
   "cell_type": "code",
   "execution_count": 1,
   "id": "a1502e51-2b09-4172-87f2-65222a8ef241",
   "metadata": {},
   "outputs": [],
   "source": [
    "q = 2\n",
    "w = 3"
   ]
  },
  {
   "cell_type": "code",
   "execution_count": 2,
   "id": "8f289707-c0f9-4530-b153-46eccebebbbc",
   "metadata": {},
   "outputs": [],
   "source": [
    "def test(q,w):\n",
    "    return q**w"
   ]
  },
  {
   "cell_type": "code",
   "execution_count": 3,
   "id": "d4aaa772-c004-4960-b32e-dfaebe2352d3",
   "metadata": {},
   "outputs": [
    {
     "data": {
      "text/plain": [
       "8"
      ]
     },
     "execution_count": 3,
     "metadata": {},
     "output_type": "execute_result"
    }
   ],
   "source": [
    "test(2,3)"
   ]
  },
  {
   "cell_type": "code",
   "execution_count": 4,
   "id": "b8f24849-ac9d-4106-8140-7bb3d84a0f4c",
   "metadata": {},
   "outputs": [],
   "source": [
    "a = lambda q,w : q**w"
   ]
  },
  {
   "cell_type": "code",
   "execution_count": 5,
   "id": "793f2708-3dbf-41ca-b06f-223e44ddb75b",
   "metadata": {},
   "outputs": [
    {
     "data": {
      "text/plain": [
       "8"
      ]
     },
     "execution_count": 5,
     "metadata": {},
     "output_type": "execute_result"
    }
   ],
   "source": [
    "a(2,3)"
   ]
  },
  {
   "cell_type": "markdown",
   "id": "3dca5b83-574b-4b7a-a178-613a8806592b",
   "metadata": {},
   "source": [
    "# Addition of two number by the help of lambda function"
   ]
  },
  {
   "cell_type": "code",
   "execution_count": 7,
   "id": "43b2b34c-9084-40b1-9fbc-11746a6904d9",
   "metadata": {},
   "outputs": [],
   "source": [
    "add = lambda a,b : a+b"
   ]
  },
  {
   "cell_type": "code",
   "execution_count": 8,
   "id": "fa9c6e57-5143-4ee4-bca7-98f653f7d74a",
   "metadata": {},
   "outputs": [
    {
     "data": {
      "text/plain": [
       "9"
      ]
     },
     "execution_count": 8,
     "metadata": {},
     "output_type": "execute_result"
    }
   ],
   "source": [
    "add(4,5)"
   ]
  },
  {
   "cell_type": "markdown",
   "id": "ad98cd65-42b0-4eca-8339-a7bc90fbd3f6",
   "metadata": {},
   "source": [
    "# change temperature from celcius to fehrenhiet"
   ]
  },
  {
   "cell_type": "code",
   "execution_count": 14,
   "id": "6e218eaf-4e4a-4446-87a8-5d10e5b72a2c",
   "metadata": {},
   "outputs": [],
   "source": [
    "c_to_f = lambda cel :(9/5)*cel + 32"
   ]
  },
  {
   "cell_type": "code",
   "execution_count": 15,
   "id": "00204177-63ea-4a1d-94dd-5dc6c1127c77",
   "metadata": {},
   "outputs": [
    {
     "data": {
      "text/plain": [
       "131.0"
      ]
     },
     "execution_count": 15,
     "metadata": {},
     "output_type": "execute_result"
    }
   ],
   "source": [
    "c_to_f(55)"
   ]
  },
  {
   "cell_type": "markdown",
   "id": "56e783ff-d929-4a21-a8d7-e1dd4119c3cc",
   "metadata": {},
   "source": [
    "# finding maximum between two number"
   ]
  },
  {
   "cell_type": "code",
   "execution_count": 17,
   "id": "1429522d-c5b1-4155-a591-c1b749bab42e",
   "metadata": {},
   "outputs": [],
   "source": [
    "finding_max = lambda x,y : x if x>y else y "
   ]
  },
  {
   "cell_type": "code",
   "execution_count": 18,
   "id": "f46b90a3-f682-47f5-adab-77931c602638",
   "metadata": {},
   "outputs": [
    {
     "data": {
      "text/plain": [
       "67"
      ]
     },
     "execution_count": 18,
     "metadata": {},
     "output_type": "execute_result"
    }
   ],
   "source": [
    "finding_max(34,67)"
   ]
  },
  {
   "cell_type": "code",
   "execution_count": 19,
   "id": "d91fa9f8-ffa4-4c80-aef9-d13eabfbdad3",
   "metadata": {},
   "outputs": [],
   "source": [
    "s = \"pwskills\""
   ]
  },
  {
   "cell_type": "code",
   "execution_count": 20,
   "id": "b269f894-ed0f-44eb-b6b3-8537a6f2945f",
   "metadata": {},
   "outputs": [],
   "source": [
    "find_len = lambda s: len(s)"
   ]
  },
  {
   "cell_type": "code",
   "execution_count": 21,
   "id": "6296ca33-667a-43a0-b07f-72889d322434",
   "metadata": {},
   "outputs": [
    {
     "data": {
      "text/plain": [
       "8"
      ]
     },
     "execution_count": 21,
     "metadata": {},
     "output_type": "execute_result"
    }
   ],
   "source": [
    "find_len(s)"
   ]
  }
 ],
 "metadata": {
  "kernelspec": {
   "display_name": "Python 3 (ipykernel)",
   "language": "python",
   "name": "python3"
  },
  "language_info": {
   "codemirror_mode": {
    "name": "ipython",
    "version": 3
   },
   "file_extension": ".py",
   "mimetype": "text/x-python",
   "name": "python",
   "nbconvert_exporter": "python",
   "pygments_lexer": "ipython3",
   "version": "3.10.8"
  }
 },
 "nbformat": 4,
 "nbformat_minor": 5
}
