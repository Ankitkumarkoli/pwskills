{
 "cells": [
  {
   "cell_type": "markdown",
   "id": "0aaddab2-5d3f-4a42-a4b4-57ac3becf42f",
   "metadata": {},
   "source": [
    "# Best Practise of Exception Handling"
   ]
  },
  {
   "cell_type": "code",
   "execution_count": 1,
   "id": "76a0f6ca-e36c-4ff3-aa38-4e0a149c898f",
   "metadata": {},
   "outputs": [],
   "source": [
    "# use always a specfic exception"
   ]
  },
  {
   "cell_type": "code",
   "execution_count": 2,
   "id": "44411843-95e5-4169-8f51-353f2693a859",
   "metadata": {},
   "outputs": [
    {
     "name": "stdout",
     "output_type": "stream",
     "text": [
      "division by zero\n"
     ]
    }
   ],
   "source": [
    "try:\n",
    "    a = 10/0\n",
    "    \n",
    "except Exception as e :\n",
    "    print(e)"
   ]
  },
  {
   "cell_type": "raw",
   "id": "fd28b453-994b-4b1a-b753-41f07c46fa1c",
   "metadata": {},
   "source": [
    "yeh specific exception nhi hai "
   ]
  },
  {
   "cell_type": "code",
   "execution_count": null,
   "id": "c2ddf76e-0228-4a14-8625-bd32e805b5ea",
   "metadata": {},
   "outputs": [],
   "source": []
  },
  {
   "cell_type": "code",
   "execution_count": 4,
   "id": "72088b1d-c0c4-434a-a1b9-69edaf043f5c",
   "metadata": {},
   "outputs": [
    {
     "name": "stdout",
     "output_type": "stream",
     "text": [
      "I am trying to handle a ZeroDivisionError division by zero\n"
     ]
    }
   ],
   "source": [
    "try:\n",
    "    a = 10/0\n",
    "    \n",
    "except ZeroDivisionError as e:\n",
    "    print(\"I am trying to handle a ZeroDivisionError\", e)"
   ]
  },
  {
   "cell_type": "raw",
   "id": "86d6861b-45e1-455d-90e5-d003b25bba0f",
   "metadata": {},
   "source": [
    "yeh specific exception hai"
   ]
  },
  {
   "cell_type": "code",
   "execution_count": null,
   "id": "1aac7424-cdf0-401b-9a6a-b505252da74d",
   "metadata": {},
   "outputs": [],
   "source": []
  },
  {
   "cell_type": "code",
   "execution_count": 5,
   "id": "11c02c76-d71a-496d-84ae-1de6d1321c48",
   "metadata": {},
   "outputs": [],
   "source": [
    "# always try to logging your error"
   ]
  },
  {
   "cell_type": "code",
   "execution_count": 9,
   "id": "e2ae3e5a-187e-4573-956d-3293e7304be5",
   "metadata": {},
   "outputs": [],
   "source": [
    "import logging\n",
    "logging.basicConfig(filename = \"error.log\" , level = logging.ERROR)\n",
    "\n",
    "try:\n",
    "    a = 10/0\n",
    "except ZeroDivisionError as e:\n",
    "    logging.error(\"I am trying to handle a ZeroDivisionError{}\".format(e))"
   ]
  },
  {
   "cell_type": "code",
   "execution_count": null,
   "id": "7abe07df-4e3d-400b-a1d6-55b4dbb9805c",
   "metadata": {},
   "outputs": [],
   "source": []
  },
  {
   "cell_type": "code",
   "execution_count": null,
   "id": "6dfb30ca-50b6-4f3d-b453-eb7776d84599",
   "metadata": {},
   "outputs": [],
   "source": []
  },
  {
   "cell_type": "code",
   "execution_count": 12,
   "id": "ce49448b-165a-432b-9586-f7b462e623d8",
   "metadata": {},
   "outputs": [],
   "source": [
    "# always avoid to write a multiple exception handling\n",
    "\n",
    "try:\n",
    "    10/0\n",
    "\n",
    "except FileNotFoundError as e:\n",
    "    logging.error(\"I am handling filenotfounderror {}\".format(e))\n",
    "    \n",
    "except AttributeError as e:\n",
    "    logging.error(\"I am handling attributr error{}\".format(e))\n",
    "\n",
    "except ZeroDivisionError as e:\n",
    "    logging.error(\"I am handling a ZeroDivisionError{}\".format(e))"
   ]
  },
  {
   "cell_type": "code",
   "execution_count": null,
   "id": "8c1ff29a-5a32-4cbc-a2cf-512686d59179",
   "metadata": {},
   "outputs": [],
   "source": []
  },
  {
   "cell_type": "code",
   "execution_count": 14,
   "id": "2d0f654b-b359-4f82-97fe-fc6e4d565f6c",
   "metadata": {},
   "outputs": [],
   "source": [
    "# Document all the error\n",
    "# Clean up all the resources\n",
    "\n",
    "try:\n",
    "    with open(\"test.txt\" , \"w\") as f:\n",
    "        f.write(\"this is my data to file\")\n",
    "    \n",
    "except FileNotFoundError as e:\n",
    "    logging.error(\"I am handling filenotfounderror {}\".format(e))\n",
    "    \n",
    "finally:\n",
    "    f.close()\n",
    "        "
   ]
  },
  {
   "cell_type": "code",
   "execution_count": null,
   "id": "92d82ee6-137c-435e-887d-54e7dceac227",
   "metadata": {},
   "outputs": [],
   "source": []
  }
 ],
 "metadata": {
  "kernelspec": {
   "display_name": "Python 3 (ipykernel)",
   "language": "python",
   "name": "python3"
  },
  "language_info": {
   "codemirror_mode": {
    "name": "ipython",
    "version": 3
   },
   "file_extension": ".py",
   "mimetype": "text/x-python",
   "name": "python",
   "nbconvert_exporter": "python",
   "pygments_lexer": "ipython3",
   "version": "3.10.8"
  }
 },
 "nbformat": 4,
 "nbformat_minor": 5
}
