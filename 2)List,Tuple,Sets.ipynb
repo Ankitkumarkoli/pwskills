{
 "cells": [
  {
   "cell_type": "markdown",
   "id": "22ac0665-0609-4837-ac4c-1fbc056ad258",
   "metadata": {},
   "source": [
    "List"
   ]
  },
  {
   "cell_type": "code",
   "execution_count": 3,
   "id": "004b59ce-2a34-4afb-b460-5d545ee50ef8",
   "metadata": {},
   "outputs": [],
   "source": [
    "k1 = [1,12,34,\"ankit\",23.45,3+4j]"
   ]
  },
  {
   "cell_type": "code",
   "execution_count": 4,
   "id": "2f66eaf0-c0ea-440a-82d4-49b22994b2f5",
   "metadata": {},
   "outputs": [
    {
     "data": {
      "text/plain": [
       "[1, 12, 34, 'ankit', 23.45, (3+4j)]"
      ]
     },
     "execution_count": 4,
     "metadata": {},
     "output_type": "execute_result"
    }
   ],
   "source": [
    "k1"
   ]
  },
  {
   "cell_type": "code",
   "execution_count": 5,
   "id": "2366478b-0a20-4b56-9e81-2735caba9e46",
   "metadata": {},
   "outputs": [
    {
     "data": {
      "text/plain": [
       "list"
      ]
     },
     "execution_count": 5,
     "metadata": {},
     "output_type": "execute_result"
    }
   ],
   "source": [
    "type(k1)"
   ]
  },
  {
   "cell_type": "code",
   "execution_count": 6,
   "id": "93da2cdc-491e-478c-92b7-ff10252b7ac7",
   "metadata": {},
   "outputs": [
    {
     "data": {
      "text/plain": [
       "1"
      ]
     },
     "execution_count": 6,
     "metadata": {},
     "output_type": "execute_result"
    }
   ],
   "source": [
    "k1[0]"
   ]
  },
  {
   "cell_type": "code",
   "execution_count": 7,
   "id": "c9235c9a-da27-469c-93c2-9f9752b4c0a0",
   "metadata": {},
   "outputs": [
    {
     "data": {
      "text/plain": [
       "'ankit'"
      ]
     },
     "execution_count": 7,
     "metadata": {},
     "output_type": "execute_result"
    }
   ],
   "source": [
    "k1[3]"
   ]
  },
  {
   "cell_type": "code",
   "execution_count": 8,
   "id": "8d5fe383-5748-4ea1-bdb5-dc316298c238",
   "metadata": {},
   "outputs": [
    {
     "data": {
      "text/plain": [
       "(3+4j)"
      ]
     },
     "execution_count": 8,
     "metadata": {},
     "output_type": "execute_result"
    }
   ],
   "source": [
    "k1[5]"
   ]
  },
  {
   "cell_type": "markdown",
   "id": "7f57c0b6-feca-42ed-843d-cfb6bd35ca3a",
   "metadata": {},
   "source": [
    "6 to 8 are List indexing"
   ]
  },
  {
   "cell_type": "code",
   "execution_count": null,
   "id": "5a153a18-02fb-44c4-a2c3-2a3c33f8e2a1",
   "metadata": {},
   "outputs": [],
   "source": []
  },
  {
   "cell_type": "markdown",
   "id": "84e9a354-1dd1-4f5a-b2fb-6662b0bf7d86",
   "metadata": {},
   "source": [
    "List slicing"
   ]
  },
  {
   "cell_type": "code",
   "execution_count": 9,
   "id": "42e7b37a-42ae-48e7-bfdb-ad7ff28f58f7",
   "metadata": {},
   "outputs": [
    {
     "data": {
      "text/plain": [
       "[1, 12, 34]"
      ]
     },
     "execution_count": 9,
     "metadata": {},
     "output_type": "execute_result"
    }
   ],
   "source": [
    "k1[0:3]"
   ]
  },
  {
   "cell_type": "code",
   "execution_count": 10,
   "id": "c2925aab-ddd2-43b2-946f-22914b732e2e",
   "metadata": {},
   "outputs": [
    {
     "data": {
      "text/plain": [
       "[1, 12, 34, 'ankit', 23.45]"
      ]
     },
     "execution_count": 10,
     "metadata": {},
     "output_type": "execute_result"
    }
   ],
   "source": [
    "k1[0:5]"
   ]
  },
  {
   "cell_type": "code",
   "execution_count": 11,
   "id": "2c942a79-60d8-4339-8fd5-f4b924d90757",
   "metadata": {},
   "outputs": [
    {
     "data": {
      "text/plain": [
       "(3+4j)"
      ]
     },
     "execution_count": 11,
     "metadata": {},
     "output_type": "execute_result"
    }
   ],
   "source": [
    "k1[-1]"
   ]
  },
  {
   "cell_type": "code",
   "execution_count": 12,
   "id": "30e205d1-c529-4fd1-b6e9-744d15bb6dd2",
   "metadata": {},
   "outputs": [
    {
     "data": {
      "text/plain": [
       "[(3+4j), 23.45, 'ankit', 34, 12, 1]"
      ]
     },
     "execution_count": 12,
     "metadata": {},
     "output_type": "execute_result"
    }
   ],
   "source": [
    "k1[::-1]"
   ]
  },
  {
   "cell_type": "markdown",
   "id": "26eefc3c-ca77-403c-adfa-5ce12953c21a",
   "metadata": {},
   "source": [
    "Ab hum string ko ek variable mai define karenge"
   ]
  },
  {
   "cell_type": "code",
   "execution_count": 13,
   "id": "a867bbc5-ef3c-4863-a89d-ba08b944a303",
   "metadata": {},
   "outputs": [],
   "source": [
    "f = \"pwskills\""
   ]
  },
  {
   "cell_type": "code",
   "execution_count": 14,
   "id": "54d32f3b-0bb8-4251-82f5-403eab563851",
   "metadata": {},
   "outputs": [
    {
     "data": {
      "text/plain": [
       "'pwskills'"
      ]
     },
     "execution_count": 14,
     "metadata": {},
     "output_type": "execute_result"
    }
   ],
   "source": [
    "f"
   ]
  },
  {
   "cell_type": "code",
   "execution_count": 15,
   "id": "ecbf7775-371d-4895-bf65-e0094eac26bb",
   "metadata": {},
   "outputs": [
    {
     "ename": "TypeError",
     "evalue": "can only concatenate list (not \"str\") to list",
     "output_type": "error",
     "traceback": [
      "\u001b[0;31m---------------------------------------------------------------------------\u001b[0m",
      "\u001b[0;31mTypeError\u001b[0m                                 Traceback (most recent call last)",
      "Cell \u001b[0;32mIn[15], line 1\u001b[0m\n\u001b[0;32m----> 1\u001b[0m \u001b[43mk1\u001b[49m\u001b[43m \u001b[49m\u001b[38;5;241;43m+\u001b[39;49m\u001b[43m \u001b[49m\u001b[43mf\u001b[49m\n",
      "\u001b[0;31mTypeError\u001b[0m: can only concatenate list (not \"str\") to list"
     ]
    }
   ],
   "source": [
    "k1 + f"
   ]
  },
  {
   "cell_type": "markdown",
   "id": "50da3045-6e92-4e8e-be16-fb9cffa64e37",
   "metadata": {},
   "source": [
    "Error islea aaya keoki, List ke sath string ko add nhi kr sakte"
   ]
  },
  {
   "cell_type": "code",
   "execution_count": 16,
   "id": "6cf68591-4789-46ec-bef5-df23d4f2f002",
   "metadata": {},
   "outputs": [
    {
     "data": {
      "text/plain": [
       "list['pwskills']"
      ]
     },
     "execution_count": 16,
     "metadata": {},
     "output_type": "execute_result"
    }
   ],
   "source": [
    "list[f]"
   ]
  },
  {
   "cell_type": "code",
   "execution_count": 17,
   "id": "c60f1f5f-a4d8-48a4-9289-0400e30fecf0",
   "metadata": {},
   "outputs": [
    {
     "data": {
      "text/plain": [
       "['p', 'w', 's', 'k', 'i', 'l', 'l', 's']"
      ]
     },
     "execution_count": 17,
     "metadata": {},
     "output_type": "execute_result"
    }
   ],
   "source": [
    "list(f)"
   ]
  },
  {
   "cell_type": "code",
   "execution_count": 18,
   "id": "c81526c2-330e-4fd1-a1ed-1fce5a906f4c",
   "metadata": {},
   "outputs": [
    {
     "ename": "TypeError",
     "evalue": "unsupported operand type(s) for +: 'types.GenericAlias' and 'list'",
     "output_type": "error",
     "traceback": [
      "\u001b[0;31m---------------------------------------------------------------------------\u001b[0m",
      "\u001b[0;31mTypeError\u001b[0m                                 Traceback (most recent call last)",
      "Cell \u001b[0;32mIn[18], line 1\u001b[0m\n\u001b[0;32m----> 1\u001b[0m \u001b[38;5;28;43mlist\u001b[39;49m\u001b[43m[\u001b[49m\u001b[43mf\u001b[49m\u001b[43m]\u001b[49m\u001b[43m \u001b[49m\u001b[38;5;241;43m+\u001b[39;49m\u001b[43m \u001b[49m\u001b[43mk1\u001b[49m\n",
      "\u001b[0;31mTypeError\u001b[0m: unsupported operand type(s) for +: 'types.GenericAlias' and 'list'"
     ]
    }
   ],
   "source": [
    "list[f] + k1"
   ]
  },
  {
   "cell_type": "code",
   "execution_count": 19,
   "id": "24629171-e9e9-4e75-a972-0edb5d3aec54",
   "metadata": {},
   "outputs": [
    {
     "data": {
      "text/plain": [
       "['p', 'w', 's', 'k', 'i', 'l', 'l', 's', 1, 12, 34, 'ankit', 23.45, (3+4j)]"
      ]
     },
     "execution_count": 19,
     "metadata": {},
     "output_type": "execute_result"
    }
   ],
   "source": [
    "list(f) + k1"
   ]
  },
  {
   "cell_type": "code",
   "execution_count": 20,
   "id": "af7c5d56-19a1-4325-b253-00388479af77",
   "metadata": {},
   "outputs": [
    {
     "data": {
      "text/plain": [
       "[1, 12, 34, 'ankit', 23.45, (3+4j)]"
      ]
     },
     "execution_count": 20,
     "metadata": {},
     "output_type": "execute_result"
    }
   ],
   "source": [
    "k1"
   ]
  },
  {
   "cell_type": "code",
   "execution_count": 21,
   "id": "c91e44d3-5b21-496a-b594-5eb726791939",
   "metadata": {},
   "outputs": [
    {
     "data": {
      "text/plain": [
       "23.45"
      ]
     },
     "execution_count": 21,
     "metadata": {},
     "output_type": "execute_result"
    }
   ],
   "source": [
    "k1[4]"
   ]
  },
  {
   "cell_type": "code",
   "execution_count": 22,
   "id": "04c1fd28-5478-4312-90b5-59333c0439d3",
   "metadata": {},
   "outputs": [
    {
     "data": {
      "text/plain": [
       "float"
      ]
     },
     "execution_count": 22,
     "metadata": {},
     "output_type": "execute_result"
    }
   ],
   "source": [
    "type(k1[4])"
   ]
  },
  {
   "cell_type": "code",
   "execution_count": 23,
   "id": "54262dd6-2257-4f7d-a32e-5f4b421eed45",
   "metadata": {},
   "outputs": [
    {
     "data": {
      "text/plain": [
       "'ankit'"
      ]
     },
     "execution_count": 23,
     "metadata": {},
     "output_type": "execute_result"
    }
   ],
   "source": [
    "k1[3]"
   ]
  },
  {
   "cell_type": "code",
   "execution_count": 24,
   "id": "c8e72161-ef62-49d4-b844-a493c6d2654d",
   "metadata": {},
   "outputs": [
    {
     "data": {
      "text/plain": [
       "str"
      ]
     },
     "execution_count": 24,
     "metadata": {},
     "output_type": "execute_result"
    }
   ],
   "source": [
    "type(k1[3])"
   ]
  },
  {
   "cell_type": "code",
   "execution_count": 25,
   "id": "c1ac6f33-11cd-4edc-aedb-b3f4a1a405f1",
   "metadata": {},
   "outputs": [
    {
     "data": {
      "text/plain": [
       "'ank'"
      ]
     },
     "execution_count": 25,
     "metadata": {},
     "output_type": "execute_result"
    }
   ],
   "source": [
    "k1[3][0:3]"
   ]
  },
  {
   "cell_type": "code",
   "execution_count": 26,
   "id": "d414699f-6e1f-4375-87c2-1bc5b75b8906",
   "metadata": {},
   "outputs": [
    {
     "ename": "TypeError",
     "evalue": "'float' object is not subscriptable",
     "output_type": "error",
     "traceback": [
      "\u001b[0;31m---------------------------------------------------------------------------\u001b[0m",
      "\u001b[0;31mTypeError\u001b[0m                                 Traceback (most recent call last)",
      "Cell \u001b[0;32mIn[26], line 1\u001b[0m\n\u001b[0;32m----> 1\u001b[0m \u001b[43mk1\u001b[49m\u001b[43m[\u001b[49m\u001b[38;5;241;43m4\u001b[39;49m\u001b[43m]\u001b[49m\u001b[43m[\u001b[49m\u001b[38;5;241;43m0\u001b[39;49m\u001b[43m:\u001b[49m\u001b[38;5;241;43m4\u001b[39;49m\u001b[43m]\u001b[49m\n",
      "\u001b[0;31mTypeError\u001b[0m: 'float' object is not subscriptable"
     ]
    }
   ],
   "source": [
    "k1[4][0:4]"
   ]
  },
  {
   "cell_type": "markdown",
   "id": "4c43e17a-2251-412a-a1e5-dddfccdbe70c",
   "metadata": {},
   "source": [
    "error islea aaya keoki, float subscriptable nhi hai"
   ]
  },
  {
   "cell_type": "code",
   "execution_count": 27,
   "id": "d63d97b2-69e0-4561-9a79-4b5e8c01c9b9",
   "metadata": {},
   "outputs": [
    {
     "data": {
      "text/plain": [
       "'23.4'"
      ]
     },
     "execution_count": 27,
     "metadata": {},
     "output_type": "execute_result"
    }
   ],
   "source": [
    "str(k1[4])[0:4]"
   ]
  },
  {
   "cell_type": "code",
   "execution_count": 28,
   "id": "dbad3f61-658f-4acd-9f8b-214d776d0638",
   "metadata": {},
   "outputs": [
    {
     "data": {
      "text/plain": [
       "[1, 12, 34, 'ankit', 23.45, (3+4j)]"
      ]
     },
     "execution_count": 28,
     "metadata": {},
     "output_type": "execute_result"
    }
   ],
   "source": [
    "k1"
   ]
  },
  {
   "cell_type": "code",
   "execution_count": 29,
   "id": "dc8ea5a5-1217-4da1-87ca-b3ea2fbf8629",
   "metadata": {},
   "outputs": [],
   "source": [
    "g1 = [4,5,6,7,8,9,10]"
   ]
  },
  {
   "cell_type": "code",
   "execution_count": 30,
   "id": "92bc1e77-87c9-48bb-baf3-0fc86ba4dc6c",
   "metadata": {},
   "outputs": [
    {
     "data": {
      "text/plain": [
       "[4, 5, 6, 7, 8, 9, 10]"
      ]
     },
     "execution_count": 30,
     "metadata": {},
     "output_type": "execute_result"
    }
   ],
   "source": [
    "g1"
   ]
  },
  {
   "cell_type": "code",
   "execution_count": 31,
   "id": "387fafb2-726d-4c0a-b713-b6513d55323d",
   "metadata": {},
   "outputs": [
    {
     "data": {
      "text/plain": [
       "[1, 12, 34, 'ankit', 23.45, (3+4j), 4, 5, 6, 7, 8, 9, 10]"
      ]
     },
     "execution_count": 31,
     "metadata": {},
     "output_type": "execute_result"
    }
   ],
   "source": [
    "k1+g1"
   ]
  },
  {
   "cell_type": "code",
   "execution_count": 32,
   "id": "8785c3eb-bba5-4b28-9baf-51de7fae1112",
   "metadata": {},
   "outputs": [
    {
     "data": {
      "text/plain": [
       "6"
      ]
     },
     "execution_count": 32,
     "metadata": {},
     "output_type": "execute_result"
    }
   ],
   "source": [
    "len(k1)"
   ]
  },
  {
   "cell_type": "code",
   "execution_count": 33,
   "id": "37f36fd4-cd80-44b6-8430-d9e7cf36d0e4",
   "metadata": {},
   "outputs": [
    {
     "data": {
      "text/plain": [
       "7"
      ]
     },
     "execution_count": 33,
     "metadata": {},
     "output_type": "execute_result"
    }
   ],
   "source": [
    "len(g1)"
   ]
  },
  {
   "cell_type": "code",
   "execution_count": 34,
   "id": "22b7e4d3-5d58-4c44-acd6-6bce42b67505",
   "metadata": {},
   "outputs": [
    {
     "data": {
      "text/plain": [
       "13"
      ]
     },
     "execution_count": 34,
     "metadata": {},
     "output_type": "execute_result"
    }
   ],
   "source": [
    "len(k1+g1)"
   ]
  },
  {
   "cell_type": "code",
   "execution_count": 35,
   "id": "c5f45067-83df-4b3b-9c40-09063f8eaa87",
   "metadata": {},
   "outputs": [
    {
     "data": {
      "text/plain": [
       "[4, 5, 6, 7, 8, 9, 10]"
      ]
     },
     "execution_count": 35,
     "metadata": {},
     "output_type": "execute_result"
    }
   ],
   "source": [
    "g1"
   ]
  },
  {
   "cell_type": "code",
   "execution_count": 36,
   "id": "6ee4665d-b76c-4c66-adf5-97fb83564865",
   "metadata": {},
   "outputs": [
    {
     "data": {
      "text/plain": [
       "[4,\n",
       " 5,\n",
       " 6,\n",
       " 7,\n",
       " 8,\n",
       " 9,\n",
       " 10,\n",
       " 4,\n",
       " 5,\n",
       " 6,\n",
       " 7,\n",
       " 8,\n",
       " 9,\n",
       " 10,\n",
       " 4,\n",
       " 5,\n",
       " 6,\n",
       " 7,\n",
       " 8,\n",
       " 9,\n",
       " 10,\n",
       " 4,\n",
       " 5,\n",
       " 6,\n",
       " 7,\n",
       " 8,\n",
       " 9,\n",
       " 10]"
      ]
     },
     "execution_count": 36,
     "metadata": {},
     "output_type": "execute_result"
    }
   ],
   "source": [
    "g1*4"
   ]
  },
  {
   "cell_type": "code",
   "execution_count": 37,
   "id": "97d561bc-695b-455b-8b5c-d2e09e863f6a",
   "metadata": {},
   "outputs": [
    {
     "data": {
      "text/plain": [
       "7"
      ]
     },
     "execution_count": 37,
     "metadata": {},
     "output_type": "execute_result"
    }
   ],
   "source": [
    "len(g1)"
   ]
  },
  {
   "cell_type": "code",
   "execution_count": 38,
   "id": "25562bc3-7493-4707-baf2-5e7c52520f07",
   "metadata": {},
   "outputs": [
    {
     "data": {
      "text/plain": [
       "28"
      ]
     },
     "execution_count": 38,
     "metadata": {},
     "output_type": "execute_result"
    }
   ],
   "source": [
    "len(g1*4)"
   ]
  },
  {
   "cell_type": "code",
   "execution_count": 39,
   "id": "6f59324a-1e90-4ccf-a4e4-ceb089187276",
   "metadata": {},
   "outputs": [
    {
     "ename": "TypeError",
     "evalue": "can only concatenate list (not \"int\") to list",
     "output_type": "error",
     "traceback": [
      "\u001b[0;31m---------------------------------------------------------------------------\u001b[0m",
      "\u001b[0;31mTypeError\u001b[0m                                 Traceback (most recent call last)",
      "Cell \u001b[0;32mIn[39], line 1\u001b[0m\n\u001b[0;32m----> 1\u001b[0m \u001b[43mg1\u001b[49m\u001b[43m \u001b[49m\u001b[38;5;241;43m+\u001b[39;49m\u001b[43m \u001b[49m\u001b[38;5;241;43m2\u001b[39;49m\n",
      "\u001b[0;31mTypeError\u001b[0m: can only concatenate list (not \"int\") to list"
     ]
    }
   ],
   "source": [
    "g1 + 2"
   ]
  },
  {
   "cell_type": "markdown",
   "id": "93235254-ce16-4ba7-b6ac-02f6634e1d34",
   "metadata": {},
   "source": [
    "List + int, concatenate nhi hote"
   ]
  },
  {
   "cell_type": "code",
   "execution_count": null,
   "id": "031ded88-1867-4b3b-8ff2-25a763003a39",
   "metadata": {},
   "outputs": [],
   "source": []
  },
  {
   "cell_type": "code",
   "execution_count": null,
   "id": "a13bae61-e567-462b-acfc-95c36b9a813b",
   "metadata": {},
   "outputs": [],
   "source": []
  },
  {
   "cell_type": "markdown",
   "id": "12feee29-8048-403a-94cc-c2a2fc404da7",
   "metadata": {},
   "source": [
    "Append inbuilt function"
   ]
  },
  {
   "cell_type": "code",
   "execution_count": 40,
   "id": "3c4612bb-4e4a-4373-bfab-779b03988856",
   "metadata": {},
   "outputs": [
    {
     "data": {
      "text/plain": [
       "[4, 5, 6, 7, 8, 9, 10]"
      ]
     },
     "execution_count": 40,
     "metadata": {},
     "output_type": "execute_result"
    }
   ],
   "source": [
    "g1"
   ]
  },
  {
   "cell_type": "code",
   "execution_count": 41,
   "id": "e34a67b0-c2e7-470c-9f80-79f6ad72e9cd",
   "metadata": {},
   "outputs": [],
   "source": [
    "g1.append(12)"
   ]
  },
  {
   "cell_type": "code",
   "execution_count": 42,
   "id": "04109745-4b10-4e4c-ac8e-4734b1b343de",
   "metadata": {},
   "outputs": [
    {
     "data": {
      "text/plain": [
       "[4, 5, 6, 7, 8, 9, 10, 12]"
      ]
     },
     "execution_count": 42,
     "metadata": {},
     "output_type": "execute_result"
    }
   ],
   "source": [
    "g1"
   ]
  },
  {
   "cell_type": "code",
   "execution_count": 43,
   "id": "bed809d1-ae01-49a7-b6a2-74850c6ee55a",
   "metadata": {},
   "outputs": [],
   "source": [
    "g1.append(13)"
   ]
  },
  {
   "cell_type": "markdown",
   "id": "a8c5da0a-cd4a-4a5f-8757-b36c2c590cc7",
   "metadata": {},
   "source": [
    "g1"
   ]
  },
  {
   "cell_type": "code",
   "execution_count": 45,
   "id": "6db12f27-4689-49c6-92cc-d42d44be99b5",
   "metadata": {},
   "outputs": [],
   "source": [
    "g1.append(\"pwskills\")"
   ]
  },
  {
   "cell_type": "code",
   "execution_count": 46,
   "id": "5ea23ce6-622a-42c9-a5bc-971e72172efa",
   "metadata": {},
   "outputs": [
    {
     "data": {
      "text/plain": [
       "[4, 5, 6, 7, 8, 9, 10, 12, 13, 'pwskills']"
      ]
     },
     "execution_count": 46,
     "metadata": {},
     "output_type": "execute_result"
    }
   ],
   "source": [
    "g1"
   ]
  },
  {
   "cell_type": "code",
   "execution_count": 47,
   "id": "e0f3bd53-811c-4c10-bede-cb531bb901fd",
   "metadata": {},
   "outputs": [],
   "source": [
    "g1.append(k1)"
   ]
  },
  {
   "cell_type": "code",
   "execution_count": 48,
   "id": "52c02d56-ade8-485a-8acf-692b9c2516f6",
   "metadata": {},
   "outputs": [
    {
     "data": {
      "text/plain": [
       "[4, 5, 6, 7, 8, 9, 10, 12, 13, 'pwskills', [1, 12, 34, 'ankit', 23.45, (3+4j)]]"
      ]
     },
     "execution_count": 48,
     "metadata": {},
     "output_type": "execute_result"
    }
   ],
   "source": [
    "g1"
   ]
  },
  {
   "cell_type": "markdown",
   "id": "c03ca808-f670-4be6-97fb-5cbe62829e4b",
   "metadata": {},
   "source": [
    "iska mtlb hum,list ke ander bhi list add kr sakte hai "
   ]
  },
  {
   "cell_type": "code",
   "execution_count": null,
   "id": "760cb69f-5361-437d-b0b1-305d5c86576a",
   "metadata": {},
   "outputs": [],
   "source": []
  },
  {
   "cell_type": "code",
   "execution_count": null,
   "id": "eb167e1e-439e-4e9a-82a6-303e87870598",
   "metadata": {},
   "outputs": [],
   "source": []
  },
  {
   "cell_type": "markdown",
   "id": "b2c5cfd3-94cb-480f-99f5-bfa6cb981fb3",
   "metadata": {},
   "source": [
    "Extend() inbuilt function"
   ]
  },
  {
   "cell_type": "code",
   "execution_count": 50,
   "id": "2c8a26bd-cac4-49bf-a20d-ba118985f56f",
   "metadata": {},
   "outputs": [],
   "source": [
    "h1 = [1,2,3,4,5]"
   ]
  },
  {
   "cell_type": "code",
   "execution_count": 51,
   "id": "904c1f99-8b65-491d-96b3-f7ad12b66926",
   "metadata": {},
   "outputs": [
    {
     "data": {
      "text/plain": [
       "[1, 2, 3, 4, 5]"
      ]
     },
     "execution_count": 51,
     "metadata": {},
     "output_type": "execute_result"
    }
   ],
   "source": [
    "h1"
   ]
  },
  {
   "cell_type": "code",
   "execution_count": 52,
   "id": "d439d771-ce29-4e21-a908-6192895de22a",
   "metadata": {},
   "outputs": [
    {
     "ename": "TypeError",
     "evalue": "'int' object is not iterable",
     "output_type": "error",
     "traceback": [
      "\u001b[0;31m---------------------------------------------------------------------------\u001b[0m",
      "\u001b[0;31mTypeError\u001b[0m                                 Traceback (most recent call last)",
      "Cell \u001b[0;32mIn[52], line 1\u001b[0m\n\u001b[0;32m----> 1\u001b[0m \u001b[43mh1\u001b[49m\u001b[38;5;241;43m.\u001b[39;49m\u001b[43mextend\u001b[49m\u001b[43m(\u001b[49m\u001b[38;5;241;43m92\u001b[39;49m\u001b[43m)\u001b[49m\n",
      "\u001b[0;31mTypeError\u001b[0m: 'int' object is not iterable"
     ]
    }
   ],
   "source": [
    "h1.extend(92)"
   ]
  },
  {
   "cell_type": "code",
   "execution_count": 53,
   "id": "4e7ddaf3-6f0e-424d-ba50-c19c39783471",
   "metadata": {},
   "outputs": [],
   "source": [
    "h1.extend(\"ankit\")"
   ]
  },
  {
   "cell_type": "code",
   "execution_count": 54,
   "id": "d35f074e-89cc-40c8-a252-dc10d07b3bad",
   "metadata": {},
   "outputs": [
    {
     "data": {
      "text/plain": [
       "[1, 2, 3, 4, 5, 'a', 'n', 'k', 'i', 't']"
      ]
     },
     "execution_count": 54,
     "metadata": {},
     "output_type": "execute_result"
    }
   ],
   "source": [
    "h1"
   ]
  },
  {
   "cell_type": "code",
   "execution_count": 55,
   "id": "31096ab0-0c10-4cae-bdc1-8753786f57b4",
   "metadata": {},
   "outputs": [],
   "source": [
    "h1.extend([234])"
   ]
  },
  {
   "cell_type": "code",
   "execution_count": 56,
   "id": "42253414-2cee-463f-961f-d4fe5208582f",
   "metadata": {},
   "outputs": [
    {
     "data": {
      "text/plain": [
       "[1, 2, 3, 4, 5, 'a', 'n', 'k', 'i', 't', 234]"
      ]
     },
     "execution_count": 56,
     "metadata": {},
     "output_type": "execute_result"
    }
   ],
   "source": [
    "h1"
   ]
  },
  {
   "cell_type": "code",
   "execution_count": null,
   "id": "43375293-f655-435a-9951-4945abc794da",
   "metadata": {},
   "outputs": [],
   "source": []
  },
  {
   "cell_type": "code",
   "execution_count": null,
   "id": "d626a870-bd8b-404a-8a27-f70c1b1ebfd6",
   "metadata": {},
   "outputs": [],
   "source": []
  },
  {
   "cell_type": "markdown",
   "id": "9ec6b4fa-bffd-4f9f-97d1-68fee2903837",
   "metadata": {},
   "source": [
    "Insert() inbuilt function"
   ]
  },
  {
   "cell_type": "code",
   "execution_count": 57,
   "id": "a0eac948-55fc-4a65-9dfa-a2ed7ba45b11",
   "metadata": {},
   "outputs": [],
   "source": [
    "q1 = [5,6,7,8,9]"
   ]
  },
  {
   "cell_type": "code",
   "execution_count": 58,
   "id": "f56de810-6954-428e-9f08-56871ce6c717",
   "metadata": {},
   "outputs": [
    {
     "data": {
      "text/plain": [
       "[5, 6, 7, 8, 9]"
      ]
     },
     "execution_count": 58,
     "metadata": {},
     "output_type": "execute_result"
    }
   ],
   "source": [
    "q1"
   ]
  },
  {
   "cell_type": "code",
   "execution_count": 59,
   "id": "fa326ea4-ea9a-4544-82dd-b9fb5bd518eb",
   "metadata": {},
   "outputs": [],
   "source": [
    "q1.insert(0,\"ankit\")"
   ]
  },
  {
   "cell_type": "code",
   "execution_count": 60,
   "id": "ece7f87d-6c6c-4e20-9118-b65ae1a11d06",
   "metadata": {},
   "outputs": [
    {
     "data": {
      "text/plain": [
       "['ankit', 5, 6, 7, 8, 9]"
      ]
     },
     "execution_count": 60,
     "metadata": {},
     "output_type": "execute_result"
    }
   ],
   "source": [
    "q1"
   ]
  },
  {
   "cell_type": "code",
   "execution_count": 61,
   "id": "653ab300-9d49-4206-bd3c-1adab899852e",
   "metadata": {},
   "outputs": [],
   "source": [
    "q1.insert(1,\"kumar\")"
   ]
  },
  {
   "cell_type": "code",
   "execution_count": 62,
   "id": "8c81a5e7-3107-4df0-b199-cbad24ba028e",
   "metadata": {},
   "outputs": [
    {
     "data": {
      "text/plain": [
       "['ankit', 'kumar', 5, 6, 7, 8, 9]"
      ]
     },
     "execution_count": 62,
     "metadata": {},
     "output_type": "execute_result"
    }
   ],
   "source": [
    "q1"
   ]
  },
  {
   "cell_type": "code",
   "execution_count": 63,
   "id": "1f1d6d83-6bcd-41fb-b10a-0cb62902003c",
   "metadata": {},
   "outputs": [],
   "source": [
    "q1.insert(2,\"koli\")"
   ]
  },
  {
   "cell_type": "code",
   "execution_count": 64,
   "id": "54153eeb-1342-45ca-b3f8-d9a12f88da18",
   "metadata": {},
   "outputs": [
    {
     "data": {
      "text/plain": [
       "['ankit', 'kumar', 'koli', 5, 6, 7, 8, 9]"
      ]
     },
     "execution_count": 64,
     "metadata": {},
     "output_type": "execute_result"
    }
   ],
   "source": [
    "q1"
   ]
  },
  {
   "cell_type": "code",
   "execution_count": 65,
   "id": "2116d350-4177-477b-bfbb-97985555d7b4",
   "metadata": {},
   "outputs": [],
   "source": [
    "q1.insert(6,\"Ironman\")"
   ]
  },
  {
   "cell_type": "code",
   "execution_count": 66,
   "id": "a0b47dda-f5b6-4540-887e-c632659298d3",
   "metadata": {},
   "outputs": [
    {
     "data": {
      "text/plain": [
       "['ankit', 'kumar', 'koli', 5, 6, 7, 'Ironman', 8, 9]"
      ]
     },
     "execution_count": 66,
     "metadata": {},
     "output_type": "execute_result"
    }
   ],
   "source": [
    "q1"
   ]
  },
  {
   "cell_type": "code",
   "execution_count": 67,
   "id": "003898bb-c3e1-4cfb-9c6e-45fc913cc43e",
   "metadata": {},
   "outputs": [],
   "source": [
    "q1.insert(5,3333333)"
   ]
  },
  {
   "cell_type": "code",
   "execution_count": 68,
   "id": "a97d7b8d-f75c-4cfd-98ee-65bee7a243ef",
   "metadata": {},
   "outputs": [
    {
     "data": {
      "text/plain": [
       "['ankit', 'kumar', 'koli', 5, 6, 3333333, 7, 'Ironman', 8, 9]"
      ]
     },
     "execution_count": 68,
     "metadata": {},
     "output_type": "execute_result"
    }
   ],
   "source": [
    "q1"
   ]
  },
  {
   "cell_type": "code",
   "execution_count": 69,
   "id": "4819b4a5-cbfe-42e6-a089-caae3195801e",
   "metadata": {},
   "outputs": [],
   "source": [
    "q1.insert(-1,12)"
   ]
  },
  {
   "cell_type": "code",
   "execution_count": 70,
   "id": "e4139af4-c425-4729-a8b2-9587c40e94d9",
   "metadata": {},
   "outputs": [
    {
     "data": {
      "text/plain": [
       "['ankit', 'kumar', 'koli', 5, 6, 3333333, 7, 'Ironman', 8, 12, 9]"
      ]
     },
     "execution_count": 70,
     "metadata": {},
     "output_type": "execute_result"
    }
   ],
   "source": [
    "q1"
   ]
  },
  {
   "cell_type": "code",
   "execution_count": 71,
   "id": "fa43a492-1a7b-4930-96b3-2e3c2704e9a1",
   "metadata": {},
   "outputs": [],
   "source": [
    "q1.insert(0,12)"
   ]
  },
  {
   "cell_type": "code",
   "execution_count": 72,
   "id": "1a558c90-f3a9-4209-aa56-e7c90265f413",
   "metadata": {},
   "outputs": [
    {
     "data": {
      "text/plain": [
       "[12, 'ankit', 'kumar', 'koli', 5, 6, 3333333, 7, 'Ironman', 8, 12, 9]"
      ]
     },
     "execution_count": 72,
     "metadata": {},
     "output_type": "execute_result"
    }
   ],
   "source": [
    "q1"
   ]
  },
  {
   "cell_type": "code",
   "execution_count": null,
   "id": "7234d9d4-f6af-448f-a7c3-cee336f150e3",
   "metadata": {},
   "outputs": [],
   "source": []
  },
  {
   "cell_type": "code",
   "execution_count": null,
   "id": "421773a7-3544-432b-ab77-2cc097650f59",
   "metadata": {},
   "outputs": [],
   "source": []
  },
  {
   "cell_type": "markdown",
   "id": "165075f0-4212-4a93-ab9a-e294d0b7bf67",
   "metadata": {},
   "source": [
    "POP() inbuilt function"
   ]
  },
  {
   "cell_type": "code",
   "execution_count": 74,
   "id": "750c9bf0-4492-407f-b54e-f445afd8c970",
   "metadata": {},
   "outputs": [
    {
     "data": {
      "text/plain": [
       "9"
      ]
     },
     "execution_count": 74,
     "metadata": {},
     "output_type": "execute_result"
    }
   ],
   "source": [
    "q1.pop()"
   ]
  },
  {
   "cell_type": "code",
   "execution_count": 75,
   "id": "7f7dbefb-8dab-4336-897f-65e6ef5dae3f",
   "metadata": {},
   "outputs": [
    {
     "data": {
      "text/plain": [
       "12"
      ]
     },
     "execution_count": 75,
     "metadata": {},
     "output_type": "execute_result"
    }
   ],
   "source": [
    "q1.pop()"
   ]
  },
  {
   "cell_type": "code",
   "execution_count": 76,
   "id": "4a533f65-3ce9-4d2d-b6fe-629015cd578b",
   "metadata": {},
   "outputs": [
    {
     "data": {
      "text/plain": [
       "8"
      ]
     },
     "execution_count": 76,
     "metadata": {},
     "output_type": "execute_result"
    }
   ],
   "source": [
    "q1.pop()"
   ]
  },
  {
   "cell_type": "code",
   "execution_count": 77,
   "id": "60b1293c-d600-46c3-a097-394e69dd9063",
   "metadata": {},
   "outputs": [
    {
     "data": {
      "text/plain": [
       "3333333"
      ]
     },
     "execution_count": 77,
     "metadata": {},
     "output_type": "execute_result"
    }
   ],
   "source": [
    "q1.pop(6)"
   ]
  },
  {
   "cell_type": "code",
   "execution_count": 78,
   "id": "52453e83-3c81-481a-b390-99c0001aa5dc",
   "metadata": {},
   "outputs": [
    {
     "data": {
      "text/plain": [
       "[12, 'ankit', 'kumar', 'koli', 5, 6, 7, 'Ironman']"
      ]
     },
     "execution_count": 78,
     "metadata": {},
     "output_type": "execute_result"
    }
   ],
   "source": [
    "q1"
   ]
  },
  {
   "cell_type": "code",
   "execution_count": 79,
   "id": "9843109d-0342-47b8-a1a7-7d9e5c7673e9",
   "metadata": {},
   "outputs": [
    {
     "data": {
      "text/plain": [
       "'kumar'"
      ]
     },
     "execution_count": 79,
     "metadata": {},
     "output_type": "execute_result"
    }
   ],
   "source": [
    "q1.pop(2)"
   ]
  },
  {
   "cell_type": "code",
   "execution_count": 80,
   "id": "707217ed-aea0-462a-80f9-921db45c7567",
   "metadata": {},
   "outputs": [
    {
     "data": {
      "text/plain": [
       "[12, 'ankit', 'koli', 5, 6, 7, 'Ironman']"
      ]
     },
     "execution_count": 80,
     "metadata": {},
     "output_type": "execute_result"
    }
   ],
   "source": [
    "q1"
   ]
  },
  {
   "cell_type": "code",
   "execution_count": null,
   "id": "5ff52b7b-1074-479e-8b07-430224c1c227",
   "metadata": {},
   "outputs": [],
   "source": []
  },
  {
   "cell_type": "code",
   "execution_count": null,
   "id": "fe2f0b72-0480-4af2-9180-24824c5c75f7",
   "metadata": {},
   "outputs": [],
   "source": []
  },
  {
   "cell_type": "markdown",
   "id": "4a9e7bdc-bfa8-495e-9917-e4e06da71a98",
   "metadata": {},
   "source": [
    "Remove() inbuilt function"
   ]
  },
  {
   "cell_type": "code",
   "execution_count": 81,
   "id": "1cb48351-595f-4477-beb7-2b84109c6a24",
   "metadata": {},
   "outputs": [
    {
     "data": {
      "text/plain": [
       "[12, 'ankit', 'koli', 5, 6, 7, 'Ironman']"
      ]
     },
     "execution_count": 81,
     "metadata": {},
     "output_type": "execute_result"
    }
   ],
   "source": [
    "q1"
   ]
  },
  {
   "cell_type": "code",
   "execution_count": 82,
   "id": "0f64cf8b-0fc9-4cdc-8d2e-7e1e32ffaf83",
   "metadata": {},
   "outputs": [],
   "source": [
    "q1.remove(\"koli\")"
   ]
  },
  {
   "cell_type": "code",
   "execution_count": 83,
   "id": "5c1d1407-c4fc-4244-b0fc-a227d71cec2f",
   "metadata": {},
   "outputs": [
    {
     "data": {
      "text/plain": [
       "[12, 'ankit', 5, 6, 7, 'Ironman']"
      ]
     },
     "execution_count": 83,
     "metadata": {},
     "output_type": "execute_result"
    }
   ],
   "source": [
    "q1"
   ]
  },
  {
   "cell_type": "code",
   "execution_count": 84,
   "id": "34b2ae7a-6a29-41c6-b1c5-91711b8eb1e0",
   "metadata": {},
   "outputs": [
    {
     "ename": "ValueError",
     "evalue": "list.remove(x): x not in list",
     "output_type": "error",
     "traceback": [
      "\u001b[0;31m---------------------------------------------------------------------------\u001b[0m",
      "\u001b[0;31mValueError\u001b[0m                                Traceback (most recent call last)",
      "Cell \u001b[0;32mIn[84], line 1\u001b[0m\n\u001b[0;32m----> 1\u001b[0m \u001b[43mq1\u001b[49m\u001b[38;5;241;43m.\u001b[39;49m\u001b[43mremove\u001b[49m\u001b[43m(\u001b[49m\u001b[38;5;124;43m\"\u001b[39;49m\u001b[38;5;124;43mkumar\u001b[39;49m\u001b[38;5;124;43m\"\u001b[39;49m\u001b[43m)\u001b[49m\n",
      "\u001b[0;31mValueError\u001b[0m: list.remove(x): x not in list"
     ]
    }
   ],
   "source": [
    "q1.remove(\"kumar\")"
   ]
  },
  {
   "cell_type": "code",
   "execution_count": 85,
   "id": "7ea9ef44-4833-443e-8872-43886902b434",
   "metadata": {},
   "outputs": [],
   "source": [
    "q1.append([22,23,24,25])"
   ]
  },
  {
   "cell_type": "code",
   "execution_count": 86,
   "id": "ff09a291-0f1d-4502-a17e-b952916a48e7",
   "metadata": {},
   "outputs": [
    {
     "data": {
      "text/plain": [
       "[12, 'ankit', 5, 6, 7, 'Ironman', [22, 23, 24, 25]]"
      ]
     },
     "execution_count": 86,
     "metadata": {},
     "output_type": "execute_result"
    }
   ],
   "source": [
    "q1"
   ]
  },
  {
   "cell_type": "code",
   "execution_count": 88,
   "id": "22b852e2-aaa9-47d2-bd38-f97209246cb7",
   "metadata": {},
   "outputs": [],
   "source": [
    "q1[6].remove(23)"
   ]
  },
  {
   "cell_type": "code",
   "execution_count": 89,
   "id": "d93f8df0-5bdd-4014-bf7d-4cc61e87e41b",
   "metadata": {},
   "outputs": [
    {
     "data": {
      "text/plain": [
       "[12, 'ankit', 5, 6, 7, 'Ironman', [22, 24, 25]]"
      ]
     },
     "execution_count": 89,
     "metadata": {},
     "output_type": "execute_result"
    }
   ],
   "source": [
    "q1"
   ]
  },
  {
   "cell_type": "code",
   "execution_count": 90,
   "id": "612b38ac-4db0-4786-8cc7-4285df8fff1f",
   "metadata": {},
   "outputs": [],
   "source": [
    "q1[6].remove(24)"
   ]
  },
  {
   "cell_type": "code",
   "execution_count": 91,
   "id": "d6039543-94ce-46f1-9b0e-12a3a5b703fb",
   "metadata": {},
   "outputs": [
    {
     "data": {
      "text/plain": [
       "[12, 'ankit', 5, 6, 7, 'Ironman', [22, 25]]"
      ]
     },
     "execution_count": 91,
     "metadata": {},
     "output_type": "execute_result"
    }
   ],
   "source": [
    "q1"
   ]
  },
  {
   "cell_type": "code",
   "execution_count": 92,
   "id": "e6771750-43be-4a35-8d42-68ef756d9ef0",
   "metadata": {},
   "outputs": [
    {
     "ename": "AttributeError",
     "evalue": "'str' object has no attribute 'remove'",
     "output_type": "error",
     "traceback": [
      "\u001b[0;31m---------------------------------------------------------------------------\u001b[0m",
      "\u001b[0;31mAttributeError\u001b[0m                            Traceback (most recent call last)",
      "Cell \u001b[0;32mIn[92], line 1\u001b[0m\n\u001b[0;32m----> 1\u001b[0m \u001b[43mq1\u001b[49m\u001b[43m[\u001b[49m\u001b[38;5;241;43m1\u001b[39;49m\u001b[43m]\u001b[49m\u001b[38;5;241;43m.\u001b[39;49m\u001b[43mremove\u001b[49m(\u001b[38;5;124m\"\u001b[39m\u001b[38;5;124mnk\u001b[39m\u001b[38;5;124m\"\u001b[39m)\n",
      "\u001b[0;31mAttributeError\u001b[0m: 'str' object has no attribute 'remove'"
     ]
    }
   ],
   "source": [
    "q1[1].remove(\"nk\")"
   ]
  },
  {
   "cell_type": "code",
   "execution_count": 93,
   "id": "bff47711-e711-4176-ad5d-8658dc267bcf",
   "metadata": {},
   "outputs": [
    {
     "ename": "AttributeError",
     "evalue": "'str' object has no attribute 'remove'",
     "output_type": "error",
     "traceback": [
      "\u001b[0;31m---------------------------------------------------------------------------\u001b[0m",
      "\u001b[0;31mAttributeError\u001b[0m                            Traceback (most recent call last)",
      "Cell \u001b[0;32mIn[93], line 1\u001b[0m\n\u001b[0;32m----> 1\u001b[0m \u001b[43mq1\u001b[49m\u001b[43m[\u001b[49m\u001b[38;5;241;43m5\u001b[39;49m\u001b[43m]\u001b[49m\u001b[38;5;241;43m.\u001b[39;49m\u001b[43mremove\u001b[49m(\u001b[38;5;124m\"\u001b[39m\u001b[38;5;124mma\u001b[39m\u001b[38;5;124m\"\u001b[39m)\n",
      "\u001b[0;31mAttributeError\u001b[0m: 'str' object has no attribute 'remove'"
     ]
    }
   ],
   "source": [
    "q1[5].remove(\"ma\")"
   ]
  },
  {
   "cell_type": "code",
   "execution_count": null,
   "id": "59e53136-9432-46b6-a795-f81506bbc92a",
   "metadata": {},
   "outputs": [],
   "source": []
  },
  {
   "cell_type": "code",
   "execution_count": null,
   "id": "ab0c9012-cecd-4357-b13b-268c25b749c9",
   "metadata": {},
   "outputs": [],
   "source": []
  },
  {
   "cell_type": "code",
   "execution_count": null,
   "id": "9b64d62d-769c-486d-bd82-7fb7ff9f8716",
   "metadata": {},
   "outputs": [],
   "source": []
  },
  {
   "cell_type": "markdown",
   "id": "022d16b1-a60f-44b5-8d86-2bddd6ba69f3",
   "metadata": {},
   "source": [
    "Reverse() inbuilt function"
   ]
  },
  {
   "cell_type": "code",
   "execution_count": 94,
   "id": "5b4aa6c0-52d5-4826-960a-83dbe1ff3eaa",
   "metadata": {},
   "outputs": [
    {
     "data": {
      "text/plain": [
       "[12, 'ankit', 5, 6, 7, 'Ironman', [22, 25]]"
      ]
     },
     "execution_count": 94,
     "metadata": {},
     "output_type": "execute_result"
    }
   ],
   "source": [
    "q1"
   ]
  },
  {
   "cell_type": "code",
   "execution_count": 95,
   "id": "0b800a84-a979-4fcc-91d0-75e17bc0b7c1",
   "metadata": {},
   "outputs": [],
   "source": [
    "q1.reverse()"
   ]
  },
  {
   "cell_type": "code",
   "execution_count": 96,
   "id": "7078b52b-4c87-4bfc-9da1-8aab0679d54d",
   "metadata": {},
   "outputs": [
    {
     "data": {
      "text/plain": [
       "[[22, 25], 'Ironman', 7, 6, 5, 'ankit', 12]"
      ]
     },
     "execution_count": 96,
     "metadata": {},
     "output_type": "execute_result"
    }
   ],
   "source": [
    "q1"
   ]
  },
  {
   "cell_type": "code",
   "execution_count": 97,
   "id": "b5d69e16-a7d1-432a-833c-59fc0b9c6716",
   "metadata": {},
   "outputs": [
    {
     "data": {
      "text/plain": [
       "[12, 'ankit', 5, 6, 7, 'Ironman', [22, 25]]"
      ]
     },
     "execution_count": 97,
     "metadata": {},
     "output_type": "execute_result"
    }
   ],
   "source": [
    "q1[::-1]"
   ]
  },
  {
   "cell_type": "code",
   "execution_count": 98,
   "id": "6d9c81cb-bcee-4cfe-b5c0-731d107a3e62",
   "metadata": {},
   "outputs": [
    {
     "data": {
      "text/plain": [
       "[[22, 25], 'Ironman', 7, 6, 5, 'ankit', 12]"
      ]
     },
     "execution_count": 98,
     "metadata": {},
     "output_type": "execute_result"
    }
   ],
   "source": [
    "q1"
   ]
  },
  {
   "cell_type": "markdown",
   "id": "92da9d15-8f73-46b9-8fa7-e60d7fc70ea6",
   "metadata": {},
   "source": [
    "[::-1] is a temporary reverse but \n",
    "Reverse() function is a permanent reverse"
   ]
  },
  {
   "cell_type": "code",
   "execution_count": null,
   "id": "a3beaae7-5c40-45d3-9edc-b8b67c9d5c60",
   "metadata": {},
   "outputs": [],
   "source": []
  },
  {
   "cell_type": "code",
   "execution_count": null,
   "id": "b2e76c6a-af19-4293-911f-c322b33cb49a",
   "metadata": {},
   "outputs": [],
   "source": []
  },
  {
   "cell_type": "code",
   "execution_count": null,
   "id": "86cbf1ca-df40-4552-adeb-7cd8f43c0215",
   "metadata": {},
   "outputs": [],
   "source": []
  },
  {
   "cell_type": "code",
   "execution_count": null,
   "id": "8256ad1e-7f12-47b5-9745-f23cb23d3875",
   "metadata": {},
   "outputs": [],
   "source": []
  },
  {
   "cell_type": "markdown",
   "id": "d244ce23-aaf8-4713-87d7-3c58ba24825f",
   "metadata": {},
   "source": [
    "Sort() inbuilt function"
   ]
  },
  {
   "cell_type": "code",
   "execution_count": 99,
   "id": "53dd6497-f5bd-4a34-b0d3-50ff151f62be",
   "metadata": {},
   "outputs": [],
   "source": [
    "w1 = [2,5,7,1,3,9,4,8]"
   ]
  },
  {
   "cell_type": "code",
   "execution_count": 100,
   "id": "bad01bd5-6fdf-4705-9bb4-f568d1f64986",
   "metadata": {},
   "outputs": [
    {
     "data": {
      "text/plain": [
       "[2, 5, 7, 1, 3, 9, 4, 8]"
      ]
     },
     "execution_count": 100,
     "metadata": {},
     "output_type": "execute_result"
    }
   ],
   "source": [
    "w1"
   ]
  },
  {
   "cell_type": "code",
   "execution_count": 101,
   "id": "e1268554-b955-445c-8596-871186583c3b",
   "metadata": {},
   "outputs": [],
   "source": [
    "w1.sort()"
   ]
  },
  {
   "cell_type": "code",
   "execution_count": 102,
   "id": "44e11e32-f27e-4efe-b222-f42b38a3ee2c",
   "metadata": {},
   "outputs": [
    {
     "data": {
      "text/plain": [
       "[1, 2, 3, 4, 5, 7, 8, 9]"
      ]
     },
     "execution_count": 102,
     "metadata": {},
     "output_type": "execute_result"
    }
   ],
   "source": [
    "w1"
   ]
  },
  {
   "cell_type": "code",
   "execution_count": 103,
   "id": "1eeb8f63-5bdc-48cd-b36d-a1a62dffee57",
   "metadata": {},
   "outputs": [
    {
     "data": {
      "text/plain": [
       "[[22, 25], 'Ironman', 7, 6, 5, 'ankit', 12]"
      ]
     },
     "execution_count": 103,
     "metadata": {},
     "output_type": "execute_result"
    }
   ],
   "source": [
    "q1"
   ]
  },
  {
   "cell_type": "code",
   "execution_count": 104,
   "id": "7fc6172c-56d4-4ea3-9493-3523e94b8279",
   "metadata": {},
   "outputs": [
    {
     "ename": "TypeError",
     "evalue": "'<' not supported between instances of 'str' and 'list'",
     "output_type": "error",
     "traceback": [
      "\u001b[0;31m---------------------------------------------------------------------------\u001b[0m",
      "\u001b[0;31mTypeError\u001b[0m                                 Traceback (most recent call last)",
      "Cell \u001b[0;32mIn[104], line 1\u001b[0m\n\u001b[0;32m----> 1\u001b[0m \u001b[43mq1\u001b[49m\u001b[38;5;241;43m.\u001b[39;49m\u001b[43msort\u001b[49m\u001b[43m(\u001b[49m\u001b[43m)\u001b[49m\n",
      "\u001b[0;31mTypeError\u001b[0m: '<' not supported between instances of 'str' and 'list'"
     ]
    }
   ],
   "source": [
    "q1.sort()"
   ]
  },
  {
   "cell_type": "code",
   "execution_count": 105,
   "id": "a7b936ff-408c-4ba2-906b-b3cab0cd4adc",
   "metadata": {},
   "outputs": [],
   "source": [
    "a1 = [\"super\",\"man\",\"hai\",\"tera\",\"bhai\"]"
   ]
  },
  {
   "cell_type": "code",
   "execution_count": 106,
   "id": "c2028911-eae4-43fb-8c7e-7ac486063352",
   "metadata": {},
   "outputs": [
    {
     "data": {
      "text/plain": [
       "['super', 'man', 'hai', 'tera', 'bhai']"
      ]
     },
     "execution_count": 106,
     "metadata": {},
     "output_type": "execute_result"
    }
   ],
   "source": [
    "a1"
   ]
  },
  {
   "cell_type": "code",
   "execution_count": 107,
   "id": "bcbf3cf3-96fc-4900-a641-91e1e866b365",
   "metadata": {},
   "outputs": [],
   "source": [
    "a1.sort()"
   ]
  },
  {
   "cell_type": "code",
   "execution_count": 108,
   "id": "a5adcc99-7aca-4e6a-97bf-cdc02afaab23",
   "metadata": {},
   "outputs": [
    {
     "data": {
      "text/plain": [
       "['bhai', 'hai', 'man', 'super', 'tera']"
      ]
     },
     "execution_count": 108,
     "metadata": {},
     "output_type": "execute_result"
    }
   ],
   "source": [
    "a1"
   ]
  },
  {
   "cell_type": "code",
   "execution_count": 109,
   "id": "0b0549f4-ab85-4bc0-ab83-63d44bf122b3",
   "metadata": {},
   "outputs": [],
   "source": [
    "s1 = [\"hai\",\"ankit\",\"mera\",\"naam\"]"
   ]
  },
  {
   "cell_type": "code",
   "execution_count": 110,
   "id": "9310e60a-6684-4970-ad2c-c636dd663ed2",
   "metadata": {},
   "outputs": [
    {
     "data": {
      "text/plain": [
       "['hai', 'ankit', 'mera', 'naam']"
      ]
     },
     "execution_count": 110,
     "metadata": {},
     "output_type": "execute_result"
    }
   ],
   "source": [
    "s1"
   ]
  },
  {
   "cell_type": "code",
   "execution_count": 111,
   "id": "2febf2c0-ab82-4a46-bca0-8b136d32bc2c",
   "metadata": {},
   "outputs": [],
   "source": [
    "s1.sort()"
   ]
  },
  {
   "cell_type": "code",
   "execution_count": 112,
   "id": "c483622f-3803-4c1c-a5e2-4ff01fcce86f",
   "metadata": {},
   "outputs": [
    {
     "data": {
      "text/plain": [
       "['ankit', 'hai', 'mera', 'naam']"
      ]
     },
     "execution_count": 112,
     "metadata": {},
     "output_type": "execute_result"
    }
   ],
   "source": [
    "s1"
   ]
  },
  {
   "cell_type": "code",
   "execution_count": 115,
   "id": "5f805bb8-0fec-4c07-bd8e-fdd9c8ec0db0",
   "metadata": {},
   "outputs": [],
   "source": [
    "d1 = [\"jata\",\"ka\",\"baap\",\"hai\",\"tere\",\"kya\"]"
   ]
  },
  {
   "cell_type": "code",
   "execution_count": 116,
   "id": "9b5dbf47-0dd0-4d89-ac25-513cf703792f",
   "metadata": {},
   "outputs": [
    {
     "data": {
      "text/plain": [
       "['jata', 'ka', 'baap', 'hai', 'tere', 'kya']"
      ]
     },
     "execution_count": 116,
     "metadata": {},
     "output_type": "execute_result"
    }
   ],
   "source": [
    "d1"
   ]
  },
  {
   "cell_type": "code",
   "execution_count": 117,
   "id": "0e2e58ed-d04e-41a5-923b-4b83d10fe808",
   "metadata": {},
   "outputs": [],
   "source": [
    "d1.sort()"
   ]
  },
  {
   "cell_type": "code",
   "execution_count": 118,
   "id": "61818f00-6cb0-4b35-ba2d-860e5be09adf",
   "metadata": {},
   "outputs": [
    {
     "data": {
      "text/plain": [
       "['baap', 'hai', 'jata', 'ka', 'kya', 'tere']"
      ]
     },
     "execution_count": 118,
     "metadata": {},
     "output_type": "execute_result"
    }
   ],
   "source": [
    "d1"
   ]
  },
  {
   "cell_type": "markdown",
   "id": "036aba0a-6386-4daf-afdd-a09ea7b85b1f",
   "metadata": {},
   "source": [
    "tere baap ka kya jata hai"
   ]
  },
  {
   "cell_type": "code",
   "execution_count": null,
   "id": "ff2699d0-4221-46d6-ba94-370bdb1e8b88",
   "metadata": {},
   "outputs": [],
   "source": []
  },
  {
   "cell_type": "code",
   "execution_count": null,
   "id": "3c50408f-d828-4eee-abbe-14a2754b5f80",
   "metadata": {},
   "outputs": [],
   "source": []
  },
  {
   "cell_type": "markdown",
   "id": "90064210-d078-4bed-8c9a-a0c9fba0ce1c",
   "metadata": {},
   "source": [
    "Index()  function"
   ]
  },
  {
   "cell_type": "code",
   "execution_count": 120,
   "id": "b3b1dfcb-c715-4d03-95a9-3910215a4296",
   "metadata": {},
   "outputs": [],
   "source": [
    "e1 = [1,3,4,2,\"ankit\",\"happy\",\"birthday\"]"
   ]
  },
  {
   "cell_type": "code",
   "execution_count": 121,
   "id": "97befb5f-cabb-4540-b19e-0440ea950785",
   "metadata": {},
   "outputs": [
    {
     "data": {
      "text/plain": [
       "[1, 3, 4, 2, 'ankit', 'happy', 'birthday']"
      ]
     },
     "execution_count": 121,
     "metadata": {},
     "output_type": "execute_result"
    }
   ],
   "source": [
    "e1"
   ]
  },
  {
   "cell_type": "code",
   "execution_count": 122,
   "id": "7d8c679c-b34b-4af6-9d50-dbcf1f4ee470",
   "metadata": {},
   "outputs": [
    {
     "data": {
      "text/plain": [
       "3"
      ]
     },
     "execution_count": 122,
     "metadata": {},
     "output_type": "execute_result"
    }
   ],
   "source": [
    "e1.index(2)"
   ]
  },
  {
   "cell_type": "code",
   "execution_count": 123,
   "id": "07d32198-04c6-42dd-8e74-5b838963b46f",
   "metadata": {},
   "outputs": [
    {
     "data": {
      "text/plain": [
       "5"
      ]
     },
     "execution_count": 123,
     "metadata": {},
     "output_type": "execute_result"
    }
   ],
   "source": [
    "e1.index(\"happy\")"
   ]
  },
  {
   "cell_type": "code",
   "execution_count": 124,
   "id": "32091054-f38f-420f-b567-e1cac8063539",
   "metadata": {},
   "outputs": [
    {
     "data": {
      "text/plain": [
       "1"
      ]
     },
     "execution_count": 124,
     "metadata": {},
     "output_type": "execute_result"
    }
   ],
   "source": [
    "e1.index(3)"
   ]
  },
  {
   "cell_type": "code",
   "execution_count": 125,
   "id": "ab0d6e87-dca4-4b56-8cd5-2579f0d5eace",
   "metadata": {},
   "outputs": [
    {
     "data": {
      "text/plain": [
       "[1, 3, 4, 2, 'ankit', 'happy', 'birthday']"
      ]
     },
     "execution_count": 125,
     "metadata": {},
     "output_type": "execute_result"
    }
   ],
   "source": [
    "e1"
   ]
  },
  {
   "cell_type": "code",
   "execution_count": 126,
   "id": "a613e85a-0c80-4b44-95c8-e31395ec7c10",
   "metadata": {},
   "outputs": [],
   "source": [
    "e1.append(2)"
   ]
  },
  {
   "cell_type": "code",
   "execution_count": 127,
   "id": "1b13419e-ca17-4756-a43b-b827956d68c8",
   "metadata": {},
   "outputs": [
    {
     "data": {
      "text/plain": [
       "[1, 3, 4, 2, 'ankit', 'happy', 'birthday', 2]"
      ]
     },
     "execution_count": 127,
     "metadata": {},
     "output_type": "execute_result"
    }
   ],
   "source": [
    "e1"
   ]
  },
  {
   "cell_type": "code",
   "execution_count": null,
   "id": "5c98a127-7c7a-466f-a7dc-0e409d8bc0f0",
   "metadata": {},
   "outputs": [],
   "source": []
  },
  {
   "cell_type": "code",
   "execution_count": null,
   "id": "a9450517-eae0-472e-b134-aabc551f2d45",
   "metadata": {},
   "outputs": [],
   "source": []
  },
  {
   "cell_type": "markdown",
   "id": "2cfd974e-4c1f-4381-ba3a-77965731336a",
   "metadata": {},
   "source": [
    "Count()  function"
   ]
  },
  {
   "cell_type": "code",
   "execution_count": 128,
   "id": "eedb4806-cbc8-4cae-b11a-91b4c66e6b55",
   "metadata": {},
   "outputs": [
    {
     "data": {
      "text/plain": [
       "[1, 3, 4, 2, 'ankit', 'happy', 'birthday', 2]"
      ]
     },
     "execution_count": 128,
     "metadata": {},
     "output_type": "execute_result"
    }
   ],
   "source": [
    "e1"
   ]
  },
  {
   "cell_type": "code",
   "execution_count": 129,
   "id": "55266027-5959-4608-a4c0-7b39671eda7a",
   "metadata": {},
   "outputs": [
    {
     "data": {
      "text/plain": [
       "2"
      ]
     },
     "execution_count": 129,
     "metadata": {},
     "output_type": "execute_result"
    }
   ],
   "source": [
    "e1.count(2)"
   ]
  },
  {
   "cell_type": "code",
   "execution_count": 130,
   "id": "dbde599c-eba5-460c-a6c5-861e6f38bfaa",
   "metadata": {},
   "outputs": [
    {
     "data": {
      "text/plain": [
       "1"
      ]
     },
     "execution_count": 130,
     "metadata": {},
     "output_type": "execute_result"
    }
   ],
   "source": [
    "e1.count(4)"
   ]
  },
  {
   "cell_type": "code",
   "execution_count": null,
   "id": "d96bb72a-539d-4bef-826c-21f466db0e86",
   "metadata": {},
   "outputs": [],
   "source": []
  },
  {
   "cell_type": "code",
   "execution_count": null,
   "id": "837c5ee5-97b4-4b04-83c2-4991ab1188be",
   "metadata": {},
   "outputs": [],
   "source": []
  },
  {
   "cell_type": "code",
   "execution_count": 131,
   "id": "39fa84d1-cea4-4114-8ac7-35d240698137",
   "metadata": {},
   "outputs": [],
   "source": [
    "f = \"DTU\""
   ]
  },
  {
   "cell_type": "code",
   "execution_count": 132,
   "id": "1107403c-b66c-4748-8dd9-5d75979021b7",
   "metadata": {},
   "outputs": [
    {
     "data": {
      "text/plain": [
       "'DTU'"
      ]
     },
     "execution_count": 132,
     "metadata": {},
     "output_type": "execute_result"
    }
   ],
   "source": [
    "f"
   ]
  },
  {
   "cell_type": "code",
   "execution_count": 133,
   "id": "d7535eca-0647-4f1b-be15-410083493fc6",
   "metadata": {},
   "outputs": [],
   "source": [
    "h1 = [3,4,5,6,7] "
   ]
  },
  {
   "cell_type": "code",
   "execution_count": 134,
   "id": "310a3c48-93ac-4af8-994b-8a57d5baf6b8",
   "metadata": {},
   "outputs": [
    {
     "data": {
      "text/plain": [
       "[3, 4, 5, 6, 7]"
      ]
     },
     "execution_count": 134,
     "metadata": {},
     "output_type": "execute_result"
    }
   ],
   "source": [
    "h1"
   ]
  },
  {
   "cell_type": "code",
   "execution_count": 135,
   "id": "a8b00530-b334-4fc6-8421-be5f283ac1c2",
   "metadata": {},
   "outputs": [
    {
     "data": {
      "text/plain": [
       "'D'"
      ]
     },
     "execution_count": 135,
     "metadata": {},
     "output_type": "execute_result"
    }
   ],
   "source": [
    "f[0]"
   ]
  },
  {
   "cell_type": "code",
   "execution_count": 136,
   "id": "8f07a989-39a7-4436-8226-2d30abd82fb9",
   "metadata": {},
   "outputs": [
    {
     "data": {
      "text/plain": [
       "'U'"
      ]
     },
     "execution_count": 136,
     "metadata": {},
     "output_type": "execute_result"
    }
   ],
   "source": [
    "f[2]"
   ]
  },
  {
   "cell_type": "code",
   "execution_count": 137,
   "id": "348d66ae-ceb9-4097-a4a9-f1bc7b323c7f",
   "metadata": {},
   "outputs": [
    {
     "data": {
      "text/plain": [
       "'T'"
      ]
     },
     "execution_count": 137,
     "metadata": {},
     "output_type": "execute_result"
    }
   ],
   "source": [
    "f[1]"
   ]
  },
  {
   "cell_type": "code",
   "execution_count": 138,
   "id": "2dcf8775-be9d-406c-a37f-2917a02df39b",
   "metadata": {},
   "outputs": [
    {
     "ename": "TypeError",
     "evalue": "'str' object does not support item assignment",
     "output_type": "error",
     "traceback": [
      "\u001b[0;31m---------------------------------------------------------------------------\u001b[0m",
      "\u001b[0;31mTypeError\u001b[0m                                 Traceback (most recent call last)",
      "Cell \u001b[0;32mIn[138], line 1\u001b[0m\n\u001b[0;32m----> 1\u001b[0m \u001b[43mf\u001b[49m\u001b[43m[\u001b[49m\u001b[38;5;241;43m0\u001b[39;49m\u001b[43m]\u001b[49m\u001b[38;5;241m=\u001b[39m\u001b[38;5;124m'\u001b[39m\u001b[38;5;124ma\u001b[39m\u001b[38;5;124m'\u001b[39m\n",
      "\u001b[0;31mTypeError\u001b[0m: 'str' object does not support item assignment"
     ]
    }
   ],
   "source": [
    "f[0]='a'"
   ]
  },
  {
   "cell_type": "code",
   "execution_count": 139,
   "id": "dd81a26a-60c5-47df-8b99-6f0bcd33df12",
   "metadata": {},
   "outputs": [],
   "source": [
    "h1[0]=89"
   ]
  },
  {
   "cell_type": "code",
   "execution_count": 140,
   "id": "55a4c1fc-9b44-4a4e-82fd-825af337d270",
   "metadata": {},
   "outputs": [
    {
     "data": {
      "text/plain": [
       "[89, 4, 5, 6, 7]"
      ]
     },
     "execution_count": 140,
     "metadata": {},
     "output_type": "execute_result"
    }
   ],
   "source": [
    "h1"
   ]
  },
  {
   "cell_type": "code",
   "execution_count": 141,
   "id": "753e9d1e-ba2b-470a-b657-a98424cc913f",
   "metadata": {},
   "outputs": [
    {
     "data": {
      "text/plain": [
       "'PTU'"
      ]
     },
     "execution_count": 141,
     "metadata": {},
     "output_type": "execute_result"
    }
   ],
   "source": [
    "f.replace('D','P')"
   ]
  },
  {
   "cell_type": "markdown",
   "id": "243c8e1a-ce18-481d-8d68-65b648d97190",
   "metadata": {},
   "source": [
    "string is immutable but\n",
    "integer is mutable"
   ]
  },
  {
   "cell_type": "code",
   "execution_count": null,
   "id": "16196167-8e80-4a46-8b29-11139923e1c2",
   "metadata": {},
   "outputs": [],
   "source": []
  },
  {
   "cell_type": "code",
   "execution_count": null,
   "id": "c3796b71-9526-419f-a114-d0bb25a39634",
   "metadata": {},
   "outputs": [],
   "source": []
  },
  {
   "cell_type": "code",
   "execution_count": null,
   "id": "84f9c7f0-d8e0-46a7-a49c-c36ebbac5c9e",
   "metadata": {},
   "outputs": [],
   "source": []
  },
  {
   "cell_type": "markdown",
   "id": "c7f08a87-2dfa-48e0-ba8a-09486fb24ff6",
   "metadata": {},
   "source": [
    "Tuples(tuples is immutable but List is mutable)"
   ]
  },
  {
   "cell_type": "code",
   "execution_count": 142,
   "id": "e6767145-67e7-48af-bd71-418cce704c09",
   "metadata": {},
   "outputs": [],
   "source": [
    "t = (1,2,3,4,\"koli\",12.34,False,3+2j,[2,3,4])"
   ]
  },
  {
   "cell_type": "code",
   "execution_count": 143,
   "id": "951c391a-3b90-4ffb-8f49-5488f57ecf04",
   "metadata": {},
   "outputs": [
    {
     "data": {
      "text/plain": [
       "(1, 2, 3, 4, 'koli', 12.34, False, (3+2j), [2, 3, 4])"
      ]
     },
     "execution_count": 143,
     "metadata": {},
     "output_type": "execute_result"
    }
   ],
   "source": [
    "t"
   ]
  },
  {
   "cell_type": "code",
   "execution_count": 144,
   "id": "c2bd47a8-d29b-43e9-9463-bdc3f1d51b25",
   "metadata": {},
   "outputs": [
    {
     "data": {
      "text/plain": [
       "tuple"
      ]
     },
     "execution_count": 144,
     "metadata": {},
     "output_type": "execute_result"
    }
   ],
   "source": [
    "type(t)"
   ]
  },
  {
   "cell_type": "code",
   "execution_count": 145,
   "id": "3f9c87b7-256e-4d39-bf90-05f0762bd597",
   "metadata": {},
   "outputs": [
    {
     "data": {
      "text/plain": [
       "9"
      ]
     },
     "execution_count": 145,
     "metadata": {},
     "output_type": "execute_result"
    }
   ],
   "source": [
    "len(t)"
   ]
  },
  {
   "cell_type": "code",
   "execution_count": 146,
   "id": "47963c39-ebd6-478a-9d92-26eebfca97ee",
   "metadata": {},
   "outputs": [
    {
     "data": {
      "text/plain": [
       "1"
      ]
     },
     "execution_count": 146,
     "metadata": {},
     "output_type": "execute_result"
    }
   ],
   "source": [
    "t[0]"
   ]
  },
  {
   "cell_type": "code",
   "execution_count": 147,
   "id": "e3a87417-1129-4b62-8141-59b75578203b",
   "metadata": {},
   "outputs": [
    {
     "data": {
      "text/plain": [
       "'koli'"
      ]
     },
     "execution_count": 147,
     "metadata": {},
     "output_type": "execute_result"
    }
   ],
   "source": [
    "t[4]"
   ]
  },
  {
   "cell_type": "code",
   "execution_count": 148,
   "id": "c09e3980-6986-46fd-8b70-f29bc9f33255",
   "metadata": {},
   "outputs": [
    {
     "data": {
      "text/plain": [
       "[2, 3, 4]"
      ]
     },
     "execution_count": 148,
     "metadata": {},
     "output_type": "execute_result"
    }
   ],
   "source": [
    "t[-1]"
   ]
  },
  {
   "cell_type": "code",
   "execution_count": 149,
   "id": "7059074e-b300-4c24-bc82-535ea90c6fc9",
   "metadata": {},
   "outputs": [
    {
     "data": {
      "text/plain": [
       "([2, 3, 4], (3+2j), False, 12.34, 'koli', 4, 3, 2, 1)"
      ]
     },
     "execution_count": 149,
     "metadata": {},
     "output_type": "execute_result"
    }
   ],
   "source": [
    "t[::-1]"
   ]
  },
  {
   "cell_type": "code",
   "execution_count": 150,
   "id": "403c092f-a1c2-45fe-8033-a06ee02c375b",
   "metadata": {},
   "outputs": [
    {
     "ename": "AttributeError",
     "evalue": "'tuple' object has no attribute 'reverse'",
     "output_type": "error",
     "traceback": [
      "\u001b[0;31m---------------------------------------------------------------------------\u001b[0m",
      "\u001b[0;31mAttributeError\u001b[0m                            Traceback (most recent call last)",
      "Cell \u001b[0;32mIn[150], line 1\u001b[0m\n\u001b[0;32m----> 1\u001b[0m \u001b[43mt\u001b[49m\u001b[38;5;241;43m.\u001b[39;49m\u001b[43mreverse\u001b[49m()\n",
      "\u001b[0;31mAttributeError\u001b[0m: 'tuple' object has no attribute 'reverse'"
     ]
    }
   ],
   "source": [
    "t.reverse()"
   ]
  },
  {
   "cell_type": "code",
   "execution_count": 151,
   "id": "d1d5a76d-ceec-484b-a7fb-cfb46a077bfa",
   "metadata": {},
   "outputs": [
    {
     "data": {
      "text/plain": [
       "1"
      ]
     },
     "execution_count": 151,
     "metadata": {},
     "output_type": "execute_result"
    }
   ],
   "source": [
    "t.count(\"koli\")"
   ]
  },
  {
   "cell_type": "code",
   "execution_count": 152,
   "id": "7c3eef95-277b-486a-91be-b4b542ab0f5b",
   "metadata": {},
   "outputs": [
    {
     "data": {
      "text/plain": [
       "1"
      ]
     },
     "execution_count": 152,
     "metadata": {},
     "output_type": "execute_result"
    }
   ],
   "source": [
    "t.count(2)"
   ]
  },
  {
   "cell_type": "code",
   "execution_count": 153,
   "id": "487bb604-f0b1-4f89-9294-12560fcd907a",
   "metadata": {},
   "outputs": [
    {
     "data": {
      "text/plain": [
       "1"
      ]
     },
     "execution_count": 153,
     "metadata": {},
     "output_type": "execute_result"
    }
   ],
   "source": [
    "t.count(12.34)"
   ]
  },
  {
   "cell_type": "code",
   "execution_count": 154,
   "id": "281f1b49-0eee-491c-a27f-09985949a51e",
   "metadata": {},
   "outputs": [
    {
     "data": {
      "text/plain": [
       "6"
      ]
     },
     "execution_count": 154,
     "metadata": {},
     "output_type": "execute_result"
    }
   ],
   "source": [
    "t.index(False)"
   ]
  },
  {
   "cell_type": "code",
   "execution_count": 155,
   "id": "89f9ae4f-16ae-435a-aa03-775ee93d7203",
   "metadata": {},
   "outputs": [
    {
     "data": {
      "text/plain": [
       "6"
      ]
     },
     "execution_count": 155,
     "metadata": {},
     "output_type": "execute_result"
    }
   ],
   "source": [
    "t.index(False)"
   ]
  },
  {
   "cell_type": "code",
   "execution_count": 156,
   "id": "be6ea24a-0688-4380-a0a1-45755e5edbeb",
   "metadata": {},
   "outputs": [
    {
     "data": {
      "text/plain": [
       "4"
      ]
     },
     "execution_count": 156,
     "metadata": {},
     "output_type": "execute_result"
    }
   ],
   "source": [
    "t.index(\"koli\")"
   ]
  },
  {
   "cell_type": "code",
   "execution_count": null,
   "id": "3c3f0a7d-aba7-4284-abcf-2e817ed1061f",
   "metadata": {},
   "outputs": [],
   "source": []
  },
  {
   "cell_type": "code",
   "execution_count": null,
   "id": "86cae84e-2315-451f-aa3f-f3275350e781",
   "metadata": {},
   "outputs": [],
   "source": []
  },
  {
   "cell_type": "code",
   "execution_count": null,
   "id": "dd8ad0e6-0135-492b-8bb2-e0bddd2d7bc2",
   "metadata": {},
   "outputs": [],
   "source": []
  },
  {
   "cell_type": "markdown",
   "id": "3e492565-4065-4af5-a77c-cc7a2914d246",
   "metadata": {},
   "source": [
    "Set() function"
   ]
  },
  {
   "cell_type": "code",
   "execution_count": null,
   "id": "45908fb8-ad0d-4c50-8e0c-26e4a55074f7",
   "metadata": {},
   "outputs": [],
   "source": []
  },
  {
   "cell_type": "code",
   "execution_count": 157,
   "id": "10d993ab-87b2-4c28-8cc2-4e3e00b908d8",
   "metadata": {},
   "outputs": [],
   "source": [
    "z1 = {}"
   ]
  },
  {
   "cell_type": "code",
   "execution_count": 158,
   "id": "e21e3544-7d24-45ed-97f7-17c1cc4a9d42",
   "metadata": {},
   "outputs": [
    {
     "data": {
      "text/plain": [
       "dict"
      ]
     },
     "execution_count": 158,
     "metadata": {},
     "output_type": "execute_result"
    }
   ],
   "source": [
    "type(z1)"
   ]
  },
  {
   "cell_type": "code",
   "execution_count": 159,
   "id": "89fe0077-ab9d-4107-92b2-8081002155d0",
   "metadata": {},
   "outputs": [],
   "source": [
    "z2 = {2,3,4,5}"
   ]
  },
  {
   "cell_type": "code",
   "execution_count": 160,
   "id": "b01caac4-103e-450f-a618-016a4044bf63",
   "metadata": {},
   "outputs": [
    {
     "data": {
      "text/plain": [
       "set"
      ]
     },
     "execution_count": 160,
     "metadata": {},
     "output_type": "execute_result"
    }
   ],
   "source": [
    "type(z2)"
   ]
  },
  {
   "cell_type": "code",
   "execution_count": 161,
   "id": "d42b7ec9-f512-4dd7-9d91-59fc233a7da1",
   "metadata": {},
   "outputs": [
    {
     "ename": "TypeError",
     "evalue": "unhashable type: 'list'",
     "output_type": "error",
     "traceback": [
      "\u001b[0;31m---------------------------------------------------------------------------\u001b[0m",
      "\u001b[0;31mTypeError\u001b[0m                                 Traceback (most recent call last)",
      "Cell \u001b[0;32mIn[161], line 1\u001b[0m\n\u001b[0;32m----> 1\u001b[0m z3 \u001b[38;5;241m=\u001b[39m {\u001b[38;5;241m1\u001b[39m,\u001b[38;5;241m2\u001b[39m,\u001b[38;5;241m3\u001b[39m,\u001b[38;5;241m4.5\u001b[39m,\u001b[38;5;124m'\u001b[39m\u001b[38;5;124mankit\u001b[39m\u001b[38;5;124m'\u001b[39m,[\u001b[38;5;241m6\u001b[39m,\u001b[38;5;241m7\u001b[39m,\u001b[38;5;241m8\u001b[39m]}\n",
      "\u001b[0;31mTypeError\u001b[0m: unhashable type: 'list'"
     ]
    }
   ],
   "source": [
    "z3 = {1,2,3,4.5,'ankit',[6,7,8]}"
   ]
  },
  {
   "cell_type": "code",
   "execution_count": 164,
   "id": "5f768204-76af-44ec-bc0b-fccbbcf306df",
   "metadata": {},
   "outputs": [],
   "source": [
    "z3 = {1,2,3,4.5,'ankit',(6,7,8)}"
   ]
  },
  {
   "cell_type": "code",
   "execution_count": 165,
   "id": "2db30e34-6686-4a77-a9b4-1e3a0799e65b",
   "metadata": {},
   "outputs": [
    {
     "data": {
      "text/plain": [
       "{(6, 7, 8), 1, 2, 3, 4.5, 'ankit'}"
      ]
     },
     "execution_count": 165,
     "metadata": {},
     "output_type": "execute_result"
    }
   ],
   "source": [
    "z3"
   ]
  },
  {
   "cell_type": "code",
   "execution_count": 166,
   "id": "dd689fd7-cea7-404c-86c4-fde505aa2bf4",
   "metadata": {},
   "outputs": [],
   "source": [
    "z4 = {1,2,3,2,2,1,3,3,3,3,4,1,4,3,3,5,5,6,7,7}"
   ]
  },
  {
   "cell_type": "code",
   "execution_count": 167,
   "id": "c6490239-ace4-4424-8459-08970b34dd97",
   "metadata": {},
   "outputs": [
    {
     "data": {
      "text/plain": [
       "{1, 2, 3, 4, 5, 6, 7}"
      ]
     },
     "execution_count": 167,
     "metadata": {},
     "output_type": "execute_result"
    }
   ],
   "source": [
    "z4"
   ]
  },
  {
   "cell_type": "markdown",
   "id": "31351d05-e203-4d29-bb51-bf2e302f6a06",
   "metadata": {},
   "source": [
    "set duplicates values ko automatically remove kr deta hai"
   ]
  },
  {
   "cell_type": "code",
   "execution_count": 179,
   "id": "2acf904d-d376-41e0-8951-7fd4bd10c7ef",
   "metadata": {},
   "outputs": [],
   "source": [
    "z4 = {1,2,3,2,2,1,3,3,3,3,4,1,4,3,3,5,5,6,7,7,'ankit','Ankit'}"
   ]
  },
  {
   "cell_type": "code",
   "execution_count": 180,
   "id": "ac4e790e-a47f-4cc8-b60a-c3c25e574834",
   "metadata": {},
   "outputs": [
    {
     "data": {
      "text/plain": [
       "{1, 2, 3, 4, 5, 6, 7, 'Ankit', 'ankit'}"
      ]
     },
     "execution_count": 180,
     "metadata": {},
     "output_type": "execute_result"
    }
   ],
   "source": [
    "z4"
   ]
  },
  {
   "cell_type": "code",
   "execution_count": 181,
   "id": "c252218a-80f8-499f-9ba8-68d6f62c3e01",
   "metadata": {},
   "outputs": [
    {
     "data": {
      "text/plain": [
       "{1, 2, 3, 4, 5, 6, 7, 'Ankit', 'ankit'}"
      ]
     },
     "execution_count": 181,
     "metadata": {},
     "output_type": "execute_result"
    }
   ],
   "source": [
    "set(z4)"
   ]
  },
  {
   "cell_type": "code",
   "execution_count": 182,
   "id": "efa73f9d-8349-4d88-bf81-26952a86f5f8",
   "metadata": {},
   "outputs": [],
   "source": [
    "z4 = list(set(z4))"
   ]
  },
  {
   "cell_type": "code",
   "execution_count": 183,
   "id": "817dd11f-324a-4f67-b70f-a89af42ab89d",
   "metadata": {},
   "outputs": [
    {
     "data": {
      "text/plain": [
       "[1, 2, 3, 4, 5, 6, 7, 'ankit', 'Ankit']"
      ]
     },
     "execution_count": 183,
     "metadata": {},
     "output_type": "execute_result"
    }
   ],
   "source": [
    "z4"
   ]
  },
  {
   "cell_type": "code",
   "execution_count": 184,
   "id": "6d41cbf3-730a-4336-b65f-cf6a83ab6cd7",
   "metadata": {},
   "outputs": [],
   "source": [
    "n1 = {12,23,45,432,35,56,53,97,87,75,65,'kumar',123}"
   ]
  },
  {
   "cell_type": "code",
   "execution_count": 185,
   "id": "88db0859-04fb-48ca-b0b5-880fa2fcebf1",
   "metadata": {},
   "outputs": [
    {
     "data": {
      "text/plain": [
       "{12, 123, 23, 35, 432, 45, 53, 56, 65, 75, 87, 97, 'kumar'}"
      ]
     },
     "execution_count": 185,
     "metadata": {},
     "output_type": "execute_result"
    }
   ],
   "source": [
    "n1"
   ]
  },
  {
   "cell_type": "code",
   "execution_count": 186,
   "id": "4c1e76dd-54f1-437b-b021-c71d7072e588",
   "metadata": {},
   "outputs": [
    {
     "data": {
      "text/plain": [
       "{12, 123, 23, 35, 432, 45, 53, 56, 65, 75, 87, 97, 'kumar'}"
      ]
     },
     "execution_count": 186,
     "metadata": {},
     "output_type": "execute_result"
    }
   ],
   "source": [
    "set(n1)"
   ]
  },
  {
   "cell_type": "code",
   "execution_count": 187,
   "id": "d3af1127-9564-4cf4-975a-3e5d8153f1af",
   "metadata": {},
   "outputs": [
    {
     "ename": "TypeError",
     "evalue": "'set' object is not subscriptable",
     "output_type": "error",
     "traceback": [
      "\u001b[0;31m---------------------------------------------------------------------------\u001b[0m",
      "\u001b[0;31mTypeError\u001b[0m                                 Traceback (most recent call last)",
      "Cell \u001b[0;32mIn[187], line 1\u001b[0m\n\u001b[0;32m----> 1\u001b[0m \u001b[43mn1\u001b[49m\u001b[43m[\u001b[49m\u001b[38;5;241;43m0\u001b[39;49m\u001b[43m]\u001b[49m\n",
      "\u001b[0;31mTypeError\u001b[0m: 'set' object is not subscriptable"
     ]
    }
   ],
   "source": [
    "n1[0]"
   ]
  },
  {
   "cell_type": "code",
   "execution_count": 188,
   "id": "dc9194d4-d7f5-47b4-b2b1-81fff37623cb",
   "metadata": {},
   "outputs": [
    {
     "ename": "TypeError",
     "evalue": "'set' object is not subscriptable",
     "output_type": "error",
     "traceback": [
      "\u001b[0;31m---------------------------------------------------------------------------\u001b[0m",
      "\u001b[0;31mTypeError\u001b[0m                                 Traceback (most recent call last)",
      "Cell \u001b[0;32mIn[188], line 1\u001b[0m\n\u001b[0;32m----> 1\u001b[0m \u001b[43mn1\u001b[49m\u001b[43m[\u001b[49m\u001b[43m:\u001b[49m\u001b[43m:\u001b[49m\u001b[38;5;241;43m-\u001b[39;49m\u001b[38;5;241;43m1\u001b[39;49m\u001b[43m]\u001b[49m\n",
      "\u001b[0;31mTypeError\u001b[0m: 'set' object is not subscriptable"
     ]
    }
   ],
   "source": [
    "n1[::-1]"
   ]
  },
  {
   "cell_type": "code",
   "execution_count": 189,
   "id": "1e9cd0e0-2bf0-4271-933c-395e9cab4601",
   "metadata": {},
   "outputs": [],
   "source": [
    "n1.add(4)"
   ]
  },
  {
   "cell_type": "code",
   "execution_count": 190,
   "id": "5082ee0b-8279-44da-89fe-10df4ba88a49",
   "metadata": {},
   "outputs": [
    {
     "data": {
      "text/plain": [
       "{12, 123, 23, 35, 4, 432, 45, 53, 56, 65, 75, 87, 97, 'kumar'}"
      ]
     },
     "execution_count": 190,
     "metadata": {},
     "output_type": "execute_result"
    }
   ],
   "source": [
    "n1"
   ]
  },
  {
   "cell_type": "code",
   "execution_count": 191,
   "id": "3dcb300e-6d43-4f70-b0a3-afddb3c92454",
   "metadata": {},
   "outputs": [],
   "source": [
    "n1.add(888888888888)"
   ]
  },
  {
   "cell_type": "code",
   "execution_count": 192,
   "id": "9465009d-17a0-484e-9af4-1016e215f017",
   "metadata": {},
   "outputs": [
    {
     "data": {
      "text/plain": [
       "{12, 123, 23, 35, 4, 432, 45, 53, 56, 65, 75, 87, 888888888888, 97, 'kumar'}"
      ]
     },
     "execution_count": 192,
     "metadata": {},
     "output_type": "execute_result"
    }
   ],
   "source": [
    "n1"
   ]
  },
  {
   "cell_type": "code",
   "execution_count": 193,
   "id": "6fbc5dc7-cb0f-4571-bb93-0e93717fe8ae",
   "metadata": {},
   "outputs": [],
   "source": [
    "n1.add(12)"
   ]
  },
  {
   "cell_type": "code",
   "execution_count": 194,
   "id": "670203df-18e0-4f42-a8ce-0a7d7ba8877d",
   "metadata": {},
   "outputs": [
    {
     "data": {
      "text/plain": [
       "{12, 123, 23, 35, 4, 432, 45, 53, 56, 65, 75, 87, 888888888888, 97, 'kumar'}"
      ]
     },
     "execution_count": 194,
     "metadata": {},
     "output_type": "execute_result"
    }
   ],
   "source": [
    "n1"
   ]
  },
  {
   "cell_type": "code",
   "execution_count": 195,
   "id": "e29557e2-1c4b-4991-9989-68e62526c3f8",
   "metadata": {},
   "outputs": [],
   "source": [
    "n1.remove(4)"
   ]
  },
  {
   "cell_type": "code",
   "execution_count": 196,
   "id": "6e82a976-a2c1-474c-b9d1-af492c17c2b9",
   "metadata": {},
   "outputs": [
    {
     "data": {
      "text/plain": [
       "{12, 123, 23, 35, 432, 45, 53, 56, 65, 75, 87, 888888888888, 97, 'kumar'}"
      ]
     },
     "execution_count": 196,
     "metadata": {},
     "output_type": "execute_result"
    }
   ],
   "source": [
    "n1"
   ]
  },
  {
   "cell_type": "markdown",
   "id": "956011c5-9801-49ab-a381-38284e5201f3",
   "metadata": {},
   "source": [
    "lecture-2:-  Ab tak maine (list,tuple,set) padha hai "
   ]
  },
  {
   "cell_type": "code",
   "execution_count": null,
   "id": "ffb1b150-672d-4b8c-906a-874ac35cf6b3",
   "metadata": {},
   "outputs": [],
   "source": []
  }
 ],
 "metadata": {
  "kernelspec": {
   "display_name": "Python 3 (ipykernel)",
   "language": "python",
   "name": "python3"
  },
  "language_info": {
   "codemirror_mode": {
    "name": "ipython",
    "version": 3
   },
   "file_extension": ".py",
   "mimetype": "text/x-python",
   "name": "python",
   "nbconvert_exporter": "python",
   "pygments_lexer": "ipython3",
   "version": "3.10.8"
  }
 },
 "nbformat": 4,
 "nbformat_minor": 5
}
