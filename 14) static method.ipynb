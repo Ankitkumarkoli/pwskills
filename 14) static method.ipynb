{
 "cells": [
  {
   "cell_type": "markdown",
   "id": "53170828-748c-442e-9d76-3eec9dc8e2c8",
   "metadata": {},
   "source": [
    "# Static Method   \n",
    "# isko hum direct class se attach kr sakte without creating object or variable\n",
    "# isko hum utility ke lea bhi use krte hai"
   ]
  },
  {
   "cell_type": "code",
   "execution_count": 10,
   "id": "3803cfd9-151d-4b17-82d5-f86fcafc79a1",
   "metadata": {},
   "outputs": [],
   "source": [
    "class pwskills :\n",
    "    def students_details(self , name , mail_id , number):\n",
    "        print(name , mail_id, number)"
   ]
  },
  {
   "cell_type": "code",
   "execution_count": 11,
   "id": "045250ad-d307-4b68-a50d-8975c1d88280",
   "metadata": {},
   "outputs": [],
   "source": [
    "pw = pwskills()"
   ]
  },
  {
   "cell_type": "code",
   "execution_count": 12,
   "id": "e95d6e4d-5161-4445-9211-c40a02f7c6ec",
   "metadata": {},
   "outputs": [
    {
     "name": "stdout",
     "output_type": "stream",
     "text": [
      "ankit ankit@gmail.com 123456789\n"
     ]
    }
   ],
   "source": [
    "pw.students_details(\"ankit\",\"ankit@gmail.com\",\"123456789\")"
   ]
  },
  {
   "cell_type": "code",
   "execution_count": null,
   "id": "1aa75ec0-b6fe-4e08-a194-001e067c74a7",
   "metadata": {},
   "outputs": [],
   "source": []
  },
  {
   "cell_type": "code",
   "execution_count": 13,
   "id": "a234e4bd-c061-4f0a-9674-7dccc36a1936",
   "metadata": {},
   "outputs": [],
   "source": [
    "class pwskills1 :\n",
    "    def students_details(self , name , mail_id , number):\n",
    "        print(name , mail_id, number)\n",
    "        \n",
    "    @staticmethod\n",
    "    def mentor_for_class(list_of_mentor):\n",
    "        print(list_of_mentor)"
   ]
  },
  {
   "cell_type": "code",
   "execution_count": 14,
   "id": "1a18f18e-3c05-4421-9cf4-fc12299d64fc",
   "metadata": {},
   "outputs": [
    {
     "name": "stdout",
     "output_type": "stream",
     "text": [
      "['ankit', 'kumar', 'koli']\n"
     ]
    }
   ],
   "source": [
    "pwskills1.mentor_for_class([\"ankit\",\"kumar\",\"koli\"])"
   ]
  },
  {
   "cell_type": "code",
   "execution_count": null,
   "id": "2bf2db6f-0284-40e4-942f-4770e48b9de5",
   "metadata": {},
   "outputs": [],
   "source": []
  },
  {
   "cell_type": "code",
   "execution_count": 15,
   "id": "e25f5238-de34-4e9b-aae3-926923bc7776",
   "metadata": {},
   "outputs": [],
   "source": [
    "class pwskills1 :\n",
    "    def students_details(self , name , mail_id , number):\n",
    "        print(name , mail_id, number)\n",
    "        \n",
    "    @staticmethod\n",
    "    def mentor_for_class(list_of_mentor):\n",
    "        print(list_of_mentor)\n",
    "        \n",
    "    \n",
    "    def mentor(self, mentor_list):\n",
    "        print(mentor_list)"
   ]
  },
  {
   "cell_type": "code",
   "execution_count": 16,
   "id": "e07c701f-59ad-44e7-936e-5f47b9e10ba3",
   "metadata": {},
   "outputs": [],
   "source": [
    "stu1 = pwskills1()"
   ]
  },
  {
   "cell_type": "code",
   "execution_count": 17,
   "id": "123f5bcb-1e21-4c95-9649-20731e910cf8",
   "metadata": {},
   "outputs": [],
   "source": [
    "stu2 = pwskills1()"
   ]
  },
  {
   "cell_type": "code",
   "execution_count": 18,
   "id": "9695c37e-3913-4b7c-aefc-8f67da874af3",
   "metadata": {},
   "outputs": [],
   "source": [
    "stu3 = pwskills1()"
   ]
  },
  {
   "cell_type": "code",
   "execution_count": 19,
   "id": "0b9978e9-0270-47e2-a586-c5139fda7d99",
   "metadata": {},
   "outputs": [
    {
     "name": "stdout",
     "output_type": "stream",
     "text": [
      "['ankit', 'kumar', 'koli']\n"
     ]
    }
   ],
   "source": [
    "stu1.mentor([\"ankit\",\"kumar\",\"koli\"])"
   ]
  },
  {
   "cell_type": "code",
   "execution_count": 25,
   "id": "b13a62bc-2a54-4d4e-ada3-ac38b84fcef2",
   "metadata": {},
   "outputs": [
    {
     "ename": "TypeError",
     "evalue": "pwskills1.mentor() missing 1 required positional argument: 'mentor_list'",
     "output_type": "error",
     "traceback": [
      "\u001b[0;31m---------------------------------------------------------------------------\u001b[0m",
      "\u001b[0;31mTypeError\u001b[0m                                 Traceback (most recent call last)",
      "Cell \u001b[0;32mIn[25], line 1\u001b[0m\n\u001b[0;32m----> 1\u001b[0m \u001b[43mstu2\u001b[49m\u001b[38;5;241;43m.\u001b[39;49m\u001b[43mmentor\u001b[49m\u001b[43m(\u001b[49m\u001b[43m)\u001b[49m            \u001b[38;5;66;03m# mentor ko call krne ke lea (stu2) naam ka object banaya \u001b[39;00m\n",
      "\u001b[0;31mTypeError\u001b[0m: pwskills1.mentor() missing 1 required positional argument: 'mentor_list'"
     ]
    }
   ],
   "source": [
    "stu2.mentor()            # mentor ko call krne ke lea (stu2) naam ka object banaya "
   ]
  },
  {
   "cell_type": "code",
   "execution_count": 24,
   "id": "7147f59b-53b8-4120-bd75-d061f227ca2c",
   "metadata": {},
   "outputs": [
    {
     "name": "stdout",
     "output_type": "stream",
     "text": [
      "['sudhanshu sir', 'krish naik sir']\n"
     ]
    }
   ],
   "source": [
    "stu2.mentor([\"sudhanshu sir\",\"krish naik sir\"])   # instance function memory consumption ko increase krta hai"
   ]
  },
  {
   "cell_type": "code",
   "execution_count": null,
   "id": "224ddf67-e84a-43d8-a0d3-22423509459a",
   "metadata": {},
   "outputs": [],
   "source": []
  },
  {
   "cell_type": "code",
   "execution_count": null,
   "id": "3db43c89-6fa7-4981-b632-cba7ac191f65",
   "metadata": {},
   "outputs": [],
   "source": []
  },
  {
   "cell_type": "code",
   "execution_count": 32,
   "id": "7bc03477-55d5-43fe-bd2f-01439782fef6",
   "metadata": {},
   "outputs": [],
   "source": [
    "class pwskills2 :\n",
    "    def students_details(self , name , mail_id , number):\n",
    "        print(name , mail_id, number)\n",
    "    \n",
    "        \n",
    "    @staticmethod\n",
    "    def mentor_for_class(list_of_mentor):\n",
    "        print(list_of_mentor)\n",
    "        \n",
    "    @classmethod\n",
    "    def class_name(cls):\n",
    "        cls.mentor_for_class([\"ankit\",\"kumar\",\"koli\"])\n",
    "        \n",
    "    \n",
    "    def mentor(self, mentor_list):\n",
    "        print(mentor_list)"
   ]
  },
  {
   "cell_type": "code",
   "execution_count": 33,
   "id": "2d48b0b5-0f0d-4333-94c0-1e1884636475",
   "metadata": {},
   "outputs": [
    {
     "name": "stdout",
     "output_type": "stream",
     "text": [
      "['ankit', 'kumar', 'koli']\n"
     ]
    }
   ],
   "source": [
    "pwskills2.class_name()"
   ]
  },
  {
   "cell_type": "code",
   "execution_count": null,
   "id": "05b39673-29e5-4bf3-a057-cef054a01b54",
   "metadata": {},
   "outputs": [],
   "source": []
  },
  {
   "cell_type": "code",
   "execution_count": 35,
   "id": "264d0524-4e32-4819-a4b3-6360ab3be585",
   "metadata": {},
   "outputs": [],
   "source": [
    "class pwskills2 :\n",
    "    def students_details(self , name , mail_id , number):\n",
    "        print(name , mail_id, number)\n",
    "        \n",
    "        \n",
    "    @staticmethod\n",
    "    def mentor_mail_id(mail_id_mentor):\n",
    "        print(mail_id_mentor)\n",
    "    \n",
    "        \n",
    "    @staticmethod\n",
    "    def mentor_for_class(list_of_mentor):\n",
    "        pwskills2.mentor_mail_id([\"ankit@gmail.com\",\"koli@gmail.com\"])\n",
    "        print(list_of_mentor)\n",
    "        \n",
    "    @classmethod\n",
    "    def class_name(cls):\n",
    "        cls.mentor_for_class([\"ankit\",\"kumar\",\"koli\"])\n",
    "        \n",
    "    \n",
    "    def mentor(self, mentor_list):\n",
    "        print(mentor_list)"
   ]
  },
  {
   "cell_type": "code",
   "execution_count": 36,
   "id": "ebd0c6de-ed2a-4856-8064-f98deab78d74",
   "metadata": {},
   "outputs": [
    {
     "ename": "TypeError",
     "evalue": "pwskills2.mentor_for_class() missing 1 required positional argument: 'list_of_mentor'",
     "output_type": "error",
     "traceback": [
      "\u001b[0;31m---------------------------------------------------------------------------\u001b[0m",
      "\u001b[0;31mTypeError\u001b[0m                                 Traceback (most recent call last)",
      "Cell \u001b[0;32mIn[36], line 1\u001b[0m\n\u001b[0;32m----> 1\u001b[0m \u001b[43mpwskills2\u001b[49m\u001b[38;5;241;43m.\u001b[39;49m\u001b[43mmentor_for_class\u001b[49m\u001b[43m(\u001b[49m\u001b[43m)\u001b[49m\n",
      "\u001b[0;31mTypeError\u001b[0m: pwskills2.mentor_for_class() missing 1 required positional argument: 'list_of_mentor'"
     ]
    }
   ],
   "source": [
    "pwskills2.mentor_for_class()"
   ]
  },
  {
   "cell_type": "code",
   "execution_count": 37,
   "id": "a185f776-e097-4a1f-a222-9e60df9e4f77",
   "metadata": {},
   "outputs": [
    {
     "name": "stdout",
     "output_type": "stream",
     "text": [
      "['ankit@gmail.com', 'koli@gmail.com']\n",
      "['ankush', 'aradhya']\n"
     ]
    }
   ],
   "source": [
    "pwskills2.mentor_for_class([\"ankush\",\"aradhya\"])"
   ]
  },
  {
   "cell_type": "code",
   "execution_count": null,
   "id": "29c8f7b7-22fb-4a8d-9ff4-df09911a89b5",
   "metadata": {},
   "outputs": [],
   "source": []
  },
  {
   "cell_type": "code",
   "execution_count": null,
   "id": "842b0fd0-5212-4e4c-ae0d-6867e3c71398",
   "metadata": {},
   "outputs": [],
   "source": []
  },
  {
   "cell_type": "code",
   "execution_count": 39,
   "id": "b3b4a98b-50e9-4206-a143-d6db42333430",
   "metadata": {},
   "outputs": [],
   "source": [
    "class pwskills2 :\n",
    "    def students_details(self , name , mail_id , number):\n",
    "        print(name , mail_id, number)\n",
    "        \n",
    "        \n",
    "    @staticmethod\n",
    "    def mentor_mail_id(mail_id_mentor):\n",
    "        print(mail_id_mentor)\n",
    "    \n",
    "        \n",
    "    @staticmethod\n",
    "    def mentor_for_class(list_of_mentor):\n",
    "        pwskills2.mentor_mail_id([\"ankit@gmail.com\",\"koli@gmail.com\"])\n",
    "        print(list_of_mentor)\n",
    "        \n",
    "    @classmethod\n",
    "    def class_name(cls):\n",
    "        cls.mentor_for_class([\"ankit\",\"kumar\",\"koli\"])\n",
    "        \n",
    "    \n",
    "    def mentor(self, mentor_for_list):\n",
    "        print(mentor_for_list)\n",
    "        self.mentor_for_class([\"sudhanshu sir\",\"krish sir\"])"
   ]
  },
  {
   "cell_type": "code",
   "execution_count": 40,
   "id": "a58448db-3276-4a5c-bd53-30c80846d165",
   "metadata": {},
   "outputs": [],
   "source": [
    "pw = pwskills2()"
   ]
  },
  {
   "cell_type": "code",
   "execution_count": 41,
   "id": "37ef9436-9653-470e-8098-0cf0c74c867c",
   "metadata": {},
   "outputs": [
    {
     "ename": "TypeError",
     "evalue": "pwskills2.mentor() missing 1 required positional argument: 'mentor_for_list'",
     "output_type": "error",
     "traceback": [
      "\u001b[0;31m---------------------------------------------------------------------------\u001b[0m",
      "\u001b[0;31mTypeError\u001b[0m                                 Traceback (most recent call last)",
      "Cell \u001b[0;32mIn[41], line 1\u001b[0m\n\u001b[0;32m----> 1\u001b[0m \u001b[43mpw\u001b[49m\u001b[38;5;241;43m.\u001b[39;49m\u001b[43mmentor\u001b[49m\u001b[43m(\u001b[49m\u001b[43m)\u001b[49m\n",
      "\u001b[0;31mTypeError\u001b[0m: pwskills2.mentor() missing 1 required positional argument: 'mentor_for_list'"
     ]
    }
   ],
   "source": [
    "pw.mentor()"
   ]
  },
  {
   "cell_type": "code",
   "execution_count": 42,
   "id": "e0bf7646-3ec3-4284-9161-3b2b71e3a2ed",
   "metadata": {},
   "outputs": [
    {
     "name": "stdout",
     "output_type": "stream",
     "text": [
      "['ram', 'shyam']\n",
      "['ankit@gmail.com', 'koli@gmail.com']\n",
      "['sudhanshu sir', 'krish sir']\n"
     ]
    }
   ],
   "source": [
    "pw.mentor([\"ram\",\"shyam\"])"
   ]
  },
  {
   "cell_type": "code",
   "execution_count": null,
   "id": "01df69a2-514d-44f5-8ae9-9f63bcf7c2ed",
   "metadata": {},
   "outputs": [],
   "source": []
  }
 ],
 "metadata": {
  "kernelspec": {
   "display_name": "Python 3 (ipykernel)",
   "language": "python",
   "name": "python3"
  },
  "language_info": {
   "codemirror_mode": {
    "name": "ipython",
    "version": 3
   },
   "file_extension": ".py",
   "mimetype": "text/x-python",
   "name": "python",
   "nbconvert_exporter": "python",
   "pygments_lexer": "ipython3",
   "version": "3.10.8"
  }
 },
 "nbformat": 4,
 "nbformat_minor": 5
}
