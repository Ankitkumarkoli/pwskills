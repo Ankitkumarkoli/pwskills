{
 "cells": [
  {
   "cell_type": "markdown",
   "id": "266efe33-e16c-4a01-8603-9bcf7b32ce44",
   "metadata": {},
   "source": [
    "# File reading and Writing"
   ]
  },
  {
   "cell_type": "code",
   "execution_count": 1,
   "id": "bee3a7a9-c402-42d2-98b7-3e73ce2dea36",
   "metadata": {},
   "outputs": [],
   "source": [
    "data = {\n",
    "    \"name\":\"ankit\",\n",
    "    \"email_id\":\"ankit@gmail.com\",\n",
    "    \"phone_number\":9887766555,\n",
    "    \"subject\":[\"hindi\",\"english\",\"math\",\"science\",\"sst\"]\n",
    "}"
   ]
  },
  {
   "cell_type": "code",
   "execution_count": null,
   "id": "ec548478-eeb7-4332-ac90-2daf228aade5",
   "metadata": {},
   "outputs": [],
   "source": []
  },
  {
   "cell_type": "code",
   "execution_count": 2,
   "id": "b6b50c48-56e0-4dc4-a064-8a6fbb1e2e24",
   "metadata": {},
   "outputs": [],
   "source": [
    "import json"
   ]
  },
  {
   "cell_type": "code",
   "execution_count": 3,
   "id": "54a6329a-a534-4c60-a6e4-fccad8f72ece",
   "metadata": {},
   "outputs": [],
   "source": [
    "with open(\"data.json\",\"w\") as f:\n",
    "    json.dump(data , f)                             # dump data ko write krne mai help krta hai"
   ]
  },
  {
   "cell_type": "code",
   "execution_count": null,
   "id": "d702731b-f104-4039-917e-0475f35b738f",
   "metadata": {},
   "outputs": [],
   "source": []
  },
  {
   "cell_type": "code",
   "execution_count": 4,
   "id": "90fbff72-8fe7-4091-bc24-98b7e90391e8",
   "metadata": {},
   "outputs": [],
   "source": [
    "with open(\"data.json\",\"r\") as f:\n",
    "    data1 = json.load(f)                            #load data ko read krne mai help krta hai"
   ]
  },
  {
   "cell_type": "code",
   "execution_count": 5,
   "id": "8c4118d6-8587-49f0-be49-5d89d20f1b2a",
   "metadata": {},
   "outputs": [
    {
     "data": {
      "text/plain": [
       "{'name': 'ankit',\n",
       " 'email_id': 'ankit@gmail.com',\n",
       " 'phone_number': 9887766555,\n",
       " 'subject': ['hindi', 'english', 'math', 'science', 'sst']}"
      ]
     },
     "execution_count": 5,
     "metadata": {},
     "output_type": "execute_result"
    }
   ],
   "source": [
    "data1"
   ]
  },
  {
   "cell_type": "code",
   "execution_count": 6,
   "id": "e1820dbd-5c02-4759-bd63-2fc2857871b6",
   "metadata": {},
   "outputs": [
    {
     "data": {
      "text/plain": [
       "['hindi', 'english', 'math', 'science', 'sst']"
      ]
     },
     "execution_count": 6,
     "metadata": {},
     "output_type": "execute_result"
    }
   ],
   "source": [
    "data1[\"subject\"]"
   ]
  },
  {
   "cell_type": "code",
   "execution_count": 7,
   "id": "44cbe27b-f8ee-4ea9-9cf8-2beb744f34bc",
   "metadata": {},
   "outputs": [
    {
     "data": {
      "text/plain": [
       "'english'"
      ]
     },
     "execution_count": 7,
     "metadata": {},
     "output_type": "execute_result"
    }
   ],
   "source": [
    "data1[\"subject\"][1]"
   ]
  },
  {
   "cell_type": "code",
   "execution_count": null,
   "id": "f13cd01e-ac15-4945-bd85-326cce5f501c",
   "metadata": {},
   "outputs": [],
   "source": []
  },
  {
   "cell_type": "code",
   "execution_count": null,
   "id": "5bf2d3c0-cfa2-47d5-b3a1-ca81064437a0",
   "metadata": {},
   "outputs": [],
   "source": []
  },
  {
   "cell_type": "code",
   "execution_count": 8,
   "id": "220d4a14-cc4e-46b8-8c24-405ef5ad8800",
   "metadata": {},
   "outputs": [],
   "source": [
    "import csv"
   ]
  },
  {
   "cell_type": "code",
   "execution_count": 9,
   "id": "d4919044-8b35-49d0-9a54-2a95ef8397d2",
   "metadata": {},
   "outputs": [],
   "source": [
    "data = [[\"name\",\"email_id\",\"phone_number\"],\n",
    "        [\"ankit\",\"ankit@gmail.com\",9988776655],\n",
    "        [\"ankush\",\"ankush@gmail.com\",8877665544]\n",
    "       ]"
   ]
  },
  {
   "cell_type": "code",
   "execution_count": 10,
   "id": "a3f272cd-f11d-4224-aac1-3b8b1038c6f6",
   "metadata": {},
   "outputs": [],
   "source": [
    "with open(\"data.csv\",\"w\") as f:\n",
    "    write_data = csv.writer(f)\n",
    "    \n",
    "    for i in data:\n",
    "        write_data.writerow(i)\n",
    "        "
   ]
  },
  {
   "cell_type": "code",
   "execution_count": null,
   "id": "c37fc884-44df-4591-a9ed-7b84fcde3132",
   "metadata": {},
   "outputs": [],
   "source": []
  },
  {
   "cell_type": "code",
   "execution_count": 11,
   "id": "eff7ddd3-a5eb-42f3-9b27-bda5c715ab95",
   "metadata": {},
   "outputs": [
    {
     "name": "stdout",
     "output_type": "stream",
     "text": [
      "['name', 'email_id', 'phone_number']\n",
      "['ankit', 'ankit@gmail.com', '9988776655']\n",
      "['ankush', 'ankush@gmail.com', '8877665544']\n"
     ]
    }
   ],
   "source": [
    "with open(\"data.csv\",\"r\") as f :\n",
    "    read_data = csv.reader(f)\n",
    "    \n",
    "    for i in read_data:\n",
    "        print(i)"
   ]
  },
  {
   "cell_type": "code",
   "execution_count": null,
   "id": "3c60a4d4-7547-492d-9848-919724dfb098",
   "metadata": {},
   "outputs": [],
   "source": []
  },
  {
   "cell_type": "code",
   "execution_count": null,
   "id": "0cea380c-0c5b-437b-a50e-845dba3678cb",
   "metadata": {},
   "outputs": [],
   "source": []
  },
  {
   "cell_type": "markdown",
   "id": "03a02c40-b658-4fe2-9790-2531b2c2fa33",
   "metadata": {},
   "source": [
    "# Making Binary file "
   ]
  },
  {
   "cell_type": "code",
   "execution_count": 12,
   "id": "f1196410-e790-4122-a92e-eecfa3509b25",
   "metadata": {},
   "outputs": [],
   "source": [
    "with open(\"test4.bin\",\"wb\") as f :\n",
    "    f.write(b\"/x01/x02/x03/x12345\")"
   ]
  },
  {
   "cell_type": "code",
   "execution_count": 13,
   "id": "9cf51afc-ec04-4f63-a6c0-ce53f1c0092a",
   "metadata": {},
   "outputs": [
    {
     "name": "stdout",
     "output_type": "stream",
     "text": [
      "b'/x01/x02/x03/x12345'\n"
     ]
    }
   ],
   "source": [
    "with open(\"test4.bin\",\"rb\") as f:\n",
    "    print(f.read())"
   ]
  },
  {
   "cell_type": "code",
   "execution_count": null,
   "id": "2a2b380c-f67b-4e4a-ace9-3423e8fa5c98",
   "metadata": {},
   "outputs": [],
   "source": []
  }
 ],
 "metadata": {
  "kernelspec": {
   "display_name": "Python 3 (ipykernel)",
   "language": "python",
   "name": "python3"
  },
  "language_info": {
   "codemirror_mode": {
    "name": "ipython",
    "version": 3
   },
   "file_extension": ".py",
   "mimetype": "text/x-python",
   "name": "python",
   "nbconvert_exporter": "python",
   "pygments_lexer": "ipython3",
   "version": "3.10.8"
  }
 },
 "nbformat": 4,
 "nbformat_minor": 5
}
