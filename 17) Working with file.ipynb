{
 "cells": [
  {
   "cell_type": "markdown",
   "id": "515c8121-e40e-4c0d-b781-554c6579351c",
   "metadata": {},
   "source": [
    "# Working with file"
   ]
  },
  {
   "cell_type": "markdown",
   "id": "fa0b6c09-067a-4b6b-b1a0-d961df7d2a1b",
   "metadata": {},
   "source": [
    "# open() ek inbuilt function hai jo file bnane mai or file mai alag alag operation krne mai help karega"
   ]
  },
  {
   "cell_type": "code",
   "execution_count": null,
   "id": "00d8c9b6-ba1f-403d-95e3-7088d18b79e7",
   "metadata": {},
   "outputs": [],
   "source": []
  },
  {
   "cell_type": "code",
   "execution_count": 37,
   "id": "20126311-6145-4b35-8742-8e6f1a8240e9",
   "metadata": {},
   "outputs": [],
   "source": [
    "f = open(\"test.txt\",'w')"
   ]
  },
  {
   "cell_type": "code",
   "execution_count": 38,
   "id": "ca823262-32c5-457a-ad28-9f8322f8e6b1",
   "metadata": {},
   "outputs": [
    {
     "data": {
      "text/plain": [
       "'/home/jovyan/work'"
      ]
     },
     "execution_count": 38,
     "metadata": {},
     "output_type": "execute_result"
    }
   ],
   "source": [
    "pwd       # present working directory"
   ]
  },
  {
   "cell_type": "code",
   "execution_count": 39,
   "id": "c9bf74d5-0506-4a67-a825-0105ceb3306e",
   "metadata": {},
   "outputs": [
    {
     "name": "stdout",
     "output_type": "stream",
     "text": [
      "'10)Map,reduce and filter.ipynb'              '5)While Loop.ipynb'\n",
      "'11) OOPs.ipynb'                              '6) Comprehension.ipynb'\n",
      "'12) Decorator.ipynb'                         '7)Function part-1.ipynb'\n",
      "'13) Class methods .ipynb'                    '8) Generator function.ipynb'\n",
      "'14) static method.ipynb'                     '9)Lambda function.ipynb'\n",
      "'15) Special( Magic or Dunder) Method.ipynb'   \u001b[0m\u001b[01;34mAssignments\u001b[0m/\n",
      "'16) Property Decorator.ipynb'                 copy_newtest.txt\n",
      "'17) Working with file.ipynb'                  newtest.txt\n",
      "'1)Python Basics.ipynb'                        README.md\n",
      "'2)List,Tuple,Sets.ipynb'                      sample-code.ipynb\n",
      "'3) Dict,condtional(if-else),Loop.ipynb'       test.txt\n",
      "'4)For Loop.ipynb'                             Untitled.ipynb\n"
     ]
    }
   ],
   "source": [
    "ls         # list"
   ]
  },
  {
   "cell_type": "code",
   "execution_count": 40,
   "id": "e0e2ed3b-b2a6-4316-9eff-fd5974f4a94d",
   "metadata": {},
   "outputs": [
    {
     "name": "stdout",
     "output_type": "stream",
     "text": [
      "[Errno 2] No such file or directory: 'Assignments # change directory'\n",
      "/home/jovyan/work\n"
     ]
    }
   ],
   "source": [
    "cd Assignments                  # change directory"
   ]
  },
  {
   "cell_type": "code",
   "execution_count": 41,
   "id": "76d2094e-34b4-4a3a-a068-fd13c3231c83",
   "metadata": {},
   "outputs": [
    {
     "name": "stdout",
     "output_type": "stream",
     "text": [
      "'10)Map,reduce and filter.ipynb'              '5)While Loop.ipynb'\n",
      "'11) OOPs.ipynb'                              '6) Comprehension.ipynb'\n",
      "'12) Decorator.ipynb'                         '7)Function part-1.ipynb'\n",
      "'13) Class methods .ipynb'                    '8) Generator function.ipynb'\n",
      "'14) static method.ipynb'                     '9)Lambda function.ipynb'\n",
      "'15) Special( Magic or Dunder) Method.ipynb'   \u001b[0m\u001b[01;34mAssignments\u001b[0m/\n",
      "'16) Property Decorator.ipynb'                 copy_newtest.txt\n",
      "'17) Working with file.ipynb'                  newtest.txt\n",
      "'1)Python Basics.ipynb'                        README.md\n",
      "'2)List,Tuple,Sets.ipynb'                      sample-code.ipynb\n",
      "'3) Dict,condtional(if-else),Loop.ipynb'       test.txt\n",
      "'4)For Loop.ipynb'                             Untitled.ipynb\n"
     ]
    }
   ],
   "source": [
    "ls"
   ]
  },
  {
   "cell_type": "code",
   "execution_count": 42,
   "id": "7de53924-f0f1-49d8-b0de-de32c17fc151",
   "metadata": {},
   "outputs": [
    {
     "data": {
      "text/plain": [
       "765"
      ]
     },
     "execution_count": 42,
     "metadata": {},
     "output_type": "execute_result"
    }
   ],
   "source": [
    "f.write(\"Data Science Masters course is highly curated and uniquely designed according to the latest industry standards. This program instills students the skills essential to knowledge discovery efforts to identify standard, novel, and truly differentiated solutions and decision-making, including skills in managing, querying, analyzing, visualizing, and extracting meaning from extremely large data sets. This trending program provides students with the statistical, mathematical and computational skills needed to meet the large-scale data science challenges of today's professional world. You will learn all the stack required to work in data science industry including cloud infrastructure and real-time industry projects. This course will be taught in Hindi language.\")"
   ]
  },
  {
   "cell_type": "code",
   "execution_count": 43,
   "id": "4110c12d-fbd0-4b37-a10d-d2e9b1832a43",
   "metadata": {},
   "outputs": [],
   "source": [
    "f.close()"
   ]
  },
  {
   "cell_type": "code",
   "execution_count": 44,
   "id": "10e14cac-3b9a-40cd-9772-a00c78b5a9f6",
   "metadata": {},
   "outputs": [],
   "source": [
    "f = open(\"test.txt\",\"a\")"
   ]
  },
  {
   "cell_type": "code",
   "execution_count": 45,
   "id": "5825b94b-f522-455b-9141-34c4c6df2cbd",
   "metadata": {},
   "outputs": [
    {
     "data": {
      "text/plain": [
       "24"
      ]
     },
     "execution_count": 45,
     "metadata": {},
     "output_type": "execute_result"
    }
   ],
   "source": [
    "f.write(\"I am ankit kumar koli , \")"
   ]
  },
  {
   "cell_type": "code",
   "execution_count": 46,
   "id": "f7d810c1-2095-4b90-af6c-e0d7a0b0cc57",
   "metadata": {},
   "outputs": [],
   "source": [
    "f.close()"
   ]
  },
  {
   "cell_type": "code",
   "execution_count": null,
   "id": "1ca09386-3c5f-4cb9-a334-da9d3846d109",
   "metadata": {},
   "outputs": [],
   "source": []
  },
  {
   "cell_type": "code",
   "execution_count": 47,
   "id": "2d64a4ed-9941-4f75-885d-146590ab5c41",
   "metadata": {},
   "outputs": [],
   "source": [
    "data = open(\"test.txt\",\"r\")"
   ]
  },
  {
   "cell_type": "code",
   "execution_count": 48,
   "id": "4fd2883a-f8c3-46c3-95ec-c6c86d7b2a0b",
   "metadata": {},
   "outputs": [
    {
     "data": {
      "text/plain": [
       "\"Data Science Masters course is highly curated and uniquely designed according to the latest industry standards. This program instills students the skills essential to knowledge discovery efforts to identify standard, novel, and truly differentiated solutions and decision-making, including skills in managing, querying, analyzing, visualizing, and extracting meaning from extremely large data sets. This trending program provides students with the statistical, mathematical and computational skills needed to meet the large-scale data science challenges of today's professional world. You will learn all the stack required to work in data science industry including cloud infrastructure and real-time industry projects. This course will be taught in Hindi language.I am ankit kumar koli , \""
      ]
     },
     "execution_count": 48,
     "metadata": {},
     "output_type": "execute_result"
    }
   ],
   "source": [
    "data.read()"
   ]
  },
  {
   "cell_type": "code",
   "execution_count": null,
   "id": "41abc73e-ee2d-4abb-ba18-aec11006e424",
   "metadata": {},
   "outputs": [],
   "source": []
  },
  {
   "cell_type": "code",
   "execution_count": 49,
   "id": "29a1d8ad-11bd-4273-a740-e1f9e48061e4",
   "metadata": {},
   "outputs": [
    {
     "data": {
      "text/plain": [
       "''"
      ]
     },
     "execution_count": 49,
     "metadata": {},
     "output_type": "execute_result"
    }
   ],
   "source": [
    "data.readline()"
   ]
  },
  {
   "cell_type": "code",
   "execution_count": 50,
   "id": "292434e9-4bbf-4c08-ae0c-7dcfc474f28e",
   "metadata": {},
   "outputs": [
    {
     "data": {
      "text/plain": [
       "0"
      ]
     },
     "execution_count": 50,
     "metadata": {},
     "output_type": "execute_result"
    }
   ],
   "source": [
    "data.seek(0)"
   ]
  },
  {
   "cell_type": "code",
   "execution_count": 51,
   "id": "ea4cc98f-4c93-48e9-87e5-301ae5226433",
   "metadata": {},
   "outputs": [
    {
     "data": {
      "text/plain": [
       "\"Data Science Masters course is highly curated and uniquely designed according to the latest industry standards. This program instills students the skills essential to knowledge discovery efforts to identify standard, novel, and truly differentiated solutions and decision-making, including skills in managing, querying, analyzing, visualizing, and extracting meaning from extremely large data sets. This trending program provides students with the statistical, mathematical and computational skills needed to meet the large-scale data science challenges of today's professional world. You will learn all the stack required to work in data science industry including cloud infrastructure and real-time industry projects. This course will be taught in Hindi language.I am ankit kumar koli , \""
      ]
     },
     "execution_count": 51,
     "metadata": {},
     "output_type": "execute_result"
    }
   ],
   "source": [
    "data.readline()"
   ]
  },
  {
   "cell_type": "code",
   "execution_count": null,
   "id": "bf7f2e98-014f-468a-9f46-f895bfe95f86",
   "metadata": {},
   "outputs": [],
   "source": []
  },
  {
   "cell_type": "code",
   "execution_count": 52,
   "id": "08888a77-dbf2-40e8-9f04-b5c4bab58a3f",
   "metadata": {},
   "outputs": [
    {
     "data": {
      "text/plain": [
       "9"
      ]
     },
     "execution_count": 52,
     "metadata": {},
     "output_type": "execute_result"
    }
   ],
   "source": [
    "data.seek(9)"
   ]
  },
  {
   "cell_type": "code",
   "execution_count": 53,
   "id": "b9fbe64d-2249-4151-bc5d-3f65bcf3dba1",
   "metadata": {},
   "outputs": [
    {
     "data": {
      "text/plain": [
       "\"nce Masters course is highly curated and uniquely designed according to the latest industry standards. This program instills students the skills essential to knowledge discovery efforts to identify standard, novel, and truly differentiated solutions and decision-making, including skills in managing, querying, analyzing, visualizing, and extracting meaning from extremely large data sets. This trending program provides students with the statistical, mathematical and computational skills needed to meet the large-scale data science challenges of today's professional world. You will learn all the stack required to work in data science industry including cloud infrastructure and real-time industry projects. This course will be taught in Hindi language.I am ankit kumar koli , \""
      ]
     },
     "execution_count": 53,
     "metadata": {},
     "output_type": "execute_result"
    }
   ],
   "source": [
    "data.readline()"
   ]
  },
  {
   "cell_type": "code",
   "execution_count": null,
   "id": "76115261-dbf3-4f6a-868d-2524d721d402",
   "metadata": {},
   "outputs": [],
   "source": []
  },
  {
   "cell_type": "code",
   "execution_count": 54,
   "id": "aaf62248-849f-4215-a618-f1aeaf4b4276",
   "metadata": {},
   "outputs": [],
   "source": [
    "data1 = open(\"test.txt\",\"r\")"
   ]
  },
  {
   "cell_type": "code",
   "execution_count": 55,
   "id": "cec37aa8-5ddb-4300-808b-78882acf7f0d",
   "metadata": {},
   "outputs": [
    {
     "name": "stdout",
     "output_type": "stream",
     "text": [
      "Data Science Masters course is highly curated and uniquely designed according to the latest industry standards. This program instills students the skills essential to knowledge discovery efforts to identify standard, novel, and truly differentiated solutions and decision-making, including skills in managing, querying, analyzing, visualizing, and extracting meaning from extremely large data sets. This trending program provides students with the statistical, mathematical and computational skills needed to meet the large-scale data science challenges of today's professional world. You will learn all the stack required to work in data science industry including cloud infrastructure and real-time industry projects. This course will be taught in Hindi language.I am ankit kumar koli , \n"
     ]
    }
   ],
   "source": [
    "for i in data1 :\n",
    "    print(i)"
   ]
  },
  {
   "cell_type": "code",
   "execution_count": null,
   "id": "2640904f-d00f-40ba-a3b8-8f6540e0e1da",
   "metadata": {},
   "outputs": [],
   "source": []
  },
  {
   "cell_type": "code",
   "execution_count": null,
   "id": "5f6a60af-8cd9-4269-b13f-f815fd8cae24",
   "metadata": {},
   "outputs": [],
   "source": []
  },
  {
   "cell_type": "code",
   "execution_count": 56,
   "id": "42186a56-68eb-4029-ac10-740c5376ada4",
   "metadata": {},
   "outputs": [],
   "source": [
    "import os                # os module"
   ]
  },
  {
   "cell_type": "code",
   "execution_count": 57,
   "id": "4c8d7214-143c-4b39-ac20-43a492266c98",
   "metadata": {},
   "outputs": [
    {
     "data": {
      "text/plain": [
       "789"
      ]
     },
     "execution_count": 57,
     "metadata": {},
     "output_type": "execute_result"
    }
   ],
   "source": [
    "os.path.getsize(\"test.txt\")                       # file size dekhne ke lea"
   ]
  },
  {
   "cell_type": "code",
   "execution_count": 58,
   "id": "ea27508a-5fc7-4d6c-a485-6ccf0bf7653d",
   "metadata": {},
   "outputs": [],
   "source": [
    "os.remove(\"test.txt\")"
   ]
  },
  {
   "cell_type": "code",
   "execution_count": null,
   "id": "df911c16-1aa8-4132-9182-62605c37510a",
   "metadata": {},
   "outputs": [],
   "source": []
  },
  {
   "cell_type": "code",
   "execution_count": 59,
   "id": "574a3952-0e7a-4351-9f05-b15e5476d7a0",
   "metadata": {},
   "outputs": [],
   "source": [
    "data1 = open(\"test1.txt\",'w')"
   ]
  },
  {
   "cell_type": "code",
   "execution_count": 60,
   "id": "eed0bed1-c697-41c0-8af8-9b0f42b3c4e6",
   "metadata": {},
   "outputs": [
    {
     "data": {
      "text/plain": [
       "765"
      ]
     },
     "execution_count": 60,
     "metadata": {},
     "output_type": "execute_result"
    }
   ],
   "source": [
    "data1.write(\"Data Science Masters course is highly curated and uniquely designed according to the latest industry standards. This program instills students the skills essential to knowledge discovery efforts to identify standard, novel, and truly differentiated solutions and decision-making, including skills in managing, querying, analyzing, visualizing, and extracting meaning from extremely large data sets. This trending program provides students with the statistical, mathematical and computational skills needed to meet the large-scale data science challenges of today's professional world. You will learn all the stack required to work in data science industry including cloud infrastructure and real-time industry projects. This course will be taught in Hindi language.\")"
   ]
  },
  {
   "cell_type": "code",
   "execution_count": 61,
   "id": "f5178197-d9cd-4297-b2e0-e65eaa79f089",
   "metadata": {},
   "outputs": [],
   "source": [
    "data1.close()"
   ]
  },
  {
   "cell_type": "code",
   "execution_count": 62,
   "id": "995391de-32b8-4c4f-becc-24278c8d894a",
   "metadata": {},
   "outputs": [],
   "source": [
    "os.rename(\"test1.txt\",\"newtest.txt\")"
   ]
  },
  {
   "cell_type": "code",
   "execution_count": null,
   "id": "d856e787-edbd-4ef5-ad1b-6732d6615b7d",
   "metadata": {},
   "outputs": [],
   "source": []
  },
  {
   "cell_type": "code",
   "execution_count": 63,
   "id": "071d7fdf-a816-47d5-b9c9-fed09ab7f1c1",
   "metadata": {},
   "outputs": [],
   "source": [
    "import shutil"
   ]
  },
  {
   "cell_type": "code",
   "execution_count": 64,
   "id": "cdaeb11f-3fa8-484a-a213-b2b1e262df99",
   "metadata": {},
   "outputs": [
    {
     "data": {
      "text/plain": [
       "'copy_newtest.txt'"
      ]
     },
     "execution_count": 64,
     "metadata": {},
     "output_type": "execute_result"
    }
   ],
   "source": [
    "shutil.copy(\"newtest.txt\",\"copy_newtest.txt\")"
   ]
  },
  {
   "cell_type": "code",
   "execution_count": null,
   "id": "b74b1a77-e2a0-49bb-9102-a428074b8602",
   "metadata": {},
   "outputs": [],
   "source": []
  },
  {
   "cell_type": "code",
   "execution_count": 65,
   "id": "8f77aef6-5227-44e1-bf07-b186dabbe618",
   "metadata": {},
   "outputs": [],
   "source": [
    "# ek or tarike se file open kr sakte hai"
   ]
  },
  {
   "cell_type": "code",
   "execution_count": 68,
   "id": "8999afaa-8b12-42f7-80dc-5f7b7ede68f8",
   "metadata": {},
   "outputs": [
    {
     "name": "stdout",
     "output_type": "stream",
     "text": [
      "Data Science Masters course is highly curated and uniquely designed according to the latest industry standards. This program instills students the skills essential to knowledge discovery efforts to identify standard, novel, and truly differentiated solutions and decision-making, including skills in managing, querying, analyzing, visualizing, and extracting meaning from extremely large data sets. This trending program provides students with the statistical, mathematical and computational skills needed to meet the large-scale data science challenges of today's professional world. You will learn all the stack required to work in data science industry including cloud infrastructure and real-time industry projects. This course will be taught in Hindi language.\n"
     ]
    }
   ],
   "source": [
    "with open(\"newtest.txt\",\"r\") as alias :\n",
    "    print(alias.read())"
   ]
  },
  {
   "cell_type": "code",
   "execution_count": null,
   "id": "daf5cef4-4ea5-44d9-a606-79b589c99308",
   "metadata": {},
   "outputs": [],
   "source": []
  }
 ],
 "metadata": {
  "kernelspec": {
   "display_name": "Python 3 (ipykernel)",
   "language": "python",
   "name": "python3"
  },
  "language_info": {
   "codemirror_mode": {
    "name": "ipython",
    "version": 3
   },
   "file_extension": ".py",
   "mimetype": "text/x-python",
   "name": "python",
   "nbconvert_exporter": "python",
   "pygments_lexer": "ipython3",
   "version": "3.10.8"
  }
 },
 "nbformat": 4,
 "nbformat_minor": 5
}
