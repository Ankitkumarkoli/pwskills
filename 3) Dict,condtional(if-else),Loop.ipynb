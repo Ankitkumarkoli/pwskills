{
 "cells": [
  {
   "cell_type": "markdown",
   "id": "1a571a6b-ae99-45dd-a03b-7e99fae9d417",
   "metadata": {},
   "source": [
    "Dictionary Data structure"
   ]
  },
  {
   "cell_type": "code",
   "execution_count": 1,
   "id": "9385eef3-efed-473d-8dcb-922a8ae44c37",
   "metadata": {},
   "outputs": [],
   "source": [
    "d = {}"
   ]
  },
  {
   "cell_type": "code",
   "execution_count": 2,
   "id": "ae5df30b-c49a-40f9-9db2-85d9c2cd9be0",
   "metadata": {},
   "outputs": [
    {
     "data": {
      "text/plain": [
       "dict"
      ]
     },
     "execution_count": 2,
     "metadata": {},
     "output_type": "execute_result"
    }
   ],
   "source": [
    "type(d)"
   ]
  },
  {
   "cell_type": "markdown",
   "id": "430ffa39-dabd-44bb-af34-1608b618dba8",
   "metadata": {},
   "source": [
    "d1 = {'key':'value'}\n",
    "key hamesa unique hona chaheyee"
   ]
  },
  {
   "cell_type": "code",
   "execution_count": 3,
   "id": "f7cc1896-2698-4cd9-9eac-cdd4a76241b0",
   "metadata": {},
   "outputs": [],
   "source": [
    "d1 = {'Ankit':'kumar'}"
   ]
  },
  {
   "cell_type": "code",
   "execution_count": 4,
   "id": "dad002a9-bc06-4f54-b3b5-f9372c596d38",
   "metadata": {},
   "outputs": [
    {
     "data": {
      "text/plain": [
       "{'Ankit': 'kumar'}"
      ]
     },
     "execution_count": 4,
     "metadata": {},
     "output_type": "execute_result"
    }
   ],
   "source": [
    "d1"
   ]
  },
  {
   "cell_type": "code",
   "execution_count": 5,
   "id": "718f9be0-12e9-4976-8e86-0095f323db3b",
   "metadata": {},
   "outputs": [],
   "source": [
    "d2 = {'name':'Ankit' , 'email':'koliankit91@gmail.com','number':9315987113}"
   ]
  },
  {
   "cell_type": "code",
   "execution_count": 6,
   "id": "457af5b0-09ee-4004-800f-f4b860d41726",
   "metadata": {},
   "outputs": [
    {
     "data": {
      "text/plain": [
       "{'name': 'Ankit', 'email': 'koliankit91@gmail.com', 'number': 9315987113}"
      ]
     },
     "execution_count": 6,
     "metadata": {},
     "output_type": "execute_result"
    }
   ],
   "source": [
    "d2"
   ]
  },
  {
   "cell_type": "code",
   "execution_count": 7,
   "id": "1929cd24-6d8d-412a-9c9f-16f6bb31bea0",
   "metadata": {},
   "outputs": [
    {
     "ename": "SyntaxError",
     "evalue": "invalid syntax (829920405.py, line 1)",
     "output_type": "error",
     "traceback": [
      "\u001b[0;36m  Cell \u001b[0;32mIn[7], line 1\u001b[0;36m\u001b[0m\n\u001b[0;31m    d3 = {123:'koli',@wwe}\u001b[0m\n\u001b[0m                     ^\u001b[0m\n\u001b[0;31mSyntaxError\u001b[0m\u001b[0;31m:\u001b[0m invalid syntax\n"
     ]
    }
   ],
   "source": [
    "d3 = {123:'koli',@wwe}"
   ]
  },
  {
   "cell_type": "code",
   "execution_count": 8,
   "id": "965cc660-69a7-4d50-bdc0-3dbf4ee59022",
   "metadata": {},
   "outputs": [],
   "source": [
    "d4 = {234:'koli','_war':'londe'}"
   ]
  },
  {
   "cell_type": "code",
   "execution_count": 9,
   "id": "22bd54a8-ca38-4b78-a812-7e212a991ff5",
   "metadata": {},
   "outputs": [
    {
     "data": {
      "text/plain": [
       "{234: 'koli', '_war': 'londe'}"
      ]
     },
     "execution_count": 9,
     "metadata": {},
     "output_type": "execute_result"
    }
   ],
   "source": [
    "d4"
   ]
  },
  {
   "cell_type": "code",
   "execution_count": 10,
   "id": "14bb4470-0dca-4bb6-88eb-fb5bb0f9204f",
   "metadata": {},
   "outputs": [],
   "source": [
    "d5 = {True:23456}"
   ]
  },
  {
   "cell_type": "code",
   "execution_count": 11,
   "id": "e812e2c7-6a99-4281-9e17-dda9b8c4c868",
   "metadata": {},
   "outputs": [
    {
     "data": {
      "text/plain": [
       "{True: 23456}"
      ]
     },
     "execution_count": 11,
     "metadata": {},
     "output_type": "execute_result"
    }
   ],
   "source": [
    "d5"
   ]
  },
  {
   "cell_type": "code",
   "execution_count": 12,
   "id": "405935bd-84c9-4ca3-badb-e3fa510940cc",
   "metadata": {},
   "outputs": [
    {
     "ename": "NameError",
     "evalue": "name 'd3' is not defined",
     "output_type": "error",
     "traceback": [
      "\u001b[0;31m---------------------------------------------------------------------------\u001b[0m",
      "\u001b[0;31mNameError\u001b[0m                                 Traceback (most recent call last)",
      "Cell \u001b[0;32mIn[12], line 1\u001b[0m\n\u001b[0;32m----> 1\u001b[0m \u001b[43md3\u001b[49m\n",
      "\u001b[0;31mNameError\u001b[0m: name 'd3' is not defined"
     ]
    }
   ],
   "source": [
    "d3"
   ]
  },
  {
   "cell_type": "code",
   "execution_count": 13,
   "id": "ca08877d-2426-47bb-a128-21a6126ebca0",
   "metadata": {},
   "outputs": [],
   "source": [
    "d6 = {234:'koli','_war':'londe',True:234567}"
   ]
  },
  {
   "cell_type": "code",
   "execution_count": 14,
   "id": "41bac047-cd47-4982-9bca-d5dfe7bad90e",
   "metadata": {},
   "outputs": [
    {
     "data": {
      "text/plain": [
       "{234: 'koli', '_war': 'londe', True: 234567}"
      ]
     },
     "execution_count": 14,
     "metadata": {},
     "output_type": "execute_result"
    }
   ],
   "source": [
    "d6"
   ]
  },
  {
   "cell_type": "code",
   "execution_count": 15,
   "id": "24ff0a8a-dedb-4bab-a0ca-eb42788059af",
   "metadata": {},
   "outputs": [
    {
     "ename": "KeyError",
     "evalue": "'234'",
     "output_type": "error",
     "traceback": [
      "\u001b[0;31m---------------------------------------------------------------------------\u001b[0m",
      "\u001b[0;31mKeyError\u001b[0m                                  Traceback (most recent call last)",
      "Cell \u001b[0;32mIn[15], line 1\u001b[0m\n\u001b[0;32m----> 1\u001b[0m \u001b[43md6\u001b[49m\u001b[43m[\u001b[49m\u001b[38;5;124;43m'\u001b[39;49m\u001b[38;5;124;43m234\u001b[39;49m\u001b[38;5;124;43m'\u001b[39;49m\u001b[43m]\u001b[49m\n",
      "\u001b[0;31mKeyError\u001b[0m: '234'"
     ]
    }
   ],
   "source": [
    "d6['234']"
   ]
  },
  {
   "cell_type": "code",
   "execution_count": 16,
   "id": "5aa0a450-81a3-4620-8d09-2e391ece2a98",
   "metadata": {},
   "outputs": [
    {
     "data": {
      "text/plain": [
       "'koli'"
      ]
     },
     "execution_count": 16,
     "metadata": {},
     "output_type": "execute_result"
    }
   ],
   "source": [
    "d6[234]"
   ]
  },
  {
   "cell_type": "code",
   "execution_count": 17,
   "id": "bd99f7fe-72a3-496b-9519-59af192d2aaa",
   "metadata": {},
   "outputs": [
    {
     "data": {
      "text/plain": [
       "234567"
      ]
     },
     "execution_count": 17,
     "metadata": {},
     "output_type": "execute_result"
    }
   ],
   "source": [
    "d6[True]"
   ]
  },
  {
   "cell_type": "code",
   "execution_count": 18,
   "id": "45401f43-c275-406a-ab71-0a1202524b74",
   "metadata": {},
   "outputs": [
    {
     "data": {
      "text/plain": [
       "234567"
      ]
     },
     "execution_count": 18,
     "metadata": {},
     "output_type": "execute_result"
    }
   ],
   "source": [
    "d6[1]"
   ]
  },
  {
   "cell_type": "code",
   "execution_count": 19,
   "id": "10a98087-1ce6-4a17-a59b-2bffc8753b73",
   "metadata": {},
   "outputs": [
    {
     "data": {
      "text/plain": [
       "{'name': 'Ankit', 'email': 'koliankit91@gmail.com', 'number': 9315987113}"
      ]
     },
     "execution_count": 19,
     "metadata": {},
     "output_type": "execute_result"
    }
   ],
   "source": [
    "d2"
   ]
  },
  {
   "cell_type": "code",
   "execution_count": 20,
   "id": "c9fccc3e-e9d2-4c0b-b0ed-0b2c7f9b13d7",
   "metadata": {},
   "outputs": [],
   "source": [
    "d8 = {'name': 'Ankit', 'email': 'koliankit91@gmail.com', 'name': 'Ankitkumarkoli'}"
   ]
  },
  {
   "cell_type": "code",
   "execution_count": 21,
   "id": "d4ee1272-a334-4896-baac-33313d61ce04",
   "metadata": {},
   "outputs": [
    {
     "data": {
      "text/plain": [
       "{'name': 'Ankitkumarkoli', 'email': 'koliankit91@gmail.com'}"
      ]
     },
     "execution_count": 21,
     "metadata": {},
     "output_type": "execute_result"
    }
   ],
   "source": [
    "d8"
   ]
  },
  {
   "cell_type": "code",
   "execution_count": 22,
   "id": "13945da3-f5ca-440f-9a26-ef6a570f4c60",
   "metadata": {},
   "outputs": [
    {
     "data": {
      "text/plain": [
       "'Ankitkumarkoli'"
      ]
     },
     "execution_count": 22,
     "metadata": {},
     "output_type": "execute_result"
    }
   ],
   "source": [
    "d8['name']"
   ]
  },
  {
   "cell_type": "markdown",
   "id": "6cb97e93-76ac-4958-b047-63075b48e5dc",
   "metadata": {},
   "source": [
    "Key should always be unique"
   ]
  },
  {
   "cell_type": "code",
   "execution_count": 23,
   "id": "d89bcf20-a37b-4c83-a672-8560345199a1",
   "metadata": {},
   "outputs": [],
   "source": [
    "q1 = {'company':'pwskills','course':['Datascience','webd']}"
   ]
  },
  {
   "cell_type": "code",
   "execution_count": 24,
   "id": "6e3c494e-edd1-4d9f-8bd4-111e888a511d",
   "metadata": {},
   "outputs": [
    {
     "data": {
      "text/plain": [
       "{'company': 'pwskills', 'course': ['Datascience', 'webd']}"
      ]
     },
     "execution_count": 24,
     "metadata": {},
     "output_type": "execute_result"
    }
   ],
   "source": [
    "q1"
   ]
  },
  {
   "cell_type": "code",
   "execution_count": 25,
   "id": "780c3de0-5e99-49a1-b296-da66f6e14f3c",
   "metadata": {},
   "outputs": [
    {
     "data": {
      "text/plain": [
       "['Datascience', 'webd']"
      ]
     },
     "execution_count": 25,
     "metadata": {},
     "output_type": "execute_result"
    }
   ],
   "source": [
    "q1['course']"
   ]
  },
  {
   "cell_type": "code",
   "execution_count": 27,
   "id": "1f75f61e-ed7f-48b8-bfef-83880550b217",
   "metadata": {},
   "outputs": [
    {
     "data": {
      "text/plain": [
       "'webd'"
      ]
     },
     "execution_count": 27,
     "metadata": {},
     "output_type": "execute_result"
    }
   ],
   "source": [
    "q1['course'][1]"
   ]
  },
  {
   "cell_type": "code",
   "execution_count": 29,
   "id": "ceb16873-744b-402a-a956-103183c09da9",
   "metadata": {},
   "outputs": [],
   "source": [
    "w1 = {'number':[2,3,34,34,34],'assignment':(1,2,3,4,5)}"
   ]
  },
  {
   "cell_type": "code",
   "execution_count": 30,
   "id": "8fc223ff-c132-497a-8a5e-374029d14349",
   "metadata": {},
   "outputs": [
    {
     "data": {
      "text/plain": [
       "{'number': [2, 3, 34, 34, 34], 'assignment': (1, 2, 3, 4, 5)}"
      ]
     },
     "execution_count": 30,
     "metadata": {},
     "output_type": "execute_result"
    }
   ],
   "source": [
    "w1"
   ]
  },
  {
   "cell_type": "code",
   "execution_count": 32,
   "id": "19871e8a-69d6-4c6d-b0f7-169da4a7ca7f",
   "metadata": {},
   "outputs": [],
   "source": [
    "r1 = {'number':[2,3,34,34,34],'assignment':(1,2,3,4,5),'launchdate':{28,12,14}}"
   ]
  },
  {
   "cell_type": "code",
   "execution_count": 33,
   "id": "4b5c17ad-5bc0-43f8-9adf-c94ab2cd65e6",
   "metadata": {},
   "outputs": [
    {
     "data": {
      "text/plain": [
       "{'number': [2, 3, 34, 34, 34],\n",
       " 'assignment': (1, 2, 3, 4, 5),\n",
       " 'launchdate': {12, 14, 28}}"
      ]
     },
     "execution_count": 33,
     "metadata": {},
     "output_type": "execute_result"
    }
   ],
   "source": [
    "r1"
   ]
  },
  {
   "cell_type": "code",
   "execution_count": 34,
   "id": "f61e04fe-608b-48c9-8386-c4b90d749861",
   "metadata": {},
   "outputs": [],
   "source": [
    "s1 = {'number':[2,3,34,34,34],'assignment':(1,2,3,4,5),'launchdate':{28,12,14},'classtime':{'web_dev':8,'java':7,'Datasciencemaster':8}}"
   ]
  },
  {
   "cell_type": "code",
   "execution_count": 35,
   "id": "ca700457-3c9e-4791-8ea7-b21c61695151",
   "metadata": {},
   "outputs": [
    {
     "data": {
      "text/plain": [
       "{'number': [2, 3, 34, 34, 34],\n",
       " 'assignment': (1, 2, 3, 4, 5),\n",
       " 'launchdate': {12, 14, 28},\n",
       " 'classtime': {'web_dev': 8, 'java': 7, 'Datasciencemaster': 8}}"
      ]
     },
     "execution_count": 35,
     "metadata": {},
     "output_type": "execute_result"
    }
   ],
   "source": [
    "s1"
   ]
  },
  {
   "cell_type": "code",
   "execution_count": 36,
   "id": "35a85ed9-478b-4b5a-8f84-2d955fd24b9a",
   "metadata": {},
   "outputs": [
    {
     "data": {
      "text/plain": [
       "{'web_dev': 8, 'java': 7, 'Datasciencemaster': 8}"
      ]
     },
     "execution_count": 36,
     "metadata": {},
     "output_type": "execute_result"
    }
   ],
   "source": [
    "s1['classtime']"
   ]
  },
  {
   "cell_type": "code",
   "execution_count": 37,
   "id": "7cf9db3e-9e94-4b48-8f92-fd3706db8243",
   "metadata": {},
   "outputs": [
    {
     "data": {
      "text/plain": [
       "7"
      ]
     },
     "execution_count": 37,
     "metadata": {},
     "output_type": "execute_result"
    }
   ],
   "source": [
    "s1['classtime']['java']"
   ]
  },
  {
   "cell_type": "code",
   "execution_count": 38,
   "id": "d8030525-7900-4ae7-94e5-7422fcddb681",
   "metadata": {},
   "outputs": [
    {
     "data": {
      "text/plain": [
       "{'number': [2, 3, 34, 34, 34],\n",
       " 'assignment': (1, 2, 3, 4, 5),\n",
       " 'launchdate': {12, 14, 28},\n",
       " 'classtime': {'web_dev': 8, 'java': 7, 'Datasciencemaster': 8}}"
      ]
     },
     "execution_count": 38,
     "metadata": {},
     "output_type": "execute_result"
    }
   ],
   "source": [
    "s1"
   ]
  },
  {
   "cell_type": "code",
   "execution_count": 40,
   "id": "f280fdde-6431-42b5-a52f-a85c7cabe1fc",
   "metadata": {},
   "outputs": [],
   "source": [
    "s1['deshkementor'] = ['Ankit','Ankush','aradhya']"
   ]
  },
  {
   "cell_type": "code",
   "execution_count": 41,
   "id": "26797f66-4555-442e-9365-4172d7f6f4fd",
   "metadata": {},
   "outputs": [
    {
     "data": {
      "text/plain": [
       "{'number': [2, 3, 34, 34, 34],\n",
       " 'assignment': (1, 2, 3, 4, 5),\n",
       " 'launchdate': {12, 14, 28},\n",
       " 'classtime': {'web_dev': 8, 'java': 7, 'Datasciencemaster': 8},\n",
       " 'deshkementor': ['Ankit', 'Ankush', 'aradhya']}"
      ]
     },
     "execution_count": 41,
     "metadata": {},
     "output_type": "execute_result"
    }
   ],
   "source": [
    "s1"
   ]
  },
  {
   "cell_type": "code",
   "execution_count": 42,
   "id": "908ee43f-17da-4441-9957-92b4151efd2d",
   "metadata": {},
   "outputs": [],
   "source": [
    "s1['number'] = ['Ankit','Ankush','aradhya']"
   ]
  },
  {
   "cell_type": "code",
   "execution_count": 43,
   "id": "16fe7bc7-5f44-484a-aea1-a3b366316a90",
   "metadata": {},
   "outputs": [
    {
     "data": {
      "text/plain": [
       "{'number': ['Ankit', 'Ankush', 'aradhya'],\n",
       " 'assignment': (1, 2, 3, 4, 5),\n",
       " 'launchdate': {12, 14, 28},\n",
       " 'classtime': {'web_dev': 8, 'java': 7, 'Datasciencemaster': 8},\n",
       " 'deshkementor': ['Ankit', 'Ankush', 'aradhya']}"
      ]
     },
     "execution_count": 43,
     "metadata": {},
     "output_type": "execute_result"
    }
   ],
   "source": [
    "s1"
   ]
  },
  {
   "cell_type": "code",
   "execution_count": 44,
   "id": "fad54bc3-24a3-4d84-990b-eb02ad382f43",
   "metadata": {},
   "outputs": [],
   "source": [
    "del s1['number']"
   ]
  },
  {
   "cell_type": "code",
   "execution_count": 46,
   "id": "3ac98e46-f44d-44ea-96b8-9d8d721632a1",
   "metadata": {},
   "outputs": [
    {
     "data": {
      "text/plain": [
       "{'assignment': (1, 2, 3, 4, 5),\n",
       " 'launchdate': {12, 14, 28},\n",
       " 'classtime': {'web_dev': 8, 'java': 7, 'Datasciencemaster': 8},\n",
       " 'deshkementor': ['Ankit', 'Ankush', 'aradhya']}"
      ]
     },
     "execution_count": 46,
     "metadata": {},
     "output_type": "execute_result"
    }
   ],
   "source": [
    "s1"
   ]
  },
  {
   "cell_type": "code",
   "execution_count": 47,
   "id": "9b0d2902-2686-4394-9740-1a9512a7c529",
   "metadata": {},
   "outputs": [
    {
     "data": {
      "text/plain": [
       "dict_keys(['assignment', 'launchdate', 'classtime', 'deshkementor'])"
      ]
     },
     "execution_count": 47,
     "metadata": {},
     "output_type": "execute_result"
    }
   ],
   "source": [
    "s1.keys()"
   ]
  },
  {
   "cell_type": "code",
   "execution_count": 48,
   "id": "e3d11322-5735-496f-accb-92fcd37719c5",
   "metadata": {},
   "outputs": [
    {
     "data": {
      "text/plain": [
       "['assignment', 'launchdate', 'classtime', 'deshkementor']"
      ]
     },
     "execution_count": 48,
     "metadata": {},
     "output_type": "execute_result"
    }
   ],
   "source": [
    "list(s1.keys())"
   ]
  },
  {
   "cell_type": "code",
   "execution_count": 49,
   "id": "7f0a6119-f15b-4997-af25-d05eea362eb6",
   "metadata": {},
   "outputs": [
    {
     "data": {
      "text/plain": [
       "dict_values([(1, 2, 3, 4, 5), {28, 12, 14}, {'web_dev': 8, 'java': 7, 'Datasciencemaster': 8}, ['Ankit', 'Ankush', 'aradhya']])"
      ]
     },
     "execution_count": 49,
     "metadata": {},
     "output_type": "execute_result"
    }
   ],
   "source": [
    "s1.values()"
   ]
  },
  {
   "cell_type": "code",
   "execution_count": 50,
   "id": "ea1430f2-3473-477e-9bcb-5a5d162adf5d",
   "metadata": {},
   "outputs": [
    {
     "data": {
      "text/plain": [
       "[(1, 2, 3, 4, 5),\n",
       " {12, 14, 28},\n",
       " {'web_dev': 8, 'java': 7, 'Datasciencemaster': 8},\n",
       " ['Ankit', 'Ankush', 'aradhya']]"
      ]
     },
     "execution_count": 50,
     "metadata": {},
     "output_type": "execute_result"
    }
   ],
   "source": [
    "list(s1.values())"
   ]
  },
  {
   "cell_type": "code",
   "execution_count": 52,
   "id": "f5021d87-aa6a-4e7e-a2bc-17eeef3ea137",
   "metadata": {},
   "outputs": [
    {
     "data": {
      "text/plain": [
       "dict_items([('assignment', (1, 2, 3, 4, 5)), ('launchdate', {28, 12, 14}), ('classtime', {'web_dev': 8, 'java': 7, 'Datasciencemaster': 8}), ('deshkementor', ['Ankit', 'Ankush', 'aradhya'])])"
      ]
     },
     "execution_count": 52,
     "metadata": {},
     "output_type": "execute_result"
    }
   ],
   "source": [
    "s1.items()"
   ]
  },
  {
   "cell_type": "code",
   "execution_count": 53,
   "id": "2eebebe1-8aa7-462d-a85a-ad32d8991465",
   "metadata": {},
   "outputs": [
    {
     "data": {
      "text/plain": [
       "[('assignment', (1, 2, 3, 4, 5)),\n",
       " ('launchdate', {12, 14, 28}),\n",
       " ('classtime', {'web_dev': 8, 'java': 7, 'Datasciencemaster': 8}),\n",
       " ('deshkementor', ['Ankit', 'Ankush', 'aradhya'])]"
      ]
     },
     "execution_count": 53,
     "metadata": {},
     "output_type": "execute_result"
    }
   ],
   "source": [
    "list(s1.items())"
   ]
  },
  {
   "cell_type": "code",
   "execution_count": 54,
   "id": "c18c30ad-3148-43dd-a29d-6a3cbbd723ec",
   "metadata": {},
   "outputs": [
    {
     "data": {
      "text/plain": [
       "(1, 2, 3, 4, 5)"
      ]
     },
     "execution_count": 54,
     "metadata": {},
     "output_type": "execute_result"
    }
   ],
   "source": [
    "s1.pop('assignment')"
   ]
  },
  {
   "cell_type": "code",
   "execution_count": 55,
   "id": "22cd992c-7fec-4f68-81dc-37dcc6911cdb",
   "metadata": {},
   "outputs": [
    {
     "data": {
      "text/plain": [
       "{'launchdate': {12, 14, 28},\n",
       " 'classtime': {'web_dev': 8, 'java': 7, 'Datasciencemaster': 8},\n",
       " 'deshkementor': ['Ankit', 'Ankush', 'aradhya']}"
      ]
     },
     "execution_count": 55,
     "metadata": {},
     "output_type": "execute_result"
    }
   ],
   "source": [
    "s1"
   ]
  },
  {
   "cell_type": "code",
   "execution_count": 56,
   "id": "39491638-efb7-4dc5-882c-f097534539f6",
   "metadata": {},
   "outputs": [
    {
     "ename": "TypeError",
     "evalue": "pop expected at least 1 argument, got 0",
     "output_type": "error",
     "traceback": [
      "\u001b[0;31m---------------------------------------------------------------------------\u001b[0m",
      "\u001b[0;31mTypeError\u001b[0m                                 Traceback (most recent call last)",
      "Cell \u001b[0;32mIn[56], line 1\u001b[0m\n\u001b[0;32m----> 1\u001b[0m \u001b[43ms1\u001b[49m\u001b[38;5;241;43m.\u001b[39;49m\u001b[43mpop\u001b[49m\u001b[43m(\u001b[49m\u001b[43m)\u001b[49m\n",
      "\u001b[0;31mTypeError\u001b[0m: pop expected at least 1 argument, got 0"
     ]
    }
   ],
   "source": [
    "s1.pop()"
   ]
  },
  {
   "cell_type": "code",
   "execution_count": null,
   "id": "cb8c0fb3-5db5-418c-bb30-6b5df5965a5f",
   "metadata": {},
   "outputs": [],
   "source": []
  },
  {
   "cell_type": "code",
   "execution_count": null,
   "id": "1edcb213-bf4b-4f09-8af9-cbafb71e7ee9",
   "metadata": {},
   "outputs": [],
   "source": []
  },
  {
   "cell_type": "code",
   "execution_count": null,
   "id": "40698fd0-1f5b-4e33-98a3-c133a51d73d4",
   "metadata": {},
   "outputs": [],
   "source": []
  },
  {
   "cell_type": "code",
   "execution_count": null,
   "id": "1cbca9bf-db3f-4603-9ac6-99376c053cac",
   "metadata": {},
   "outputs": [],
   "source": []
  },
  {
   "cell_type": "code",
   "execution_count": 1,
   "id": "85877c2e-3d5f-47a5-85a5-abefad770167",
   "metadata": {},
   "outputs": [
    {
     "name": "stdout",
     "output_type": "stream",
     "text": [
      "you will be a part of A1 batch\n"
     ]
    }
   ],
   "source": [
    "marks = 72\n",
    "\n",
    "if marks >=80:\n",
    "    print(\"you will be a part of A0 batch\")\n",
    "elif marks>=60 and marks<80:\n",
    "    print(\"you will be a part of A1 batch\")\n",
    "elif marks>=40 and marks<60:\n",
    "    print(\"you will be a part of A2 batch\")\n",
    "else:\n",
    "    print(\"you will be part of A3 batch\")"
   ]
  },
  {
   "cell_type": "code",
   "execution_count": null,
   "id": "752c068c-baba-4bb5-8b41-718ba280f4de",
   "metadata": {},
   "outputs": [],
   "source": []
  },
  {
   "cell_type": "code",
   "execution_count": 2,
   "id": "e067b8fd-e48c-4a8b-954a-cc2479eb6647",
   "metadata": {},
   "outputs": [
    {
     "name": "stdin",
     "output_type": "stream",
     "text": [
      "enter your marks:  78\n"
     ]
    },
    {
     "ename": "TypeError",
     "evalue": "'>=' not supported between instances of 'str' and 'int'",
     "output_type": "error",
     "traceback": [
      "\u001b[0;31m---------------------------------------------------------------------------\u001b[0m",
      "\u001b[0;31mTypeError\u001b[0m                                 Traceback (most recent call last)",
      "Cell \u001b[0;32mIn[2], line 3\u001b[0m\n\u001b[1;32m      1\u001b[0m marks \u001b[38;5;241m=\u001b[39m \u001b[38;5;28minput\u001b[39m(\u001b[38;5;124m\"\u001b[39m\u001b[38;5;124menter your marks: \u001b[39m\u001b[38;5;124m\"\u001b[39m)\n\u001b[0;32m----> 3\u001b[0m \u001b[38;5;28;01mif\u001b[39;00m \u001b[43mmarks\u001b[49m\u001b[43m \u001b[49m\u001b[38;5;241;43m>\u001b[39;49m\u001b[38;5;241;43m=\u001b[39;49m\u001b[38;5;241;43m80\u001b[39;49m:\n\u001b[1;32m      4\u001b[0m     \u001b[38;5;28mprint\u001b[39m(\u001b[38;5;124m\"\u001b[39m\u001b[38;5;124myou will be a part of A0 batch\u001b[39m\u001b[38;5;124m\"\u001b[39m)\n\u001b[1;32m      5\u001b[0m \u001b[38;5;28;01melif\u001b[39;00m marks\u001b[38;5;241m>\u001b[39m\u001b[38;5;241m=\u001b[39m\u001b[38;5;241m60\u001b[39m \u001b[38;5;129;01mand\u001b[39;00m marks\u001b[38;5;241m<\u001b[39m\u001b[38;5;241m80\u001b[39m:\n",
      "\u001b[0;31mTypeError\u001b[0m: '>=' not supported between instances of 'str' and 'int'"
     ]
    }
   ],
   "source": [
    "marks = input(\"enter your marks: \")\n",
    "\n",
    "if marks >=80:\n",
    "    print(\"you will be a part of A0 batch\")\n",
    "elif marks>=60 and marks<80:\n",
    "    print(\"you will be a part of A1 batch\")\n",
    "elif marks>=40 and marks<60:\n",
    "    print(\"you will be a part of A2 batch\")\n",
    "else:\n",
    "    print(\"you will be part of A3 batch\")"
   ]
  },
  {
   "cell_type": "code",
   "execution_count": 3,
   "id": "4572d0b7-4f81-4985-8766-a7a31380739f",
   "metadata": {},
   "outputs": [
    {
     "name": "stdin",
     "output_type": "stream",
     "text": [
      "enter your marks:  89\n"
     ]
    },
    {
     "name": "stdout",
     "output_type": "stream",
     "text": [
      "you will be a part of A0 batch\n"
     ]
    }
   ],
   "source": [
    "marks = int(input(\"enter your marks: \"))\n",
    "\n",
    "if marks >=80:\n",
    "    print(\"you will be a part of A0 batch\")\n",
    "elif marks>=60 and marks<80:\n",
    "    print(\"you will be a part of A1 batch\")\n",
    "elif marks>=40 and marks<60:\n",
    "    print(\"you will be a part of A2 batch\")\n",
    "else:\n",
    "    print(\"you will be part of A3 batch\")"
   ]
  },
  {
   "cell_type": "code",
   "execution_count": 4,
   "id": "4a77179f-bc0a-4ce0-bb06-e9e9e49fe1e5",
   "metadata": {},
   "outputs": [
    {
     "data": {
      "text/plain": [
       "int"
      ]
     },
     "execution_count": 4,
     "metadata": {},
     "output_type": "execute_result"
    }
   ],
   "source": [
    "type(marks)"
   ]
  },
  {
   "cell_type": "code",
   "execution_count": 5,
   "id": "76703958-5004-44f9-9bcb-e020590c1e96",
   "metadata": {},
   "outputs": [
    {
     "name": "stdin",
     "output_type": "stream",
     "text": [
      "enter your price:  1200\n"
     ]
    },
    {
     "name": "stdout",
     "output_type": "stream",
     "text": [
      "i will not purchase\n"
     ]
    }
   ],
   "source": [
    "price = int(input(\"enter your price: \"))\n",
    "\n",
    "if price>1000:\n",
    "    print(\"i will not purchase\")\n",
    "\n",
    "else:\n",
    "    print(\"i will purchase\")\n"
   ]
  },
  {
   "cell_type": "code",
   "execution_count": 8,
   "id": "b6dedf67-48fd-41fd-afc9-0f4b7b020f12",
   "metadata": {},
   "outputs": [
    {
     "name": "stdin",
     "output_type": "stream",
     "text": [
      "enter your price: 3000\n"
     ]
    },
    {
     "name": "stdout",
     "output_type": "stream",
     "text": [
      "i will purchase\n"
     ]
    }
   ],
   "source": [
    "price = int(input(\"enter your price:\"))\n",
    "\n",
    "if price>10000:\n",
    "    print(\"i will not purchase\")\n",
    "    \n",
    "    if price>50000:\n",
    "        print(\"i am not interested\")\n",
    "    \n",
    "    elif price<500:\n",
    "        print(\"that is great\")\n",
    "        \n",
    "elif price<10000:\n",
    "    print(\"i will purchase\")\n",
    "        \n",
    "else:\n",
    "    print(\"Tu hi rakh\")\n",
    "    "
   ]
  },
  {
   "cell_type": "code",
   "execution_count": null,
   "id": "d9b23460-583f-44c8-9803-d8031826a783",
   "metadata": {},
   "outputs": [],
   "source": []
  },
  {
   "cell_type": "code",
   "execution_count": null,
   "id": "78008e73-eb76-4a4f-9a70-409451adc904",
   "metadata": {},
   "outputs": [],
   "source": []
  },
  {
   "cell_type": "markdown",
   "id": "e112f305-d7c4-40b3-8724-d661feac441b",
   "metadata": {},
   "source": [
    "Loop"
   ]
  },
  {
   "cell_type": "code",
   "execution_count": 1,
   "id": "3d0140c0-8f72-4bd8-91f8-5aede95ecd39",
   "metadata": {},
   "outputs": [],
   "source": [
    "w1 = [1,2,3,4,5,6,7,8]"
   ]
  },
  {
   "cell_type": "code",
   "execution_count": 2,
   "id": "3a4cfda4-d480-4e7b-817c-b7a2650f09c0",
   "metadata": {},
   "outputs": [
    {
     "data": {
      "text/plain": [
       "1"
      ]
     },
     "execution_count": 2,
     "metadata": {},
     "output_type": "execute_result"
    }
   ],
   "source": [
    "w1[0]"
   ]
  },
  {
   "cell_type": "code",
   "execution_count": 3,
   "id": "6d43830e-cc09-46e0-9024-d362444f84e9",
   "metadata": {},
   "outputs": [
    {
     "data": {
      "text/plain": [
       "2"
      ]
     },
     "execution_count": 3,
     "metadata": {},
     "output_type": "execute_result"
    }
   ],
   "source": [
    "w1[0]+1"
   ]
  },
  {
   "cell_type": "code",
   "execution_count": 4,
   "id": "0f954de8-6574-42fe-918b-3ec499c75792",
   "metadata": {},
   "outputs": [],
   "source": [
    "w = []"
   ]
  },
  {
   "cell_type": "code",
   "execution_count": 5,
   "id": "63d0bd54-1d33-4c46-9c5d-f6dc32492bd7",
   "metadata": {},
   "outputs": [],
   "source": [
    "w.append(w1[0]+1)"
   ]
  },
  {
   "cell_type": "code",
   "execution_count": 6,
   "id": "3143c6e8-7511-4980-89b3-4daeed58b4db",
   "metadata": {},
   "outputs": [
    {
     "data": {
      "text/plain": [
       "[2]"
      ]
     },
     "execution_count": 6,
     "metadata": {},
     "output_type": "execute_result"
    }
   ],
   "source": [
    "w"
   ]
  },
  {
   "cell_type": "code",
   "execution_count": 7,
   "id": "83bf54b8-a0a2-4519-b7e1-2822e96add2e",
   "metadata": {},
   "outputs": [
    {
     "data": {
      "text/plain": [
       "[1, 2, 3, 4, 5, 6, 7, 8]"
      ]
     },
     "execution_count": 7,
     "metadata": {},
     "output_type": "execute_result"
    }
   ],
   "source": [
    "w1"
   ]
  },
  {
   "cell_type": "code",
   "execution_count": 8,
   "id": "4cba74e0-c285-43ae-ae21-30b0513c7304",
   "metadata": {},
   "outputs": [
    {
     "name": "stdout",
     "output_type": "stream",
     "text": [
      "2\n",
      "3\n",
      "4\n",
      "5\n",
      "6\n",
      "7\n",
      "8\n",
      "9\n"
     ]
    }
   ],
   "source": [
    "for i in w1:\n",
    "    print(i+1)"
   ]
  },
  {
   "cell_type": "code",
   "execution_count": 10,
   "id": "9f9e89fa-ee18-4c0f-b133-abb0e961d123",
   "metadata": {},
   "outputs": [
    {
     "name": "stdout",
     "output_type": "stream",
     "text": [
      "2\n",
      "3\n",
      "4\n",
      "5\n",
      "6\n",
      "7\n",
      "8\n",
      "9\n"
     ]
    },
    {
     "data": {
      "text/plain": [
       "[2, 3, 4, 5, 6, 7, 8, 9]"
      ]
     },
     "execution_count": 10,
     "metadata": {},
     "output_type": "execute_result"
    }
   ],
   "source": [
    "w2 = []\n",
    "\n",
    "for i in w1:\n",
    "    print(i+1)\n",
    "    w2.append(i+1)\n",
    "w2"
   ]
  },
  {
   "cell_type": "code",
   "execution_count": 11,
   "id": "8756e24f-f0e0-45df-b9d6-ceea88c2bad4",
   "metadata": {},
   "outputs": [
    {
     "data": {
      "text/plain": [
       "[2, 3, 4, 5, 6, 7, 8, 9]"
      ]
     },
     "execution_count": 11,
     "metadata": {},
     "output_type": "execute_result"
    }
   ],
   "source": [
    "w2"
   ]
  },
  {
   "cell_type": "code",
   "execution_count": 12,
   "id": "39ff3a45-f659-41b1-8a5a-110ebfc0f551",
   "metadata": {},
   "outputs": [],
   "source": [
    "q = [\"ankit\",\"kumar\",\"koli\"]"
   ]
  },
  {
   "cell_type": "code",
   "execution_count": 13,
   "id": "48404f4d-02a4-4103-8df9-e318d1f75213",
   "metadata": {},
   "outputs": [
    {
     "name": "stdout",
     "output_type": "stream",
     "text": [
      "ankit\n",
      "kumar\n",
      "koli\n"
     ]
    },
    {
     "data": {
      "text/plain": [
       "['ANKIT', 'KUMAR', 'KOLI']"
      ]
     },
     "execution_count": 13,
     "metadata": {},
     "output_type": "execute_result"
    }
   ],
   "source": [
    "q1 = []\n",
    "\n",
    "for i in q:\n",
    "    print(i)\n",
    "    q1.append(i.upper())\n",
    "q1"
   ]
  },
  {
   "cell_type": "code",
   "execution_count": 14,
   "id": "11741218-9965-4e69-b083-a7b4fd8a6cfd",
   "metadata": {},
   "outputs": [
    {
     "data": {
      "text/plain": [
       "['ANKIT', 'KUMAR', 'KOLI']"
      ]
     },
     "execution_count": 14,
     "metadata": {},
     "output_type": "execute_result"
    }
   ],
   "source": [
    "q1"
   ]
  },
  {
   "cell_type": "code",
   "execution_count": 15,
   "id": "1c575569-9166-43fa-8d32-88f050b13a36",
   "metadata": {},
   "outputs": [],
   "source": [
    "a = [1,2,3,4,\"ankit\",\"kumar\",123,456,324,\"asc\"]"
   ]
  },
  {
   "cell_type": "code",
   "execution_count": 18,
   "id": "21594ef3-3c9a-4d62-9805-4d6b0c26d257",
   "metadata": {},
   "outputs": [],
   "source": [
    "a1_num = []\n",
    "a2_str = []\n",
    "\n",
    "for i in a:\n",
    "    if type(i) == int or type(i) == float:\n",
    "        a1_num.append(i)\n",
    "    else:\n",
    "        a2_str.append(i)\n",
    "        "
   ]
  },
  {
   "cell_type": "code",
   "execution_count": 19,
   "id": "9b15ba1d-b5c4-41f5-8acf-b1e370fe4b78",
   "metadata": {},
   "outputs": [
    {
     "data": {
      "text/plain": [
       "[1, 2, 3, 4, 123, 456, 324]"
      ]
     },
     "execution_count": 19,
     "metadata": {},
     "output_type": "execute_result"
    }
   ],
   "source": [
    "a1_num"
   ]
  },
  {
   "cell_type": "code",
   "execution_count": 20,
   "id": "7abf7b02-1157-4305-a58a-6aaa482e92c8",
   "metadata": {},
   "outputs": [
    {
     "data": {
      "text/plain": [
       "['ankit', 'kumar', 'asc']"
      ]
     },
     "execution_count": 20,
     "metadata": {},
     "output_type": "execute_result"
    }
   ],
   "source": [
    "a2_str"
   ]
  },
  {
   "cell_type": "code",
   "execution_count": null,
   "id": "98c894be-3b18-4101-9ac2-13c86d051599",
   "metadata": {},
   "outputs": [],
   "source": []
  }
 ],
 "metadata": {
  "kernelspec": {
   "display_name": "Python 3 (ipykernel)",
   "language": "python",
   "name": "python3"
  },
  "language_info": {
   "codemirror_mode": {
    "name": "ipython",
    "version": 3
   },
   "file_extension": ".py",
   "mimetype": "text/x-python",
   "name": "python",
   "nbconvert_exporter": "python",
   "pygments_lexer": "ipython3",
   "version": "3.10.8"
  }
 },
 "nbformat": 4,
 "nbformat_minor": 5
}
