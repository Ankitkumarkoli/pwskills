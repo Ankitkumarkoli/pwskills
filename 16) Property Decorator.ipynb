{
 "cells": [
  {
   "cell_type": "markdown",
   "id": "c3b84cc7-2c72-4ba5-8539-88f8aa88646c",
   "metadata": {},
   "source": [
    "# Property Decorator (Getter, setter , Deletes)"
   ]
  },
  {
   "cell_type": "code",
   "execution_count": 1,
   "id": "03a8a05e-2735-446d-bdb0-01f3698fe4cc",
   "metadata": {},
   "outputs": [],
   "source": [
    "class pwskills :\n",
    "    \n",
    "    def __init__(self, course_price, course_name):\n",
    "        \n",
    "        self.__course_price = course_price\n",
    "        self.course_name = course_name "
   ]
  },
  {
   "cell_type": "code",
   "execution_count": 2,
   "id": "dc11520a-29f7-4594-ba65-f6d2723cea1e",
   "metadata": {},
   "outputs": [],
   "source": [
    "pw = pwskills(3500, \"Data science masters\")"
   ]
  },
  {
   "cell_type": "code",
   "execution_count": 4,
   "id": "f0f57a6b-b71a-4bb2-b204-481a98ae6910",
   "metadata": {},
   "outputs": [
    {
     "ename": "AttributeError",
     "evalue": "'pwskills' object has no attribute '__course_price'",
     "output_type": "error",
     "traceback": [
      "\u001b[0;31m---------------------------------------------------------------------------\u001b[0m",
      "\u001b[0;31mAttributeError\u001b[0m                            Traceback (most recent call last)",
      "Cell \u001b[0;32mIn[4], line 1\u001b[0m\n\u001b[0;32m----> 1\u001b[0m \u001b[43mpw\u001b[49m\u001b[38;5;241;43m.\u001b[39;49m\u001b[43m__course_price\u001b[49m\n",
      "\u001b[0;31mAttributeError\u001b[0m: 'pwskills' object has no attribute '__course_price'"
     ]
    }
   ],
   "source": [
    "pw.__course_price"
   ]
  },
  {
   "cell_type": "code",
   "execution_count": 5,
   "id": "b6fb74f1-ad92-4c64-abee-7aaff8c2bcae",
   "metadata": {},
   "outputs": [
    {
     "data": {
      "text/plain": [
       "3500"
      ]
     },
     "execution_count": 5,
     "metadata": {},
     "output_type": "execute_result"
    }
   ],
   "source": [
    "pw._pwskills__course_price"
   ]
  },
  {
   "cell_type": "code",
   "execution_count": 6,
   "id": "752a44a9-c5f5-4705-add4-f88ecb51cf33",
   "metadata": {},
   "outputs": [
    {
     "data": {
      "text/plain": [
       "'Data science masters'"
      ]
     },
     "execution_count": 6,
     "metadata": {},
     "output_type": "execute_result"
    }
   ],
   "source": [
    "pw.course_name"
   ]
  },
  {
   "cell_type": "code",
   "execution_count": null,
   "id": "8b3adbdd-f44c-46cd-af90-e14606281058",
   "metadata": {},
   "outputs": [],
   "source": []
  },
  {
   "cell_type": "code",
   "execution_count": null,
   "id": "028bca49-c816-43cb-86fb-960de55c3d68",
   "metadata": {},
   "outputs": [],
   "source": []
  },
  {
   "cell_type": "code",
   "execution_count": 13,
   "id": "1a5e4982-f78e-4682-8fe2-b7414916b9b6",
   "metadata": {},
   "outputs": [],
   "source": [
    "class pwskills :\n",
    "    \n",
    "    def __init__(self, course_price, course_name):\n",
    "        \n",
    "        self.__course_price = course_price\n",
    "        self.course_name = course_name \n",
    "        \n",
    "    @property\n",
    "    def course_price_access(self) :\n",
    "        return self.__course_price"
   ]
  },
  {
   "cell_type": "code",
   "execution_count": 14,
   "id": "5c7c5285-5952-4479-a733-24ff33258b35",
   "metadata": {},
   "outputs": [],
   "source": [
    "pw = pwskills(3500,\"Datascience masters\")"
   ]
  },
  {
   "cell_type": "code",
   "execution_count": 15,
   "id": "60e3b398-75bf-4160-bcc4-79c987cad77f",
   "metadata": {},
   "outputs": [
    {
     "data": {
      "text/plain": [
       "3500"
      ]
     },
     "execution_count": 15,
     "metadata": {},
     "output_type": "execute_result"
    }
   ],
   "source": [
    "pw.course_price_access"
   ]
  },
  {
   "cell_type": "code",
   "execution_count": null,
   "id": "7d7ebba7-428a-416f-bed3-de0684616367",
   "metadata": {},
   "outputs": [],
   "source": []
  },
  {
   "cell_type": "code",
   "execution_count": 16,
   "id": "1d87e62c-ee9c-4b8c-acc2-a34ea9b93903",
   "metadata": {},
   "outputs": [],
   "source": [
    "class pwskills :\n",
    "    \n",
    "    def __init__(self, course_price, course_name):\n",
    "        \n",
    "        self.__course_price = course_price\n",
    "        self.course_name = course_name \n",
    "        \n",
    "    @property\n",
    "    def course_price_access(self) :\n",
    "        return self.__course_price\n",
    "    \n",
    "    @course_price_access.setter\n",
    "    def course_price_set(self,price):\n",
    "        if price <= 3500:\n",
    "            pass\n",
    "        else:\n",
    "            self.__course_price = price\n",
    "            \n",
    "        "
   ]
  },
  {
   "cell_type": "code",
   "execution_count": 17,
   "id": "775dba17-b4db-4bb1-9f0a-d6e5e85aa22e",
   "metadata": {},
   "outputs": [],
   "source": [
    "pw = pwskills(3500, \"Data science masters\")"
   ]
  },
  {
   "cell_type": "code",
   "execution_count": 18,
   "id": "3779740d-d900-4810-89af-8f38f5d68ad9",
   "metadata": {},
   "outputs": [
    {
     "data": {
      "text/plain": [
       "3500"
      ]
     },
     "execution_count": 18,
     "metadata": {},
     "output_type": "execute_result"
    }
   ],
   "source": [
    "pw.course_price_access"
   ]
  },
  {
   "cell_type": "code",
   "execution_count": 19,
   "id": "3e253a7e-d6ac-476c-85bb-98ac4d0d5934",
   "metadata": {},
   "outputs": [],
   "source": [
    "pw.course_price_set = 4500"
   ]
  },
  {
   "cell_type": "code",
   "execution_count": 21,
   "id": "cd68327a-d473-4b04-b50d-270bc3892c93",
   "metadata": {},
   "outputs": [
    {
     "data": {
      "text/plain": [
       "4500"
      ]
     },
     "execution_count": 21,
     "metadata": {},
     "output_type": "execute_result"
    }
   ],
   "source": [
    "pw.course_price_access"
   ]
  },
  {
   "cell_type": "code",
   "execution_count": null,
   "id": "27b681b2-716b-4e00-802c-7ab2780b067d",
   "metadata": {},
   "outputs": [],
   "source": []
  },
  {
   "cell_type": "code",
   "execution_count": 37,
   "id": "aca316ac-42c7-4f0a-9290-51740ba77f63",
   "metadata": {},
   "outputs": [],
   "source": [
    "class pwskills :\n",
    "    \n",
    "    def __init__(self, course_price, course_name):\n",
    "        \n",
    "        self.__course_price = course_price\n",
    "        self.course_name = course_name \n",
    "        \n",
    "    @property\n",
    "    def course_price_access(self) :\n",
    "        return self.__course_price\n",
    "    \n",
    "    @course_price_access.setter\n",
    "    def course_price_set(self,price):\n",
    "        if price <= 3500:\n",
    "            pass\n",
    "        else:\n",
    "            self.__course_price = price\n",
    "            \n",
    "    @course_price_access.deleter\n",
    "    def delete_course_price(self):\n",
    "        del self.__course_price"
   ]
  },
  {
   "cell_type": "code",
   "execution_count": 38,
   "id": "b7ef903d-9d51-4dc5-a130-e58440f7914a",
   "metadata": {},
   "outputs": [],
   "source": [
    "pw = pwskills(3500, \"Data science masters\")"
   ]
  },
  {
   "cell_type": "code",
   "execution_count": 39,
   "id": "f4eb7fde-a0fa-4bad-9705-820a2d766a32",
   "metadata": {},
   "outputs": [
    {
     "data": {
      "text/plain": [
       "3500"
      ]
     },
     "execution_count": 39,
     "metadata": {},
     "output_type": "execute_result"
    }
   ],
   "source": [
    "pw.course_price_access"
   ]
  },
  {
   "cell_type": "code",
   "execution_count": 40,
   "id": "d955bc9c-b202-4557-b6ce-0221a42930ab",
   "metadata": {},
   "outputs": [],
   "source": [
    "del pw.delete_course_price"
   ]
  },
  {
   "cell_type": "code",
   "execution_count": 41,
   "id": "c0621b55-20c3-41f0-bb96-c3e4cd3f1503",
   "metadata": {},
   "outputs": [
    {
     "ename": "AttributeError",
     "evalue": "'pwskills' object has no attribute 'course_price_accesss'",
     "output_type": "error",
     "traceback": [
      "\u001b[0;31m---------------------------------------------------------------------------\u001b[0m",
      "\u001b[0;31mAttributeError\u001b[0m                            Traceback (most recent call last)",
      "Cell \u001b[0;32mIn[41], line 1\u001b[0m\n\u001b[0;32m----> 1\u001b[0m \u001b[43mpw\u001b[49m\u001b[38;5;241;43m.\u001b[39;49m\u001b[43mcourse_price_accesss\u001b[49m\n",
      "\u001b[0;31mAttributeError\u001b[0m: 'pwskills' object has no attribute 'course_price_accesss'"
     ]
    }
   ],
   "source": [
    "pw.course_price_accesss"
   ]
  },
  {
   "cell_type": "code",
   "execution_count": null,
   "id": "84406758-a1d4-4f00-aff1-22fb805bad64",
   "metadata": {},
   "outputs": [],
   "source": []
  },
  {
   "cell_type": "code",
   "execution_count": null,
   "id": "34c019e2-673c-459e-82c1-6066a3082ed1",
   "metadata": {},
   "outputs": [],
   "source": []
  }
 ],
 "metadata": {
  "kernelspec": {
   "display_name": "Python 3 (ipykernel)",
   "language": "python",
   "name": "python3"
  },
  "language_info": {
   "codemirror_mode": {
    "name": "ipython",
    "version": 3
   },
   "file_extension": ".py",
   "mimetype": "text/x-python",
   "name": "python",
   "nbconvert_exporter": "python",
   "pygments_lexer": "ipython3",
   "version": "3.10.8"
  }
 },
 "nbformat": 4,
 "nbformat_minor": 5
}
