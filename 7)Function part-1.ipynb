{
 "cells": [
  {
   "cell_type": "markdown",
   "id": "3f537d35-e060-470f-a64f-73afd29d8cab",
   "metadata": {},
   "source": [
    "# function reuseability ko increase krta hai"
   ]
  },
  {
   "cell_type": "code",
   "execution_count": 1,
   "id": "73e6327a-41f0-4f62-9980-3aa55a3cfef9",
   "metadata": {},
   "outputs": [
    {
     "name": "stdout",
     "output_type": "stream",
     "text": [
      "hello world\n"
     ]
    }
   ],
   "source": [
    "print(\"hello world\")"
   ]
  },
  {
   "cell_type": "code",
   "execution_count": 2,
   "id": "456a9bdd-184e-4f2b-a004-a762a897f8d5",
   "metadata": {},
   "outputs": [],
   "source": [
    "a = (1,2,3,4,5)"
   ]
  },
  {
   "cell_type": "code",
   "execution_count": 3,
   "id": "bf885530-1264-48ee-921b-122304b7176f",
   "metadata": {},
   "outputs": [
    {
     "data": {
      "text/plain": [
       "5"
      ]
     },
     "execution_count": 3,
     "metadata": {},
     "output_type": "execute_result"
    }
   ],
   "source": [
    "len(a)"
   ]
  },
  {
   "cell_type": "code",
   "execution_count": 4,
   "id": "8911ec7f-1157-4948-bd1c-b6be3d7e967e",
   "metadata": {},
   "outputs": [
    {
     "data": {
      "text/plain": [
       "tuple"
      ]
     },
     "execution_count": 4,
     "metadata": {},
     "output_type": "execute_result"
    }
   ],
   "source": [
    "type(a)"
   ]
  },
  {
   "cell_type": "code",
   "execution_count": 5,
   "id": "330d7499-13db-4470-9a3c-89a06ba8c4cb",
   "metadata": {},
   "outputs": [
    {
     "data": {
      "text/plain": [
       "[1, 2, 3, 4, 5]"
      ]
     },
     "execution_count": 5,
     "metadata": {},
     "output_type": "execute_result"
    }
   ],
   "source": [
    "list(a)"
   ]
  },
  {
   "cell_type": "code",
   "execution_count": 6,
   "id": "03df7f59-0871-4cb5-9b83-c07fe45c285f",
   "metadata": {},
   "outputs": [
    {
     "data": {
      "text/plain": [
       "[5, 4, 3, 2, 1]"
      ]
     },
     "execution_count": 6,
     "metadata": {},
     "output_type": "execute_result"
    }
   ],
   "source": [
    "list(a)[::-1]"
   ]
  },
  {
   "cell_type": "code",
   "execution_count": 7,
   "id": "67c8f914-e45f-4ad3-9c13-9fbe26ea168f",
   "metadata": {},
   "outputs": [],
   "source": [
    "list(a).reverse()"
   ]
  },
  {
   "cell_type": "code",
   "execution_count": 8,
   "id": "c269a23b-cd86-4ce2-9002-7efc13af0d96",
   "metadata": {},
   "outputs": [
    {
     "data": {
      "text/plain": [
       "[1, 2, 3, 4, 5]"
      ]
     },
     "execution_count": 8,
     "metadata": {},
     "output_type": "execute_result"
    }
   ],
   "source": [
    "list(a)"
   ]
  },
  {
   "cell_type": "code",
   "execution_count": 9,
   "id": "f880301b-fece-4c4b-a4ff-2ca683f1509f",
   "metadata": {},
   "outputs": [
    {
     "data": {
      "text/plain": [
       "(1, 2, 3, 4, 5)"
      ]
     },
     "execution_count": 9,
     "metadata": {},
     "output_type": "execute_result"
    }
   ],
   "source": [
    "a"
   ]
  },
  {
   "cell_type": "code",
   "execution_count": null,
   "id": "cc5af27f-2411-43b6-b5b2-79f3d1f29397",
   "metadata": {},
   "outputs": [],
   "source": []
  },
  {
   "cell_type": "code",
   "execution_count": 11,
   "id": "9c68f35b-db42-4cb4-9427-cf203b385f2f",
   "metadata": {},
   "outputs": [],
   "source": [
    "def test():    # yeh function only execute ho jaega pass ki help se\n",
    "    pass"
   ]
  },
  {
   "cell_type": "code",
   "execution_count": 12,
   "id": "109afad1-3114-4ad9-91f9-03d7b3a41897",
   "metadata": {},
   "outputs": [],
   "source": [
    "def test1():\n",
    "    print(\"pwskills\")"
   ]
  },
  {
   "cell_type": "code",
   "execution_count": 13,
   "id": "048c0036-3090-4f5f-a648-65e42bcea6ed",
   "metadata": {},
   "outputs": [
    {
     "name": "stdout",
     "output_type": "stream",
     "text": [
      "pwskills\n"
     ]
    }
   ],
   "source": [
    "test1()"
   ]
  },
  {
   "cell_type": "code",
   "execution_count": 14,
   "id": "5e19988b-7481-4b57-9b3d-0a1f1e5567b0",
   "metadata": {},
   "outputs": [
    {
     "name": "stdout",
     "output_type": "stream",
     "text": [
      "pwskills\n"
     ]
    },
    {
     "ename": "TypeError",
     "evalue": "unsupported operand type(s) for +: 'NoneType' and 'int'",
     "output_type": "error",
     "traceback": [
      "\u001b[0;31m---------------------------------------------------------------------------\u001b[0m",
      "\u001b[0;31mTypeError\u001b[0m                                 Traceback (most recent call last)",
      "Cell \u001b[0;32mIn[14], line 1\u001b[0m\n\u001b[0;32m----> 1\u001b[0m \u001b[43mtest1\u001b[49m\u001b[43m(\u001b[49m\u001b[43m)\u001b[49m\u001b[43m \u001b[49m\u001b[38;5;241;43m+\u001b[39;49m\u001b[43m \u001b[49m\u001b[38;5;241;43m1\u001b[39;49m\n",
      "\u001b[0;31mTypeError\u001b[0m: unsupported operand type(s) for +: 'NoneType' and 'int'"
     ]
    }
   ],
   "source": [
    "test1() + 1"
   ]
  },
  {
   "cell_type": "code",
   "execution_count": 17,
   "id": "781f121e-037c-43b2-a646-2e75c9c74f0f",
   "metadata": {},
   "outputs": [],
   "source": [
    "def test2():\n",
    "    return \"pwkills\",12,23.3"
   ]
  },
  {
   "cell_type": "code",
   "execution_count": 18,
   "id": "06b5f070-a4fa-422b-825c-a01d360bd5fd",
   "metadata": {},
   "outputs": [
    {
     "data": {
      "text/plain": [
       "('pwkills', 12, 23.3)"
      ]
     },
     "execution_count": 18,
     "metadata": {},
     "output_type": "execute_result"
    }
   ],
   "source": [
    "test2()"
   ]
  },
  {
   "cell_type": "code",
   "execution_count": 19,
   "id": "1a184384-fb7a-445a-a566-820bff0cb7e5",
   "metadata": {},
   "outputs": [],
   "source": [
    "def test3():\n",
    "    return 4+7/3"
   ]
  },
  {
   "cell_type": "code",
   "execution_count": 20,
   "id": "ff88b1d5-8137-428b-b7f5-200f0824f085",
   "metadata": {},
   "outputs": [
    {
     "data": {
      "text/plain": [
       "6.333333333333334"
      ]
     },
     "execution_count": 20,
     "metadata": {},
     "output_type": "execute_result"
    }
   ],
   "source": [
    "test3()"
   ]
  },
  {
   "cell_type": "code",
   "execution_count": 21,
   "id": "a65d2be8-fd3b-4793-9c83-728b9f2643ec",
   "metadata": {},
   "outputs": [],
   "source": [
    "def test4(a,b,c):\n",
    "    return a+b/c\n",
    "\n",
    "    "
   ]
  },
  {
   "cell_type": "code",
   "execution_count": 22,
   "id": "6ab67168-5b4b-4f4b-9395-5efb8344e4d5",
   "metadata": {},
   "outputs": [
    {
     "data": {
      "text/plain": [
       "6.333333333333334"
      ]
     },
     "execution_count": 22,
     "metadata": {},
     "output_type": "execute_result"
    }
   ],
   "source": [
    "test4(4,7,3)"
   ]
  },
  {
   "cell_type": "code",
   "execution_count": 23,
   "id": "20942f6b-4eb4-4d92-9478-b0a33e865d99",
   "metadata": {},
   "outputs": [],
   "source": [
    "def test4(a,b,c):\n",
    "    s = a+b/c\n",
    "    return s\n"
   ]
  },
  {
   "cell_type": "code",
   "execution_count": 25,
   "id": "256bb0ef-5698-4976-b3af-725f9e8d79a3",
   "metadata": {},
   "outputs": [
    {
     "data": {
      "text/plain": [
       "6.333333333333334"
      ]
     },
     "execution_count": 25,
     "metadata": {},
     "output_type": "execute_result"
    }
   ],
   "source": [
    "test4(4,7,3)"
   ]
  },
  {
   "cell_type": "code",
   "execution_count": 28,
   "id": "bf11d6b9-3619-4575-91bb-223cae3f5f58",
   "metadata": {},
   "outputs": [],
   "source": [
    "def test5():\n",
    "    return \"Ankit kumar \"+\"koli\""
   ]
  },
  {
   "cell_type": "code",
   "execution_count": 29,
   "id": "61613ee4-ffbe-4c87-8033-f2052040fbc0",
   "metadata": {},
   "outputs": [
    {
     "data": {
      "text/plain": [
       "'Ankit kumar koli'"
      ]
     },
     "execution_count": 29,
     "metadata": {},
     "output_type": "execute_result"
    }
   ],
   "source": [
    "test5()"
   ]
  },
  {
   "cell_type": "code",
   "execution_count": 31,
   "id": "112ebde1-5deb-468b-8f01-5893bbb3e2ff",
   "metadata": {},
   "outputs": [],
   "source": [
    "def test6(a,b):\n",
    "    return a+b"
   ]
  },
  {
   "cell_type": "code",
   "execution_count": 32,
   "id": "706cb0ca-100d-46bf-b0ff-660716fcbb33",
   "metadata": {},
   "outputs": [
    {
     "data": {
      "text/plain": [
       "5"
      ]
     },
     "execution_count": 32,
     "metadata": {},
     "output_type": "execute_result"
    }
   ],
   "source": [
    "test6(2,3)"
   ]
  },
  {
   "cell_type": "code",
   "execution_count": 33,
   "id": "1a7cf557-470f-40f6-97e6-8a789fa7c8f5",
   "metadata": {},
   "outputs": [
    {
     "data": {
      "text/plain": [
       "'ankit kumar koli'"
      ]
     },
     "execution_count": 33,
     "metadata": {},
     "output_type": "execute_result"
    }
   ],
   "source": [
    "test6(\"ankit kumar \",\"koli\")"
   ]
  },
  {
   "cell_type": "code",
   "execution_count": 34,
   "id": "f670719c-8554-4aea-b9eb-dc1042e9e340",
   "metadata": {},
   "outputs": [
    {
     "data": {
      "text/plain": [
       "[1, 2, 3, 4, 5, 6, 7, 8, 9]"
      ]
     },
     "execution_count": 34,
     "metadata": {},
     "output_type": "execute_result"
    }
   ],
   "source": [
    "test6([1,2,3,4,5],[6,7,8,9])"
   ]
  },
  {
   "cell_type": "code",
   "execution_count": null,
   "id": "7a86f5c2-8f36-400f-b4d7-ea3c603d1deb",
   "metadata": {},
   "outputs": [],
   "source": []
  },
  {
   "cell_type": "code",
   "execution_count": 36,
   "id": "1c08e616-786f-4175-99ee-3c489839c476",
   "metadata": {},
   "outputs": [],
   "source": [
    "z = [1,2,3,4,5,\"ankit\", \"kumar\", \"koli\",[1,2,3,4,5,6]]"
   ]
  },
  {
   "cell_type": "code",
   "execution_count": 5,
   "id": "3080b08c-0274-4085-b27d-e133a7258bc9",
   "metadata": {},
   "outputs": [],
   "source": [
    "z = [1,2,3,4,5,\"ankit\", \"kumar\", \"koli\",[1,2,3,4,5,6]]"
   ]
  },
  {
   "cell_type": "code",
   "execution_count": 6,
   "id": "7bb26f65-f265-4c30-a6cc-8d161807ec46",
   "metadata": {},
   "outputs": [
    {
     "data": {
      "text/plain": [
       "[1, 2, 3, 4, 5, 'ankit', 'kumar', 'koli', [1, 2, 3, 4, 5, 6]]"
      ]
     },
     "execution_count": 6,
     "metadata": {},
     "output_type": "execute_result"
    }
   ],
   "source": [
    "z"
   ]
  },
  {
   "cell_type": "code",
   "execution_count": 8,
   "id": "ccef5482-a42b-45be-96c8-b82bad00e096",
   "metadata": {},
   "outputs": [],
   "source": [
    "q = []\n",
    "\n",
    "for i in z:\n",
    "    if type(i) == int or type(i) == float:\n",
    "        q.append(i)"
   ]
  },
  {
   "cell_type": "code",
   "execution_count": 9,
   "id": "54aba08e-c16e-4685-bed0-606ec1811f2e",
   "metadata": {},
   "outputs": [
    {
     "data": {
      "text/plain": [
       "[1, 2, 3, 4, 5]"
      ]
     },
     "execution_count": 9,
     "metadata": {},
     "output_type": "execute_result"
    }
   ],
   "source": [
    "q"
   ]
  },
  {
   "cell_type": "code",
   "execution_count": 14,
   "id": "92837855-dc04-42f1-84f5-ca658d18b0d8",
   "metadata": {},
   "outputs": [],
   "source": [
    "def test7():\n",
    "    q = []\n",
    "    \n",
    "    for i in z:\n",
    "        if type(i) == int or type(i) == float:\n",
    "            q.append()\n",
    "    return q"
   ]
  },
  {
   "cell_type": "code",
   "execution_count": 15,
   "id": "c136bff1-8605-4fec-8035-61e944b24a3f",
   "metadata": {},
   "outputs": [
    {
     "data": {
      "text/plain": [
       "[1, 2, 3, 4, 5]"
      ]
     },
     "execution_count": 15,
     "metadata": {},
     "output_type": "execute_result"
    }
   ],
   "source": [
    "q"
   ]
  },
  {
   "cell_type": "code",
   "execution_count": 16,
   "id": "b7e6d13e-e146-4c07-b192-b653a08a2262",
   "metadata": {},
   "outputs": [
    {
     "data": {
      "text/plain": [
       "[1, 2, 3, 4, 5, 'ankit', 'kumar', 'koli', [1, 2, 3, 4, 5, 6]]"
      ]
     },
     "execution_count": 16,
     "metadata": {},
     "output_type": "execute_result"
    }
   ],
   "source": [
    "z"
   ]
  },
  {
   "cell_type": "code",
   "execution_count": 41,
   "id": "a29aa3ed-c667-4948-8a8c-33c3be0efd7a",
   "metadata": {},
   "outputs": [],
   "source": [
    "def test8(a):\n",
    "    l = []\n",
    "    for i in a:\n",
    "        if type(i) == list:\n",
    "            for j in i:\n",
    "                l.append(j)\n",
    "        else:\n",
    "            if type(i) == int or type(i) == float:\n",
    "                l.append(i)\n",
    "                \n",
    "    return l\n",
    "            \n",
    "                "
   ]
  },
  {
   "cell_type": "code",
   "execution_count": 46,
   "id": "19603cfc-511b-432e-b463-fe040ef444ca",
   "metadata": {},
   "outputs": [
    {
     "data": {
      "text/plain": [
       "[1, 2, 3, 4, 5, 1, 2, 3, 4, 5, 6]"
      ]
     },
     "execution_count": 46,
     "metadata": {},
     "output_type": "execute_result"
    }
   ],
   "source": [
    "test8(z)"
   ]
  },
  {
   "cell_type": "code",
   "execution_count": 49,
   "id": "e1180e4e-e4f9-412a-b5db-6235802d4d2c",
   "metadata": {},
   "outputs": [
    {
     "data": {
      "text/plain": [
       "[1, 2, 3, 4, 5, 'ankit', 'kumar', 'koli', [1, 2, 3, 4, 5, 6]]"
      ]
     },
     "execution_count": 49,
     "metadata": {},
     "output_type": "execute_result"
    }
   ],
   "source": [
    "z"
   ]
  },
  {
   "cell_type": "code",
   "execution_count": null,
   "id": "a1e66e28-53be-4ef1-b117-38196de93b88",
   "metadata": {},
   "outputs": [],
   "source": [
    "test8()           #Docstring: <no docstring>"
   ]
  },
  {
   "cell_type": "code",
   "execution_count": null,
   "id": "32a3ac5b-5098-4f41-8895-1abd9348d16d",
   "metadata": {},
   "outputs": [],
   "source": [
    "len()                   #Docstring: Return the number of items in a container"
   ]
  },
  {
   "cell_type": "code",
   "execution_count": null,
   "id": "e4986f7b-4b7f-4d6d-b7bc-fb9c754d1670",
   "metadata": {},
   "outputs": [],
   "source": []
  },
  {
   "cell_type": "code",
   "execution_count": 50,
   "id": "b6399b63-2572-4e61-a001-29143ed1c0ed",
   "metadata": {},
   "outputs": [],
   "source": [
    "def test9(a):\n",
    "    \"\"\"this is my function to extract some data from list\"\"\"\n",
    "       \n",
    "    l = []\n",
    "    for i in a:\n",
    "        if type(i) == list:\n",
    "            for j in i:\n",
    "                l.append(j)\n",
    "        else:\n",
    "            if type(i) == int or type(i) == float:\n",
    "                l.append(i)\n",
    "                \n",
    "    return l\n",
    "            \n",
    "                "
   ]
  },
  {
   "cell_type": "code",
   "execution_count": null,
   "id": "fc32fdd4-47e7-48ea-bcef-9043fa9e5937",
   "metadata": {},
   "outputs": [],
   "source": []
  },
  {
   "cell_type": "code",
   "execution_count": 51,
   "id": "f7549745-a523-456a-b2d0-df866db229ed",
   "metadata": {},
   "outputs": [],
   "source": [
    "def test10(a,b):\n",
    "    return a + b\n",
    "    "
   ]
  },
  {
   "cell_type": "code",
   "execution_count": 52,
   "id": "dfa26984-52de-40cd-bf94-2e7c9241e177",
   "metadata": {},
   "outputs": [
    {
     "data": {
      "text/plain": [
       "5"
      ]
     },
     "execution_count": 52,
     "metadata": {},
     "output_type": "execute_result"
    }
   ],
   "source": [
    "test10(2,3)"
   ]
  },
  {
   "cell_type": "code",
   "execution_count": 57,
   "id": "fd271cd0-fc98-4e38-a418-d41185550bc5",
   "metadata": {},
   "outputs": [],
   "source": [
    "def test11(*args):             # * asterick ka meaning isme infinity hota hai\n",
    "    return args"
   ]
  },
  {
   "cell_type": "markdown",
   "id": "2e9035a1-0531-41dd-8791-77f683c9a79a",
   "metadata": {},
   "source": [
    "# (*) ka mtlb hota hai n number of arguments you can pass inside a function , args is not a keyword,args is jagah hum apna naam bhi likh sakte hai"
   ]
  },
  {
   "cell_type": "code",
   "execution_count": 54,
   "id": "394f1ab3-828e-40a9-9ba8-1e69e2258343",
   "metadata": {},
   "outputs": [
    {
     "data": {
      "text/plain": [
       "(1, 2, 3, 4, 5, 6, 7, 8, 9, 'pwskills')"
      ]
     },
     "execution_count": 54,
     "metadata": {},
     "output_type": "execute_result"
    }
   ],
   "source": [
    "test11(1,2,3,4,5,6,7,8,9,\"pwskills\")"
   ]
  },
  {
   "cell_type": "code",
   "execution_count": 55,
   "id": "eb481c0b-dea6-4481-83c4-2c9457e915f2",
   "metadata": {},
   "outputs": [],
   "source": [
    "def test12(*ankit):\n",
    "    return ankit"
   ]
  },
  {
   "cell_type": "code",
   "execution_count": 56,
   "id": "77480051-5ba8-4a76-8d18-55dc1a2b969d",
   "metadata": {},
   "outputs": [
    {
     "data": {
      "text/plain": [
       "(11, 12, 13, 14, 15, 16, 'Ankit kumar koli')"
      ]
     },
     "execution_count": 56,
     "metadata": {},
     "output_type": "execute_result"
    }
   ],
   "source": [
    "test12(11,12,13,14,15,16,\"Ankit kumar koli\")"
   ]
  },
  {
   "cell_type": "code",
   "execution_count": 58,
   "id": "7ed71d22-edf4-4460-b376-5ffe584fdc11",
   "metadata": {},
   "outputs": [],
   "source": [
    "def test13(*ankit, k):\n",
    "    return ankit, k"
   ]
  },
  {
   "cell_type": "code",
   "execution_count": 59,
   "id": "ebc7dd5d-3dcb-42e4-93f4-bdf7f6e002bc",
   "metadata": {},
   "outputs": [
    {
     "ename": "TypeError",
     "evalue": "test13() missing 1 required keyword-only argument: 'k'",
     "output_type": "error",
     "traceback": [
      "\u001b[0;31m---------------------------------------------------------------------------\u001b[0m",
      "\u001b[0;31mTypeError\u001b[0m                                 Traceback (most recent call last)",
      "Cell \u001b[0;32mIn[59], line 1\u001b[0m\n\u001b[0;32m----> 1\u001b[0m \u001b[43mtest13\u001b[49m\u001b[43m(\u001b[49m\u001b[38;5;241;43m1\u001b[39;49m\u001b[43m,\u001b[49m\u001b[38;5;241;43m2\u001b[39;49m\u001b[43m,\u001b[49m\u001b[38;5;241;43m3\u001b[39;49m\u001b[43m)\u001b[49m\n",
      "\u001b[0;31mTypeError\u001b[0m: test13() missing 1 required keyword-only argument: 'k'"
     ]
    }
   ],
   "source": [
    "test13(1,2,3)"
   ]
  },
  {
   "cell_type": "code",
   "execution_count": 60,
   "id": "c02bdfd5-a509-4a51-b109-c1aa1d8c147f",
   "metadata": {},
   "outputs": [],
   "source": [
    "def test13(*ankit, k):\n",
    "    return ankit, k"
   ]
  },
  {
   "cell_type": "code",
   "execution_count": 61,
   "id": "58929def-e4e3-4fad-8e40-ea7acd320efe",
   "metadata": {},
   "outputs": [
    {
     "data": {
      "text/plain": [
       "((1, 2, 3), 222)"
      ]
     },
     "execution_count": 61,
     "metadata": {},
     "output_type": "execute_result"
    }
   ],
   "source": [
    "test13(1,2,3, k=222)"
   ]
  },
  {
   "cell_type": "code",
   "execution_count": null,
   "id": "6a755af9-19b1-496d-9b03-cf61c0d2ab1d",
   "metadata": {},
   "outputs": [],
   "source": []
  },
  {
   "cell_type": "code",
   "execution_count": 2,
   "id": "2dc4f3a1-a59c-4ceb-b2c6-a8a25da60bab",
   "metadata": {},
   "outputs": [],
   "source": [
    "def test14(c,d,a=1,b=2):\n",
    "    return a,b,c,d"
   ]
  },
  {
   "cell_type": "code",
   "execution_count": 3,
   "id": "64e57357-c628-4421-8ae7-54b9abf186c2",
   "metadata": {},
   "outputs": [
    {
     "data": {
      "text/plain": [
       "(1, 2, 3, 4)"
      ]
     },
     "execution_count": 3,
     "metadata": {},
     "output_type": "execute_result"
    }
   ],
   "source": [
    "test14(3,4)"
   ]
  },
  {
   "cell_type": "code",
   "execution_count": 7,
   "id": "3276c5ee-2003-4d78-a6a8-e46c2b95b854",
   "metadata": {},
   "outputs": [
    {
     "data": {
      "text/plain": [
       "(222, 333, 3, 4)"
      ]
     },
     "execution_count": 7,
     "metadata": {},
     "output_type": "execute_result"
    }
   ],
   "source": [
    "test14(3,4,a=222,b=333)"
   ]
  },
  {
   "cell_type": "markdown",
   "id": "46ff4b29-f014-4067-a58e-90f361e7862e",
   "metadata": {},
   "source": [
    "# (**kargs) mtlb user ko n number of data chahea in the form of dictionary like key:value format toh hum **kargs ka use krte hai\n",
    "\n",
    "# agar linear value chahea toh single (*) and key:value pair mai chahea toh double (**)"
   ]
  },
  {
   "cell_type": "code",
   "execution_count": 8,
   "id": "d7c6de8c-b522-442c-9ae2-66658d83053c",
   "metadata": {},
   "outputs": [],
   "source": [
    "def test15(**kwargs):\n",
    "    return kwargs"
   ]
  },
  {
   "cell_type": "code",
   "execution_count": 9,
   "id": "72ee9d32-07ef-42dd-b2df-3e8f62a8e704",
   "metadata": {},
   "outputs": [
    {
     "data": {
      "text/plain": [
       "{}"
      ]
     },
     "execution_count": 9,
     "metadata": {},
     "output_type": "execute_result"
    }
   ],
   "source": [
    "test15()"
   ]
  },
  {
   "cell_type": "code",
   "execution_count": 10,
   "id": "0281a4e8-2360-4a36-8ce1-44cb44d38859",
   "metadata": {},
   "outputs": [
    {
     "data": {
      "text/plain": [
       "dict"
      ]
     },
     "execution_count": 10,
     "metadata": {},
     "output_type": "execute_result"
    }
   ],
   "source": [
    "type(test15())"
   ]
  },
  {
   "cell_type": "code",
   "execution_count": 13,
   "id": "aefbdf83-be21-4008-ae72-31df3d9f0e84",
   "metadata": {},
   "outputs": [
    {
     "data": {
      "text/plain": [
       "{'a': 'ankit', 'b': 'kumar', 'c': 'koli'}"
      ]
     },
     "execution_count": 13,
     "metadata": {},
     "output_type": "execute_result"
    }
   ],
   "source": [
    "test15(a = \"ankit\",b = \"kumar\",c = \"koli\")"
   ]
  },
  {
   "cell_type": "code",
   "execution_count": 14,
   "id": "f5293c46-2a80-40fb-86fc-925eefe9c8ea",
   "metadata": {},
   "outputs": [
    {
     "data": {
      "text/plain": [
       "{'s': 'pwskills', 'v': 123, 'd': 12.345}"
      ]
     },
     "execution_count": 14,
     "metadata": {},
     "output_type": "execute_result"
    }
   ],
   "source": [
    "test15(s = \"pwskills\",v = 123,d = 12.345)"
   ]
  },
  {
   "cell_type": "code",
   "execution_count": null,
   "id": "35f28805-e8ea-49ca-9333-eb75f12473d6",
   "metadata": {},
   "outputs": [],
   "source": []
  }
 ],
 "metadata": {
  "kernelspec": {
   "display_name": "Python 3 (ipykernel)",
   "language": "python",
   "name": "python3"
  },
  "language_info": {
   "codemirror_mode": {
    "name": "ipython",
    "version": 3
   },
   "file_extension": ".py",
   "mimetype": "text/x-python",
   "name": "python",
   "nbconvert_exporter": "python",
   "pygments_lexer": "ipython3",
   "version": "3.10.8"
  }
 },
 "nbformat": 4,
 "nbformat_minor": 5
}
