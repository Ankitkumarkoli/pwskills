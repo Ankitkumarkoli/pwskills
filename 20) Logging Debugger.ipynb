{
 "cells": [
  {
   "cell_type": "markdown",
   "id": "d15e6ddf-3fb7-4285-9f6f-8ab9a7ac8b8e",
   "metadata": {},
   "source": [
    "# Logging Debugger"
   ]
  },
  {
   "cell_type": "code",
   "execution_count": 1,
   "id": "fa11f910-c079-4ab5-9250-8151884994d5",
   "metadata": {},
   "outputs": [
    {
     "name": "stdout",
     "output_type": "stream",
     "text": [
      "This is my print\n"
     ]
    }
   ],
   "source": [
    "print(\"This is my print\")"
   ]
  },
  {
   "cell_type": "markdown",
   "id": "c73473e7-0d10-4f65-a564-d6afac1befdb",
   "metadata": {},
   "source": [
    "# Future investigation ke lea Logging ka use krte hai"
   ]
  },
  {
   "cell_type": "markdown",
   "id": "b07cb742-397a-4eb8-bd62-1842176bc3c7",
   "metadata": {},
   "source": [
    "# print is not a good habit "
   ]
  },
  {
   "cell_type": "markdown",
   "id": "420ea981-0afd-44d7-b0c1-c9cef40503da",
   "metadata": {},
   "source": [
    "# logging hamesha use krna chahea"
   ]
  },
  {
   "cell_type": "code",
   "execution_count": null,
   "id": "fad3bbda-c2b1-41bf-9fe7-8162d8caca5a",
   "metadata": {},
   "outputs": [],
   "source": []
  },
  {
   "cell_type": "code",
   "execution_count": 2,
   "id": "c58cd933-455d-4da6-8521-61c6ab24f9c5",
   "metadata": {},
   "outputs": [],
   "source": [
    "import logging"
   ]
  },
  {
   "cell_type": "code",
   "execution_count": 3,
   "id": "f8f8067c-ac31-41bb-8e14-7b978987209b",
   "metadata": {},
   "outputs": [],
   "source": [
    "logging.basicConfig(filename = \"test.log\", level = logging.INFO)"
   ]
  },
  {
   "cell_type": "code",
   "execution_count": 4,
   "id": "8b9b8b87-4a08-420d-acb5-69c0e826bbb2",
   "metadata": {},
   "outputs": [],
   "source": [
    "logging.info(\"log this line execution\")"
   ]
  },
  {
   "cell_type": "code",
   "execution_count": 5,
   "id": "9dea3a48-9a63-4cc4-ac5b-194345d604cb",
   "metadata": {},
   "outputs": [],
   "source": [
    "logging.info(\"this is my print\")"
   ]
  },
  {
   "cell_type": "code",
   "execution_count": 6,
   "id": "0fd0a17a-f2a6-42df-9374-86f1577f39b0",
   "metadata": {},
   "outputs": [],
   "source": [
    "logging.debug(\"this is my msg\")               # debug consider nhi hua keoki, INFO ke aage ka hua hai consider"
   ]
  },
  {
   "cell_type": "code",
   "execution_count": 7,
   "id": "7a89c238-3aa4-4017-b1c4-9ffc5d976d55",
   "metadata": {},
   "outputs": [],
   "source": [
    "logging.warning(\"this is my warning msg\")"
   ]
  },
  {
   "cell_type": "code",
   "execution_count": 8,
   "id": "c4c6617c-0aec-4b8b-93db-0b1f3a4cc3f8",
   "metadata": {},
   "outputs": [],
   "source": [
    "logging.error(\"this is my error\")"
   ]
  },
  {
   "cell_type": "code",
   "execution_count": 9,
   "id": "a5978d30-d718-41ce-9183-3a123b4a0337",
   "metadata": {},
   "outputs": [],
   "source": [
    "logging.critical(\"this is my critical msg\")"
   ]
  },
  {
   "cell_type": "raw",
   "id": "b21fe950-fcc8-4b74-867b-7c1feb6709df",
   "metadata": {},
   "source": [
    "SIX LOGGING LEVEL :-\n",
    "1. NOTSET\n",
    "2. DEBUG\n",
    "3. INFO\n",
    "4. WARNING\n",
    "5. ERROR\n",
    "6. CRITICAL"
   ]
  },
  {
   "cell_type": "code",
   "execution_count": 10,
   "id": "f7ed7d1a-0d87-475a-bc2a-7790d14c4058",
   "metadata": {},
   "outputs": [],
   "source": [
    "logging.shutdown()"
   ]
  },
  {
   "cell_type": "code",
   "execution_count": null,
   "id": "ddc7b2d9-c9b6-4c00-9323-a6f6c938b6b4",
   "metadata": {},
   "outputs": [],
   "source": []
  },
  {
   "cell_type": "code",
   "execution_count": null,
   "id": "740bf08c-6805-43cb-9a17-1f56ba06d714",
   "metadata": {},
   "outputs": [],
   "source": []
  },
  {
   "cell_type": "code",
   "execution_count": 2,
   "id": "fc885c31-2235-4297-a2c8-ee252d146888",
   "metadata": {},
   "outputs": [],
   "source": [
    "logging.basicConfig(filename = \"test_logging.log\", level = logging.DEBUG , format = \"%(asctime)s  %(message)s\")"
   ]
  },
  {
   "cell_type": "code",
   "execution_count": 3,
   "id": "8f0d9fe2-263b-490e-be55-dada22650810",
   "metadata": {},
   "outputs": [],
   "source": [
    "logging.info(\"this is my info logging\")\n",
    "logging.error(\"this is my error msg\")\n",
    "logging.critical(\"this is my critical\")"
   ]
  },
  {
   "cell_type": "code",
   "execution_count": 4,
   "id": "86036e1f-7150-484c-bc12-9304d561d60f",
   "metadata": {},
   "outputs": [],
   "source": [
    "logging.shutdown()"
   ]
  },
  {
   "cell_type": "code",
   "execution_count": null,
   "id": "2b1d9da9-4848-49f5-a66f-5b75b6ffa72c",
   "metadata": {},
   "outputs": [],
   "source": []
  },
  {
   "cell_type": "code",
   "execution_count": 2,
   "id": "7c6f9524-6330-4427-bc34-f9d7e64adb8f",
   "metadata": {},
   "outputs": [],
   "source": [
    "logging.basicConfig(filename = \"test1_logging.log\", level = logging.DEBUG , format = \"%(asctime)s  %(name)s  %(levelname)s  %(message)s\")"
   ]
  },
  {
   "cell_type": "code",
   "execution_count": 3,
   "id": "48fe1752-1b5e-44f1-a9e8-9049cfa3ac06",
   "metadata": {},
   "outputs": [],
   "source": [
    "logging.info(\"this is my info logging\")\n",
    "logging.error(\"this is my error msg\")\n",
    "logging.critical(\"this is my critical\")"
   ]
  },
  {
   "cell_type": "code",
   "execution_count": null,
   "id": "dba4f52e-99b7-4882-85cc-e2785f904a31",
   "metadata": {},
   "outputs": [],
   "source": []
  },
  {
   "cell_type": "code",
   "execution_count": 4,
   "id": "8da6c200-e182-4d08-83c3-f0e25d31ebae",
   "metadata": {},
   "outputs": [],
   "source": [
    "l = [1,2,3,34,4,[2,3,4],\"ankit\",\"sudh\"]"
   ]
  },
  {
   "cell_type": "code",
   "execution_count": 5,
   "id": "9385a430-f711-463b-9157-571136d21edb",
   "metadata": {},
   "outputs": [],
   "source": [
    "l1_int = []\n",
    "l2_str = []\n",
    "\n",
    "for i in l:\n",
    "    if type(i) == list :\n",
    "        for j in i:\n",
    "            if type(j) == int:\n",
    "                l1_int.append(j)\n",
    "                \n",
    "    elif type(i) == int :\n",
    "        l1_int.append(i)\n",
    "        \n",
    "    else:\n",
    "        if type(i) == str:\n",
    "            l2_str.append(i)"
   ]
  },
  {
   "cell_type": "code",
   "execution_count": 7,
   "id": "34a323a2-05c4-4ca4-89c4-f020b8b7774e",
   "metadata": {},
   "outputs": [
    {
     "data": {
      "text/plain": [
       "[1, 2, 3, 34, 4, 2, 3, 4]"
      ]
     },
     "execution_count": 7,
     "metadata": {},
     "output_type": "execute_result"
    }
   ],
   "source": [
    "l1_int"
   ]
  },
  {
   "cell_type": "code",
   "execution_count": 8,
   "id": "d0a317ed-8317-45f9-9576-6ae51f19d068",
   "metadata": {},
   "outputs": [
    {
     "data": {
      "text/plain": [
       "['ankit', 'sudh']"
      ]
     },
     "execution_count": 8,
     "metadata": {},
     "output_type": "execute_result"
    }
   ],
   "source": [
    "l2_str"
   ]
  },
  {
   "cell_type": "code",
   "execution_count": null,
   "id": "fa938fe4-c1f7-4072-9ca1-1d86c7fe468b",
   "metadata": {},
   "outputs": [],
   "source": []
  },
  {
   "cell_type": "code",
   "execution_count": null,
   "id": "feeb108b-0679-497c-bc47-4edc496a42f3",
   "metadata": {},
   "outputs": [],
   "source": []
  },
  {
   "cell_type": "code",
   "execution_count": 3,
   "id": "5976b4cc-eb67-4014-a056-4921f0a811de",
   "metadata": {},
   "outputs": [],
   "source": [
    "logging.basicConfig(filename = \"test2_logging.log\", level = logging.DEBUG , format = \"%(asctime)s  %(name)s  %(levelname)s  %(message)s\")"
   ]
  },
  {
   "cell_type": "code",
   "execution_count": 5,
   "id": "06fd3a39-950d-491b-bab8-27a1b3b467bd",
   "metadata": {},
   "outputs": [],
   "source": [
    "logging.info(\"this is my info logging\")\n",
    "logging.error(\"this is my error msg\")\n",
    "logging.critical(\"this is my critical\")"
   ]
  },
  {
   "cell_type": "code",
   "execution_count": 6,
   "id": "47d29afa-deaa-4525-9f98-c6ab42947045",
   "metadata": {},
   "outputs": [],
   "source": [
    "l = [1,2,3,34,4,[2,3,4],\"ankit\",\"sudh\"]"
   ]
  },
  {
   "cell_type": "code",
   "execution_count": 14,
   "id": "82a82405-e8aa-4772-b31c-f85ff8536e4f",
   "metadata": {},
   "outputs": [
    {
     "data": {
      "text/plain": [
       "'l1_int = []\\nl2_str = []\\n\\nfor i in l:\\n    logging.info(\"we are iterating through our list and our local var is 1\"+ str(l))\\n    if type(i) == list :\\n        logging.info(\"i am inside if statement and i am trying to check list type\"+ str(i))\\n        for j in i:\\n            logging.info(\"i am in another for loop for list inside list element\"+ str(j))\\n            if type(j) == int:\\n                logging.info(\"i am inside if statement\")\\n                l1_int.append(j)\\n                \\n    elif type(i) == int :\\n        l1_int.append(i)\\n        \\n    else:\\n        if type(i) == str:\\n            l2_str.append(i)'"
      ]
     },
     "execution_count": 14,
     "metadata": {},
     "output_type": "execute_result"
    }
   ],
   "source": [
    "'''l1_int = []\n",
    "l2_str = []\n",
    "\n",
    "for i in l:\n",
    "    logging.info(\"we are iterating through our list and our local var is 1\"+ str(l))\n",
    "    if type(i) == list :\n",
    "        logging.info(\"i am inside if statement and i am trying to check list type\"+ str(i))\n",
    "        for j in i:\n",
    "            logging.info(\"i am in another for loop for list inside list element\"+ str(j))\n",
    "            if type(j) == int:\n",
    "                logging.info(\"i am inside if statement\")\n",
    "                l1_int.append(j)\n",
    "                \n",
    "    elif type(i) == int :\n",
    "        l1_int.append(i)\n",
    "        \n",
    "    else:\n",
    "        if type(i) == str:\n",
    "            l2_str.append(i)'''"
   ]
  },
  {
   "cell_type": "code",
   "execution_count": 7,
   "id": "f650c905-1d94-4d41-bc05-b919d678370a",
   "metadata": {},
   "outputs": [],
   "source": [
    "l1_int = []\n",
    "l2_str = []\n",
    "\n",
    "for i in l:\n",
    "    logging.info(\"we are iterating through our list and our local var is {} \".format(l ))\n",
    "    if type(i) == list :\n",
    "        logging.info(\"i am inside if statement and i am trying to check list type\"+ str(i))\n",
    "        for j in i:\n",
    "            logging.info(\"i am in another for loop for list inside list element\"+ str(j))\n",
    "            if type(j) == int:\n",
    "                logging.info(\"i am inside if statement\")\n",
    "                l1_int.append(j)\n",
    "                \n",
    "    elif type(i) == int :\n",
    "        l1_int.append(i)\n",
    "        \n",
    "    else:\n",
    "        if type(i) == str:\n",
    "            l2_str.append(i)\n",
    "logging.info(\"my final result for int is {l1} and str is {l2}\".format(l1 = l1_int , l2 = l2_str))"
   ]
  },
  {
   "cell_type": "code",
   "execution_count": null,
   "id": "6ddcfab9-f9cf-43dd-82e7-0717b3b047b0",
   "metadata": {},
   "outputs": [],
   "source": []
  }
 ],
 "metadata": {
  "kernelspec": {
   "display_name": "Python 3 (ipykernel)",
   "language": "python",
   "name": "python3"
  },
  "language_info": {
   "codemirror_mode": {
    "name": "ipython",
    "version": 3
   },
   "file_extension": ".py",
   "mimetype": "text/x-python",
   "name": "python",
   "nbconvert_exporter": "python",
   "pygments_lexer": "ipython3",
   "version": "3.10.8"
  }
 },
 "nbformat": 4,
 "nbformat_minor": 5
}
